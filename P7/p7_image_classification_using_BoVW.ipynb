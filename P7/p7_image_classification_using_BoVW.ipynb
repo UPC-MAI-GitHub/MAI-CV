{
  "nbformat": 4,
  "nbformat_minor": 0,
  "metadata": {
    "colab": {
      "name": "p7_image_classification_using_BoVW.ipynb",
      "provenance": [],
      "collapsed_sections": []
    },
    "kernelspec": {
      "name": "python37964bitcv37conda822813815bf14274ad28e4b3cd777506",
      "display_name": "Python 3.7.9 64-bit ('CV3.7': conda)"
    }
  },
  "cells": [
    {
      "cell_type": "markdown",
      "metadata": {
        "id": "Sk0eYw8ojrFq"
      },
      "source": [
        "# Laboratory #07 : Image Classification using Bag of Visual Words\n",
        "\n",
        "At the end of this laboratory, you would get familiarized with\n",
        "\n",
        "*   Creating Bag of Visual Words\n",
        "    *   Feature Extraction\n",
        "    *   Codebook construction\n",
        "    *   Classification\n",
        "*   Using pre-trained deep networks for feature extraction\n",
        "\n",
        "**Remember this is a graded exercise.**\n",
        "\n",
        "*   For every plot, make sure you provide appropriate titles, axis labels, legends, wherever applicable.\n",
        "*   Create reusable functions where ever possible, so that the code could be reused at different places.\n",
        "*   Use will have to mount your drive if you need to access images.\n",
        "\n",
        "---"
      ]
    },
    {
      "cell_type": "code",
      "metadata": {
        "id": "aD5-E8PuaQ5P"
      },
      "source": [
        "# Loading necessary libraries (Feel free to add new libraries if you need for any computation)\n",
        "\n",
        "import os\n",
        "import numpy as np\n",
        "from tqdm import tqdm\n",
        "\n",
        "from sklearn.model_selection import train_test_split\n",
        "from skimage.feature import ORB\n",
        "from skimage.color import rgb2gray\n",
        "from skimage.io import imread\n",
        "from skimage import feature\n",
        "\n",
        "from matplotlib import pyplot as plt"
      ],
      "execution_count": 1,
      "outputs": []
    },
    {
      "cell_type": "code",
      "execution_count": 2,
      "metadata": {},
      "outputs": [],
      "source": [
        "def loadImage(imagePath, gray=False):\n",
        "    image = imread(imagePath)\n",
        "    if gray and len(image.shape) > 2:\n",
        "        image_gray = image\n",
        "        image_gray = rgb2gray(image_gray)\n",
        "        return image_gray\n",
        "    return image"
      ]
    },
    {
      "cell_type": "markdown",
      "metadata": {
        "id": "ampx9DIJiuGN"
      },
      "source": [
        "## Loading dataset\n",
        "\n",
        "We will use 3 categories from Caltech 101 objects dataset for this experiment. Upload the dataset to the drive and mount it."
      ]
    },
    {
      "cell_type": "code",
      "metadata": {
        "id": "PRSJP1XbG6-a"
      },
      "source": [
        "# modify the dataset variable with the path from your drive\n",
        "\n",
        "dataset_path = '.'"
      ],
      "execution_count": 3,
      "outputs": []
    },
    {
      "cell_type": "code",
      "metadata": {
        "id": "EQptvDX5AFem"
      },
      "source": [
        "# creating the list of files and corresponding labels\n",
        "\n",
        "data = []\n",
        "labels = []\n",
        "\n",
        "categories = ['butterfly', 'kangaroo', 'dalmatian']\n",
        "\n",
        "for idx, cat in enumerate(categories):\n",
        "    path = os.path.join(dataset_path, cat)\n",
        "    files_list = os.listdir(path)\n",
        "    for filename in files_list:\n",
        "        data.append(os.path.join(path, filename))\n",
        "        labels.append(idx)\n",
        "\n",
        "labels = np.array(labels)\n",
        "\n",
        "print('Total number of images:', len(data))"
      ],
      "execution_count": 4,
      "outputs": [
        {
          "output_type": "stream",
          "name": "stdout",
          "text": [
            "Total number of images: 244\n"
          ]
        }
      ]
    },
    {
      "cell_type": "code",
      "metadata": {
        "id": "QdA92ENTfKE-"
      },
      "source": [
        "ncl = len(categories) * 10"
      ],
      "execution_count": 5,
      "outputs": []
    },
    {
      "cell_type": "code",
      "metadata": {
        "id": "QzYnjzXBZXXt"
      },
      "source": [
        "# creating train test split\n",
        "x_train, x_test, y_train, y_test = train_test_split(data, labels, test_size=0.2, random_state=42)\n",
        "\n",
        "print('Train set:', len(x_train))\n",
        "print('Test set:', len(x_test))"
      ],
      "execution_count": 6,
      "outputs": [
        {
          "output_type": "stream",
          "name": "stdout",
          "text": [
            "Train set: 195\nTest set: 49\n"
          ]
        }
      ]
    },
    {
      "cell_type": "markdown",
      "metadata": {
        "id": "18OZf2kfkVNB"
      },
      "source": [
        "## Feature Extraction using ORB\n",
        "\n",
        "The first step is to extract descriptors for each image in our dataset. We will use ORB to extract descriptors.\n",
        "\n",
        "*   Create ORB detector with 64 keypoints.\n"
      ]
    },
    {
      "cell_type": "code",
      "metadata": {
        "id": "ptLbPcoow-ar"
      },
      "source": [
        "# solution\n",
        "orbExtractor = feature.ORB(n_keypoints=64)"
      ],
      "execution_count": 7,
      "outputs": []
    },
    {
      "cell_type": "markdown",
      "metadata": {
        "id": "3yinPkL8brow"
      },
      "source": [
        "*   Extract ORB descriptors from all the images in the train set.\n",
        "*   Note that, each patch would produce a descriptor of size (256,). So each image would return (N x 256) descriptors, where N is the number of keypoints."
      ]
    },
    {
      "cell_type": "code",
      "execution_count": 8,
      "metadata": {},
      "outputs": [
        {
          "output_type": "stream",
          "name": "stderr",
          "text": [
            "100%|██████████| 195/195 [00:42<00:00,  4.55it/s]\n"
          ]
        }
      ],
      "source": [
        "# solution\n",
        "x_trainOrb = []\n",
        "for imagePath in tqdm(x_train):\n",
        "    image = loadImage(imagePath, gray=True)\n",
        "    orbExtractor.detect_and_extract(image)\n",
        "    x_trainOrb.append(orbExtractor.descriptors)"
      ]
    },
    {
      "cell_type": "code",
      "metadata": {
        "id": "XYo0GYeOxeHM"
      },
      "source": [
        "# solution\n",
        "print(\"number of images: \", len(x_trainOrb))\n",
        "print(\"shape of features extracted: \", x_trainOrb[0].shape)\n",
        "assert x_trainOrb[0].shape == (64, 256)"
      ],
      "execution_count": 9,
      "outputs": [
        {
          "output_type": "stream",
          "name": "stdout",
          "text": [
            "number of images:  195\nshape of features extracted:  (64, 256)\n"
          ]
        }
      ]
    },
    {
      "cell_type": "markdown",
      "metadata": {
        "id": "420YQkAzleTQ"
      },
      "source": [
        "## Codebook Construction\n",
        "\n",
        "Codewords are nothing but vector representation of similar patches. This codeword produces a codebook similar to a word dictionary. We will create the codebook using K-Means algorithm\n",
        "\n",
        "*   Create a codebook using K-Means with k=number_of_classes*10\n",
        "*   Hint: Use sklearn.cluster.MiniBatchKMeans for K-Means"
      ]
    },
    {
      "cell_type": "code",
      "metadata": {
        "id": "UJSBg-QCd--0"
      },
      "source": [
        "from sklearn.cluster import MiniBatchKMeans"
      ],
      "execution_count": 10,
      "outputs": []
    },
    {
      "cell_type": "code",
      "metadata": {
        "id": "iO0e4718ppJt"
      },
      "source": [
        "# solution\n",
        "descriptors = np.vstack(x_trainOrb)\n",
        "clustering = MiniBatchKMeans(n_clusters=ncl)\n",
        "klabels = clustering.fit_predict(descriptors)"
      ],
      "execution_count": 11,
      "outputs": []
    },
    {
      "cell_type": "markdown",
      "metadata": {
        "id": "0GAD_JuNpqMt"
      },
      "source": [
        "*   Create a histogram using the cluster centers for each image descriptor.\n",
        "    *   Remember the histogram would be of size *n_images x n_clusters*.\n",
        "    *   Calculate the histogram and divide by the feature length to normalize"
      ]
    },
    {
      "cell_type": "code",
      "metadata": {
        "id": "SR0_9HnbDFBe",
        "tags": []
      },
      "source": [
        "# solution\n",
        "klabels_img = klabels.reshape(-1, 64)\n",
        "cluster_histograms = []\n",
        "for image_labels in klabels_img:\n",
        "    hist, _ = np.histogram(image_labels, bins=ncl)\n",
        "    hist = hist / image_labels.shape[0]\n",
        "    cluster_histograms.append(hist)\n",
        "dictionary = np.vstack(cluster_histograms)\n",
        "dictionary.shape"
      ],
      "execution_count": 12,
      "outputs": [
        {
          "output_type": "execute_result",
          "data": {
            "text/plain": [
              "(195, 30)"
            ]
          },
          "metadata": {},
          "execution_count": 12
        }
      ]
    },
    {
      "cell_type": "markdown",
      "metadata": {
        "id": "jmRO7dfLjgZa"
      },
      "source": [
        "\n",
        "# Creating Classification Model\n",
        "\n",
        "*   The next step is to create a classification model. We will use a C-Support Vector Classification for creating the model.\n",
        "\n"
      ]
    },
    {
      "cell_type": "code",
      "metadata": {
        "id": "K7VTBz1Oimtz"
      },
      "source": [
        "from sklearn.svm import SVC\n",
        "from sklearn.model_selection import GridSearchCV"
      ],
      "execution_count": 13,
      "outputs": []
    },
    {
      "cell_type": "code",
      "metadata": {
        "id": "IjFFpykV-GOI"
      },
      "source": [
        "# note the usage of grid search to select the best parameters\n",
        "\n",
        "gammas = np.logspace(-6, -1, 10)\n",
        "C = np.array([0.5, 1, 2, 4, 8, 10, 15, 20, 50, 100, 200, 375, 500, 1000])\n",
        "\n",
        "svc = SVC(decision_function_shape='ovr')\n",
        "\n",
        "clf = GridSearchCV(estimator=svc, param_grid=dict(gamma=gammas, C=C), n_jobs=-1)\n",
        "\n",
        "clf.fit(dictionary, y_train)\n",
        "\n",
        "print('Best accuracy:', clf.best_score_) \n",
        "print('The best value of gamma:', clf.best_estimator_.gamma)\n",
        "print('The best value of C:', clf.best_estimator_.C)"
      ],
      "execution_count": 14,
      "outputs": [
        {
          "output_type": "stream",
          "name": "stdout",
          "text": [
            "Best accuracy: 0.41025641025641024\nThe best value of gamma: 0.1\nThe best value of C: 50.0\n"
          ]
        }
      ]
    },
    {
      "cell_type": "markdown",
      "metadata": {
        "id": "eqThTmO5j1-p"
      },
      "source": [
        "# Testing the Classification Model\n",
        "\n",
        "*   Extract descriptors using ORB for the test split\n",
        "*   Use the previously trained k-means to generate the histogram\n",
        "*   Use the classifier to predict the label\n"
      ]
    },
    {
      "cell_type": "code",
      "metadata": {
        "id": "gVl3FzQWgv54"
      },
      "source": [
        "from sklearn.metrics import accuracy_score\n",
        "from sklearn.metrics import confusion_matrix"
      ],
      "execution_count": 15,
      "outputs": []
    },
    {
      "cell_type": "code",
      "metadata": {
        "id": "x2Gzbww9e0pP"
      },
      "source": [
        "# solution\n",
        "x_testOrb = []\n",
        "for imagePath in tqdm(x_test):\n",
        "    image = loadImage(imagePath, gray=True)\n",
        "    orbExtractor.detect_and_extract(image)\n",
        "    x_testOrb.append(orbExtractor.descriptors)"
      ],
      "execution_count": 16,
      "outputs": [
        {
          "output_type": "stream",
          "name": "stderr",
          "text": [
            "100%|██████████| 49/49 [00:11<00:00,  4.30it/s]\n"
          ]
        }
      ]
    },
    {
      "cell_type": "code",
      "execution_count": 17,
      "metadata": {},
      "outputs": [],
      "source": [
        "testklabels = clustering.predict(np.vstack(x_testOrb))"
      ]
    },
    {
      "cell_type": "code",
      "execution_count": 18,
      "metadata": {},
      "outputs": [
        {
          "output_type": "stream",
          "name": "stdout",
          "text": [
            "(49, 64)\n"
          ]
        },
        {
          "output_type": "execute_result",
          "data": {
            "text/plain": [
              "(49, 30)"
            ]
          },
          "metadata": {},
          "execution_count": 18
        }
      ],
      "source": [
        "klabels_test_img = testklabels.reshape(-1, 64)\n",
        "print(klabels_test_img.shape)\n",
        "test_cluster_histograms = []\n",
        "for image_labels in klabels_test_img:\n",
        "    hist, _ = np.histogram(image_labels, bins=ncl)\n",
        "    hist = hist / image_labels.shape[0]\n",
        "    test_cluster_histograms.append(hist)\n",
        "testdictionary = np.vstack(test_cluster_histograms)\n",
        "testdictionary.shape"
      ]
    },
    {
      "cell_type": "code",
      "execution_count": 19,
      "metadata": {},
      "outputs": [],
      "source": [
        "predicted_labels = clf.predict(testdictionary)"
      ]
    },
    {
      "cell_type": "code",
      "execution_count": 20,
      "metadata": {},
      "outputs": [
        {
          "output_type": "stream",
          "name": "stdout",
          "text": [
            "(49,)\n(49,)\n"
          ]
        }
      ],
      "source": [
        "print(predicted_labels.shape)\n",
        "print(y_test.shape)"
      ]
    },
    {
      "cell_type": "markdown",
      "metadata": {
        "id": "gGyQUtU3lAEz"
      },
      "source": [
        "*   Calculate the accuracy score for the classification model"
      ]
    },
    {
      "cell_type": "code",
      "metadata": {
        "id": "PszxSB0Ek_Lt"
      },
      "source": [
        "# solution\n",
        "print(confusion_matrix(predicted_labels, y_test))\n",
        "print(f\"Classification accuracy: {100*accuracy_score(predicted_labels, y_test):.2f}%\")\n"
      ],
      "execution_count": 21,
      "outputs": [
        {
          "output_type": "stream",
          "name": "stdout",
          "text": [
            "[[14  3  4]\n [ 4 14  4]\n [ 1  1  4]]\nClassification accuracy: 65.31%\n"
          ]
        }
      ]
    },
    {
      "cell_type": "markdown",
      "metadata": {
        "id": "7TN4rRra9yv_"
      },
      "source": [
        "*   Why do we use Clustering to create the codebook? \n",
        "*   What are the other techniques that can be used to create the codebook?"
      ]
    },
    {
      "cell_type": "markdown",
      "metadata": {
        "id": "Ri9kU3wa3Rei"
      },
      "source": [
        "**Solution**\n",
        "\n",
        "*(Double-click or enter to edit)*\n",
        "\n",
        "..."
      ]
    },
    {
      "cell_type": "markdown",
      "metadata": {
        "id": "K-8E3dBw8Zoa"
      },
      "source": [
        "# Extracting features from Deep Network\n",
        "\n",
        "It is quite possible to extract features (similar to SIFT or ORB) from different layers of deep network.\n",
        "\n",
        "*   Load ResNet50 model with imagenet weights and check the summary of the model\n",
        "*   Create a model to extract features from the 'avg_pool' layer.\n",
        "*   Extract features from the layer for all the train images."
      ]
    },
    {
      "cell_type": "code",
      "metadata": {
        "id": "xbDjklM3l0uq"
      },
      "source": [
        "import tensorflow as tf\n",
        "from tensorflow.keras.applications.resnet50 import ResNet50\n",
        "from tensorflow.keras.preprocessing import image\n",
        "from tensorflow.keras.applications.resnet50 import preprocess_input\n",
        "from tensorflow.keras import Model"
      ],
      "execution_count": 22,
      "outputs": []
    },
    {
      "cell_type": "code",
      "metadata": {
        "id": "89QGrzE5l7gu",
        "tags": []
      },
      "source": [
        "# solution\n",
        "r50 = ResNet50(weights='imagenet', include_top=True)\n",
        "feat_extraction_model = Model(inputs=r50.input, outputs=r50.get_layer('conv5_block3_3_conv').output)\n",
        "print(feat_extraction_model.summary())"
      ],
      "execution_count": 23,
      "outputs": [
        {
          "output_type": "stream",
          "name": "stdout",
          "text": [
            "Model: \"functional_1\"\n__________________________________________________________________________________________________\nLayer (type)                    Output Shape         Param #     Connected to                     \n==================================================================================================\ninput_1 (InputLayer)            [(None, 224, 224, 3) 0                                            \n__________________________________________________________________________________________________\nconv1_pad (ZeroPadding2D)       (None, 230, 230, 3)  0           input_1[0][0]                    \n__________________________________________________________________________________________________\nconv1_conv (Conv2D)             (None, 112, 112, 64) 9472        conv1_pad[0][0]                  \n__________________________________________________________________________________________________\nconv1_bn (BatchNormalization)   (None, 112, 112, 64) 256         conv1_conv[0][0]                 \n__________________________________________________________________________________________________\nconv1_relu (Activation)         (None, 112, 112, 64) 0           conv1_bn[0][0]                   \n__________________________________________________________________________________________________\npool1_pad (ZeroPadding2D)       (None, 114, 114, 64) 0           conv1_relu[0][0]                 \n__________________________________________________________________________________________________\npool1_pool (MaxPooling2D)       (None, 56, 56, 64)   0           pool1_pad[0][0]                  \n__________________________________________________________________________________________________\nconv2_block1_1_conv (Conv2D)    (None, 56, 56, 64)   4160        pool1_pool[0][0]                 \n__________________________________________________________________________________________________\nconv2_block1_1_bn (BatchNormali (None, 56, 56, 64)   256         conv2_block1_1_conv[0][0]        \n__________________________________________________________________________________________________\nconv2_block1_1_relu (Activation (None, 56, 56, 64)   0           conv2_block1_1_bn[0][0]          \n__________________________________________________________________________________________________\nconv2_block1_2_conv (Conv2D)    (None, 56, 56, 64)   36928       conv2_block1_1_relu[0][0]        \n__________________________________________________________________________________________________\nconv2_block1_2_bn (BatchNormali (None, 56, 56, 64)   256         conv2_block1_2_conv[0][0]        \n__________________________________________________________________________________________________\nconv2_block1_2_relu (Activation (None, 56, 56, 64)   0           conv2_block1_2_bn[0][0]          \n__________________________________________________________________________________________________\nconv2_block1_0_conv (Conv2D)    (None, 56, 56, 256)  16640       pool1_pool[0][0]                 \n__________________________________________________________________________________________________\nconv2_block1_3_conv (Conv2D)    (None, 56, 56, 256)  16640       conv2_block1_2_relu[0][0]        \n__________________________________________________________________________________________________\nconv2_block1_0_bn (BatchNormali (None, 56, 56, 256)  1024        conv2_block1_0_conv[0][0]        \n__________________________________________________________________________________________________\nconv2_block1_3_bn (BatchNormali (None, 56, 56, 256)  1024        conv2_block1_3_conv[0][0]        \n__________________________________________________________________________________________________\nconv2_block1_add (Add)          (None, 56, 56, 256)  0           conv2_block1_0_bn[0][0]          \n                                                                 conv2_block1_3_bn[0][0]          \n__________________________________________________________________________________________________\nconv2_block1_out (Activation)   (None, 56, 56, 256)  0           conv2_block1_add[0][0]           \n__________________________________________________________________________________________________\nconv2_block2_1_conv (Conv2D)    (None, 56, 56, 64)   16448       conv2_block1_out[0][0]           \n__________________________________________________________________________________________________\nconv2_block2_1_bn (BatchNormali (None, 56, 56, 64)   256         conv2_block2_1_conv[0][0]        \n__________________________________________________________________________________________________\nconv2_block2_1_relu (Activation (None, 56, 56, 64)   0           conv2_block2_1_bn[0][0]          \n__________________________________________________________________________________________________\nconv2_block2_2_conv (Conv2D)    (None, 56, 56, 64)   36928       conv2_block2_1_relu[0][0]        \n__________________________________________________________________________________________________\nconv2_block2_2_bn (BatchNormali (None, 56, 56, 64)   256         conv2_block2_2_conv[0][0]        \n__________________________________________________________________________________________________\nconv2_block2_2_relu (Activation (None, 56, 56, 64)   0           conv2_block2_2_bn[0][0]          \n__________________________________________________________________________________________________\nconv2_block2_3_conv (Conv2D)    (None, 56, 56, 256)  16640       conv2_block2_2_relu[0][0]        \n__________________________________________________________________________________________________\nconv2_block2_3_bn (BatchNormali (None, 56, 56, 256)  1024        conv2_block2_3_conv[0][0]        \n__________________________________________________________________________________________________\nconv2_block2_add (Add)          (None, 56, 56, 256)  0           conv2_block1_out[0][0]           \n                                                                 conv2_block2_3_bn[0][0]          \n__________________________________________________________________________________________________\nconv2_block2_out (Activation)   (None, 56, 56, 256)  0           conv2_block2_add[0][0]           \n__________________________________________________________________________________________________\nconv2_block3_1_conv (Conv2D)    (None, 56, 56, 64)   16448       conv2_block2_out[0][0]           \n__________________________________________________________________________________________________\nconv2_block3_1_bn (BatchNormali (None, 56, 56, 64)   256         conv2_block3_1_conv[0][0]        \n__________________________________________________________________________________________________\nconv2_block3_1_relu (Activation (None, 56, 56, 64)   0           conv2_block3_1_bn[0][0]          \n__________________________________________________________________________________________________\nconv2_block3_2_conv (Conv2D)    (None, 56, 56, 64)   36928       conv2_block3_1_relu[0][0]        \n__________________________________________________________________________________________________\nconv2_block3_2_bn (BatchNormali (None, 56, 56, 64)   256         conv2_block3_2_conv[0][0]        \n__________________________________________________________________________________________________\nconv2_block3_2_relu (Activation (None, 56, 56, 64)   0           conv2_block3_2_bn[0][0]          \n__________________________________________________________________________________________________\nconv2_block3_3_conv (Conv2D)    (None, 56, 56, 256)  16640       conv2_block3_2_relu[0][0]        \n__________________________________________________________________________________________________\nconv2_block3_3_bn (BatchNormali (None, 56, 56, 256)  1024        conv2_block3_3_conv[0][0]        \n__________________________________________________________________________________________________\nconv2_block3_add (Add)          (None, 56, 56, 256)  0           conv2_block2_out[0][0]           \n                                                                 conv2_block3_3_bn[0][0]          \n__________________________________________________________________________________________________\nconv2_block3_out (Activation)   (None, 56, 56, 256)  0           conv2_block3_add[0][0]           \n__________________________________________________________________________________________________\nconv3_block1_1_conv (Conv2D)    (None, 28, 28, 128)  32896       conv2_block3_out[0][0]           \n__________________________________________________________________________________________________\nconv3_block1_1_bn (BatchNormali (None, 28, 28, 128)  512         conv3_block1_1_conv[0][0]        \n__________________________________________________________________________________________________\nconv3_block1_1_relu (Activation (None, 28, 28, 128)  0           conv3_block1_1_bn[0][0]          \n__________________________________________________________________________________________________\nconv3_block1_2_conv (Conv2D)    (None, 28, 28, 128)  147584      conv3_block1_1_relu[0][0]        \n__________________________________________________________________________________________________\nconv3_block1_2_bn (BatchNormali (None, 28, 28, 128)  512         conv3_block1_2_conv[0][0]        \n__________________________________________________________________________________________________\nconv3_block1_2_relu (Activation (None, 28, 28, 128)  0           conv3_block1_2_bn[0][0]          \n__________________________________________________________________________________________________\nconv3_block1_0_conv (Conv2D)    (None, 28, 28, 512)  131584      conv2_block3_out[0][0]           \n__________________________________________________________________________________________________\nconv3_block1_3_conv (Conv2D)    (None, 28, 28, 512)  66048       conv3_block1_2_relu[0][0]        \n__________________________________________________________________________________________________\nconv3_block1_0_bn (BatchNormali (None, 28, 28, 512)  2048        conv3_block1_0_conv[0][0]        \n__________________________________________________________________________________________________\nconv3_block1_3_bn (BatchNormali (None, 28, 28, 512)  2048        conv3_block1_3_conv[0][0]        \n__________________________________________________________________________________________________\nconv3_block1_add (Add)          (None, 28, 28, 512)  0           conv3_block1_0_bn[0][0]          \n                                                                 conv3_block1_3_bn[0][0]          \n__________________________________________________________________________________________________\nconv3_block1_out (Activation)   (None, 28, 28, 512)  0           conv3_block1_add[0][0]           \n__________________________________________________________________________________________________\nconv3_block2_1_conv (Conv2D)    (None, 28, 28, 128)  65664       conv3_block1_out[0][0]           \n__________________________________________________________________________________________________\nconv3_block2_1_bn (BatchNormali (None, 28, 28, 128)  512         conv3_block2_1_conv[0][0]        \n__________________________________________________________________________________________________\nconv3_block2_1_relu (Activation (None, 28, 28, 128)  0           conv3_block2_1_bn[0][0]          \n__________________________________________________________________________________________________\nconv3_block2_2_conv (Conv2D)    (None, 28, 28, 128)  147584      conv3_block2_1_relu[0][0]        \n__________________________________________________________________________________________________\nconv3_block2_2_bn (BatchNormali (None, 28, 28, 128)  512         conv3_block2_2_conv[0][0]        \n__________________________________________________________________________________________________\nconv3_block2_2_relu (Activation (None, 28, 28, 128)  0           conv3_block2_2_bn[0][0]          \n__________________________________________________________________________________________________\nconv3_block2_3_conv (Conv2D)    (None, 28, 28, 512)  66048       conv3_block2_2_relu[0][0]        \n__________________________________________________________________________________________________\nconv3_block2_3_bn (BatchNormali (None, 28, 28, 512)  2048        conv3_block2_3_conv[0][0]        \n__________________________________________________________________________________________________\nconv3_block2_add (Add)          (None, 28, 28, 512)  0           conv3_block1_out[0][0]           \n                                                                 conv3_block2_3_bn[0][0]          \n__________________________________________________________________________________________________\nconv3_block2_out (Activation)   (None, 28, 28, 512)  0           conv3_block2_add[0][0]           \n__________________________________________________________________________________________________\nconv3_block3_1_conv (Conv2D)    (None, 28, 28, 128)  65664       conv3_block2_out[0][0]           \n__________________________________________________________________________________________________\nconv3_block3_1_bn (BatchNormali (None, 28, 28, 128)  512         conv3_block3_1_conv[0][0]        \n__________________________________________________________________________________________________\nconv3_block3_1_relu (Activation (None, 28, 28, 128)  0           conv3_block3_1_bn[0][0]          \n__________________________________________________________________________________________________\nconv3_block3_2_conv (Conv2D)    (None, 28, 28, 128)  147584      conv3_block3_1_relu[0][0]        \n__________________________________________________________________________________________________\nconv3_block3_2_bn (BatchNormali (None, 28, 28, 128)  512         conv3_block3_2_conv[0][0]        \n__________________________________________________________________________________________________\nconv3_block3_2_relu (Activation (None, 28, 28, 128)  0           conv3_block3_2_bn[0][0]          \n__________________________________________________________________________________________________\nconv3_block3_3_conv (Conv2D)    (None, 28, 28, 512)  66048       conv3_block3_2_relu[0][0]        \n__________________________________________________________________________________________________\nconv3_block3_3_bn (BatchNormali (None, 28, 28, 512)  2048        conv3_block3_3_conv[0][0]        \n__________________________________________________________________________________________________\nconv3_block3_add (Add)          (None, 28, 28, 512)  0           conv3_block2_out[0][0]           \n                                                                 conv3_block3_3_bn[0][0]          \n__________________________________________________________________________________________________\nconv3_block3_out (Activation)   (None, 28, 28, 512)  0           conv3_block3_add[0][0]           \n__________________________________________________________________________________________________\nconv3_block4_1_conv (Conv2D)    (None, 28, 28, 128)  65664       conv3_block3_out[0][0]           \n__________________________________________________________________________________________________\nconv3_block4_1_bn (BatchNormali (None, 28, 28, 128)  512         conv3_block4_1_conv[0][0]        \n__________________________________________________________________________________________________\nconv3_block4_1_relu (Activation (None, 28, 28, 128)  0           conv3_block4_1_bn[0][0]          \n__________________________________________________________________________________________________\nconv3_block4_2_conv (Conv2D)    (None, 28, 28, 128)  147584      conv3_block4_1_relu[0][0]        \n__________________________________________________________________________________________________\nconv3_block4_2_bn (BatchNormali (None, 28, 28, 128)  512         conv3_block4_2_conv[0][0]        \n__________________________________________________________________________________________________\nconv3_block4_2_relu (Activation (None, 28, 28, 128)  0           conv3_block4_2_bn[0][0]          \n__________________________________________________________________________________________________\nconv3_block4_3_conv (Conv2D)    (None, 28, 28, 512)  66048       conv3_block4_2_relu[0][0]        \n__________________________________________________________________________________________________\nconv3_block4_3_bn (BatchNormali (None, 28, 28, 512)  2048        conv3_block4_3_conv[0][0]        \n__________________________________________________________________________________________________\nconv3_block4_add (Add)          (None, 28, 28, 512)  0           conv3_block3_out[0][0]           \n                                                                 conv3_block4_3_bn[0][0]          \n__________________________________________________________________________________________________\nconv3_block4_out (Activation)   (None, 28, 28, 512)  0           conv3_block4_add[0][0]           \n__________________________________________________________________________________________________\nconv4_block1_1_conv (Conv2D)    (None, 14, 14, 256)  131328      conv3_block4_out[0][0]           \n__________________________________________________________________________________________________\nconv4_block1_1_bn (BatchNormali (None, 14, 14, 256)  1024        conv4_block1_1_conv[0][0]        \n__________________________________________________________________________________________________\nconv4_block1_1_relu (Activation (None, 14, 14, 256)  0           conv4_block1_1_bn[0][0]          \n__________________________________________________________________________________________________\nconv4_block1_2_conv (Conv2D)    (None, 14, 14, 256)  590080      conv4_block1_1_relu[0][0]        \n__________________________________________________________________________________________________\nconv4_block1_2_bn (BatchNormali (None, 14, 14, 256)  1024        conv4_block1_2_conv[0][0]        \n__________________________________________________________________________________________________\nconv4_block1_2_relu (Activation (None, 14, 14, 256)  0           conv4_block1_2_bn[0][0]          \n__________________________________________________________________________________________________\nconv4_block1_0_conv (Conv2D)    (None, 14, 14, 1024) 525312      conv3_block4_out[0][0]           \n__________________________________________________________________________________________________\nconv4_block1_3_conv (Conv2D)    (None, 14, 14, 1024) 263168      conv4_block1_2_relu[0][0]        \n__________________________________________________________________________________________________\nconv4_block1_0_bn (BatchNormali (None, 14, 14, 1024) 4096        conv4_block1_0_conv[0][0]        \n__________________________________________________________________________________________________\nconv4_block1_3_bn (BatchNormali (None, 14, 14, 1024) 4096        conv4_block1_3_conv[0][0]        \n__________________________________________________________________________________________________\nconv4_block1_add (Add)          (None, 14, 14, 1024) 0           conv4_block1_0_bn[0][0]          \n                                                                 conv4_block1_3_bn[0][0]          \n__________________________________________________________________________________________________\nconv4_block1_out (Activation)   (None, 14, 14, 1024) 0           conv4_block1_add[0][0]           \n__________________________________________________________________________________________________\nconv4_block2_1_conv (Conv2D)    (None, 14, 14, 256)  262400      conv4_block1_out[0][0]           \n__________________________________________________________________________________________________\nconv4_block2_1_bn (BatchNormali (None, 14, 14, 256)  1024        conv4_block2_1_conv[0][0]        \n__________________________________________________________________________________________________\nconv4_block2_1_relu (Activation (None, 14, 14, 256)  0           conv4_block2_1_bn[0][0]          \n__________________________________________________________________________________________________\nconv4_block2_2_conv (Conv2D)    (None, 14, 14, 256)  590080      conv4_block2_1_relu[0][0]        \n__________________________________________________________________________________________________\nconv4_block2_2_bn (BatchNormali (None, 14, 14, 256)  1024        conv4_block2_2_conv[0][0]        \n__________________________________________________________________________________________________\nconv4_block2_2_relu (Activation (None, 14, 14, 256)  0           conv4_block2_2_bn[0][0]          \n__________________________________________________________________________________________________\nconv4_block2_3_conv (Conv2D)    (None, 14, 14, 1024) 263168      conv4_block2_2_relu[0][0]        \n__________________________________________________________________________________________________\nconv4_block2_3_bn (BatchNormali (None, 14, 14, 1024) 4096        conv4_block2_3_conv[0][0]        \n__________________________________________________________________________________________________\nconv4_block2_add (Add)          (None, 14, 14, 1024) 0           conv4_block1_out[0][0]           \n                                                                 conv4_block2_3_bn[0][0]          \n__________________________________________________________________________________________________\nconv4_block2_out (Activation)   (None, 14, 14, 1024) 0           conv4_block2_add[0][0]           \n__________________________________________________________________________________________________\nconv4_block3_1_conv (Conv2D)    (None, 14, 14, 256)  262400      conv4_block2_out[0][0]           \n__________________________________________________________________________________________________\nconv4_block3_1_bn (BatchNormali (None, 14, 14, 256)  1024        conv4_block3_1_conv[0][0]        \n__________________________________________________________________________________________________\nconv4_block3_1_relu (Activation (None, 14, 14, 256)  0           conv4_block3_1_bn[0][0]          \n__________________________________________________________________________________________________\nconv4_block3_2_conv (Conv2D)    (None, 14, 14, 256)  590080      conv4_block3_1_relu[0][0]        \n__________________________________________________________________________________________________\nconv4_block3_2_bn (BatchNormali (None, 14, 14, 256)  1024        conv4_block3_2_conv[0][0]        \n__________________________________________________________________________________________________\nconv4_block3_2_relu (Activation (None, 14, 14, 256)  0           conv4_block3_2_bn[0][0]          \n__________________________________________________________________________________________________\nconv4_block3_3_conv (Conv2D)    (None, 14, 14, 1024) 263168      conv4_block3_2_relu[0][0]        \n__________________________________________________________________________________________________\nconv4_block3_3_bn (BatchNormali (None, 14, 14, 1024) 4096        conv4_block3_3_conv[0][0]        \n__________________________________________________________________________________________________\nconv4_block3_add (Add)          (None, 14, 14, 1024) 0           conv4_block2_out[0][0]           \n                                                                 conv4_block3_3_bn[0][0]          \n__________________________________________________________________________________________________\nconv4_block3_out (Activation)   (None, 14, 14, 1024) 0           conv4_block3_add[0][0]           \n__________________________________________________________________________________________________\nconv4_block4_1_conv (Conv2D)    (None, 14, 14, 256)  262400      conv4_block3_out[0][0]           \n__________________________________________________________________________________________________\nconv4_block4_1_bn (BatchNormali (None, 14, 14, 256)  1024        conv4_block4_1_conv[0][0]        \n__________________________________________________________________________________________________\nconv4_block4_1_relu (Activation (None, 14, 14, 256)  0           conv4_block4_1_bn[0][0]          \n__________________________________________________________________________________________________\nconv4_block4_2_conv (Conv2D)    (None, 14, 14, 256)  590080      conv4_block4_1_relu[0][0]        \n__________________________________________________________________________________________________\nconv4_block4_2_bn (BatchNormali (None, 14, 14, 256)  1024        conv4_block4_2_conv[0][0]        \n__________________________________________________________________________________________________\nconv4_block4_2_relu (Activation (None, 14, 14, 256)  0           conv4_block4_2_bn[0][0]          \n__________________________________________________________________________________________________\nconv4_block4_3_conv (Conv2D)    (None, 14, 14, 1024) 263168      conv4_block4_2_relu[0][0]        \n__________________________________________________________________________________________________\nconv4_block4_3_bn (BatchNormali (None, 14, 14, 1024) 4096        conv4_block4_3_conv[0][0]        \n__________________________________________________________________________________________________\nconv4_block4_add (Add)          (None, 14, 14, 1024) 0           conv4_block3_out[0][0]           \n                                                                 conv4_block4_3_bn[0][0]          \n__________________________________________________________________________________________________\nconv4_block4_out (Activation)   (None, 14, 14, 1024) 0           conv4_block4_add[0][0]           \n__________________________________________________________________________________________________\nconv4_block5_1_conv (Conv2D)    (None, 14, 14, 256)  262400      conv4_block4_out[0][0]           \n__________________________________________________________________________________________________\nconv4_block5_1_bn (BatchNormali (None, 14, 14, 256)  1024        conv4_block5_1_conv[0][0]        \n__________________________________________________________________________________________________\nconv4_block5_1_relu (Activation (None, 14, 14, 256)  0           conv4_block5_1_bn[0][0]          \n__________________________________________________________________________________________________\nconv4_block5_2_conv (Conv2D)    (None, 14, 14, 256)  590080      conv4_block5_1_relu[0][0]        \n__________________________________________________________________________________________________\nconv4_block5_2_bn (BatchNormali (None, 14, 14, 256)  1024        conv4_block5_2_conv[0][0]        \n__________________________________________________________________________________________________\nconv4_block5_2_relu (Activation (None, 14, 14, 256)  0           conv4_block5_2_bn[0][0]          \n__________________________________________________________________________________________________\nconv4_block5_3_conv (Conv2D)    (None, 14, 14, 1024) 263168      conv4_block5_2_relu[0][0]        \n__________________________________________________________________________________________________\nconv4_block5_3_bn (BatchNormali (None, 14, 14, 1024) 4096        conv4_block5_3_conv[0][0]        \n__________________________________________________________________________________________________\nconv4_block5_add (Add)          (None, 14, 14, 1024) 0           conv4_block4_out[0][0]           \n                                                                 conv4_block5_3_bn[0][0]          \n__________________________________________________________________________________________________\nconv4_block5_out (Activation)   (None, 14, 14, 1024) 0           conv4_block5_add[0][0]           \n__________________________________________________________________________________________________\nconv4_block6_1_conv (Conv2D)    (None, 14, 14, 256)  262400      conv4_block5_out[0][0]           \n__________________________________________________________________________________________________\nconv4_block6_1_bn (BatchNormali (None, 14, 14, 256)  1024        conv4_block6_1_conv[0][0]        \n__________________________________________________________________________________________________\nconv4_block6_1_relu (Activation (None, 14, 14, 256)  0           conv4_block6_1_bn[0][0]          \n__________________________________________________________________________________________________\nconv4_block6_2_conv (Conv2D)    (None, 14, 14, 256)  590080      conv4_block6_1_relu[0][0]        \n__________________________________________________________________________________________________\nconv4_block6_2_bn (BatchNormali (None, 14, 14, 256)  1024        conv4_block6_2_conv[0][0]        \n__________________________________________________________________________________________________\nconv4_block6_2_relu (Activation (None, 14, 14, 256)  0           conv4_block6_2_bn[0][0]          \n__________________________________________________________________________________________________\nconv4_block6_3_conv (Conv2D)    (None, 14, 14, 1024) 263168      conv4_block6_2_relu[0][0]        \n__________________________________________________________________________________________________\nconv4_block6_3_bn (BatchNormali (None, 14, 14, 1024) 4096        conv4_block6_3_conv[0][0]        \n__________________________________________________________________________________________________\nconv4_block6_add (Add)          (None, 14, 14, 1024) 0           conv4_block5_out[0][0]           \n                                                                 conv4_block6_3_bn[0][0]          \n__________________________________________________________________________________________________\nconv4_block6_out (Activation)   (None, 14, 14, 1024) 0           conv4_block6_add[0][0]           \n__________________________________________________________________________________________________\nconv5_block1_1_conv (Conv2D)    (None, 7, 7, 512)    524800      conv4_block6_out[0][0]           \n__________________________________________________________________________________________________\nconv5_block1_1_bn (BatchNormali (None, 7, 7, 512)    2048        conv5_block1_1_conv[0][0]        \n__________________________________________________________________________________________________\nconv5_block1_1_relu (Activation (None, 7, 7, 512)    0           conv5_block1_1_bn[0][0]          \n__________________________________________________________________________________________________\nconv5_block1_2_conv (Conv2D)    (None, 7, 7, 512)    2359808     conv5_block1_1_relu[0][0]        \n__________________________________________________________________________________________________\nconv5_block1_2_bn (BatchNormali (None, 7, 7, 512)    2048        conv5_block1_2_conv[0][0]        \n__________________________________________________________________________________________________\nconv5_block1_2_relu (Activation (None, 7, 7, 512)    0           conv5_block1_2_bn[0][0]          \n__________________________________________________________________________________________________\nconv5_block1_0_conv (Conv2D)    (None, 7, 7, 2048)   2099200     conv4_block6_out[0][0]           \n__________________________________________________________________________________________________\nconv5_block1_3_conv (Conv2D)    (None, 7, 7, 2048)   1050624     conv5_block1_2_relu[0][0]        \n__________________________________________________________________________________________________\nconv5_block1_0_bn (BatchNormali (None, 7, 7, 2048)   8192        conv5_block1_0_conv[0][0]        \n__________________________________________________________________________________________________\nconv5_block1_3_bn (BatchNormali (None, 7, 7, 2048)   8192        conv5_block1_3_conv[0][0]        \n__________________________________________________________________________________________________\nconv5_block1_add (Add)          (None, 7, 7, 2048)   0           conv5_block1_0_bn[0][0]          \n                                                                 conv5_block1_3_bn[0][0]          \n__________________________________________________________________________________________________\nconv5_block1_out (Activation)   (None, 7, 7, 2048)   0           conv5_block1_add[0][0]           \n__________________________________________________________________________________________________\nconv5_block2_1_conv (Conv2D)    (None, 7, 7, 512)    1049088     conv5_block1_out[0][0]           \n__________________________________________________________________________________________________\nconv5_block2_1_bn (BatchNormali (None, 7, 7, 512)    2048        conv5_block2_1_conv[0][0]        \n__________________________________________________________________________________________________\nconv5_block2_1_relu (Activation (None, 7, 7, 512)    0           conv5_block2_1_bn[0][0]          \n__________________________________________________________________________________________________\nconv5_block2_2_conv (Conv2D)    (None, 7, 7, 512)    2359808     conv5_block2_1_relu[0][0]        \n__________________________________________________________________________________________________\nconv5_block2_2_bn (BatchNormali (None, 7, 7, 512)    2048        conv5_block2_2_conv[0][0]        \n__________________________________________________________________________________________________\nconv5_block2_2_relu (Activation (None, 7, 7, 512)    0           conv5_block2_2_bn[0][0]          \n__________________________________________________________________________________________________\nconv5_block2_3_conv (Conv2D)    (None, 7, 7, 2048)   1050624     conv5_block2_2_relu[0][0]        \n__________________________________________________________________________________________________\nconv5_block2_3_bn (BatchNormali (None, 7, 7, 2048)   8192        conv5_block2_3_conv[0][0]        \n__________________________________________________________________________________________________\nconv5_block2_add (Add)          (None, 7, 7, 2048)   0           conv5_block1_out[0][0]           \n                                                                 conv5_block2_3_bn[0][0]          \n__________________________________________________________________________________________________\nconv5_block2_out (Activation)   (None, 7, 7, 2048)   0           conv5_block2_add[0][0]           \n__________________________________________________________________________________________________\nconv5_block3_1_conv (Conv2D)    (None, 7, 7, 512)    1049088     conv5_block2_out[0][0]           \n__________________________________________________________________________________________________\nconv5_block3_1_bn (BatchNormali (None, 7, 7, 512)    2048        conv5_block3_1_conv[0][0]        \n__________________________________________________________________________________________________\nconv5_block3_1_relu (Activation (None, 7, 7, 512)    0           conv5_block3_1_bn[0][0]          \n__________________________________________________________________________________________________\nconv5_block3_2_conv (Conv2D)    (None, 7, 7, 512)    2359808     conv5_block3_1_relu[0][0]        \n__________________________________________________________________________________________________\nconv5_block3_2_bn (BatchNormali (None, 7, 7, 512)    2048        conv5_block3_2_conv[0][0]        \n__________________________________________________________________________________________________\nconv5_block3_2_relu (Activation (None, 7, 7, 512)    0           conv5_block3_2_bn[0][0]          \n__________________________________________________________________________________________________\nconv5_block3_3_conv (Conv2D)    (None, 7, 7, 2048)   1050624     conv5_block3_2_relu[0][0]        \n==================================================================================================\nTotal params: 23,579,520\nTrainable params: 23,530,496\nNon-trainable params: 49,024\n__________________________________________________________________________________________________\nNone\n"
          ]
        }
      ]
    },
    {
      "cell_type": "code",
      "metadata": {
        "id": "EJ83bPO3mO16",
        "tags": []
      },
      "source": [
        "# solution\n",
        "resNetFeats = []\n",
        "numFeatures = []\n",
        "for imagePath in tqdm(x_train):\n",
        "    img = image.load_img(imagePath, target_size=(224, 224))\n",
        "    img = image.img_to_array(img)\n",
        "    img = np.expand_dims(img, axis=0)\n",
        "    img = preprocess_input(img)\n",
        "    output = feat_extraction_model(img)\n",
        "    output = output.numpy().reshape(-1, output.shape[-1])\n",
        "    resNetFeats.append(output)\n",
        "    numFeatures.append(output.shape[0])"
      ],
      "execution_count": 24,
      "outputs": [
        {
          "output_type": "stream",
          "name": "stderr",
          "text": [
            "100%|██████████| 195/195 [00:06<00:00, 30.01it/s]\n"
          ]
        }
      ]
    },
    {
      "cell_type": "markdown",
      "metadata": {
        "id": "GkEprqtK87q2"
      },
      "source": [
        "*   Create codebook using the extracted features"
      ]
    },
    {
      "cell_type": "code",
      "metadata": {
        "id": "5crz4gBz9CQF"
      },
      "source": [
        "# solution\n",
        "stackedResNetFeats = np.vstack(resNetFeats)\n",
        "print(stackedResNetFeats.shape)"
      ],
      "execution_count": 25,
      "outputs": [
        {
          "output_type": "stream",
          "name": "stdout",
          "text": [
            "(9555, 2048)\n"
          ]
        }
      ]
    },
    {
      "cell_type": "code",
      "metadata": {
        "id": "4cD28JWOFm2w"
      },
      "source": [
        "# solution\n",
        "clusteringResNetFeats = MiniBatchKMeans(n_clusters=ncl)\n",
        "resnetkLabels = clusteringResNetFeats.fit_predict(stackedResNetFeats)\n",
        "print(resnetkLabels.shape)"
      ],
      "execution_count": 26,
      "outputs": [
        {
          "output_type": "stream",
          "name": "stdout",
          "text": [
            "(9555,)\n"
          ]
        }
      ]
    },
    {
      "cell_type": "code",
      "metadata": {
        "id": "Bjax5E3gFxiF"
      },
      "source": [
        "# solution\n",
        "resnetkLabels = resnetkLabels.reshape(-1, 49)\n",
        "resnet_cluster_histograms = []\n",
        "for image_labels in resnetkLabels:\n",
        "    hist, _ = np.histogram(image_labels, bins=ncl)\n",
        "    hist = hist / image_labels.shape[0]\n",
        "    resnet_cluster_histograms.append(hist)\n",
        "resnetdictionary = np.vstack(resnet_cluster_histograms)\n",
        "resnetdictionary.shape\n"
      ],
      "execution_count": 27,
      "outputs": [
        {
          "output_type": "execute_result",
          "data": {
            "text/plain": [
              "(195, 30)"
            ]
          },
          "metadata": {},
          "execution_count": 27
        }
      ]
    },
    {
      "cell_type": "markdown",
      "metadata": {
        "id": "K_RB2vPl9CzB"
      },
      "source": [
        "*   Train SVM classifier using the codebook"
      ]
    },
    {
      "cell_type": "code",
      "metadata": {
        "id": "5oKk_Wzz9HLf"
      },
      "source": [
        "gammas = np.logspace(-6, -1, 10)\n",
        "C = np.array([0.5, 1, 2, 4, 8, 10, 15, 20, 50, 100, 200, 375, 500, 1000])\n",
        "\n",
        "svc = SVC(decision_function_shape='ovr')\n",
        "\n",
        "clf = GridSearchCV(estimator=svc, param_grid=dict(gamma=gammas, C=C), n_jobs=-1)\n",
        "\n",
        "clf.fit(resnetdictionary, y_train)\n",
        "\n",
        "print('Best accuracy:', clf.best_score_) \n",
        "print('The best value of gamma:', clf.best_estimator_.gamma)\n",
        "print('The best value of C:', clf.best_estimator_.C)"
      ],
      "execution_count": 28,
      "outputs": [
        {
          "output_type": "stream",
          "name": "stdout",
          "text": [
            "Best accuracy: 0.9282051282051282\nThe best value of gamma: 0.1\nThe best value of C: 1000.0\n"
          ]
        }
      ]
    },
    {
      "cell_type": "markdown",
      "metadata": {
        "id": "ym0XesGL9Hrc"
      },
      "source": [
        "*   Evaluate the test set using the above method"
      ]
    },
    {
      "cell_type": "code",
      "metadata": {
        "id": "NM6LIynq9Ma1"
      },
      "source": [
        "# solution\n",
        "testResNetFeatures = []\n",
        "testNumFeatures = []\n",
        "for imagePath in tqdm(x_test):\n",
        "    img = image.load_img(imagePath, target_size=(224, 224))\n",
        "    img = image.img_to_array(img)\n",
        "    img = np.expand_dims(img, axis=0)\n",
        "    img = preprocess_input(img)\n",
        "    output = feat_extraction_model(img)\n",
        "    output = output.numpy().reshape(-1, output.shape[-1])\n",
        "    testResNetFeatures.append(output)\n",
        "    testNumFeatures.append(output.shape[0])"
      ],
      "execution_count": 29,
      "outputs": [
        {
          "output_type": "stream",
          "name": "stderr",
          "text": [
            "100%|██████████| 49/49 [00:01<00:00, 34.09it/s]\n"
          ]
        }
      ]
    },
    {
      "cell_type": "code",
      "execution_count": 30,
      "metadata": {},
      "outputs": [
        {
          "output_type": "stream",
          "name": "stdout",
          "text": [
            "(2401, 2048)\n"
          ]
        }
      ],
      "source": [
        "testStackedResNetFeats = np.vstack(testResNetFeatures)\n",
        "print(testStackedResNetFeats.shape)"
      ]
    },
    {
      "cell_type": "code",
      "execution_count": 31,
      "metadata": {},
      "outputs": [
        {
          "output_type": "stream",
          "name": "stdout",
          "text": [
            "(2401,)\n"
          ]
        }
      ],
      "source": [
        "testResnetkLabels = clusteringResNetFeats.predict(testStackedResNetFeats)\n",
        "print(testResnetkLabels.shape)"
      ]
    },
    {
      "cell_type": "code",
      "execution_count": 32,
      "metadata": {},
      "outputs": [
        {
          "output_type": "execute_result",
          "data": {
            "text/plain": [
              "(49, 30)"
            ]
          },
          "metadata": {},
          "execution_count": 32
        }
      ],
      "source": [
        "testResnetkLabels = testResnetkLabels.reshape(-1, 49)\n",
        "resnet_test_cluster_histograms = []\n",
        "for image_labels in testResnetkLabels:\n",
        "    hist, _ = np.histogram(image_labels, bins=ncl)\n",
        "    hist = hist / image_labels.shape[0]\n",
        "    resnet_test_cluster_histograms.append(hist)\n",
        "resnetTestDictionary = np.vstack(resnet_test_cluster_histograms)\n",
        "resnetTestDictionary.shape"
      ]
    },
    {
      "cell_type": "markdown",
      "metadata": {
        "id": "d-OnKf-ti_vy"
      },
      "source": [
        "*   Calculate the accuracy score for the classification model"
      ]
    },
    {
      "cell_type": "code",
      "metadata": {
        "id": "upqdRQUoGC94"
      },
      "source": [
        "# solution\n",
        "predicted_labels = clf.predict(resnetTestDictionary)\n",
        "\n",
        "print(y_test.shape, predicted_labels.shape)\n",
        "print(confusion_matrix(predicted_labels, y_test))\n",
        "print(f\"Classification accuracy: {100*accuracy_score(predicted_labels, y_test):.2f}%\")"
      ],
      "execution_count": 33,
      "outputs": [
        {
          "output_type": "stream",
          "name": "stdout",
          "text": [
            "(49,) (49,)\n[[17  2  1]\n [ 2 16  0]\n [ 0  0 11]]\nClassification accuracy: 89.80%\n"
          ]
        }
      ]
    },
    {
      "cell_type": "markdown",
      "metadata": {
        "id": "DjL0oQCumkrV"
      },
      "source": [
        "## t-distributed Stochastic Neighbor Embedding.\n",
        "\n",
        "In order to visualize the features of a higher dimension data, t-SNE is used. t-SNE converts the affinities of the data points to probabilities. It recreates the probability distribution in a low-dimensional space. It is very helpful in visualizing features of different layers in a neural network.\n",
        "\n",
        "You can find more information about t-SNE [here](https://scikit-learn.org/stable/modules/manifold.html#t-distributed-stochastic-neighbor-embedding-t-sne)"
      ]
    },
    {
      "cell_type": "code",
      "metadata": {
        "id": "6ahIG1fulhW9"
      },
      "source": [
        "from sklearn.manifold import TSNE\n",
        "\n",
        "model = TSNE(n_components=2, random_state=0)\n",
        "\n",
        "np.set_printoptions(suppress=True)\n",
        "\n",
        "low_embedding = model.fit_transform(resnetdictionary) \n",
        "\n",
        "plt.figure(figsize=(20,10))\n",
        "plt.scatter(low_embedding[:, 0], low_embedding[:, 1], c=y_train)\n",
        "plt.title(\"TSNE visualization\")\n",
        "plt.show()"
      ],
      "execution_count": 34,
      "outputs": [
        {
          "output_type": "display_data",
          "data": {
            "text/plain": "<Figure size 1440x720 with 1 Axes>",
            "image/svg+xml": "<?xml version=\"1.0\" encoding=\"utf-8\" standalone=\"no\"?>\n<!DOCTYPE svg PUBLIC \"-//W3C//DTD SVG 1.1//EN\"\n  \"http://www.w3.org/Graphics/SVG/1.1/DTD/svg11.dtd\">\n<!-- Created with matplotlib (https://matplotlib.org/) -->\n<svg height=\"589.79625pt\" version=\"1.1\" viewBox=\"0 0 1158.504688 589.79625\" width=\"1158.504688pt\" xmlns=\"http://www.w3.org/2000/svg\" xmlns:xlink=\"http://www.w3.org/1999/xlink\">\n <metadata>\n  <rdf:RDF xmlns:cc=\"http://creativecommons.org/ns#\" xmlns:dc=\"http://purl.org/dc/elements/1.1/\" xmlns:rdf=\"http://www.w3.org/1999/02/22-rdf-syntax-ns#\">\n   <cc:Work>\n    <dc:type rdf:resource=\"http://purl.org/dc/dcmitype/StillImage\"/>\n    <dc:date>2020-11-24T19:03:39.857153</dc:date>\n    <dc:format>image/svg+xml</dc:format>\n    <dc:creator>\n     <cc:Agent>\n      <dc:title>Matplotlib v3.3.2, https://matplotlib.org/</dc:title>\n     </cc:Agent>\n    </dc:creator>\n   </cc:Work>\n  </rdf:RDF>\n </metadata>\n <defs>\n  <style type=\"text/css\">*{stroke-linecap:butt;stroke-linejoin:round;}</style>\n </defs>\n <g id=\"figure_1\">\n  <g id=\"patch_1\">\n   <path d=\"M 0 589.79625 \nL 1158.504688 589.79625 \nL 1158.504688 0 \nL 0 0 \nz\n\" style=\"fill:none;\"/>\n  </g>\n  <g id=\"axes_1\">\n   <g id=\"patch_2\">\n    <path d=\"M 35.304688 565.918125 \nL 1151.304688 565.918125 \nL 1151.304688 22.318125 \nL 35.304688 22.318125 \nz\n\" style=\"fill:#ffffff;\"/>\n   </g>\n   <g id=\"PathCollection_1\">\n    <defs>\n     <path d=\"M 0 3 \nC 0.795609 3 1.55874 2.683901 2.12132 2.12132 \nC 2.683901 1.55874 3 0.795609 3 -0 \nC 3 -0.795609 2.683901 -1.55874 2.12132 -2.12132 \nC 1.55874 -2.683901 0.795609 -3 0 -3 \nC -0.795609 -3 -1.55874 -2.683901 -2.12132 -2.12132 \nC -2.683901 -1.55874 -3 -0.795609 -3 0 \nC -3 0.795609 -2.683901 1.55874 -2.12132 2.12132 \nC -1.55874 2.683901 -0.795609 3 0 3 \nz\n\" id=\"C0_0_fba1e6e568\"/>\n    </defs>\n    <g clip-path=\"url(#p44f3bba571)\">\n     <use style=\"fill:#fde725;stroke:#fde725;\" x=\"665.143263\" xlink:href=\"#C0_0_fba1e6e568\" y=\"225.584236\"/>\n    </g>\n    <g clip-path=\"url(#p44f3bba571)\">\n     <use style=\"fill:#fde725;stroke:#fde725;\" x=\"583.587436\" xlink:href=\"#C0_0_fba1e6e568\" y=\"194.536341\"/>\n    </g>\n    <g clip-path=\"url(#p44f3bba571)\">\n     <use style=\"fill:#21918c;stroke:#21918c;\" x=\"569.811149\" xlink:href=\"#C0_0_fba1e6e568\" y=\"342.491052\"/>\n    </g>\n    <g clip-path=\"url(#p44f3bba571)\">\n     <use style=\"fill:#21918c;stroke:#21918c;\" x=\"543.476863\" xlink:href=\"#C0_0_fba1e6e568\" y=\"326.748719\"/>\n    </g>\n    <g clip-path=\"url(#p44f3bba571)\">\n     <use style=\"fill:#440154;stroke:#440154;\" x=\"1100.577415\" xlink:href=\"#C0_0_fba1e6e568\" y=\"260.531344\"/>\n    </g>\n    <g clip-path=\"url(#p44f3bba571)\">\n     <use style=\"fill:#440154;stroke:#440154;\" x=\"1088.452555\" xlink:href=\"#C0_0_fba1e6e568\" y=\"282.591446\"/>\n    </g>\n    <g clip-path=\"url(#p44f3bba571)\">\n     <use style=\"fill:#440154;stroke:#440154;\" x=\"177.162505\" xlink:href=\"#C0_0_fba1e6e568\" y=\"122.530982\"/>\n    </g>\n    <g clip-path=\"url(#p44f3bba571)\">\n     <use style=\"fill:#21918c;stroke:#21918c;\" x=\"590.847898\" xlink:href=\"#C0_0_fba1e6e568\" y=\"426.099495\"/>\n    </g>\n    <g clip-path=\"url(#p44f3bba571)\">\n     <use style=\"fill:#fde725;stroke:#fde725;\" x=\"737.133105\" xlink:href=\"#C0_0_fba1e6e568\" y=\"159.289164\"/>\n    </g>\n    <g clip-path=\"url(#p44f3bba571)\">\n     <use style=\"fill:#21918c;stroke:#21918c;\" x=\"553.79835\" xlink:href=\"#C0_0_fba1e6e568\" y=\"409.19458\"/>\n    </g>\n    <g clip-path=\"url(#p44f3bba571)\">\n     <use style=\"fill:#fde725;stroke:#fde725;\" x=\"684.28973\" xlink:href=\"#C0_0_fba1e6e568\" y=\"186.239161\"/>\n    </g>\n    <g clip-path=\"url(#p44f3bba571)\">\n     <use style=\"fill:#21918c;stroke:#21918c;\" x=\"1048.674333\" xlink:href=\"#C0_0_fba1e6e568\" y=\"321.074027\"/>\n    </g>\n    <g clip-path=\"url(#p44f3bba571)\">\n     <use style=\"fill:#21918c;stroke:#21918c;\" x=\"635.589839\" xlink:href=\"#C0_0_fba1e6e568\" y=\"413.272448\"/>\n    </g>\n    <g clip-path=\"url(#p44f3bba571)\">\n     <use style=\"fill:#fde725;stroke:#fde725;\" x=\"804.673109\" xlink:href=\"#C0_0_fba1e6e568\" y=\"100.880605\"/>\n    </g>\n    <g clip-path=\"url(#p44f3bba571)\">\n     <use style=\"fill:#fde725;stroke:#fde725;\" x=\"821.720955\" xlink:href=\"#C0_0_fba1e6e568\" y=\"160.72832\"/>\n    </g>\n    <g clip-path=\"url(#p44f3bba571)\">\n     <use style=\"fill:#440154;stroke:#440154;\" x=\"944.761659\" xlink:href=\"#C0_0_fba1e6e568\" y=\"346.014798\"/>\n    </g>\n    <g clip-path=\"url(#p44f3bba571)\">\n     <use style=\"fill:#21918c;stroke:#21918c;\" x=\"428.222587\" xlink:href=\"#C0_0_fba1e6e568\" y=\"414.04792\"/>\n    </g>\n    <g clip-path=\"url(#p44f3bba571)\">\n     <use style=\"fill:#440154;stroke:#440154;\" x=\"911.822188\" xlink:href=\"#C0_0_fba1e6e568\" y=\"428.625483\"/>\n    </g>\n    <g clip-path=\"url(#p44f3bba571)\">\n     <use style=\"fill:#21918c;stroke:#21918c;\" x=\"927.638003\" xlink:href=\"#C0_0_fba1e6e568\" y=\"380.264051\"/>\n    </g>\n    <g clip-path=\"url(#p44f3bba571)\">\n     <use style=\"fill:#fde725;stroke:#fde725;\" x=\"563.90582\" xlink:href=\"#C0_0_fba1e6e568\" y=\"175.171365\"/>\n    </g>\n    <g clip-path=\"url(#p44f3bba571)\">\n     <use style=\"fill:#21918c;stroke:#21918c;\" x=\"1012.507375\" xlink:href=\"#C0_0_fba1e6e568\" y=\"363.52313\"/>\n    </g>\n    <g clip-path=\"url(#p44f3bba571)\">\n     <use style=\"fill:#21918c;stroke:#21918c;\" x=\"673.844352\" xlink:href=\"#C0_0_fba1e6e568\" y=\"357.420668\"/>\n    </g>\n    <g clip-path=\"url(#p44f3bba571)\">\n     <use style=\"fill:#fde725;stroke:#fde725;\" x=\"382.063904\" xlink:href=\"#C0_0_fba1e6e568\" y=\"489.091262\"/>\n    </g>\n    <g clip-path=\"url(#p44f3bba571)\">\n     <use style=\"fill:#440154;stroke:#440154;\" x=\"327.047367\" xlink:href=\"#C0_0_fba1e6e568\" y=\"157.632975\"/>\n    </g>\n    <g clip-path=\"url(#p44f3bba571)\">\n     <use style=\"fill:#440154;stroke:#440154;\" x=\"1082.607967\" xlink:href=\"#C0_0_fba1e6e568\" y=\"229.984024\"/>\n    </g>\n    <g clip-path=\"url(#p44f3bba571)\">\n     <use style=\"fill:#fde725;stroke:#fde725;\" x=\"743.406181\" xlink:href=\"#C0_0_fba1e6e568\" y=\"83.786695\"/>\n    </g>\n    <g clip-path=\"url(#p44f3bba571)\">\n     <use style=\"fill:#fde725;stroke:#fde725;\" x=\"801.912971\" xlink:href=\"#C0_0_fba1e6e568\" y=\"89.930016\"/>\n    </g>\n    <g clip-path=\"url(#p44f3bba571)\">\n     <use style=\"fill:#fde725;stroke:#fde725;\" x=\"818.207062\" xlink:href=\"#C0_0_fba1e6e568\" y=\"122.405562\"/>\n    </g>\n    <g clip-path=\"url(#p44f3bba571)\">\n     <use style=\"fill:#440154;stroke:#440154;\" x=\"88.912056\" xlink:href=\"#C0_0_fba1e6e568\" y=\"271.422822\"/>\n    </g>\n    <g clip-path=\"url(#p44f3bba571)\">\n     <use style=\"fill:#440154;stroke:#440154;\" x=\"156.196272\" xlink:href=\"#C0_0_fba1e6e568\" y=\"136.263496\"/>\n    </g>\n    <g clip-path=\"url(#p44f3bba571)\">\n     <use style=\"fill:#21918c;stroke:#21918c;\" x=\"442.558223\" xlink:href=\"#C0_0_fba1e6e568\" y=\"83.081763\"/>\n    </g>\n    <g clip-path=\"url(#p44f3bba571)\">\n     <use style=\"fill:#21918c;stroke:#21918c;\" x=\"613.530214\" xlink:href=\"#C0_0_fba1e6e568\" y=\"270.120244\"/>\n    </g>\n    <g clip-path=\"url(#p44f3bba571)\">\n     <use style=\"fill:#21918c;stroke:#21918c;\" x=\"534.467333\" xlink:href=\"#C0_0_fba1e6e568\" y=\"348.166649\"/>\n    </g>\n    <g clip-path=\"url(#p44f3bba571)\">\n     <use style=\"fill:#440154;stroke:#440154;\" x=\"153.079805\" xlink:href=\"#C0_0_fba1e6e568\" y=\"298.338621\"/>\n    </g>\n    <g clip-path=\"url(#p44f3bba571)\">\n     <use style=\"fill:#21918c;stroke:#21918c;\" x=\"616.140768\" xlink:href=\"#C0_0_fba1e6e568\" y=\"357.336008\"/>\n    </g>\n    <g clip-path=\"url(#p44f3bba571)\">\n     <use style=\"fill:#fde725;stroke:#fde725;\" x=\"862.818814\" xlink:href=\"#C0_0_fba1e6e568\" y=\"171.531755\"/>\n    </g>\n    <g clip-path=\"url(#p44f3bba571)\">\n     <use style=\"fill:#21918c;stroke:#21918c;\" x=\"945.120805\" xlink:href=\"#C0_0_fba1e6e568\" y=\"365.541993\"/>\n    </g>\n    <g clip-path=\"url(#p44f3bba571)\">\n     <use style=\"fill:#440154;stroke:#440154;\" x=\"110.15932\" xlink:href=\"#C0_0_fba1e6e568\" y=\"260.974341\"/>\n    </g>\n    <g clip-path=\"url(#p44f3bba571)\">\n     <use style=\"fill:#440154;stroke:#440154;\" x=\"937.288738\" xlink:href=\"#C0_0_fba1e6e568\" y=\"420.18909\"/>\n    </g>\n    <g clip-path=\"url(#p44f3bba571)\">\n     <use style=\"fill:#440154;stroke:#440154;\" x=\"179.147366\" xlink:href=\"#C0_0_fba1e6e568\" y=\"311.334368\"/>\n    </g>\n    <g clip-path=\"url(#p44f3bba571)\">\n     <use style=\"fill:#440154;stroke:#440154;\" x=\"199.716154\" xlink:href=\"#C0_0_fba1e6e568\" y=\"239.741557\"/>\n    </g>\n    <g clip-path=\"url(#p44f3bba571)\">\n     <use style=\"fill:#440154;stroke:#440154;\" x=\"87.042388\" xlink:href=\"#C0_0_fba1e6e568\" y=\"309.318131\"/>\n    </g>\n    <g clip-path=\"url(#p44f3bba571)\">\n     <use style=\"fill:#fde725;stroke:#fde725;\" x=\"838.050549\" xlink:href=\"#C0_0_fba1e6e568\" y=\"147.644612\"/>\n    </g>\n    <g clip-path=\"url(#p44f3bba571)\">\n     <use style=\"fill:#21918c;stroke:#21918c;\" x=\"661.245966\" xlink:href=\"#C0_0_fba1e6e568\" y=\"541.209034\"/>\n    </g>\n    <g clip-path=\"url(#p44f3bba571)\">\n     <use style=\"fill:#21918c;stroke:#21918c;\" x=\"504.714577\" xlink:href=\"#C0_0_fba1e6e568\" y=\"402.280089\"/>\n    </g>\n    <g clip-path=\"url(#p44f3bba571)\">\n     <use style=\"fill:#21918c;stroke:#21918c;\" x=\"532.254125\" xlink:href=\"#C0_0_fba1e6e568\" y=\"401.910212\"/>\n    </g>\n    <g clip-path=\"url(#p44f3bba571)\">\n     <use style=\"fill:#440154;stroke:#440154;\" x=\"263.868662\" xlink:href=\"#C0_0_fba1e6e568\" y=\"50.382399\"/>\n    </g>\n    <g clip-path=\"url(#p44f3bba571)\">\n     <use style=\"fill:#21918c;stroke:#21918c;\" x=\"491.192429\" xlink:href=\"#C0_0_fba1e6e568\" y=\"462.545282\"/>\n    </g>\n    <g clip-path=\"url(#p44f3bba571)\">\n     <use style=\"fill:#21918c;stroke:#21918c;\" x=\"619.150291\" xlink:href=\"#C0_0_fba1e6e568\" y=\"534.011724\"/>\n    </g>\n    <g clip-path=\"url(#p44f3bba571)\">\n     <use style=\"fill:#fde725;stroke:#fde725;\" x=\"856.414311\" xlink:href=\"#C0_0_fba1e6e568\" y=\"133.38635\"/>\n    </g>\n    <g clip-path=\"url(#p44f3bba571)\">\n     <use style=\"fill:#440154;stroke:#440154;\" x=\"853.63968\" xlink:href=\"#C0_0_fba1e6e568\" y=\"319.442456\"/>\n    </g>\n    <g clip-path=\"url(#p44f3bba571)\">\n     <use style=\"fill:#440154;stroke:#440154;\" x=\"207.162256\" xlink:href=\"#C0_0_fba1e6e568\" y=\"273.015567\"/>\n    </g>\n    <g clip-path=\"url(#p44f3bba571)\">\n     <use style=\"fill:#21918c;stroke:#21918c;\" x=\"654.671949\" xlink:href=\"#C0_0_fba1e6e568\" y=\"532.365699\"/>\n    </g>\n    <g clip-path=\"url(#p44f3bba571)\">\n     <use style=\"fill:#fde725;stroke:#fde725;\" x=\"524.261457\" xlink:href=\"#C0_0_fba1e6e568\" y=\"194.436465\"/>\n    </g>\n    <g clip-path=\"url(#p44f3bba571)\">\n     <use style=\"fill:#440154;stroke:#440154;\" x=\"572.233565\" xlink:href=\"#C0_0_fba1e6e568\" y=\"47.027216\"/>\n    </g>\n    <g clip-path=\"url(#p44f3bba571)\">\n     <use style=\"fill:#21918c;stroke:#21918c;\" x=\"1053.765894\" xlink:href=\"#C0_0_fba1e6e568\" y=\"323.97881\"/>\n    </g>\n    <g clip-path=\"url(#p44f3bba571)\">\n     <use style=\"fill:#440154;stroke:#440154;\" x=\"407.635584\" xlink:href=\"#C0_0_fba1e6e568\" y=\"212.581258\"/>\n    </g>\n    <g clip-path=\"url(#p44f3bba571)\">\n     <use style=\"fill:#fde725;stroke:#fde725;\" x=\"759.456546\" xlink:href=\"#C0_0_fba1e6e568\" y=\"111.332669\"/>\n    </g>\n    <g clip-path=\"url(#p44f3bba571)\">\n     <use style=\"fill:#fde725;stroke:#fde725;\" x=\"830.676024\" xlink:href=\"#C0_0_fba1e6e568\" y=\"122.272421\"/>\n    </g>\n    <g clip-path=\"url(#p44f3bba571)\">\n     <use style=\"fill:#fde725;stroke:#fde725;\" x=\"593.206048\" xlink:href=\"#C0_0_fba1e6e568\" y=\"151.058122\"/>\n    </g>\n    <g clip-path=\"url(#p44f3bba571)\">\n     <use style=\"fill:#fde725;stroke:#fde725;\" x=\"648.511704\" xlink:href=\"#C0_0_fba1e6e568\" y=\"126.478624\"/>\n    </g>\n    <g clip-path=\"url(#p44f3bba571)\">\n     <use style=\"fill:#440154;stroke:#440154;\" x=\"1099.250984\" xlink:href=\"#C0_0_fba1e6e568\" y=\"256.518157\"/>\n    </g>\n    <g clip-path=\"url(#p44f3bba571)\">\n     <use style=\"fill:#440154;stroke:#440154;\" x=\"99.946345\" xlink:href=\"#C0_0_fba1e6e568\" y=\"293.878029\"/>\n    </g>\n    <g clip-path=\"url(#p44f3bba571)\">\n     <use style=\"fill:#440154;stroke:#440154;\" x=\"960.063498\" xlink:href=\"#C0_0_fba1e6e568\" y=\"414.353981\"/>\n    </g>\n    <g clip-path=\"url(#p44f3bba571)\">\n     <use style=\"fill:#440154;stroke:#440154;\" x=\"249.453217\" xlink:href=\"#C0_0_fba1e6e568\" y=\"291.031114\"/>\n    </g>\n    <g clip-path=\"url(#p44f3bba571)\">\n     <use style=\"fill:#21918c;stroke:#21918c;\" x=\"475.999807\" xlink:href=\"#C0_0_fba1e6e568\" y=\"436.137238\"/>\n    </g>\n    <g clip-path=\"url(#p44f3bba571)\">\n     <use style=\"fill:#21918c;stroke:#21918c;\" x=\"435.923826\" xlink:href=\"#C0_0_fba1e6e568\" y=\"61.123666\"/>\n    </g>\n    <g clip-path=\"url(#p44f3bba571)\">\n     <use style=\"fill:#21918c;stroke:#21918c;\" x=\"1079.920253\" xlink:href=\"#C0_0_fba1e6e568\" y=\"338.363809\"/>\n    </g>\n    <g clip-path=\"url(#p44f3bba571)\">\n     <use style=\"fill:#21918c;stroke:#21918c;\" x=\"969.975868\" xlink:href=\"#C0_0_fba1e6e568\" y=\"378.83717\"/>\n    </g>\n    <g clip-path=\"url(#p44f3bba571)\">\n     <use style=\"fill:#440154;stroke:#440154;\" x=\"320.724207\" xlink:href=\"#C0_0_fba1e6e568\" y=\"134.770778\"/>\n    </g>\n    <g clip-path=\"url(#p44f3bba571)\">\n     <use style=\"fill:#440154;stroke:#440154;\" x=\"918.647568\" xlink:href=\"#C0_0_fba1e6e568\" y=\"403.185123\"/>\n    </g>\n    <g clip-path=\"url(#p44f3bba571)\">\n     <use style=\"fill:#21918c;stroke:#21918c;\" x=\"578.516949\" xlink:href=\"#C0_0_fba1e6e568\" y=\"364.051657\"/>\n    </g>\n    <g clip-path=\"url(#p44f3bba571)\">\n     <use style=\"fill:#21918c;stroke:#21918c;\" x=\"458.019313\" xlink:href=\"#C0_0_fba1e6e568\" y=\"476.047645\"/>\n    </g>\n    <g clip-path=\"url(#p44f3bba571)\">\n     <use style=\"fill:#21918c;stroke:#21918c;\" x=\"661.791261\" xlink:href=\"#C0_0_fba1e6e568\" y=\"372.60579\"/>\n    </g>\n    <g clip-path=\"url(#p44f3bba571)\">\n     <use style=\"fill:#440154;stroke:#440154;\" x=\"148.084572\" xlink:href=\"#C0_0_fba1e6e568\" y=\"306.345729\"/>\n    </g>\n    <g clip-path=\"url(#p44f3bba571)\">\n     <use style=\"fill:#21918c;stroke:#21918c;\" x=\"623.978284\" xlink:href=\"#C0_0_fba1e6e568\" y=\"533.158995\"/>\n    </g>\n    <g clip-path=\"url(#p44f3bba571)\">\n     <use style=\"fill:#440154;stroke:#440154;\" x=\"323.35592\" xlink:href=\"#C0_0_fba1e6e568\" y=\"170.546206\"/>\n    </g>\n    <g clip-path=\"url(#p44f3bba571)\">\n     <use style=\"fill:#440154;stroke:#440154;\" x=\"214.699134\" xlink:href=\"#C0_0_fba1e6e568\" y=\"179.899436\"/>\n    </g>\n    <g clip-path=\"url(#p44f3bba571)\">\n     <use style=\"fill:#21918c;stroke:#21918c;\" x=\"623.735423\" xlink:href=\"#C0_0_fba1e6e568\" y=\"372.894284\"/>\n    </g>\n    <g clip-path=\"url(#p44f3bba571)\">\n     <use style=\"fill:#21918c;stroke:#21918c;\" x=\"521.895919\" xlink:href=\"#C0_0_fba1e6e568\" y=\"478.606667\"/>\n    </g>\n    <g clip-path=\"url(#p44f3bba571)\">\n     <use style=\"fill:#21918c;stroke:#21918c;\" x=\"430.741331\" xlink:href=\"#C0_0_fba1e6e568\" y=\"468.577026\"/>\n    </g>\n    <g clip-path=\"url(#p44f3bba571)\">\n     <use style=\"fill:#440154;stroke:#440154;\" x=\"179.742233\" xlink:href=\"#C0_0_fba1e6e568\" y=\"322.867598\"/>\n    </g>\n    <g clip-path=\"url(#p44f3bba571)\">\n     <use style=\"fill:#fde725;stroke:#fde725;\" x=\"826.002504\" xlink:href=\"#C0_0_fba1e6e568\" y=\"57.058505\"/>\n    </g>\n    <g clip-path=\"url(#p44f3bba571)\">\n     <use style=\"fill:#440154;stroke:#440154;\" x=\"155.577342\" xlink:href=\"#C0_0_fba1e6e568\" y=\"137.241043\"/>\n    </g>\n    <g clip-path=\"url(#p44f3bba571)\">\n     <use style=\"fill:#21918c;stroke:#21918c;\" x=\"522.865242\" xlink:href=\"#C0_0_fba1e6e568\" y=\"436.739941\"/>\n    </g>\n    <g clip-path=\"url(#p44f3bba571)\">\n     <use style=\"fill:#440154;stroke:#440154;\" x=\"86.03196\" xlink:href=\"#C0_0_fba1e6e568\" y=\"284.216084\"/>\n    </g>\n    <g clip-path=\"url(#p44f3bba571)\">\n     <use style=\"fill:#21918c;stroke:#21918c;\" x=\"474.779541\" xlink:href=\"#C0_0_fba1e6e568\" y=\"420.209749\"/>\n    </g>\n    <g clip-path=\"url(#p44f3bba571)\">\n     <use style=\"fill:#440154;stroke:#440154;\" x=\"433.199231\" xlink:href=\"#C0_0_fba1e6e568\" y=\"125.375296\"/>\n    </g>\n    <g clip-path=\"url(#p44f3bba571)\">\n     <use style=\"fill:#21918c;stroke:#21918c;\" x=\"494.301807\" xlink:href=\"#C0_0_fba1e6e568\" y=\"394.663059\"/>\n    </g>\n    <g clip-path=\"url(#p44f3bba571)\">\n     <use style=\"fill:#21918c;stroke:#21918c;\" x=\"599.292906\" xlink:href=\"#C0_0_fba1e6e568\" y=\"406.181488\"/>\n    </g>\n    <g clip-path=\"url(#p44f3bba571)\">\n     <use style=\"fill:#21918c;stroke:#21918c;\" x=\"648.352789\" xlink:href=\"#C0_0_fba1e6e568\" y=\"526.672668\"/>\n    </g>\n    <g clip-path=\"url(#p44f3bba571)\">\n     <use style=\"fill:#440154;stroke:#440154;\" x=\"272.247097\" xlink:href=\"#C0_0_fba1e6e568\" y=\"294.749589\"/>\n    </g>\n    <g clip-path=\"url(#p44f3bba571)\">\n     <use style=\"fill:#21918c;stroke:#21918c;\" x=\"438.532776\" xlink:href=\"#C0_0_fba1e6e568\" y=\"76.426185\"/>\n    </g>\n    <g clip-path=\"url(#p44f3bba571)\">\n     <use style=\"fill:#21918c;stroke:#21918c;\" x=\"963.166063\" xlink:href=\"#C0_0_fba1e6e568\" y=\"327.931711\"/>\n    </g>\n    <g clip-path=\"url(#p44f3bba571)\">\n     <use style=\"fill:#fde725;stroke:#fde725;\" x=\"658.410224\" xlink:href=\"#C0_0_fba1e6e568\" y=\"237.155543\"/>\n    </g>\n    <g clip-path=\"url(#p44f3bba571)\">\n     <use style=\"fill:#fde725;stroke:#fde725;\" x=\"873.846763\" xlink:href=\"#C0_0_fba1e6e568\" y=\"121.535079\"/>\n    </g>\n    <g clip-path=\"url(#p44f3bba571)\">\n     <use style=\"fill:#440154;stroke:#440154;\" x=\"433.328818\" xlink:href=\"#C0_0_fba1e6e568\" y=\"278.839016\"/>\n    </g>\n    <g clip-path=\"url(#p44f3bba571)\">\n     <use style=\"fill:#fde725;stroke:#fde725;\" x=\"447.727288\" xlink:href=\"#C0_0_fba1e6e568\" y=\"255.166059\"/>\n    </g>\n    <g clip-path=\"url(#p44f3bba571)\">\n     <use style=\"fill:#440154;stroke:#440154;\" x=\"220.504773\" xlink:href=\"#C0_0_fba1e6e568\" y=\"255.732295\"/>\n    </g>\n    <g clip-path=\"url(#p44f3bba571)\">\n     <use style=\"fill:#440154;stroke:#440154;\" x=\"168.093582\" xlink:href=\"#C0_0_fba1e6e568\" y=\"259.248229\"/>\n    </g>\n    <g clip-path=\"url(#p44f3bba571)\">\n     <use style=\"fill:#fde725;stroke:#fde725;\" x=\"502.929502\" xlink:href=\"#C0_0_fba1e6e568\" y=\"210.977636\"/>\n    </g>\n    <g clip-path=\"url(#p44f3bba571)\">\n     <use style=\"fill:#440154;stroke:#440154;\" x=\"895.559878\" xlink:href=\"#C0_0_fba1e6e568\" y=\"190.052959\"/>\n    </g>\n    <g clip-path=\"url(#p44f3bba571)\">\n     <use style=\"fill:#21918c;stroke:#21918c;\" x=\"582.665418\" xlink:href=\"#C0_0_fba1e6e568\" y=\"441.244103\"/>\n    </g>\n    <g clip-path=\"url(#p44f3bba571)\">\n     <use style=\"fill:#440154;stroke:#440154;\" x=\"896.869118\" xlink:href=\"#C0_0_fba1e6e568\" y=\"344.950776\"/>\n    </g>\n    <g clip-path=\"url(#p44f3bba571)\">\n     <use style=\"fill:#fde725;stroke:#fde725;\" x=\"697.082497\" xlink:href=\"#C0_0_fba1e6e568\" y=\"100.992836\"/>\n    </g>\n    <g clip-path=\"url(#p44f3bba571)\">\n     <use style=\"fill:#fde725;stroke:#fde725;\" x=\"733.332186\" xlink:href=\"#C0_0_fba1e6e568\" y=\"317.356771\"/>\n    </g>\n    <g clip-path=\"url(#p44f3bba571)\">\n     <use style=\"fill:#440154;stroke:#440154;\" x=\"316.438956\" xlink:href=\"#C0_0_fba1e6e568\" y=\"99.756929\"/>\n    </g>\n    <g clip-path=\"url(#p44f3bba571)\">\n     <use style=\"fill:#440154;stroke:#440154;\" x=\"328.470697\" xlink:href=\"#C0_0_fba1e6e568\" y=\"190.396447\"/>\n    </g>\n    <g clip-path=\"url(#p44f3bba571)\">\n     <use style=\"fill:#fde725;stroke:#fde725;\" x=\"883.345936\" xlink:href=\"#C0_0_fba1e6e568\" y=\"146.49702\"/>\n    </g>\n    <g clip-path=\"url(#p44f3bba571)\">\n     <use style=\"fill:#440154;stroke:#440154;\" x=\"853.951055\" xlink:href=\"#C0_0_fba1e6e568\" y=\"330.299473\"/>\n    </g>\n    <g clip-path=\"url(#p44f3bba571)\">\n     <use style=\"fill:#21918c;stroke:#21918c;\" x=\"1071.836317\" xlink:href=\"#C0_0_fba1e6e568\" y=\"334.172017\"/>\n    </g>\n    <g clip-path=\"url(#p44f3bba571)\">\n     <use style=\"fill:#fde725;stroke:#fde725;\" x=\"642.885776\" xlink:href=\"#C0_0_fba1e6e568\" y=\"155.305673\"/>\n    </g>\n    <g clip-path=\"url(#p44f3bba571)\">\n     <use style=\"fill:#440154;stroke:#440154;\" x=\"850.653449\" xlink:href=\"#C0_0_fba1e6e568\" y=\"363.185779\"/>\n    </g>\n    <g clip-path=\"url(#p44f3bba571)\">\n     <use style=\"fill:#21918c;stroke:#21918c;\" x=\"864.179566\" xlink:href=\"#C0_0_fba1e6e568\" y=\"385.96993\"/>\n    </g>\n    <g clip-path=\"url(#p44f3bba571)\">\n     <use style=\"fill:#fde725;stroke:#fde725;\" x=\"680.726403\" xlink:href=\"#C0_0_fba1e6e568\" y=\"193.103418\"/>\n    </g>\n    <g clip-path=\"url(#p44f3bba571)\">\n     <use style=\"fill:#440154;stroke:#440154;\" x=\"361.36419\" xlink:href=\"#C0_0_fba1e6e568\" y=\"440.190527\"/>\n    </g>\n    <g clip-path=\"url(#p44f3bba571)\">\n     <use style=\"fill:#21918c;stroke:#21918c;\" x=\"520.385515\" xlink:href=\"#C0_0_fba1e6e568\" y=\"327.119712\"/>\n    </g>\n    <g clip-path=\"url(#p44f3bba571)\">\n     <use style=\"fill:#440154;stroke:#440154;\" x=\"1093.253712\" xlink:href=\"#C0_0_fba1e6e568\" y=\"242.110131\"/>\n    </g>\n    <g clip-path=\"url(#p44f3bba571)\">\n     <use style=\"fill:#21918c;stroke:#21918c;\" x=\"499.294923\" xlink:href=\"#C0_0_fba1e6e568\" y=\"427.603613\"/>\n    </g>\n    <g clip-path=\"url(#p44f3bba571)\">\n     <use style=\"fill:#fde725;stroke:#fde725;\" x=\"815.131119\" xlink:href=\"#C0_0_fba1e6e568\" y=\"191.190437\"/>\n    </g>\n    <g clip-path=\"url(#p44f3bba571)\">\n     <use style=\"fill:#fde725;stroke:#fde725;\" x=\"719.805223\" xlink:href=\"#C0_0_fba1e6e568\" y=\"168.37952\"/>\n    </g>\n    <g clip-path=\"url(#p44f3bba571)\">\n     <use style=\"fill:#fde725;stroke:#fde725;\" x=\"680.050088\" xlink:href=\"#C0_0_fba1e6e568\" y=\"101.610628\"/>\n    </g>\n    <g clip-path=\"url(#p44f3bba571)\">\n     <use style=\"fill:#440154;stroke:#440154;\" x=\"309.016444\" xlink:href=\"#C0_0_fba1e6e568\" y=\"193.515226\"/>\n    </g>\n    <g clip-path=\"url(#p44f3bba571)\">\n     <use style=\"fill:#21918c;stroke:#21918c;\" x=\"1007.41479\" xlink:href=\"#C0_0_fba1e6e568\" y=\"367.971518\"/>\n    </g>\n    <g clip-path=\"url(#p44f3bba571)\">\n     <use style=\"fill:#440154;stroke:#440154;\" x=\"897.090032\" xlink:href=\"#C0_0_fba1e6e568\" y=\"425.134374\"/>\n    </g>\n    <g clip-path=\"url(#p44f3bba571)\">\n     <use style=\"fill:#440154;stroke:#440154;\" x=\"221.280641\" xlink:href=\"#C0_0_fba1e6e568\" y=\"124.44536\"/>\n    </g>\n    <g clip-path=\"url(#p44f3bba571)\">\n     <use style=\"fill:#fde725;stroke:#fde725;\" x=\"658.217163\" xlink:href=\"#C0_0_fba1e6e568\" y=\"107.085731\"/>\n    </g>\n    <g clip-path=\"url(#p44f3bba571)\">\n     <use style=\"fill:#440154;stroke:#440154;\" x=\"914.707896\" xlink:href=\"#C0_0_fba1e6e568\" y=\"326.487962\"/>\n    </g>\n    <g clip-path=\"url(#p44f3bba571)\">\n     <use style=\"fill:#21918c;stroke:#21918c;\" x=\"566.596167\" xlink:href=\"#C0_0_fba1e6e568\" y=\"436.774372\"/>\n    </g>\n    <g clip-path=\"url(#p44f3bba571)\">\n     <use style=\"fill:#21918c;stroke:#21918c;\" x=\"487.500155\" xlink:href=\"#C0_0_fba1e6e568\" y=\"372.836776\"/>\n    </g>\n    <g clip-path=\"url(#p44f3bba571)\">\n     <use style=\"fill:#21918c;stroke:#21918c;\" x=\"438.980196\" xlink:href=\"#C0_0_fba1e6e568\" y=\"451.986989\"/>\n    </g>\n    <g clip-path=\"url(#p44f3bba571)\">\n     <use style=\"fill:#440154;stroke:#440154;\" x=\"123.762822\" xlink:href=\"#C0_0_fba1e6e568\" y=\"300.838469\"/>\n    </g>\n    <g clip-path=\"url(#p44f3bba571)\">\n     <use style=\"fill:#fde725;stroke:#fde725;\" x=\"827.344372\" xlink:href=\"#C0_0_fba1e6e568\" y=\"175.01093\"/>\n    </g>\n    <g clip-path=\"url(#p44f3bba571)\">\n     <use style=\"fill:#fde725;stroke:#fde725;\" x=\"420.008375\" xlink:href=\"#C0_0_fba1e6e568\" y=\"265.082669\"/>\n    </g>\n    <g clip-path=\"url(#p44f3bba571)\">\n     <use style=\"fill:#440154;stroke:#440154;\" x=\"400.110619\" xlink:href=\"#C0_0_fba1e6e568\" y=\"221.595784\"/>\n    </g>\n    <g clip-path=\"url(#p44f3bba571)\">\n     <use style=\"fill:#440154;stroke:#440154;\" x=\"467.034518\" xlink:href=\"#C0_0_fba1e6e568\" y=\"329.675437\"/>\n    </g>\n    <g clip-path=\"url(#p44f3bba571)\">\n     <use style=\"fill:#440154;stroke:#440154;\" x=\"328.473296\" xlink:href=\"#C0_0_fba1e6e568\" y=\"143.297064\"/>\n    </g>\n    <g clip-path=\"url(#p44f3bba571)\">\n     <use style=\"fill:#440154;stroke:#440154;\" x=\"204.096631\" xlink:href=\"#C0_0_fba1e6e568\" y=\"300.330934\"/>\n    </g>\n    <g clip-path=\"url(#p44f3bba571)\">\n     <use style=\"fill:#fde725;stroke:#fde725;\" x=\"748.748784\" xlink:href=\"#C0_0_fba1e6e568\" y=\"93.393811\"/>\n    </g>\n    <g clip-path=\"url(#p44f3bba571)\">\n     <use style=\"fill:#21918c;stroke:#21918c;\" x=\"486.107286\" xlink:href=\"#C0_0_fba1e6e568\" y=\"500.638532\"/>\n    </g>\n    <g clip-path=\"url(#p44f3bba571)\">\n     <use style=\"fill:#440154;stroke:#440154;\" x=\"866.224918\" xlink:href=\"#C0_0_fba1e6e568\" y=\"336.997331\"/>\n    </g>\n    <g clip-path=\"url(#p44f3bba571)\">\n     <use style=\"fill:#21918c;stroke:#21918c;\" x=\"978.178502\" xlink:href=\"#C0_0_fba1e6e568\" y=\"391.490673\"/>\n    </g>\n    <g clip-path=\"url(#p44f3bba571)\">\n     <use style=\"fill:#440154;stroke:#440154;\" x=\"252.879189\" xlink:href=\"#C0_0_fba1e6e568\" y=\"164.419362\"/>\n    </g>\n    <g clip-path=\"url(#p44f3bba571)\">\n     <use style=\"fill:#fde725;stroke:#fde725;\" x=\"688.874182\" xlink:href=\"#C0_0_fba1e6e568\" y=\"157.152506\"/>\n    </g>\n    <g clip-path=\"url(#p44f3bba571)\">\n     <use style=\"fill:#21918c;stroke:#21918c;\" x=\"494.060247\" xlink:href=\"#C0_0_fba1e6e568\" y=\"353.5506\"/>\n    </g>\n    <g clip-path=\"url(#p44f3bba571)\">\n     <use style=\"fill:#fde725;stroke:#fde725;\" x=\"830.616813\" xlink:href=\"#C0_0_fba1e6e568\" y=\"140.533254\"/>\n    </g>\n    <g clip-path=\"url(#p44f3bba571)\">\n     <use style=\"fill:#fde725;stroke:#fde725;\" x=\"497.31975\" xlink:href=\"#C0_0_fba1e6e568\" y=\"215.088658\"/>\n    </g>\n    <g clip-path=\"url(#p44f3bba571)\">\n     <use style=\"fill:#440154;stroke:#440154;\" x=\"932.41685\" xlink:href=\"#C0_0_fba1e6e568\" y=\"342.842935\"/>\n    </g>\n    <g clip-path=\"url(#p44f3bba571)\">\n     <use style=\"fill:#440154;stroke:#440154;\" x=\"264.740071\" xlink:href=\"#C0_0_fba1e6e568\" y=\"49.136621\"/>\n    </g>\n    <g clip-path=\"url(#p44f3bba571)\">\n     <use style=\"fill:#21918c;stroke:#21918c;\" x=\"454.65328\" xlink:href=\"#C0_0_fba1e6e568\" y=\"439.741463\"/>\n    </g>\n    <g clip-path=\"url(#p44f3bba571)\">\n     <use style=\"fill:#440154;stroke:#440154;\" x=\"818.876697\" xlink:href=\"#C0_0_fba1e6e568\" y=\"357.748937\"/>\n    </g>\n    <g clip-path=\"url(#p44f3bba571)\">\n     <use style=\"fill:#fde725;stroke:#fde725;\" x=\"841.324604\" xlink:href=\"#C0_0_fba1e6e568\" y=\"98.005288\"/>\n    </g>\n    <g clip-path=\"url(#p44f3bba571)\">\n     <use style=\"fill:#21918c;stroke:#21918c;\" x=\"478.819294\" xlink:href=\"#C0_0_fba1e6e568\" y=\"468.271508\"/>\n    </g>\n    <g clip-path=\"url(#p44f3bba571)\">\n     <use style=\"fill:#fde725;stroke:#fde725;\" x=\"726.760988\" xlink:href=\"#C0_0_fba1e6e568\" y=\"199.54905\"/>\n    </g>\n    <g clip-path=\"url(#p44f3bba571)\">\n     <use style=\"fill:#fde725;stroke:#fde725;\" x=\"729.844561\" xlink:href=\"#C0_0_fba1e6e568\" y=\"126.650509\"/>\n    </g>\n    <g clip-path=\"url(#p44f3bba571)\">\n     <use style=\"fill:#fde725;stroke:#fde725;\" x=\"670.032213\" xlink:href=\"#C0_0_fba1e6e568\" y=\"165.344321\"/>\n    </g>\n    <g clip-path=\"url(#p44f3bba571)\">\n     <use style=\"fill:#fde725;stroke:#fde725;\" x=\"661.875972\" xlink:href=\"#C0_0_fba1e6e568\" y=\"152.35694\"/>\n    </g>\n    <g clip-path=\"url(#p44f3bba571)\">\n     <use style=\"fill:#21918c;stroke:#21918c;\" x=\"832.241366\" xlink:href=\"#C0_0_fba1e6e568\" y=\"399.114966\"/>\n    </g>\n    <g clip-path=\"url(#p44f3bba571)\">\n     <use style=\"fill:#440154;stroke:#440154;\" x=\"284.437095\" xlink:href=\"#C0_0_fba1e6e568\" y=\"186.918035\"/>\n    </g>\n    <g clip-path=\"url(#p44f3bba571)\">\n     <use style=\"fill:#440154;stroke:#440154;\" x=\"162.292157\" xlink:href=\"#C0_0_fba1e6e568\" y=\"290.170612\"/>\n    </g>\n    <g clip-path=\"url(#p44f3bba571)\">\n     <use style=\"fill:#440154;stroke:#440154;\" x=\"366.225385\" xlink:href=\"#C0_0_fba1e6e568\" y=\"416.056946\"/>\n    </g>\n    <g clip-path=\"url(#p44f3bba571)\">\n     <use style=\"fill:#440154;stroke:#440154;\" x=\"424.912851\" xlink:href=\"#C0_0_fba1e6e568\" y=\"132.106512\"/>\n    </g>\n    <g clip-path=\"url(#p44f3bba571)\">\n     <use style=\"fill:#440154;stroke:#440154;\" x=\"288.641062\" xlink:href=\"#C0_0_fba1e6e568\" y=\"203.44493\"/>\n    </g>\n    <g clip-path=\"url(#p44f3bba571)\">\n     <use style=\"fill:#fde725;stroke:#fde725;\" x=\"613.861204\" xlink:href=\"#C0_0_fba1e6e568\" y=\"196.537315\"/>\n    </g>\n    <g clip-path=\"url(#p44f3bba571)\">\n     <use style=\"fill:#21918c;stroke:#21918c;\" x=\"611.266128\" xlink:href=\"#C0_0_fba1e6e568\" y=\"407.065682\"/>\n    </g>\n    <g clip-path=\"url(#p44f3bba571)\">\n     <use style=\"fill:#fde725;stroke:#fde725;\" x=\"684.921804\" xlink:href=\"#C0_0_fba1e6e568\" y=\"128.834064\"/>\n    </g>\n    <g clip-path=\"url(#p44f3bba571)\">\n     <use style=\"fill:#fde725;stroke:#fde725;\" x=\"399.019714\" xlink:href=\"#C0_0_fba1e6e568\" y=\"237.072606\"/>\n    </g>\n    <g clip-path=\"url(#p44f3bba571)\">\n     <use style=\"fill:#fde725;stroke:#fde725;\" x=\"680.788184\" xlink:href=\"#C0_0_fba1e6e568\" y=\"144.87092\"/>\n    </g>\n    <g clip-path=\"url(#p44f3bba571)\">\n     <use style=\"fill:#21918c;stroke:#21918c;\" x=\"507.597371\" xlink:href=\"#C0_0_fba1e6e568\" y=\"332.230297\"/>\n    </g>\n    <g clip-path=\"url(#p44f3bba571)\">\n     <use style=\"fill:#440154;stroke:#440154;\" x=\"953.345729\" xlink:href=\"#C0_0_fba1e6e568\" y=\"417.083511\"/>\n    </g>\n    <g clip-path=\"url(#p44f3bba571)\">\n     <use style=\"fill:#21918c;stroke:#21918c;\" x=\"543.497125\" xlink:href=\"#C0_0_fba1e6e568\" y=\"384.166511\"/>\n    </g>\n    <g clip-path=\"url(#p44f3bba571)\">\n     <use style=\"fill:#fde725;stroke:#fde725;\" x=\"777.752885\" xlink:href=\"#C0_0_fba1e6e568\" y=\"145.993479\"/>\n    </g>\n    <g clip-path=\"url(#p44f3bba571)\">\n     <use style=\"fill:#440154;stroke:#440154;\" x=\"183.230153\" xlink:href=\"#C0_0_fba1e6e568\" y=\"163.056145\"/>\n    </g>\n    <g clip-path=\"url(#p44f3bba571)\">\n     <use style=\"fill:#440154;stroke:#440154;\" x=\"162.228477\" xlink:href=\"#C0_0_fba1e6e568\" y=\"156.539358\"/>\n    </g>\n    <g clip-path=\"url(#p44f3bba571)\">\n     <use style=\"fill:#21918c;stroke:#21918c;\" x=\"458.169063\" xlink:href=\"#C0_0_fba1e6e568\" y=\"488.198885\"/>\n    </g>\n    <g clip-path=\"url(#p44f3bba571)\">\n     <use style=\"fill:#21918c;stroke:#21918c;\" x=\"929.755286\" xlink:href=\"#C0_0_fba1e6e568\" y=\"362.26943\"/>\n    </g>\n    <g clip-path=\"url(#p44f3bba571)\">\n     <use style=\"fill:#21918c;stroke:#21918c;\" x=\"210.309954\" xlink:href=\"#C0_0_fba1e6e568\" y=\"127.702648\"/>\n    </g>\n    <g clip-path=\"url(#p44f3bba571)\">\n     <use style=\"fill:#21918c;stroke:#21918c;\" x=\"441.377684\" xlink:href=\"#C0_0_fba1e6e568\" y=\"82.641848\"/>\n    </g>\n    <g clip-path=\"url(#p44f3bba571)\">\n     <use style=\"fill:#21918c;stroke:#21918c;\" x=\"667.029117\" xlink:href=\"#C0_0_fba1e6e568\" y=\"522.333143\"/>\n    </g>\n    <g clip-path=\"url(#p44f3bba571)\">\n     <use style=\"fill:#21918c;stroke:#21918c;\" x=\"865.892867\" xlink:href=\"#C0_0_fba1e6e568\" y=\"360.724773\"/>\n    </g>\n    <g clip-path=\"url(#p44f3bba571)\">\n     <use style=\"fill:#440154;stroke:#440154;\" x=\"208.672601\" xlink:href=\"#C0_0_fba1e6e568\" y=\"251.085874\"/>\n    </g>\n    <g clip-path=\"url(#p44f3bba571)\">\n     <use style=\"fill:#fde725;stroke:#fde725;\" x=\"734.521369\" xlink:href=\"#C0_0_fba1e6e568\" y=\"95.42804\"/>\n    </g>\n    <g clip-path=\"url(#p44f3bba571)\">\n     <use style=\"fill:#440154;stroke:#440154;\" x=\"1095.044931\" xlink:href=\"#C0_0_fba1e6e568\" y=\"253.426908\"/>\n    </g>\n    <g clip-path=\"url(#p44f3bba571)\">\n     <use style=\"fill:#fde725;stroke:#fde725;\" x=\"865.300855\" xlink:href=\"#C0_0_fba1e6e568\" y=\"109.091732\"/>\n    </g>\n    <g clip-path=\"url(#p44f3bba571)\">\n     <use style=\"fill:#fde725;stroke:#fde725;\" x=\"902.108875\" xlink:href=\"#C0_0_fba1e6e568\" y=\"110.878197\"/>\n    </g>\n    <g clip-path=\"url(#p44f3bba571)\">\n     <use style=\"fill:#21918c;stroke:#21918c;\" x=\"517.73485\" xlink:href=\"#C0_0_fba1e6e568\" y=\"462.131192\"/>\n    </g>\n    <g clip-path=\"url(#p44f3bba571)\">\n     <use style=\"fill:#fde725;stroke:#fde725;\" x=\"815.713778\" xlink:href=\"#C0_0_fba1e6e568\" y=\"79.099398\"/>\n    </g>\n    <g clip-path=\"url(#p44f3bba571)\">\n     <use style=\"fill:#440154;stroke:#440154;\" x=\"361.225762\" xlink:href=\"#C0_0_fba1e6e568\" y=\"282.482037\"/>\n    </g>\n    <g clip-path=\"url(#p44f3bba571)\">\n     <use style=\"fill:#fde725;stroke:#fde725;\" x=\"705.477985\" xlink:href=\"#C0_0_fba1e6e568\" y=\"141.770478\"/>\n    </g>\n    <g clip-path=\"url(#p44f3bba571)\">\n     <use style=\"fill:#440154;stroke:#440154;\" x=\"803.759876\" xlink:href=\"#C0_0_fba1e6e568\" y=\"353.842843\"/>\n    </g>\n    <g clip-path=\"url(#p44f3bba571)\">\n     <use style=\"fill:#21918c;stroke:#21918c;\" x=\"479.231073\" xlink:href=\"#C0_0_fba1e6e568\" y=\"484.513805\"/>\n    </g>\n    <g clip-path=\"url(#p44f3bba571)\">\n     <use style=\"fill:#440154;stroke:#440154;\" x=\"106.571527\" xlink:href=\"#C0_0_fba1e6e568\" y=\"277.616465\"/>\n    </g>\n    <g clip-path=\"url(#p44f3bba571)\">\n     <use style=\"fill:#21918c;stroke:#21918c;\" x=\"640.5905\" xlink:href=\"#C0_0_fba1e6e568\" y=\"384.749434\"/>\n    </g>\n    <g clip-path=\"url(#p44f3bba571)\">\n     <use style=\"fill:#fde725;stroke:#fde725;\" x=\"648.927621\" xlink:href=\"#C0_0_fba1e6e568\" y=\"187.845739\"/>\n    </g>\n    <g clip-path=\"url(#p44f3bba571)\">\n     <use style=\"fill:#21918c;stroke:#21918c;\" x=\"660.272665\" xlink:href=\"#C0_0_fba1e6e568\" y=\"387.340053\"/>\n    </g>\n   </g>\n   <g id=\"matplotlib.axis_1\">\n    <g id=\"xtick_1\">\n     <g id=\"line2d_1\">\n      <defs>\n       <path d=\"M 0 0 \nL 0 3.5 \n\" id=\"mf14ba4984d\" style=\"stroke:#000000;stroke-width:0.8;\"/>\n      </defs>\n      <g>\n       <use style=\"stroke:#000000;stroke-width:0.8;\" x=\"204.026294\" xlink:href=\"#mf14ba4984d\" y=\"565.918125\"/>\n      </g>\n     </g>\n     <g id=\"text_1\">\n      <!-- −10 -->\n      <g transform=\"translate(193.473951 580.516562)scale(0.1 -0.1)\">\n       <defs>\n        <path d=\"M 10.59375 35.5 \nL 73.1875 35.5 \nL 73.1875 27.203125 \nL 10.59375 27.203125 \nz\n\" id=\"DejaVuSans-8722\"/>\n        <path d=\"M 12.40625 8.296875 \nL 28.515625 8.296875 \nL 28.515625 63.921875 \nL 10.984375 60.40625 \nL 10.984375 69.390625 \nL 28.421875 72.90625 \nL 38.28125 72.90625 \nL 38.28125 8.296875 \nL 54.390625 8.296875 \nL 54.390625 0 \nL 12.40625 0 \nz\n\" id=\"DejaVuSans-49\"/>\n        <path d=\"M 31.78125 66.40625 \nQ 24.171875 66.40625 20.328125 58.90625 \nQ 16.5 51.421875 16.5 36.375 \nQ 16.5 21.390625 20.328125 13.890625 \nQ 24.171875 6.390625 31.78125 6.390625 \nQ 39.453125 6.390625 43.28125 13.890625 \nQ 47.125 21.390625 47.125 36.375 \nQ 47.125 51.421875 43.28125 58.90625 \nQ 39.453125 66.40625 31.78125 66.40625 \nz\nM 31.78125 74.21875 \nQ 44.046875 74.21875 50.515625 64.515625 \nQ 56.984375 54.828125 56.984375 36.375 \nQ 56.984375 17.96875 50.515625 8.265625 \nQ 44.046875 -1.421875 31.78125 -1.421875 \nQ 19.53125 -1.421875 13.0625 8.265625 \nQ 6.59375 17.96875 6.59375 36.375 \nQ 6.59375 54.828125 13.0625 64.515625 \nQ 19.53125 74.21875 31.78125 74.21875 \nz\n\" id=\"DejaVuSans-48\"/>\n       </defs>\n       <use xlink:href=\"#DejaVuSans-8722\"/>\n       <use x=\"83.789062\" xlink:href=\"#DejaVuSans-49\"/>\n       <use x=\"147.412109\" xlink:href=\"#DejaVuSans-48\"/>\n      </g>\n     </g>\n    </g>\n    <g id=\"xtick_2\">\n     <g id=\"line2d_2\">\n      <g>\n       <use style=\"stroke:#000000;stroke-width:0.8;\" x=\"410.502211\" xlink:href=\"#mf14ba4984d\" y=\"565.918125\"/>\n      </g>\n     </g>\n     <g id=\"text_2\">\n      <!-- −5 -->\n      <g transform=\"translate(403.131118 580.516562)scale(0.1 -0.1)\">\n       <defs>\n        <path d=\"M 10.796875 72.90625 \nL 49.515625 72.90625 \nL 49.515625 64.59375 \nL 19.828125 64.59375 \nL 19.828125 46.734375 \nQ 21.96875 47.46875 24.109375 47.828125 \nQ 26.265625 48.1875 28.421875 48.1875 \nQ 40.625 48.1875 47.75 41.5 \nQ 54.890625 34.8125 54.890625 23.390625 \nQ 54.890625 11.625 47.5625 5.09375 \nQ 40.234375 -1.421875 26.90625 -1.421875 \nQ 22.3125 -1.421875 17.546875 -0.640625 \nQ 12.796875 0.140625 7.71875 1.703125 \nL 7.71875 11.625 \nQ 12.109375 9.234375 16.796875 8.0625 \nQ 21.484375 6.890625 26.703125 6.890625 \nQ 35.15625 6.890625 40.078125 11.328125 \nQ 45.015625 15.765625 45.015625 23.390625 \nQ 45.015625 31 40.078125 35.4375 \nQ 35.15625 39.890625 26.703125 39.890625 \nQ 22.75 39.890625 18.8125 39.015625 \nQ 14.890625 38.140625 10.796875 36.28125 \nz\n\" id=\"DejaVuSans-53\"/>\n       </defs>\n       <use xlink:href=\"#DejaVuSans-8722\"/>\n       <use x=\"83.789062\" xlink:href=\"#DejaVuSans-53\"/>\n      </g>\n     </g>\n    </g>\n    <g id=\"xtick_3\">\n     <g id=\"line2d_3\">\n      <g>\n       <use style=\"stroke:#000000;stroke-width:0.8;\" x=\"616.978128\" xlink:href=\"#mf14ba4984d\" y=\"565.918125\"/>\n      </g>\n     </g>\n     <g id=\"text_3\">\n      <!-- 0 -->\n      <g transform=\"translate(613.796878 580.516562)scale(0.1 -0.1)\">\n       <use xlink:href=\"#DejaVuSans-48\"/>\n      </g>\n     </g>\n    </g>\n    <g id=\"xtick_4\">\n     <g id=\"line2d_4\">\n      <g>\n       <use style=\"stroke:#000000;stroke-width:0.8;\" x=\"823.454045\" xlink:href=\"#mf14ba4984d\" y=\"565.918125\"/>\n      </g>\n     </g>\n     <g id=\"text_4\">\n      <!-- 5 -->\n      <g transform=\"translate(820.272795 580.516562)scale(0.1 -0.1)\">\n       <use xlink:href=\"#DejaVuSans-53\"/>\n      </g>\n     </g>\n    </g>\n    <g id=\"xtick_5\">\n     <g id=\"line2d_5\">\n      <g>\n       <use style=\"stroke:#000000;stroke-width:0.8;\" x=\"1029.929962\" xlink:href=\"#mf14ba4984d\" y=\"565.918125\"/>\n      </g>\n     </g>\n     <g id=\"text_5\">\n      <!-- 10 -->\n      <g transform=\"translate(1023.567462 580.516562)scale(0.1 -0.1)\">\n       <use xlink:href=\"#DejaVuSans-49\"/>\n       <use x=\"63.623047\" xlink:href=\"#DejaVuSans-48\"/>\n      </g>\n     </g>\n    </g>\n   </g>\n   <g id=\"matplotlib.axis_2\">\n    <g id=\"ytick_1\">\n     <g id=\"line2d_6\">\n      <defs>\n       <path d=\"M 0 0 \nL -3.5 0 \n\" id=\"m45075ddcc8\" style=\"stroke:#000000;stroke-width:0.8;\"/>\n      </defs>\n      <g>\n       <use style=\"stroke:#000000;stroke-width:0.8;\" x=\"35.304688\" xlink:href=\"#m45075ddcc8\" y=\"519.666605\"/>\n      </g>\n     </g>\n     <g id=\"text_6\">\n      <!-- −10 -->\n      <g transform=\"translate(7.2 523.465824)scale(0.1 -0.1)\">\n       <use xlink:href=\"#DejaVuSans-8722\"/>\n       <use x=\"83.789062\" xlink:href=\"#DejaVuSans-49\"/>\n       <use x=\"147.412109\" xlink:href=\"#DejaVuSans-48\"/>\n      </g>\n     </g>\n    </g>\n    <g id=\"ytick_2\">\n     <g id=\"line2d_7\">\n      <g>\n       <use style=\"stroke:#000000;stroke-width:0.8;\" x=\"35.304688\" xlink:href=\"#m45075ddcc8\" y=\"414.254065\"/>\n      </g>\n     </g>\n     <g id=\"text_7\">\n      <!-- −5 -->\n      <g transform=\"translate(13.5625 418.053284)scale(0.1 -0.1)\">\n       <use xlink:href=\"#DejaVuSans-8722\"/>\n       <use x=\"83.789062\" xlink:href=\"#DejaVuSans-53\"/>\n      </g>\n     </g>\n    </g>\n    <g id=\"ytick_3\">\n     <g id=\"line2d_8\">\n      <g>\n       <use style=\"stroke:#000000;stroke-width:0.8;\" x=\"35.304688\" xlink:href=\"#m45075ddcc8\" y=\"308.841526\"/>\n      </g>\n     </g>\n     <g id=\"text_8\">\n      <!-- 0 -->\n      <g transform=\"translate(21.942187 312.640744)scale(0.1 -0.1)\">\n       <use xlink:href=\"#DejaVuSans-48\"/>\n      </g>\n     </g>\n    </g>\n    <g id=\"ytick_4\">\n     <g id=\"line2d_9\">\n      <g>\n       <use style=\"stroke:#000000;stroke-width:0.8;\" x=\"35.304688\" xlink:href=\"#m45075ddcc8\" y=\"203.428986\"/>\n      </g>\n     </g>\n     <g id=\"text_9\">\n      <!-- 5 -->\n      <g transform=\"translate(21.942187 207.228205)scale(0.1 -0.1)\">\n       <use xlink:href=\"#DejaVuSans-53\"/>\n      </g>\n     </g>\n    </g>\n    <g id=\"ytick_5\">\n     <g id=\"line2d_10\">\n      <g>\n       <use style=\"stroke:#000000;stroke-width:0.8;\" x=\"35.304688\" xlink:href=\"#m45075ddcc8\" y=\"98.016446\"/>\n      </g>\n     </g>\n     <g id=\"text_10\">\n      <!-- 10 -->\n      <g transform=\"translate(15.579687 101.815665)scale(0.1 -0.1)\">\n       <use xlink:href=\"#DejaVuSans-49\"/>\n       <use x=\"63.623047\" xlink:href=\"#DejaVuSans-48\"/>\n      </g>\n     </g>\n    </g>\n   </g>\n   <g id=\"patch_3\">\n    <path d=\"M 35.304688 565.918125 \nL 35.304688 22.318125 \n\" style=\"fill:none;stroke:#000000;stroke-linecap:square;stroke-linejoin:miter;stroke-width:0.8;\"/>\n   </g>\n   <g id=\"patch_4\">\n    <path d=\"M 1151.304688 565.918125 \nL 1151.304688 22.318125 \n\" style=\"fill:none;stroke:#000000;stroke-linecap:square;stroke-linejoin:miter;stroke-width:0.8;\"/>\n   </g>\n   <g id=\"patch_5\">\n    <path d=\"M 35.304688 565.918125 \nL 1151.304688 565.918125 \n\" style=\"fill:none;stroke:#000000;stroke-linecap:square;stroke-linejoin:miter;stroke-width:0.8;\"/>\n   </g>\n   <g id=\"patch_6\">\n    <path d=\"M 35.304688 22.318125 \nL 1151.304688 22.318125 \n\" style=\"fill:none;stroke:#000000;stroke-linecap:square;stroke-linejoin:miter;stroke-width:0.8;\"/>\n   </g>\n   <g id=\"text_11\">\n    <!-- TSNE visualization -->\n    <g transform=\"translate(538.168437 16.318125)scale(0.12 -0.12)\">\n     <defs>\n      <path d=\"M -0.296875 72.90625 \nL 61.375 72.90625 \nL 61.375 64.59375 \nL 35.5 64.59375 \nL 35.5 0 \nL 25.59375 0 \nL 25.59375 64.59375 \nL -0.296875 64.59375 \nz\n\" id=\"DejaVuSans-84\"/>\n      <path d=\"M 53.515625 70.515625 \nL 53.515625 60.890625 \nQ 47.90625 63.578125 42.921875 64.890625 \nQ 37.9375 66.21875 33.296875 66.21875 \nQ 25.25 66.21875 20.875 63.09375 \nQ 16.5 59.96875 16.5 54.203125 \nQ 16.5 49.359375 19.40625 46.890625 \nQ 22.3125 44.4375 30.421875 42.921875 \nL 36.375 41.703125 \nQ 47.40625 39.59375 52.65625 34.296875 \nQ 57.90625 29 57.90625 20.125 \nQ 57.90625 9.515625 50.796875 4.046875 \nQ 43.703125 -1.421875 29.984375 -1.421875 \nQ 24.8125 -1.421875 18.96875 -0.25 \nQ 13.140625 0.921875 6.890625 3.21875 \nL 6.890625 13.375 \nQ 12.890625 10.015625 18.65625 8.296875 \nQ 24.421875 6.59375 29.984375 6.59375 \nQ 38.421875 6.59375 43.015625 9.90625 \nQ 47.609375 13.234375 47.609375 19.390625 \nQ 47.609375 24.75 44.3125 27.78125 \nQ 41.015625 30.8125 33.5 32.328125 \nL 27.484375 33.5 \nQ 16.453125 35.6875 11.515625 40.375 \nQ 6.59375 45.0625 6.59375 53.421875 \nQ 6.59375 63.09375 13.40625 68.65625 \nQ 20.21875 74.21875 32.171875 74.21875 \nQ 37.3125 74.21875 42.625 73.28125 \nQ 47.953125 72.359375 53.515625 70.515625 \nz\n\" id=\"DejaVuSans-83\"/>\n      <path d=\"M 9.8125 72.90625 \nL 23.09375 72.90625 \nL 55.421875 11.921875 \nL 55.421875 72.90625 \nL 64.984375 72.90625 \nL 64.984375 0 \nL 51.703125 0 \nL 19.390625 60.984375 \nL 19.390625 0 \nL 9.8125 0 \nz\n\" id=\"DejaVuSans-78\"/>\n      <path d=\"M 9.8125 72.90625 \nL 55.90625 72.90625 \nL 55.90625 64.59375 \nL 19.671875 64.59375 \nL 19.671875 43.015625 \nL 54.390625 43.015625 \nL 54.390625 34.71875 \nL 19.671875 34.71875 \nL 19.671875 8.296875 \nL 56.78125 8.296875 \nL 56.78125 0 \nL 9.8125 0 \nz\n\" id=\"DejaVuSans-69\"/>\n      <path id=\"DejaVuSans-32\"/>\n      <path d=\"M 2.984375 54.6875 \nL 12.5 54.6875 \nL 29.59375 8.796875 \nL 46.6875 54.6875 \nL 56.203125 54.6875 \nL 35.6875 0 \nL 23.484375 0 \nz\n\" id=\"DejaVuSans-118\"/>\n      <path d=\"M 9.421875 54.6875 \nL 18.40625 54.6875 \nL 18.40625 0 \nL 9.421875 0 \nz\nM 9.421875 75.984375 \nL 18.40625 75.984375 \nL 18.40625 64.59375 \nL 9.421875 64.59375 \nz\n\" id=\"DejaVuSans-105\"/>\n      <path d=\"M 44.28125 53.078125 \nL 44.28125 44.578125 \nQ 40.484375 46.53125 36.375 47.5 \nQ 32.28125 48.484375 27.875 48.484375 \nQ 21.1875 48.484375 17.84375 46.4375 \nQ 14.5 44.390625 14.5 40.28125 \nQ 14.5 37.15625 16.890625 35.375 \nQ 19.28125 33.59375 26.515625 31.984375 \nL 29.59375 31.296875 \nQ 39.15625 29.25 43.1875 25.515625 \nQ 47.21875 21.78125 47.21875 15.09375 \nQ 47.21875 7.46875 41.1875 3.015625 \nQ 35.15625 -1.421875 24.609375 -1.421875 \nQ 20.21875 -1.421875 15.453125 -0.5625 \nQ 10.6875 0.296875 5.421875 2 \nL 5.421875 11.28125 \nQ 10.40625 8.6875 15.234375 7.390625 \nQ 20.0625 6.109375 24.8125 6.109375 \nQ 31.15625 6.109375 34.5625 8.28125 \nQ 37.984375 10.453125 37.984375 14.40625 \nQ 37.984375 18.0625 35.515625 20.015625 \nQ 33.0625 21.96875 24.703125 23.78125 \nL 21.578125 24.515625 \nQ 13.234375 26.265625 9.515625 29.90625 \nQ 5.8125 33.546875 5.8125 39.890625 \nQ 5.8125 47.609375 11.28125 51.796875 \nQ 16.75 56 26.8125 56 \nQ 31.78125 56 36.171875 55.265625 \nQ 40.578125 54.546875 44.28125 53.078125 \nz\n\" id=\"DejaVuSans-115\"/>\n      <path d=\"M 8.5 21.578125 \nL 8.5 54.6875 \nL 17.484375 54.6875 \nL 17.484375 21.921875 \nQ 17.484375 14.15625 20.5 10.265625 \nQ 23.53125 6.390625 29.59375 6.390625 \nQ 36.859375 6.390625 41.078125 11.03125 \nQ 45.3125 15.671875 45.3125 23.6875 \nL 45.3125 54.6875 \nL 54.296875 54.6875 \nL 54.296875 0 \nL 45.3125 0 \nL 45.3125 8.40625 \nQ 42.046875 3.421875 37.71875 1 \nQ 33.40625 -1.421875 27.6875 -1.421875 \nQ 18.265625 -1.421875 13.375 4.4375 \nQ 8.5 10.296875 8.5 21.578125 \nz\nM 31.109375 56 \nz\n\" id=\"DejaVuSans-117\"/>\n      <path d=\"M 34.28125 27.484375 \nQ 23.390625 27.484375 19.1875 25 \nQ 14.984375 22.515625 14.984375 16.5 \nQ 14.984375 11.71875 18.140625 8.90625 \nQ 21.296875 6.109375 26.703125 6.109375 \nQ 34.1875 6.109375 38.703125 11.40625 \nQ 43.21875 16.703125 43.21875 25.484375 \nL 43.21875 27.484375 \nz\nM 52.203125 31.203125 \nL 52.203125 0 \nL 43.21875 0 \nL 43.21875 8.296875 \nQ 40.140625 3.328125 35.546875 0.953125 \nQ 30.953125 -1.421875 24.3125 -1.421875 \nQ 15.921875 -1.421875 10.953125 3.296875 \nQ 6 8.015625 6 15.921875 \nQ 6 25.140625 12.171875 29.828125 \nQ 18.359375 34.515625 30.609375 34.515625 \nL 43.21875 34.515625 \nL 43.21875 35.40625 \nQ 43.21875 41.609375 39.140625 45 \nQ 35.0625 48.390625 27.6875 48.390625 \nQ 23 48.390625 18.546875 47.265625 \nQ 14.109375 46.140625 10.015625 43.890625 \nL 10.015625 52.203125 \nQ 14.9375 54.109375 19.578125 55.046875 \nQ 24.21875 56 28.609375 56 \nQ 40.484375 56 46.34375 49.84375 \nQ 52.203125 43.703125 52.203125 31.203125 \nz\n\" id=\"DejaVuSans-97\"/>\n      <path d=\"M 9.421875 75.984375 \nL 18.40625 75.984375 \nL 18.40625 0 \nL 9.421875 0 \nz\n\" id=\"DejaVuSans-108\"/>\n      <path d=\"M 5.515625 54.6875 \nL 48.1875 54.6875 \nL 48.1875 46.484375 \nL 14.40625 7.171875 \nL 48.1875 7.171875 \nL 48.1875 0 \nL 4.296875 0 \nL 4.296875 8.203125 \nL 38.09375 47.515625 \nL 5.515625 47.515625 \nz\n\" id=\"DejaVuSans-122\"/>\n      <path d=\"M 18.3125 70.21875 \nL 18.3125 54.6875 \nL 36.8125 54.6875 \nL 36.8125 47.703125 \nL 18.3125 47.703125 \nL 18.3125 18.015625 \nQ 18.3125 11.328125 20.140625 9.421875 \nQ 21.96875 7.515625 27.59375 7.515625 \nL 36.8125 7.515625 \nL 36.8125 0 \nL 27.59375 0 \nQ 17.1875 0 13.234375 3.875 \nQ 9.28125 7.765625 9.28125 18.015625 \nL 9.28125 47.703125 \nL 2.6875 47.703125 \nL 2.6875 54.6875 \nL 9.28125 54.6875 \nL 9.28125 70.21875 \nz\n\" id=\"DejaVuSans-116\"/>\n      <path d=\"M 30.609375 48.390625 \nQ 23.390625 48.390625 19.1875 42.75 \nQ 14.984375 37.109375 14.984375 27.296875 \nQ 14.984375 17.484375 19.15625 11.84375 \nQ 23.34375 6.203125 30.609375 6.203125 \nQ 37.796875 6.203125 41.984375 11.859375 \nQ 46.1875 17.53125 46.1875 27.296875 \nQ 46.1875 37.015625 41.984375 42.703125 \nQ 37.796875 48.390625 30.609375 48.390625 \nz\nM 30.609375 56 \nQ 42.328125 56 49.015625 48.375 \nQ 55.71875 40.765625 55.71875 27.296875 \nQ 55.71875 13.875 49.015625 6.21875 \nQ 42.328125 -1.421875 30.609375 -1.421875 \nQ 18.84375 -1.421875 12.171875 6.21875 \nQ 5.515625 13.875 5.515625 27.296875 \nQ 5.515625 40.765625 12.171875 48.375 \nQ 18.84375 56 30.609375 56 \nz\n\" id=\"DejaVuSans-111\"/>\n      <path d=\"M 54.890625 33.015625 \nL 54.890625 0 \nL 45.90625 0 \nL 45.90625 32.71875 \nQ 45.90625 40.484375 42.875 44.328125 \nQ 39.84375 48.1875 33.796875 48.1875 \nQ 26.515625 48.1875 22.3125 43.546875 \nQ 18.109375 38.921875 18.109375 30.90625 \nL 18.109375 0 \nL 9.078125 0 \nL 9.078125 54.6875 \nL 18.109375 54.6875 \nL 18.109375 46.1875 \nQ 21.34375 51.125 25.703125 53.5625 \nQ 30.078125 56 35.796875 56 \nQ 45.21875 56 50.046875 50.171875 \nQ 54.890625 44.34375 54.890625 33.015625 \nz\n\" id=\"DejaVuSans-110\"/>\n     </defs>\n     <use xlink:href=\"#DejaVuSans-84\"/>\n     <use x=\"61.083984\" xlink:href=\"#DejaVuSans-83\"/>\n     <use x=\"124.560547\" xlink:href=\"#DejaVuSans-78\"/>\n     <use x=\"199.365234\" xlink:href=\"#DejaVuSans-69\"/>\n     <use x=\"262.548828\" xlink:href=\"#DejaVuSans-32\"/>\n     <use x=\"294.335938\" xlink:href=\"#DejaVuSans-118\"/>\n     <use x=\"353.515625\" xlink:href=\"#DejaVuSans-105\"/>\n     <use x=\"381.298828\" xlink:href=\"#DejaVuSans-115\"/>\n     <use x=\"433.398438\" xlink:href=\"#DejaVuSans-117\"/>\n     <use x=\"496.777344\" xlink:href=\"#DejaVuSans-97\"/>\n     <use x=\"558.056641\" xlink:href=\"#DejaVuSans-108\"/>\n     <use x=\"585.839844\" xlink:href=\"#DejaVuSans-105\"/>\n     <use x=\"613.623047\" xlink:href=\"#DejaVuSans-122\"/>\n     <use x=\"666.113281\" xlink:href=\"#DejaVuSans-97\"/>\n     <use x=\"727.392578\" xlink:href=\"#DejaVuSans-116\"/>\n     <use x=\"766.601562\" xlink:href=\"#DejaVuSans-105\"/>\n     <use x=\"794.384766\" xlink:href=\"#DejaVuSans-111\"/>\n     <use x=\"855.566406\" xlink:href=\"#DejaVuSans-110\"/>\n    </g>\n   </g>\n  </g>\n </g>\n <defs>\n  <clipPath id=\"p44f3bba571\">\n   <rect height=\"543.6\" width=\"1116\" x=\"35.304688\" y=\"22.318125\"/>\n  </clipPath>\n </defs>\n</svg>\n",
            "image/png": "[encoded data removed]"
          },
          "metadata": {
            "needs_background": "light"
          }
        }
      ]
    },
    {
      "cell_type": "markdown",
      "metadata": {
        "id": "3_HR5GjFpjik"
      },
      "source": [
        "*   What do you infer from the t-SNE plot?"
      ]
    },
    {
      "cell_type": "markdown",
      "metadata": {
        "id": "ueY9rvGBrVIc"
      },
      "source": [
        "**Solution**\n",
        "\n",
        "*(Double-click or enter to edit)*\n",
        "\n",
        "..."
      ]
    },
    {
      "cell_type": "markdown",
      "metadata": {
        "id": "eafGx0Hv9M6p"
      },
      "source": [
        "*   Compare the performance of both the BoVW models. Which model works better and why?"
      ]
    },
    {
      "cell_type": "markdown",
      "metadata": {
        "id": "U9SOuiKwiXkr"
      },
      "source": [
        "**Solution**\n",
        "\n",
        "*(Double-click or enter to edit)*\n",
        "\n",
        "..."
      ]
    },
    {
      "cell_type": "markdown",
      "metadata": {
        "id": "8BuiFGxPjDb1"
      },
      "source": [
        "*   Can the performance of pre-trained model increased further? If so, how?"
      ]
    },
    {
      "cell_type": "markdown",
      "metadata": {
        "id": "0kuJnOb9jE9r"
      },
      "source": [
        "**Solution**\n",
        "\n",
        "*(Double-click or enter to edit)*\n",
        "\n",
        "..."
      ]
    },
    {
      "cell_type": "markdown",
      "metadata": {
        "id": "NnN_t5Me7N5O"
      },
      "source": [
        "\n",
        "---\n",
        "\n",
        "## **End of P7: Image Classification using Bag of Visual Words**\n",
        "Deadline for P7 submission in CampusVirtual is: **Thursday, the 26th of November, 2020**"
      ]
    }
  ]
}