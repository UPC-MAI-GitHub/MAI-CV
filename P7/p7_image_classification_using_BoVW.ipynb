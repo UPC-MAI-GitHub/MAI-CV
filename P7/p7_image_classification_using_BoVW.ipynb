{
  "nbformat": 4,
  "nbformat_minor": 0,
  "metadata": {
    "colab": {
      "name": "p7_image_classification_using_BoVW.ipynb",
      "provenance": [],
      "collapsed_sections": []
    },
    "kernelspec": {
      "display_name": "Python 3.7.9 64-bit ('CV3.7': conda)",
      "name": "python37964bitcv37conda822813815bf14274ad28e4b3cd777506"
    }
  },
  "cells": [
    {
      "cell_type": "markdown",
      "metadata": {
        "id": "Sk0eYw8ojrFq"
      },
      "source": [
        "# Laboratory #07 : Image Classification using Bag of Visual Words\n",
        "\n",
        "At the end of this laboratory, you would get familiarized with\n",
        "\n",
        "*   Creating Bag of Visual Words\n",
        "    *   Feature Extraction\n",
        "    *   Codebook construction\n",
        "    *   Classification\n",
        "*   Using pre-trained deep networks for feature extraction\n",
        "\n",
        "**Remember this is a graded exercise.**\n",
        "\n",
        "*   For every plot, make sure you provide appropriate titles, axis labels, legends, wherever applicable.\n",
        "*   Create reusable functions where ever possible, so that the code could be reused at different places.\n",
        "*   Use will have to mount your drive if you need to access images.\n",
        "\n",
        "---"
      ]
    },
    {
      "cell_type": "code",
      "metadata": {
        "id": "aD5-E8PuaQ5P"
      },
      "source": [
        "# Loading necessary libraries (Feel free to add new libraries if you need for any computation)\n",
        "\n",
        "import os\n",
        "import numpy as np\n",
        "from tqdm import tqdm\n",
        "\n",
        "from sklearn.model_selection import train_test_split\n",
        "from skimage.feature import ORB\n",
        "from skimage.color import rgb2gray\n",
        "from skimage.io import imread\n",
        "from skimage import feature\n",
        "\n",
        "from matplotlib import pyplot as plt\n",
        "\n"
      ],
      "execution_count": 1,
      "outputs": []
    },
    {
      "cell_type": "code",
      "execution_count": 2,
      "metadata": {},
      "outputs": [],
      "source": [
        "def loadImage(imagePath, gray=False):\n",
        "    image = imread(imagePath)\n",
        "    if gray and len(image.shape) > 2:\n",
        "        image_gray = image\n",
        "        image_gray = rgb2gray(image_gray)\n",
        "        return image_gray\n",
        "    return image"
      ]
    },
    {
      "cell_type": "markdown",
      "metadata": {
        "id": "ampx9DIJiuGN"
      },
      "source": [
        "## Loading dataset\n",
        "\n",
        "We will use 3 categories from Caltech 101 objects dataset for this experiment. Upload the dataset to the drive and mount it."
      ]
    },
    {
      "cell_type": "code",
      "metadata": {
        "id": "PRSJP1XbG6-a"
      },
      "source": [
        "# modify the dataset variable with the path from your drive\n",
        "\n",
        "dataset_path = '.'"
      ],
      "execution_count": 3,
      "outputs": []
    },
    {
      "cell_type": "code",
      "metadata": {
        "id": "EQptvDX5AFem"
      },
      "source": [
        "# creating the list of files and corresponding labels\n",
        "\n",
        "data = []\n",
        "labels = []\n",
        "\n",
        "categories = ['butterfly', 'kangaroo', 'dalmatian']\n",
        "\n",
        "for idx, cat in enumerate(categories):\n",
        "    path = os.path.join(dataset_path, cat)\n",
        "    files_list = os.listdir(path)\n",
        "    for filename in files_list:\n",
        "        data.append(os.path.join(path, filename))\n",
        "        labels.append(idx)\n",
        "\n",
        "labels = np.array(labels)\n",
        "\n",
        "print('Total number of images:', len(data))"
      ],
      "execution_count": 4,
      "outputs": [
        {
          "output_type": "stream",
          "name": "stdout",
          "text": [
            "Total number of images: 244\n"
          ]
        }
      ]
    },
    {
      "cell_type": "code",
      "metadata": {
        "id": "QdA92ENTfKE-"
      },
      "source": [
        "ncl = len(categories) * 10"
      ],
      "execution_count": 5,
      "outputs": []
    },
    {
      "cell_type": "code",
      "metadata": {
        "id": "QzYnjzXBZXXt"
      },
      "source": [
        "# creating train test split\n",
        "\n",
        "\n",
        "\n",
        "x_train, x_test, y_train, y_test = train_test_split(data, labels, test_size=0.2, random_state=42)\n",
        "\n",
        "print('Train set:', len(x_train))\n",
        "print('Test set:', len(x_test))"
      ],
      "execution_count": 6,
      "outputs": [
        {
          "output_type": "stream",
          "name": "stdout",
          "text": [
            "Train set: 195\nTest set: 49\n"
          ]
        }
      ]
    },
    {
      "cell_type": "markdown",
      "metadata": {
        "id": "18OZf2kfkVNB"
      },
      "source": [
        "## Feature Extraction using ORB\n",
        "\n",
        "The first step is to extract descriptors for each image in our dataset. We will use ORB to extract descriptors.\n",
        "\n",
        "*   Create ORB detector with 64 keypoints.\n"
      ]
    },
    {
      "cell_type": "code",
      "metadata": {
        "id": "ptLbPcoow-ar"
      },
      "source": [
        "# solution\n",
        "\n",
        "orbExtractor = feature.ORB(n_keypoints=64)"
      ],
      "execution_count": 7,
      "outputs": []
    },
    {
      "cell_type": "markdown",
      "metadata": {
        "id": "3yinPkL8brow"
      },
      "source": [
        "*   Extract ORB descriptors from all the images in the train set.\n",
        "*   Note that, each patch would produce a descriptor of size (256,). So each image would return (N x 256) descriptors, where N is the number of keypoints."
      ]
    },
    {
      "cell_type": "code",
      "execution_count": 8,
      "metadata": {},
      "outputs": [
        {
          "output_type": "stream",
          "name": "stderr",
          "text": [
            "100%|██████████| 195/195 [00:42<00:00,  4.60it/s]\n"
          ]
        }
      ],
      "source": [
        "# solution\n",
        "x_trainOrb = []\n",
        "for imagePath in tqdm(x_train):\n",
        "    image = loadImage(imagePath, gray=True)\n",
        "    orbExtractor.detect_and_extract(image)\n",
        "    x_trainOrb.append(orbExtractor.descriptors)"
      ]
    },
    {
      "cell_type": "code",
      "metadata": {
        "id": "XYo0GYeOxeHM"
      },
      "source": [
        "# solution\n",
        "print(\"number of images: \", len(x_trainOrb))\n",
        "print(\"shape of features extracted: \", x_trainOrb[0].shape)\n",
        "assert x_trainOrb[0].shape == (64, 256)"
      ],
      "execution_count": 9,
      "outputs": [
        {
          "output_type": "stream",
          "name": "stdout",
          "text": [
            "number of images:  195\nshape of features extracted:  (64, 256)\n"
          ]
        }
      ]
    },
    {
      "cell_type": "markdown",
      "metadata": {
        "id": "420YQkAzleTQ"
      },
      "source": [
        "## Codebook Construction\n",
        "\n",
        "Codewords are nothing but vector representation of similar patches. This codeword produces a codebook similar to a word dictionary. We will create the codebook using K-Means algorithm\n",
        "\n",
        "*   Create a codebook using K-Means with k=number_of_classes*10\n",
        "*   Hint: Use sklearn.cluster.MiniBatchKMeans for K-Means"
      ]
    },
    {
      "cell_type": "code",
      "metadata": {
        "id": "UJSBg-QCd--0"
      },
      "source": [
        "from sklearn.cluster import MiniBatchKMeans"
      ],
      "execution_count": 10,
      "outputs": []
    },
    {
      "cell_type": "code",
      "metadata": {
        "id": "iO0e4718ppJt"
      },
      "source": [
        "# solution\n",
        "descriptors = np.vstack(x_trainOrb)\n",
        "k = len(np.unique(labels))*10\n",
        "clustering = MiniBatchKMeans(n_clusters=k)\n",
        "klabels = clustering.fit_predict(descriptors)"
      ],
      "execution_count": 11,
      "outputs": []
    },
    {
      "cell_type": "markdown",
      "metadata": {
        "id": "0GAD_JuNpqMt"
      },
      "source": [
        "*   Create a histogram using the cluster centers for each image descriptor.\n",
        "    *   Remember the histogram would be of size *n_images x n_clusters*.\n",
        "    *   Calculate the histogram and divide by the feature length to normalize"
      ]
    },
    {
      "cell_type": "code",
      "metadata": {
        "id": "SR0_9HnbDFBe",
        "tags": []
      },
      "source": [
        "# solution\n",
        "klabels_img = klabels.reshape(-1, 64)\n",
        "cluster_histograms = []\n",
        "for image_labels in klabels_img:\n",
        "    hist, _ = np.histogram(image_labels, bins=k)\n",
        "    hist = hist / image_labels.shape[0]\n",
        "    cluster_histograms.append(hist)\n",
        "dictionary = np.vstack(cluster_histograms)\n",
        "dictionary.shape"
      ],
      "execution_count": 12,
      "outputs": [
        {
          "output_type": "execute_result",
          "data": {
            "text/plain": [
              "(195, 30)"
            ]
          },
          "metadata": {},
          "execution_count": 12
        }
      ]
    },
    {
      "cell_type": "markdown",
      "metadata": {
        "id": "jmRO7dfLjgZa"
      },
      "source": [
        "\n",
        "# Creating Classification Model\n",
        "\n",
        "*   The next step is to create a classification model. We will use a C-Support Vector Classification for creating the model.\n",
        "\n"
      ]
    },
    {
      "cell_type": "code",
      "metadata": {
        "id": "K7VTBz1Oimtz"
      },
      "source": [
        "from sklearn.svm import SVC\n",
        "from sklearn.model_selection import GridSearchCV"
      ],
      "execution_count": 13,
      "outputs": []
    },
    {
      "cell_type": "code",
      "metadata": {
        "id": "IjFFpykV-GOI"
      },
      "source": [
        "# note the usage of grid search to select the best parameters\n",
        "\n",
        "gammas = np.logspace(-6, -1, 10)\n",
        "C = np.array([0.5, 1, 2, 4, 8, 10, 15, 20, 50, 100, 200, 375, 500, 1000])\n",
        "\n",
        "svc = SVC(decision_function_shape='ovr')\n",
        "\n",
        "clf = GridSearchCV(estimator=svc, param_grid=dict(gamma=gammas, C=C), n_jobs=-1)\n",
        "\n",
        "clf.fit(dictionary, y_train)\n",
        "\n",
        "print('Best accuracy:', clf.best_score_) \n",
        "print('The best value of gamma:', clf.best_estimator_.gamma)\n",
        "print('The best value of C:', clf.best_estimator_.C)"
      ],
      "execution_count": 14,
      "outputs": [
        {
          "output_type": "stream",
          "name": "stdout",
          "text": [
            "Best accuracy: 0.5435897435897437\nThe best value of gamma: 0.007742636826811277\nThe best value of C: 500.0\n"
          ]
        }
      ]
    },
    {
      "cell_type": "markdown",
      "metadata": {
        "id": "eqThTmO5j1-p"
      },
      "source": [
        "# Testing the Classification Model\n",
        "\n",
        "*   Extract descriptors using ORB for the test split\n",
        "*   Use the previously trained k-means to generate the histogram\n",
        "*   Use the classifier to predict the label\n"
      ]
    },
    {
      "cell_type": "code",
      "metadata": {
        "id": "gVl3FzQWgv54"
      },
      "source": [
        "from sklearn.metrics import accuracy_score\n",
        "from sklearn.metrics import confusion_matrix"
      ],
      "execution_count": 15,
      "outputs": []
    },
    {
      "cell_type": "code",
      "metadata": {
        "id": "x2Gzbww9e0pP"
      },
      "source": [
        "# solution\n",
        "x_testOrb = []\n",
        "for imagePath in tqdm(x_test):\n",
        "    image = loadImage(imagePath, gray=True)\n",
        "    orbExtractor.detect_and_extract(image)\n",
        "    x_testOrb.append(orbExtractor.descriptors)"
      ],
      "execution_count": 16,
      "outputs": [
        {
          "output_type": "stream",
          "name": "stderr",
          "text": [
            "100%|██████████| 49/49 [00:11<00:00,  4.39it/s]\n"
          ]
        }
      ]
    },
    {
      "cell_type": "code",
      "execution_count": 17,
      "metadata": {},
      "outputs": [],
      "source": [
        "testklabels = clustering.predict(np.vstack(x_testOrb))"
      ]
    },
    {
      "cell_type": "code",
      "execution_count": 18,
      "metadata": {},
      "outputs": [
        {
          "output_type": "stream",
          "name": "stdout",
          "text": [
            "(49, 64)\n"
          ]
        },
        {
          "output_type": "execute_result",
          "data": {
            "text/plain": [
              "(49, 30)"
            ]
          },
          "metadata": {},
          "execution_count": 18
        }
      ],
      "source": [
        "klabels_test_img = testklabels.reshape(-1, 64)\n",
        "print(klabels_test_img.shape)\n",
        "test_cluster_histograms = []\n",
        "for image_labels in klabels_test_img:\n",
        "    hist, _ = np.histogram(image_labels, bins=k)\n",
        "    hist = hist / image_labels.shape[0]\n",
        "    test_cluster_histograms.append(hist)\n",
        "testdictionary = np.vstack(test_cluster_histograms)\n",
        "testdictionary.shape"
      ]
    },
    {
      "cell_type": "code",
      "execution_count": 19,
      "metadata": {},
      "outputs": [],
      "source": [
        "predicted_labels = clf.predict(testdictionary)"
      ]
    },
    {
      "cell_type": "code",
      "execution_count": 20,
      "metadata": {},
      "outputs": [
        {
          "output_type": "stream",
          "name": "stdout",
          "text": [
            "(49,)\n(49,)\n"
          ]
        }
      ],
      "source": [
        "print(predicted_labels.shape)\n",
        "print(y_test.shape)"
      ]
    },
    {
      "cell_type": "markdown",
      "metadata": {
        "id": "gGyQUtU3lAEz"
      },
      "source": [
        "*   Calculate the accuracy score for the classification model"
      ]
    },
    {
      "cell_type": "code",
      "metadata": {
        "id": "PszxSB0Ek_Lt"
      },
      "source": [
        "# solution\n",
        "print(confusion_matrix(predicted_labels, y_test))\n",
        "print(f\"Classification accuracy: {100*accuracy_score(predicted_labels, y_test):.2f}%\")\n"
      ],
      "execution_count": 38,
      "outputs": [
        {
          "output_type": "stream",
          "name": "stdout",
          "text": [
            "[[10  3  4]\n [ 8 15  3]\n [ 1  0  5]]\nClassification accuracy: 61.22%\n"
          ]
        }
      ]
    },
    {
      "cell_type": "markdown",
      "metadata": {
        "id": "7TN4rRra9yv_"
      },
      "source": [
        "*   Why do we use Clustering to create the codebook? \n",
        "*   What are the other techniques that can be used to create the codebook?"
      ]
    },
    {
      "cell_type": "markdown",
      "metadata": {
        "id": "Ri9kU3wa3Rei"
      },
      "source": [
        "**Solution**\n",
        "\n",
        "*(Double-click or enter to edit)*\n",
        "\n",
        "..."
      ]
    },
    {
      "cell_type": "markdown",
      "metadata": {
        "id": "K-8E3dBw8Zoa"
      },
      "source": [
        "# Extracting features from Deep Network\n",
        "\n",
        "It is quite possible to extract features (similar to SIFT or ORB) from different layers of deep network.\n",
        "\n",
        "*   Load ResNet50 model with imagenet weights and check the summary of the model\n",
        "*   Create a model to extract features from the 'avg_pool' layer.\n",
        "*   Extract features from the layer for all the train images."
      ]
    },
    {
      "cell_type": "code",
      "metadata": {
        "id": "xbDjklM3l0uq"
      },
      "source": [
        "from tensorflow.keras.applications import ResNet50"
      ],
      "execution_count": 22,
      "outputs": []
    },
    {
      "cell_type": "code",
      "metadata": {
        "id": "89QGrzE5l7gu"
      },
      "source": [
        "# solution\n",
        "\n"
      ],
      "execution_count": 23,
      "outputs": []
    },
    {
      "cell_type": "code",
      "metadata": {
        "id": "EJ83bPO3mO16"
      },
      "source": [
        "# solution\n",
        "\n"
      ],
      "execution_count": 24,
      "outputs": []
    },
    {
      "cell_type": "markdown",
      "metadata": {
        "id": "GkEprqtK87q2"
      },
      "source": [
        "*   Create codebook using the extracted features"
      ]
    },
    {
      "cell_type": "code",
      "metadata": {
        "id": "5crz4gBz9CQF"
      },
      "source": [
        "# solution\n",
        "\n"
      ],
      "execution_count": 25,
      "outputs": []
    },
    {
      "cell_type": "code",
      "metadata": {
        "id": "4cD28JWOFm2w"
      },
      "source": [
        "# solution\n",
        "\n"
      ],
      "execution_count": 26,
      "outputs": []
    },
    {
      "cell_type": "code",
      "metadata": {
        "id": "Bjax5E3gFxiF"
      },
      "source": [
        "# solution\n",
        "\n"
      ],
      "execution_count": 27,
      "outputs": []
    },
    {
      "cell_type": "markdown",
      "metadata": {
        "id": "K_RB2vPl9CzB"
      },
      "source": [
        "*   Train SVM classifier using the codebook"
      ]
    },
    {
      "cell_type": "code",
      "metadata": {
        "id": "5oKk_Wzz9HLf"
      },
      "source": [
        "gammas = np.logspace(-6, -1, 10)\n",
        "C = np.array([0.5, 1, 2, 4, 8, 10, 15, 20, 50, 100, 200, 375, 500, 1000])\n",
        "\n",
        "svc = SVC(decision_function_shape='ovr')\n",
        "\n",
        "clf = GridSearchCV(estimator=svc, param_grid=dict(gamma=gammas, C=C), n_jobs=-1)\n",
        "\n",
        "clf.fit(dictionary, y_train)\n",
        "\n",
        "print('Best accuracy:', clf.best_score_) \n",
        "print('The best value of gamma:', clf.best_estimator_.gamma)\n",
        "print('The best value of C:', clf.best_estimator_.C)"
      ],
      "execution_count": 28,
      "outputs": [
        {
          "output_type": "stream",
          "name": "stdout",
          "text": [
            "Best accuracy: 0.5435897435897437\nThe best value of gamma: 0.007742636826811277\nThe best value of C: 500.0\n"
          ]
        }
      ]
    },
    {
      "cell_type": "markdown",
      "metadata": {
        "id": "ym0XesGL9Hrc"
      },
      "source": [
        "*   Evaluate the test set using the above method"
      ]
    },
    {
      "cell_type": "code",
      "metadata": {
        "id": "NM6LIynq9Ma1"
      },
      "source": [
        "# solution\n",
        "\n"
      ],
      "execution_count": 29,
      "outputs": []
    },
    {
      "cell_type": "markdown",
      "metadata": {
        "id": "d-OnKf-ti_vy"
      },
      "source": [
        "*   Calculate the accuracy score for the classification model"
      ]
    },
    {
      "cell_type": "code",
      "metadata": {
        "id": "upqdRQUoGC94"
      },
      "source": [
        "# solution\n",
        "\n"
      ],
      "execution_count": 30,
      "outputs": []
    },
    {
      "cell_type": "markdown",
      "metadata": {
        "id": "DjL0oQCumkrV"
      },
      "source": [
        "## t-distributed Stochastic Neighbor Embedding.\n",
        "\n",
        "In order to visualize the features of a higher dimension data, t-SNE is used. t-SNE converts the affinities of the data points to probabilities. It recreates the probability distribution in a low-dimensional space. It is very helpful in visualizing features of different layers in a neural network.\n",
        "\n",
        "You can find more information about t-SNE [here](https://scikit-learn.org/stable/modules/manifold.html#t-distributed-stochastic-neighbor-embedding-t-sne)"
      ]
    },
    {
      "cell_type": "code",
      "metadata": {
        "id": "6ahIG1fulhW9"
      },
      "source": [
        "from sklearn.manifold import TSNE\n",
        "\n",
        "model = TSNE(n_components=2, random_state=0)\n",
        "\n",
        "np.set_printoptions(suppress=True)\n",
        "\n",
        "low_embedding = model.fit_transform(dictionary) \n",
        "\n",
        "plt.figure(figsize=(20,10))\n",
        "plt.scatter(low_embedding[:, 0], low_embedding[:, 1], c=y_train)\n",
        "plt.title(\"TSNE visualization\")\n",
        "plt.show()"
      ],
      "execution_count": 31,
      "outputs": [
        {
          "output_type": "display_data",
          "data": {
            "text/plain": "<Figure size 1440x720 with 1 Axes>",
            "image/svg+xml": "<?xml version=\"1.0\" encoding=\"utf-8\" standalone=\"no\"?>\n<!DOCTYPE svg PUBLIC \"-//W3C//DTD SVG 1.1//EN\"\n  \"http://www.w3.org/Graphics/SVG/1.1/DTD/svg11.dtd\">\n<!-- Created with matplotlib (https://matplotlib.org/) -->\n<svg height=\"589.79625pt\" version=\"1.1\" viewBox=\"0 0 1168.045313 589.79625\" width=\"1168.045313pt\" xmlns=\"http://www.w3.org/2000/svg\" xmlns:xlink=\"http://www.w3.org/1999/xlink\">\n <metadata>\n  <rdf:RDF xmlns:cc=\"http://creativecommons.org/ns#\" xmlns:dc=\"http://purl.org/dc/elements/1.1/\" xmlns:rdf=\"http://www.w3.org/1999/02/22-rdf-syntax-ns#\">\n   <cc:Work>\n    <dc:type rdf:resource=\"http://purl.org/dc/dcmitype/StillImage\"/>\n    <dc:date>2020-11-22T12:45:19.591834</dc:date>\n    <dc:format>image/svg+xml</dc:format>\n    <dc:creator>\n     <cc:Agent>\n      <dc:title>Matplotlib v3.3.2, https://matplotlib.org/</dc:title>\n     </cc:Agent>\n    </dc:creator>\n   </cc:Work>\n  </rdf:RDF>\n </metadata>\n <defs>\n  <style type=\"text/css\">*{stroke-linecap:butt;stroke-linejoin:round;}</style>\n </defs>\n <g id=\"figure_1\">\n  <g id=\"patch_1\">\n   <path d=\"M 0 589.79625 \nL 1168.045313 589.79625 \nL 1168.045313 0 \nL 0 0 \nz\n\" style=\"fill:none;\"/>\n  </g>\n  <g id=\"axes_1\">\n   <g id=\"patch_2\">\n    <path d=\"M 44.845313 565.918125 \nL 1160.845313 565.918125 \nL 1160.845313 22.318125 \nL 44.845313 22.318125 \nz\n\" style=\"fill:#ffffff;\"/>\n   </g>\n   <g id=\"PathCollection_1\">\n    <defs>\n     <path d=\"M 0 3 \nC 0.795609 3 1.55874 2.683901 2.12132 2.12132 \nC 2.683901 1.55874 3 0.795609 3 -0 \nC 3 -0.795609 2.683901 -1.55874 2.12132 -2.12132 \nC 1.55874 -2.683901 0.795609 -3 0 -3 \nC -0.795609 -3 -1.55874 -2.683901 -2.12132 -2.12132 \nC -2.683901 -1.55874 -3 -0.795609 -3 0 \nC -3 0.795609 -2.683901 1.55874 -2.12132 2.12132 \nC -1.55874 2.683901 -0.795609 3 0 3 \nz\n\" id=\"C0_0_6a1c330815\"/>\n    </defs>\n    <g clip-path=\"url(#p0dd6970e85)\">\n     <use style=\"fill:#fde725;stroke:#fde725;\" x=\"864.968824\" xlink:href=\"#C0_0_6a1c330815\" y=\"363.881093\"/>\n    </g>\n    <g clip-path=\"url(#p0dd6970e85)\">\n     <use style=\"fill:#fde725;stroke:#fde725;\" x=\"971.190098\" xlink:href=\"#C0_0_6a1c330815\" y=\"91.267592\"/>\n    </g>\n    <g clip-path=\"url(#p0dd6970e85)\">\n     <use style=\"fill:#21918c;stroke:#21918c;\" x=\"726.130781\" xlink:href=\"#C0_0_6a1c330815\" y=\"376.993835\"/>\n    </g>\n    <g clip-path=\"url(#p0dd6970e85)\">\n     <use style=\"fill:#21918c;stroke:#21918c;\" x=\"404.210392\" xlink:href=\"#C0_0_6a1c330815\" y=\"400.211361\"/>\n    </g>\n    <g clip-path=\"url(#p0dd6970e85)\">\n     <use style=\"fill:#440154;stroke:#440154;\" x=\"850.349969\" xlink:href=\"#C0_0_6a1c330815\" y=\"195.223856\"/>\n    </g>\n    <g clip-path=\"url(#p0dd6970e85)\">\n     <use style=\"fill:#440154;stroke:#440154;\" x=\"911.102202\" xlink:href=\"#C0_0_6a1c330815\" y=\"197.394033\"/>\n    </g>\n    <g clip-path=\"url(#p0dd6970e85)\">\n     <use style=\"fill:#440154;stroke:#440154;\" x=\"175.874575\" xlink:href=\"#C0_0_6a1c330815\" y=\"162.457628\"/>\n    </g>\n    <g clip-path=\"url(#p0dd6970e85)\">\n     <use style=\"fill:#21918c;stroke:#21918c;\" x=\"390.296903\" xlink:href=\"#C0_0_6a1c330815\" y=\"336.945677\"/>\n    </g>\n    <g clip-path=\"url(#p0dd6970e85)\">\n     <use style=\"fill:#fde725;stroke:#fde725;\" x=\"805.101307\" xlink:href=\"#C0_0_6a1c330815\" y=\"353.368291\"/>\n    </g>\n    <g clip-path=\"url(#p0dd6970e85)\">\n     <use style=\"fill:#21918c;stroke:#21918c;\" x=\"340.96422\" xlink:href=\"#C0_0_6a1c330815\" y=\"280.544793\"/>\n    </g>\n    <g clip-path=\"url(#p0dd6970e85)\">\n     <use style=\"fill:#fde725;stroke:#fde725;\" x=\"314.104303\" xlink:href=\"#C0_0_6a1c330815\" y=\"413.310252\"/>\n    </g>\n    <g clip-path=\"url(#p0dd6970e85)\">\n     <use style=\"fill:#21918c;stroke:#21918c;\" x=\"642.112092\" xlink:href=\"#C0_0_6a1c330815\" y=\"370.477183\"/>\n    </g>\n    <g clip-path=\"url(#p0dd6970e85)\">\n     <use style=\"fill:#21918c;stroke:#21918c;\" x=\"1033.320573\" xlink:href=\"#C0_0_6a1c330815\" y=\"225.264038\"/>\n    </g>\n    <g clip-path=\"url(#p0dd6970e85)\">\n     <use style=\"fill:#fde725;stroke:#fde725;\" x=\"190.862223\" xlink:href=\"#C0_0_6a1c330815\" y=\"445.954577\"/>\n    </g>\n    <g clip-path=\"url(#p0dd6970e85)\">\n     <use style=\"fill:#fde725;stroke:#fde725;\" x=\"488.448827\" xlink:href=\"#C0_0_6a1c330815\" y=\"435.250632\"/>\n    </g>\n    <g clip-path=\"url(#p0dd6970e85)\">\n     <use style=\"fill:#440154;stroke:#440154;\" x=\"773.397609\" xlink:href=\"#C0_0_6a1c330815\" y=\"303.267386\"/>\n    </g>\n    <g clip-path=\"url(#p0dd6970e85)\">\n     <use style=\"fill:#21918c;stroke:#21918c;\" x=\"477.17858\" xlink:href=\"#C0_0_6a1c330815\" y=\"171.996912\"/>\n    </g>\n    <g clip-path=\"url(#p0dd6970e85)\">\n     <use style=\"fill:#440154;stroke:#440154;\" x=\"241.84331\" xlink:href=\"#C0_0_6a1c330815\" y=\"191.14083\"/>\n    </g>\n    <g clip-path=\"url(#p0dd6970e85)\">\n     <use style=\"fill:#21918c;stroke:#21918c;\" x=\"513.448778\" xlink:href=\"#C0_0_6a1c330815\" y=\"501.690823\"/>\n    </g>\n    <g clip-path=\"url(#p0dd6970e85)\">\n     <use style=\"fill:#fde725;stroke:#fde725;\" x=\"885.944065\" xlink:href=\"#C0_0_6a1c330815\" y=\"288.356856\"/>\n    </g>\n    <g clip-path=\"url(#p0dd6970e85)\">\n     <use style=\"fill:#21918c;stroke:#21918c;\" x=\"497.042152\" xlink:href=\"#C0_0_6a1c330815\" y=\"76.582226\"/>\n    </g>\n    <g clip-path=\"url(#p0dd6970e85)\">\n     <use style=\"fill:#21918c;stroke:#21918c;\" x=\"286.248524\" xlink:href=\"#C0_0_6a1c330815\" y=\"468.946866\"/>\n    </g>\n    <g clip-path=\"url(#p0dd6970e85)\">\n     <use style=\"fill:#fde725;stroke:#fde725;\" x=\"882.519422\" xlink:href=\"#C0_0_6a1c330815\" y=\"83.695408\"/>\n    </g>\n    <g clip-path=\"url(#p0dd6970e85)\">\n     <use style=\"fill:#440154;stroke:#440154;\" x=\"603.575113\" xlink:href=\"#C0_0_6a1c330815\" y=\"150.230236\"/>\n    </g>\n    <g clip-path=\"url(#p0dd6970e85)\">\n     <use style=\"fill:#440154;stroke:#440154;\" x=\"488.866683\" xlink:href=\"#C0_0_6a1c330815\" y=\"293.844746\"/>\n    </g>\n    <g clip-path=\"url(#p0dd6970e85)\">\n     <use style=\"fill:#fde725;stroke:#fde725;\" x=\"543.416131\" xlink:href=\"#C0_0_6a1c330815\" y=\"446.743128\"/>\n    </g>\n    <g clip-path=\"url(#p0dd6970e85)\">\n     <use style=\"fill:#fde725;stroke:#fde725;\" x=\"564.374964\" xlink:href=\"#C0_0_6a1c330815\" y=\"358.973169\"/>\n    </g>\n    <g clip-path=\"url(#p0dd6970e85)\">\n     <use style=\"fill:#fde725;stroke:#fde725;\" x=\"136.949931\" xlink:href=\"#C0_0_6a1c330815\" y=\"319.04209\"/>\n    </g>\n    <g clip-path=\"url(#p0dd6970e85)\">\n     <use style=\"fill:#440154;stroke:#440154;\" x=\"686.65541\" xlink:href=\"#C0_0_6a1c330815\" y=\"165.708294\"/>\n    </g>\n    <g clip-path=\"url(#p0dd6970e85)\">\n     <use style=\"fill:#440154;stroke:#440154;\" x=\"258.534186\" xlink:href=\"#C0_0_6a1c330815\" y=\"414.309006\"/>\n    </g>\n    <g clip-path=\"url(#p0dd6970e85)\">\n     <use style=\"fill:#21918c;stroke:#21918c;\" x=\"433.46333\" xlink:href=\"#C0_0_6a1c330815\" y=\"378.245987\"/>\n    </g>\n    <g clip-path=\"url(#p0dd6970e85)\">\n     <use style=\"fill:#21918c;stroke:#21918c;\" x=\"468.366282\" xlink:href=\"#C0_0_6a1c330815\" y=\"47.027216\"/>\n    </g>\n    <g clip-path=\"url(#p0dd6970e85)\">\n     <use style=\"fill:#21918c;stroke:#21918c;\" x=\"1026.544329\" xlink:href=\"#C0_0_6a1c330815\" y=\"218.197243\"/>\n    </g>\n    <g clip-path=\"url(#p0dd6970e85)\">\n     <use style=\"fill:#440154;stroke:#440154;\" x=\"529.355337\" xlink:href=\"#C0_0_6a1c330815\" y=\"307.874465\"/>\n    </g>\n    <g clip-path=\"url(#p0dd6970e85)\">\n     <use style=\"fill:#21918c;stroke:#21918c;\" x=\"325.172587\" xlink:href=\"#C0_0_6a1c330815\" y=\"102.925531\"/>\n    </g>\n    <g clip-path=\"url(#p0dd6970e85)\">\n     <use style=\"fill:#fde725;stroke:#fde725;\" x=\"795.497283\" xlink:href=\"#C0_0_6a1c330815\" y=\"370.968587\"/>\n    </g>\n    <g clip-path=\"url(#p0dd6970e85)\">\n     <use style=\"fill:#21918c;stroke:#21918c;\" x=\"627.549012\" xlink:href=\"#C0_0_6a1c330815\" y=\"309.946365\"/>\n    </g>\n    <g clip-path=\"url(#p0dd6970e85)\">\n     <use style=\"fill:#440154;stroke:#440154;\" x=\"291.803122\" xlink:href=\"#C0_0_6a1c330815\" y=\"293.216759\"/>\n    </g>\n    <g clip-path=\"url(#p0dd6970e85)\">\n     <use style=\"fill:#440154;stroke:#440154;\" x=\"400.272991\" xlink:href=\"#C0_0_6a1c330815\" y=\"353.565496\"/>\n    </g>\n    <g clip-path=\"url(#p0dd6970e85)\">\n     <use style=\"fill:#440154;stroke:#440154;\" x=\"489.648798\" xlink:href=\"#C0_0_6a1c330815\" y=\"169.660366\"/>\n    </g>\n    <g clip-path=\"url(#p0dd6970e85)\">\n     <use style=\"fill:#440154;stroke:#440154;\" x=\"271.397345\" xlink:href=\"#C0_0_6a1c330815\" y=\"134.204836\"/>\n    </g>\n    <g clip-path=\"url(#p0dd6970e85)\">\n     <use style=\"fill:#440154;stroke:#440154;\" x=\"477.998369\" xlink:href=\"#C0_0_6a1c330815\" y=\"270.407188\"/>\n    </g>\n    <g clip-path=\"url(#p0dd6970e85)\">\n     <use style=\"fill:#fde725;stroke:#fde725;\" x=\"735.771103\" xlink:href=\"#C0_0_6a1c330815\" y=\"434.08987\"/>\n    </g>\n    <g clip-path=\"url(#p0dd6970e85)\">\n     <use style=\"fill:#21918c;stroke:#21918c;\" x=\"225.780099\" xlink:href=\"#C0_0_6a1c330815\" y=\"436.727797\"/>\n    </g>\n    <g clip-path=\"url(#p0dd6970e85)\">\n     <use style=\"fill:#21918c;stroke:#21918c;\" x=\"616.214644\" xlink:href=\"#C0_0_6a1c330815\" y=\"431.124747\"/>\n    </g>\n    <g clip-path=\"url(#p0dd6970e85)\">\n     <use style=\"fill:#21918c;stroke:#21918c;\" x=\"961.340087\" xlink:href=\"#C0_0_6a1c330815\" y=\"350.096366\"/>\n    </g>\n    <g clip-path=\"url(#p0dd6970e85)\">\n     <use style=\"fill:#440154;stroke:#440154;\" x=\"979.030887\" xlink:href=\"#C0_0_6a1c330815\" y=\"92.67133\"/>\n    </g>\n    <g clip-path=\"url(#p0dd6970e85)\">\n     <use style=\"fill:#21918c;stroke:#21918c;\" x=\"278.632088\" xlink:href=\"#C0_0_6a1c330815\" y=\"240.433333\"/>\n    </g>\n    <g clip-path=\"url(#p0dd6970e85)\">\n     <use style=\"fill:#21918c;stroke:#21918c;\" x=\"356.832776\" xlink:href=\"#C0_0_6a1c330815\" y=\"282.132354\"/>\n    </g>\n    <g clip-path=\"url(#p0dd6970e85)\">\n     <use style=\"fill:#fde725;stroke:#fde725;\" x=\"691.437691\" xlink:href=\"#C0_0_6a1c330815\" y=\"422.224102\"/>\n    </g>\n    <g clip-path=\"url(#p0dd6970e85)\">\n     <use style=\"fill:#440154;stroke:#440154;\" x=\"1002.565854\" xlink:href=\"#C0_0_6a1c330815\" y=\"252.336764\"/>\n    </g>\n    <g clip-path=\"url(#p0dd6970e85)\">\n     <use style=\"fill:#440154;stroke:#440154;\" x=\"765.987682\" xlink:href=\"#C0_0_6a1c330815\" y=\"213.989421\"/>\n    </g>\n    <g clip-path=\"url(#p0dd6970e85)\">\n     <use style=\"fill:#21918c;stroke:#21918c;\" x=\"737.687903\" xlink:href=\"#C0_0_6a1c330815\" y=\"267.819909\"/>\n    </g>\n    <g clip-path=\"url(#p0dd6970e85)\">\n     <use style=\"fill:#fde725;stroke:#fde725;\" x=\"556.391662\" xlink:href=\"#C0_0_6a1c330815\" y=\"288.678763\"/>\n    </g>\n    <g clip-path=\"url(#p0dd6970e85)\">\n     <use style=\"fill:#440154;stroke:#440154;\" x=\"451.78511\" xlink:href=\"#C0_0_6a1c330815\" y=\"317.30604\"/>\n    </g>\n    <g clip-path=\"url(#p0dd6970e85)\">\n     <use style=\"fill:#21918c;stroke:#21918c;\" x=\"786.457632\" xlink:href=\"#C0_0_6a1c330815\" y=\"232.733399\"/>\n    </g>\n    <g clip-path=\"url(#p0dd6970e85)\">\n     <use style=\"fill:#440154;stroke:#440154;\" x=\"263.847769\" xlink:href=\"#C0_0_6a1c330815\" y=\"314.927236\"/>\n    </g>\n    <g clip-path=\"url(#p0dd6970e85)\">\n     <use style=\"fill:#fde725;stroke:#fde725;\" x=\"269.775758\" xlink:href=\"#C0_0_6a1c330815\" y=\"234.491343\"/>\n    </g>\n    <g clip-path=\"url(#p0dd6970e85)\">\n     <use style=\"fill:#fde725;stroke:#fde725;\" x=\"765.293051\" xlink:href=\"#C0_0_6a1c330815\" y=\"301.226991\"/>\n    </g>\n    <g clip-path=\"url(#p0dd6970e85)\">\n     <use style=\"fill:#fde725;stroke:#fde725;\" x=\"409.46555\" xlink:href=\"#C0_0_6a1c330815\" y=\"123.724398\"/>\n    </g>\n    <g clip-path=\"url(#p0dd6970e85)\">\n     <use style=\"fill:#fde725;stroke:#fde725;\" x=\"263.976055\" xlink:href=\"#C0_0_6a1c330815\" y=\"266.288792\"/>\n    </g>\n    <g clip-path=\"url(#p0dd6970e85)\">\n     <use style=\"fill:#440154;stroke:#440154;\" x=\"956.883359\" xlink:href=\"#C0_0_6a1c330815\" y=\"189.585305\"/>\n    </g>\n    <g clip-path=\"url(#p0dd6970e85)\">\n     <use style=\"fill:#440154;stroke:#440154;\" x=\"990.002747\" xlink:href=\"#C0_0_6a1c330815\" y=\"97.356654\"/>\n    </g>\n    <g clip-path=\"url(#p0dd6970e85)\">\n     <use style=\"fill:#440154;stroke:#440154;\" x=\"460.639013\" xlink:href=\"#C0_0_6a1c330815\" y=\"467.471212\"/>\n    </g>\n    <g clip-path=\"url(#p0dd6970e85)\">\n     <use style=\"fill:#440154;stroke:#440154;\" x=\"355.663537\" xlink:href=\"#C0_0_6a1c330815\" y=\"234.292317\"/>\n    </g>\n    <g clip-path=\"url(#p0dd6970e85)\">\n     <use style=\"fill:#21918c;stroke:#21918c;\" x=\"994.78676\" xlink:href=\"#C0_0_6a1c330815\" y=\"481.119837\"/>\n    </g>\n    <g clip-path=\"url(#p0dd6970e85)\">\n     <use style=\"fill:#21918c;stroke:#21918c;\" x=\"595.86622\" xlink:href=\"#C0_0_6a1c330815\" y=\"210.343445\"/>\n    </g>\n    <g clip-path=\"url(#p0dd6970e85)\">\n     <use style=\"fill:#21918c;stroke:#21918c;\" x=\"206.590385\" xlink:href=\"#C0_0_6a1c330815\" y=\"151.038084\"/>\n    </g>\n    <g clip-path=\"url(#p0dd6970e85)\">\n     <use style=\"fill:#21918c;stroke:#21918c;\" x=\"380.94657\" xlink:href=\"#C0_0_6a1c330815\" y=\"171.636335\"/>\n    </g>\n    <g clip-path=\"url(#p0dd6970e85)\">\n     <use style=\"fill:#440154;stroke:#440154;\" x=\"778.897141\" xlink:href=\"#C0_0_6a1c330815\" y=\"235.039646\"/>\n    </g>\n    <g clip-path=\"url(#p0dd6970e85)\">\n     <use style=\"fill:#440154;stroke:#440154;\" x=\"277.102715\" xlink:href=\"#C0_0_6a1c330815\" y=\"351.375897\"/>\n    </g>\n    <g clip-path=\"url(#p0dd6970e85)\">\n     <use style=\"fill:#21918c;stroke:#21918c;\" x=\"755.660121\" xlink:href=\"#C0_0_6a1c330815\" y=\"517.726883\"/>\n    </g>\n    <g clip-path=\"url(#p0dd6970e85)\">\n     <use style=\"fill:#21918c;stroke:#21918c;\" x=\"529.320498\" xlink:href=\"#C0_0_6a1c330815\" y=\"114.510556\"/>\n    </g>\n    <g clip-path=\"url(#p0dd6970e85)\">\n     <use style=\"fill:#21918c;stroke:#21918c;\" x=\"641.28592\" xlink:href=\"#C0_0_6a1c330815\" y=\"503.702513\"/>\n    </g>\n    <g clip-path=\"url(#p0dd6970e85)\">\n     <use style=\"fill:#440154;stroke:#440154;\" x=\"502.247616\" xlink:href=\"#C0_0_6a1c330815\" y=\"185.484626\"/>\n    </g>\n    <g clip-path=\"url(#p0dd6970e85)\">\n     <use style=\"fill:#21918c;stroke:#21918c;\" x=\"545.680003\" xlink:href=\"#C0_0_6a1c330815\" y=\"238.28575\"/>\n    </g>\n    <g clip-path=\"url(#p0dd6970e85)\">\n     <use style=\"fill:#440154;stroke:#440154;\" x=\"1046.803275\" xlink:href=\"#C0_0_6a1c330815\" y=\"400.394854\"/>\n    </g>\n    <g clip-path=\"url(#p0dd6970e85)\">\n     <use style=\"fill:#440154;stroke:#440154;\" x=\"870.477942\" xlink:href=\"#C0_0_6a1c330815\" y=\"247.586194\"/>\n    </g>\n    <g clip-path=\"url(#p0dd6970e85)\">\n     <use style=\"fill:#21918c;stroke:#21918c;\" x=\"430.506995\" xlink:href=\"#C0_0_6a1c330815\" y=\"165.420059\"/>\n    </g>\n    <g clip-path=\"url(#p0dd6970e85)\">\n     <use style=\"fill:#21918c;stroke:#21918c;\" x=\"534.693681\" xlink:href=\"#C0_0_6a1c330815\" y=\"326.815605\"/>\n    </g>\n    <g clip-path=\"url(#p0dd6970e85)\">\n     <use style=\"fill:#21918c;stroke:#21918c;\" x=\"887.857253\" xlink:href=\"#C0_0_6a1c330815\" y=\"387.608431\"/>\n    </g>\n    <g clip-path=\"url(#p0dd6970e85)\">\n     <use style=\"fill:#440154;stroke:#440154;\" x=\"853.218884\" xlink:href=\"#C0_0_6a1c330815\" y=\"323.071207\"/>\n    </g>\n    <g clip-path=\"url(#p0dd6970e85)\">\n     <use style=\"fill:#fde725;stroke:#fde725;\" x=\"659.668073\" xlink:href=\"#C0_0_6a1c330815\" y=\"494.222913\"/>\n    </g>\n    <g clip-path=\"url(#p0dd6970e85)\">\n     <use style=\"fill:#440154;stroke:#440154;\" x=\"826.82626\" xlink:href=\"#C0_0_6a1c330815\" y=\"208.897048\"/>\n    </g>\n    <g clip-path=\"url(#p0dd6970e85)\">\n     <use style=\"fill:#21918c;stroke:#21918c;\" x=\"535.862303\" xlink:href=\"#C0_0_6a1c330815\" y=\"92.155262\"/>\n    </g>\n    <g clip-path=\"url(#p0dd6970e85)\">\n     <use style=\"fill:#440154;stroke:#440154;\" x=\"95.572585\" xlink:href=\"#C0_0_6a1c330815\" y=\"315.6612\"/>\n    </g>\n    <g clip-path=\"url(#p0dd6970e85)\">\n     <use style=\"fill:#21918c;stroke:#21918c;\" x=\"612.322745\" xlink:href=\"#C0_0_6a1c330815\" y=\"225.422556\"/>\n    </g>\n    <g clip-path=\"url(#p0dd6970e85)\">\n     <use style=\"fill:#440154;stroke:#440154;\" x=\"545.296617\" xlink:href=\"#C0_0_6a1c330815\" y=\"108.588131\"/>\n    </g>\n    <g clip-path=\"url(#p0dd6970e85)\">\n     <use style=\"fill:#21918c;stroke:#21918c;\" x=\"617.090663\" xlink:href=\"#C0_0_6a1c330815\" y=\"342.38766\"/>\n    </g>\n    <g clip-path=\"url(#p0dd6970e85)\">\n     <use style=\"fill:#21918c;stroke:#21918c;\" x=\"434.467755\" xlink:href=\"#C0_0_6a1c330815\" y=\"184.970971\"/>\n    </g>\n    <g clip-path=\"url(#p0dd6970e85)\">\n     <use style=\"fill:#21918c;stroke:#21918c;\" x=\"445.388708\" xlink:href=\"#C0_0_6a1c330815\" y=\"68.184431\"/>\n    </g>\n    <g clip-path=\"url(#p0dd6970e85)\">\n     <use style=\"fill:#440154;stroke:#440154;\" x=\"933.880829\" xlink:href=\"#C0_0_6a1c330815\" y=\"203.178669\"/>\n    </g>\n    <g clip-path=\"url(#p0dd6970e85)\">\n     <use style=\"fill:#21918c;stroke:#21918c;\" x=\"638.196856\" xlink:href=\"#C0_0_6a1c330815\" y=\"541.209034\"/>\n    </g>\n    <g clip-path=\"url(#p0dd6970e85)\">\n     <use style=\"fill:#21918c;stroke:#21918c;\" x=\"433.537425\" xlink:href=\"#C0_0_6a1c330815\" y=\"138.602997\"/>\n    </g>\n    <g clip-path=\"url(#p0dd6970e85)\">\n     <use style=\"fill:#fde725;stroke:#fde725;\" x=\"401.629285\" xlink:href=\"#C0_0_6a1c330815\" y=\"117.183679\"/>\n    </g>\n    <g clip-path=\"url(#p0dd6970e85)\">\n     <use style=\"fill:#fde725;stroke:#fde725;\" x=\"1086.394436\" xlink:href=\"#C0_0_6a1c330815\" y=\"305.154172\"/>\n    </g>\n    <g clip-path=\"url(#p0dd6970e85)\">\n     <use style=\"fill:#440154;stroke:#440154;\" x=\"397.393043\" xlink:href=\"#C0_0_6a1c330815\" y=\"314.486515\"/>\n    </g>\n    <g clip-path=\"url(#p0dd6970e85)\">\n     <use style=\"fill:#fde725;stroke:#fde725;\" x=\"675.603244\" xlink:href=\"#C0_0_6a1c330815\" y=\"313.441331\"/>\n    </g>\n    <g clip-path=\"url(#p0dd6970e85)\">\n     <use style=\"fill:#440154;stroke:#440154;\" x=\"536.53263\" xlink:href=\"#C0_0_6a1c330815\" y=\"275.047052\"/>\n    </g>\n    <g clip-path=\"url(#p0dd6970e85)\">\n     <use style=\"fill:#440154;stroke:#440154;\" x=\"830.6449\" xlink:href=\"#C0_0_6a1c330815\" y=\"230.606782\"/>\n    </g>\n    <g clip-path=\"url(#p0dd6970e85)\">\n     <use style=\"fill:#fde725;stroke:#fde725;\" x=\"540.013475\" xlink:href=\"#C0_0_6a1c330815\" y=\"314.754812\"/>\n    </g>\n    <g clip-path=\"url(#p0dd6970e85)\">\n     <use style=\"fill:#440154;stroke:#440154;\" x=\"387.38878\" xlink:href=\"#C0_0_6a1c330815\" y=\"327.690331\"/>\n    </g>\n    <g clip-path=\"url(#p0dd6970e85)\">\n     <use style=\"fill:#21918c;stroke:#21918c;\" x=\"708.660183\" xlink:href=\"#C0_0_6a1c330815\" y=\"285.328551\"/>\n    </g>\n    <g clip-path=\"url(#p0dd6970e85)\">\n     <use style=\"fill:#440154;stroke:#440154;\" x=\"286.008077\" xlink:href=\"#C0_0_6a1c330815\" y=\"95.86247\"/>\n    </g>\n    <g clip-path=\"url(#p0dd6970e85)\">\n     <use style=\"fill:#fde725;stroke:#fde725;\" x=\"660.786958\" xlink:href=\"#C0_0_6a1c330815\" y=\"508.624368\"/>\n    </g>\n    <g clip-path=\"url(#p0dd6970e85)\">\n     <use style=\"fill:#fde725;stroke:#fde725;\" x=\"629.933299\" xlink:href=\"#C0_0_6a1c330815\" y=\"298.230739\"/>\n    </g>\n    <g clip-path=\"url(#p0dd6970e85)\">\n     <use style=\"fill:#440154;stroke:#440154;\" x=\"308.949944\" xlink:href=\"#C0_0_6a1c330815\" y=\"262.454687\"/>\n    </g>\n    <g clip-path=\"url(#p0dd6970e85)\">\n     <use style=\"fill:#440154;stroke:#440154;\" x=\"403.120152\" xlink:href=\"#C0_0_6a1c330815\" y=\"132.904202\"/>\n    </g>\n    <g clip-path=\"url(#p0dd6970e85)\">\n     <use style=\"fill:#fde725;stroke:#fde725;\" x=\"617.550363\" xlink:href=\"#C0_0_6a1c330815\" y=\"377.474371\"/>\n    </g>\n    <g clip-path=\"url(#p0dd6970e85)\">\n     <use style=\"fill:#440154;stroke:#440154;\" x=\"612.472607\" xlink:href=\"#C0_0_6a1c330815\" y=\"508.520302\"/>\n    </g>\n    <g clip-path=\"url(#p0dd6970e85)\">\n     <use style=\"fill:#21918c;stroke:#21918c;\" x=\"428.719093\" xlink:href=\"#C0_0_6a1c330815\" y=\"214.475994\"/>\n    </g>\n    <g clip-path=\"url(#p0dd6970e85)\">\n     <use style=\"fill:#fde725;stroke:#fde725;\" x=\"542.104168\" xlink:href=\"#C0_0_6a1c330815\" y=\"413.025245\"/>\n    </g>\n    <g clip-path=\"url(#p0dd6970e85)\">\n     <use style=\"fill:#440154;stroke:#440154;\" x=\"346.099243\" xlink:href=\"#C0_0_6a1c330815\" y=\"167.625152\"/>\n    </g>\n    <g clip-path=\"url(#p0dd6970e85)\">\n     <use style=\"fill:#21918c;stroke:#21918c;\" x=\"287.916874\" xlink:href=\"#C0_0_6a1c330815\" y=\"137.954769\"/>\n    </g>\n    <g clip-path=\"url(#p0dd6970e85)\">\n     <use style=\"fill:#fde725;stroke:#fde725;\" x=\"348.6177\" xlink:href=\"#C0_0_6a1c330815\" y=\"87.240826\"/>\n    </g>\n    <g clip-path=\"url(#p0dd6970e85)\">\n     <use style=\"fill:#440154;stroke:#440154;\" x=\"152.073659\" xlink:href=\"#C0_0_6a1c330815\" y=\"376.030673\"/>\n    </g>\n    <g clip-path=\"url(#p0dd6970e85)\">\n     <use style=\"fill:#21918c;stroke:#21918c;\" x=\"543.581454\" xlink:href=\"#C0_0_6a1c330815\" y=\"365.358062\"/>\n    </g>\n    <g clip-path=\"url(#p0dd6970e85)\">\n     <use style=\"fill:#440154;stroke:#440154;\" x=\"1038.251387\" xlink:href=\"#C0_0_6a1c330815\" y=\"184.627449\"/>\n    </g>\n    <g clip-path=\"url(#p0dd6970e85)\">\n     <use style=\"fill:#21918c;stroke:#21918c;\" x=\"570.359418\" xlink:href=\"#C0_0_6a1c330815\" y=\"114.083131\"/>\n    </g>\n    <g clip-path=\"url(#p0dd6970e85)\">\n     <use style=\"fill:#fde725;stroke:#fde725;\" x=\"735.785481\" xlink:href=\"#C0_0_6a1c330815\" y=\"495.049218\"/>\n    </g>\n    <g clip-path=\"url(#p0dd6970e85)\">\n     <use style=\"fill:#fde725;stroke:#fde725;\" x=\"1072.178835\" xlink:href=\"#C0_0_6a1c330815\" y=\"228.891686\"/>\n    </g>\n    <g clip-path=\"url(#p0dd6970e85)\">\n     <use style=\"fill:#fde725;stroke:#fde725;\" x=\"1079.285889\" xlink:href=\"#C0_0_6a1c330815\" y=\"308.274632\"/>\n    </g>\n    <g clip-path=\"url(#p0dd6970e85)\">\n     <use style=\"fill:#440154;stroke:#440154;\" x=\"764.443244\" xlink:href=\"#C0_0_6a1c330815\" y=\"194.442116\"/>\n    </g>\n    <g clip-path=\"url(#p0dd6970e85)\">\n     <use style=\"fill:#21918c;stroke:#21918c;\" x=\"212.64472\" xlink:href=\"#C0_0_6a1c330815\" y=\"235.335228\"/>\n    </g>\n    <g clip-path=\"url(#p0dd6970e85)\">\n     <use style=\"fill:#440154;stroke:#440154;\" x=\"807.587185\" xlink:href=\"#C0_0_6a1c330815\" y=\"178.939436\"/>\n    </g>\n    <g clip-path=\"url(#p0dd6970e85)\">\n     <use style=\"fill:#440154;stroke:#440154;\" x=\"590.130996\" xlink:href=\"#C0_0_6a1c330815\" y=\"189.700872\"/>\n    </g>\n    <g clip-path=\"url(#p0dd6970e85)\">\n     <use style=\"fill:#fde725;stroke:#fde725;\" x=\"780.002417\" xlink:href=\"#C0_0_6a1c330815\" y=\"478.545591\"/>\n    </g>\n    <g clip-path=\"url(#p0dd6970e85)\">\n     <use style=\"fill:#440154;stroke:#440154;\" x=\"887.53576\" xlink:href=\"#C0_0_6a1c330815\" y=\"425.529226\"/>\n    </g>\n    <g clip-path=\"url(#p0dd6970e85)\">\n     <use style=\"fill:#21918c;stroke:#21918c;\" x=\"949.661666\" xlink:href=\"#C0_0_6a1c330815\" y=\"371.337942\"/>\n    </g>\n    <g clip-path=\"url(#p0dd6970e85)\">\n     <use style=\"fill:#21918c;stroke:#21918c;\" x=\"667.134946\" xlink:href=\"#C0_0_6a1c330815\" y=\"271.275077\"/>\n    </g>\n    <g clip-path=\"url(#p0dd6970e85)\">\n     <use style=\"fill:#21918c;stroke:#21918c;\" x=\"578.859686\" xlink:href=\"#C0_0_6a1c330815\" y=\"258.640319\"/>\n    </g>\n    <g clip-path=\"url(#p0dd6970e85)\">\n     <use style=\"fill:#440154;stroke:#440154;\" x=\"663.55317\" xlink:href=\"#C0_0_6a1c330815\" y=\"145.215437\"/>\n    </g>\n    <g clip-path=\"url(#p0dd6970e85)\">\n     <use style=\"fill:#fde725;stroke:#fde725;\" x=\"681.158804\" xlink:href=\"#C0_0_6a1c330815\" y=\"247.587912\"/>\n    </g>\n    <g clip-path=\"url(#p0dd6970e85)\">\n     <use style=\"fill:#fde725;stroke:#fde725;\" x=\"658.714644\" xlink:href=\"#C0_0_6a1c330815\" y=\"352.849717\"/>\n    </g>\n    <g clip-path=\"url(#p0dd6970e85)\">\n     <use style=\"fill:#440154;stroke:#440154;\" x=\"834.335821\" xlink:href=\"#C0_0_6a1c330815\" y=\"344.571019\"/>\n    </g>\n    <g clip-path=\"url(#p0dd6970e85)\">\n     <use style=\"fill:#440154;stroke:#440154;\" x=\"989.386429\" xlink:href=\"#C0_0_6a1c330815\" y=\"484.504393\"/>\n    </g>\n    <g clip-path=\"url(#p0dd6970e85)\">\n     <use style=\"fill:#440154;stroke:#440154;\" x=\"951.008912\" xlink:href=\"#C0_0_6a1c330815\" y=\"345.227004\"/>\n    </g>\n    <g clip-path=\"url(#p0dd6970e85)\">\n     <use style=\"fill:#440154;stroke:#440154;\" x=\"496.909931\" xlink:href=\"#C0_0_6a1c330815\" y=\"232.233461\"/>\n    </g>\n    <g clip-path=\"url(#p0dd6970e85)\">\n     <use style=\"fill:#fde725;stroke:#fde725;\" x=\"1015.514985\" xlink:href=\"#C0_0_6a1c330815\" y=\"466.122736\"/>\n    </g>\n    <g clip-path=\"url(#p0dd6970e85)\">\n     <use style=\"fill:#21918c;stroke:#21918c;\" x=\"275.816865\" xlink:href=\"#C0_0_6a1c330815\" y=\"197.085026\"/>\n    </g>\n    <g clip-path=\"url(#p0dd6970e85)\">\n     <use style=\"fill:#440154;stroke:#440154;\" x=\"124.072468\" xlink:href=\"#C0_0_6a1c330815\" y=\"172.049055\"/>\n    </g>\n    <g clip-path=\"url(#p0dd6970e85)\">\n     <use style=\"fill:#21918c;stroke:#21918c;\" x=\"542.086352\" xlink:href=\"#C0_0_6a1c330815\" y=\"331.259619\"/>\n    </g>\n    <g clip-path=\"url(#p0dd6970e85)\">\n     <use style=\"fill:#440154;stroke:#440154;\" x=\"467.236542\" xlink:href=\"#C0_0_6a1c330815\" y=\"131.460565\"/>\n    </g>\n    <g clip-path=\"url(#p0dd6970e85)\">\n     <use style=\"fill:#fde725;stroke:#fde725;\" x=\"995.040108\" xlink:href=\"#C0_0_6a1c330815\" y=\"272.91237\"/>\n    </g>\n    <g clip-path=\"url(#p0dd6970e85)\">\n     <use style=\"fill:#21918c;stroke:#21918c;\" x=\"551.75034\" xlink:href=\"#C0_0_6a1c330815\" y=\"382.844551\"/>\n    </g>\n    <g clip-path=\"url(#p0dd6970e85)\">\n     <use style=\"fill:#fde725;stroke:#fde725;\" x=\"564.311678\" xlink:href=\"#C0_0_6a1c330815\" y=\"383.700181\"/>\n    </g>\n    <g clip-path=\"url(#p0dd6970e85)\">\n     <use style=\"fill:#fde725;stroke:#fde725;\" x=\"521.626891\" xlink:href=\"#C0_0_6a1c330815\" y=\"374.90434\"/>\n    </g>\n    <g clip-path=\"url(#p0dd6970e85)\">\n     <use style=\"fill:#440154;stroke:#440154;\" x=\"680.956102\" xlink:href=\"#C0_0_6a1c330815\" y=\"521.177495\"/>\n    </g>\n    <g clip-path=\"url(#p0dd6970e85)\">\n     <use style=\"fill:#440154;stroke:#440154;\" x=\"142.251778\" xlink:href=\"#C0_0_6a1c330815\" y=\"371.855599\"/>\n    </g>\n    <g clip-path=\"url(#p0dd6970e85)\">\n     <use style=\"fill:#21918c;stroke:#21918c;\" x=\"519.411777\" xlink:href=\"#C0_0_6a1c330815\" y=\"257.702016\"/>\n    </g>\n    <g clip-path=\"url(#p0dd6970e85)\">\n     <use style=\"fill:#440154;stroke:#440154;\" x=\"785.510325\" xlink:href=\"#C0_0_6a1c330815\" y=\"127.809008\"/>\n    </g>\n    <g clip-path=\"url(#p0dd6970e85)\">\n     <use style=\"fill:#fde725;stroke:#fde725;\" x=\"1110.11804\" xlink:href=\"#C0_0_6a1c330815\" y=\"262.948034\"/>\n    </g>\n    <g clip-path=\"url(#p0dd6970e85)\">\n     <use style=\"fill:#21918c;stroke:#21918c;\" x=\"491.464897\" xlink:href=\"#C0_0_6a1c330815\" y=\"360.749826\"/>\n    </g>\n    <g clip-path=\"url(#p0dd6970e85)\">\n     <use style=\"fill:#fde725;stroke:#fde725;\" x=\"765.064534\" xlink:href=\"#C0_0_6a1c330815\" y=\"466.831768\"/>\n    </g>\n    <g clip-path=\"url(#p0dd6970e85)\">\n     <use style=\"fill:#fde725;stroke:#fde725;\" x=\"711.134503\" xlink:href=\"#C0_0_6a1c330815\" y=\"348.113252\"/>\n    </g>\n    <g clip-path=\"url(#p0dd6970e85)\">\n     <use style=\"fill:#fde725;stroke:#fde725;\" x=\"617.212701\" xlink:href=\"#C0_0_6a1c330815\" y=\"453.208508\"/>\n    </g>\n    <g clip-path=\"url(#p0dd6970e85)\">\n     <use style=\"fill:#fde725;stroke:#fde725;\" x=\"784.535456\" xlink:href=\"#C0_0_6a1c330815\" y=\"261.220206\"/>\n    </g>\n    <g clip-path=\"url(#p0dd6970e85)\">\n     <use style=\"fill:#21918c;stroke:#21918c;\" x=\"581.24594\" xlink:href=\"#C0_0_6a1c330815\" y=\"261.63186\"/>\n    </g>\n    <g clip-path=\"url(#p0dd6970e85)\">\n     <use style=\"fill:#440154;stroke:#440154;\" x=\"912.067455\" xlink:href=\"#C0_0_6a1c330815\" y=\"335.693982\"/>\n    </g>\n    <g clip-path=\"url(#p0dd6970e85)\">\n     <use style=\"fill:#440154;stroke:#440154;\" x=\"244.288634\" xlink:href=\"#C0_0_6a1c330815\" y=\"435.696222\"/>\n    </g>\n    <g clip-path=\"url(#p0dd6970e85)\">\n     <use style=\"fill:#440154;stroke:#440154;\" x=\"409.068985\" xlink:href=\"#C0_0_6a1c330815\" y=\"284.515179\"/>\n    </g>\n    <g clip-path=\"url(#p0dd6970e85)\">\n     <use style=\"fill:#440154;stroke:#440154;\" x=\"627.002996\" xlink:href=\"#C0_0_6a1c330815\" y=\"231.154428\"/>\n    </g>\n    <g clip-path=\"url(#p0dd6970e85)\">\n     <use style=\"fill:#440154;stroke:#440154;\" x=\"155.565969\" xlink:href=\"#C0_0_6a1c330815\" y=\"173.153545\"/>\n    </g>\n    <g clip-path=\"url(#p0dd6970e85)\">\n     <use style=\"fill:#fde725;stroke:#fde725;\" x=\"424.94435\" xlink:href=\"#C0_0_6a1c330815\" y=\"429.247898\"/>\n    </g>\n    <g clip-path=\"url(#p0dd6970e85)\">\n     <use style=\"fill:#21918c;stroke:#21918c;\" x=\"301.607116\" xlink:href=\"#C0_0_6a1c330815\" y=\"358.763641\"/>\n    </g>\n    <g clip-path=\"url(#p0dd6970e85)\">\n     <use style=\"fill:#fde725;stroke:#fde725;\" x=\"663.532446\" xlink:href=\"#C0_0_6a1c330815\" y=\"443.92839\"/>\n    </g>\n    <g clip-path=\"url(#p0dd6970e85)\">\n     <use style=\"fill:#fde725;stroke:#fde725;\" x=\"829.666089\" xlink:href=\"#C0_0_6a1c330815\" y=\"345.339714\"/>\n    </g>\n    <g clip-path=\"url(#p0dd6970e85)\">\n     <use style=\"fill:#fde725;stroke:#fde725;\" x=\"458.074204\" xlink:href=\"#C0_0_6a1c330815\" y=\"422.157437\"/>\n    </g>\n    <g clip-path=\"url(#p0dd6970e85)\">\n     <use style=\"fill:#21918c;stroke:#21918c;\" x=\"440.649996\" xlink:href=\"#C0_0_6a1c330815\" y=\"318.345773\"/>\n    </g>\n    <g clip-path=\"url(#p0dd6970e85)\">\n     <use style=\"fill:#440154;stroke:#440154;\" x=\"363.317599\" xlink:href=\"#C0_0_6a1c330815\" y=\"362.948425\"/>\n    </g>\n    <g clip-path=\"url(#p0dd6970e85)\">\n     <use style=\"fill:#21918c;stroke:#21918c;\" x=\"650.001032\" xlink:href=\"#C0_0_6a1c330815\" y=\"470.953353\"/>\n    </g>\n    <g clip-path=\"url(#p0dd6970e85)\">\n     <use style=\"fill:#fde725;stroke:#fde725;\" x=\"587.719639\" xlink:href=\"#C0_0_6a1c330815\" y=\"497.517376\"/>\n    </g>\n    <g clip-path=\"url(#p0dd6970e85)\">\n     <use style=\"fill:#440154;stroke:#440154;\" x=\"562.939104\" xlink:href=\"#C0_0_6a1c330815\" y=\"208.801096\"/>\n    </g>\n    <g clip-path=\"url(#p0dd6970e85)\">\n     <use style=\"fill:#440154;stroke:#440154;\" x=\"749.335148\" xlink:href=\"#C0_0_6a1c330815\" y=\"289.380755\"/>\n    </g>\n    <g clip-path=\"url(#p0dd6970e85)\">\n     <use style=\"fill:#21918c;stroke:#21918c;\" x=\"673.008625\" xlink:href=\"#C0_0_6a1c330815\" y=\"259.671574\"/>\n    </g>\n    <g clip-path=\"url(#p0dd6970e85)\">\n     <use style=\"fill:#21918c;stroke:#21918c;\" x=\"642.783333\" xlink:href=\"#C0_0_6a1c330815\" y=\"388.752332\"/>\n    </g>\n    <g clip-path=\"url(#p0dd6970e85)\">\n     <use style=\"fill:#21918c;stroke:#21918c;\" x=\"430.827076\" xlink:href=\"#C0_0_6a1c330815\" y=\"252.767101\"/>\n    </g>\n    <g clip-path=\"url(#p0dd6970e85)\">\n     <use style=\"fill:#21918c;stroke:#21918c;\" x=\"189.261301\" xlink:href=\"#C0_0_6a1c330815\" y=\"255.758718\"/>\n    </g>\n    <g clip-path=\"url(#p0dd6970e85)\">\n     <use style=\"fill:#21918c;stroke:#21918c;\" x=\"775.596694\" xlink:href=\"#C0_0_6a1c330815\" y=\"408.717931\"/>\n    </g>\n    <g clip-path=\"url(#p0dd6970e85)\">\n     <use style=\"fill:#21918c;stroke:#21918c;\" x=\"734.8391\" xlink:href=\"#C0_0_6a1c330815\" y=\"306.686634\"/>\n    </g>\n    <g clip-path=\"url(#p0dd6970e85)\">\n     <use style=\"fill:#440154;stroke:#440154;\" x=\"151.950389\" xlink:href=\"#C0_0_6a1c330815\" y=\"257.242212\"/>\n    </g>\n    <g clip-path=\"url(#p0dd6970e85)\">\n     <use style=\"fill:#fde725;stroke:#fde725;\" x=\"732.958776\" xlink:href=\"#C0_0_6a1c330815\" y=\"326.207061\"/>\n    </g>\n    <g clip-path=\"url(#p0dd6970e85)\">\n     <use style=\"fill:#440154;stroke:#440154;\" x=\"376.812007\" xlink:href=\"#C0_0_6a1c330815\" y=\"406.360711\"/>\n    </g>\n    <g clip-path=\"url(#p0dd6970e85)\">\n     <use style=\"fill:#fde725;stroke:#fde725;\" x=\"710.218402\" xlink:href=\"#C0_0_6a1c330815\" y=\"87.417844\"/>\n    </g>\n    <g clip-path=\"url(#p0dd6970e85)\">\n     <use style=\"fill:#fde725;stroke:#fde725;\" x=\"532.932016\" xlink:href=\"#C0_0_6a1c330815\" y=\"433.432663\"/>\n    </g>\n    <g clip-path=\"url(#p0dd6970e85)\">\n     <use style=\"fill:#21918c;stroke:#21918c;\" x=\"521.371233\" xlink:href=\"#C0_0_6a1c330815\" y=\"98.396319\"/>\n    </g>\n    <g clip-path=\"url(#p0dd6970e85)\">\n     <use style=\"fill:#fde725;stroke:#fde725;\" x=\"657.106384\" xlink:href=\"#C0_0_6a1c330815\" y=\"397.568811\"/>\n    </g>\n    <g clip-path=\"url(#p0dd6970e85)\">\n     <use style=\"fill:#440154;stroke:#440154;\" x=\"864.635864\" xlink:href=\"#C0_0_6a1c330815\" y=\"218.433244\"/>\n    </g>\n    <g clip-path=\"url(#p0dd6970e85)\">\n     <use style=\"fill:#fde725;stroke:#fde725;\" x=\"970.480163\" xlink:href=\"#C0_0_6a1c330815\" y=\"283.246226\"/>\n    </g>\n    <g clip-path=\"url(#p0dd6970e85)\">\n     <use style=\"fill:#440154;stroke:#440154;\" x=\"566.925208\" xlink:href=\"#C0_0_6a1c330815\" y=\"315.711108\"/>\n    </g>\n    <g clip-path=\"url(#p0dd6970e85)\">\n     <use style=\"fill:#21918c;stroke:#21918c;\" x=\"418.176153\" xlink:href=\"#C0_0_6a1c330815\" y=\"76.274267\"/>\n    </g>\n    <g clip-path=\"url(#p0dd6970e85)\">\n     <use style=\"fill:#440154;stroke:#440154;\" x=\"419.683623\" xlink:href=\"#C0_0_6a1c330815\" y=\"193.79055\"/>\n    </g>\n    <g clip-path=\"url(#p0dd6970e85)\">\n     <use style=\"fill:#21918c;stroke:#21918c;\" x=\"418.682401\" xlink:href=\"#C0_0_6a1c330815\" y=\"88.325251\"/>\n    </g>\n    <g clip-path=\"url(#p0dd6970e85)\">\n     <use style=\"fill:#fde725;stroke:#fde725;\" x=\"526.156183\" xlink:href=\"#C0_0_6a1c330815\" y=\"507.790436\"/>\n    </g>\n    <g clip-path=\"url(#p0dd6970e85)\">\n     <use style=\"fill:#21918c;stroke:#21918c;\" x=\"554.361797\" xlink:href=\"#C0_0_6a1c330815\" y=\"253.178237\"/>\n    </g>\n   </g>\n   <g id=\"matplotlib.axis_1\">\n    <g id=\"xtick_1\">\n     <g id=\"line2d_1\">\n      <defs>\n       <path d=\"M 0 0 \nL 0 3.5 \n\" id=\"m311f631102\" style=\"stroke:#000000;stroke-width:0.8;\"/>\n      </defs>\n      <g>\n       <use style=\"stroke:#000000;stroke-width:0.8;\" x=\"50.752859\" xlink:href=\"#m311f631102\" y=\"565.918125\"/>\n      </g>\n     </g>\n     <g id=\"text_1\">\n      <!-- −8 -->\n      <g transform=\"translate(43.381765 580.516562)scale(0.1 -0.1)\">\n       <defs>\n        <path d=\"M 10.59375 35.5 \nL 73.1875 35.5 \nL 73.1875 27.203125 \nL 10.59375 27.203125 \nz\n\" id=\"DejaVuSans-8722\"/>\n        <path d=\"M 31.78125 34.625 \nQ 24.75 34.625 20.71875 30.859375 \nQ 16.703125 27.09375 16.703125 20.515625 \nQ 16.703125 13.921875 20.71875 10.15625 \nQ 24.75 6.390625 31.78125 6.390625 \nQ 38.8125 6.390625 42.859375 10.171875 \nQ 46.921875 13.96875 46.921875 20.515625 \nQ 46.921875 27.09375 42.890625 30.859375 \nQ 38.875 34.625 31.78125 34.625 \nz\nM 21.921875 38.8125 \nQ 15.578125 40.375 12.03125 44.71875 \nQ 8.5 49.078125 8.5 55.328125 \nQ 8.5 64.0625 14.71875 69.140625 \nQ 20.953125 74.21875 31.78125 74.21875 \nQ 42.671875 74.21875 48.875 69.140625 \nQ 55.078125 64.0625 55.078125 55.328125 \nQ 55.078125 49.078125 51.53125 44.71875 \nQ 48 40.375 41.703125 38.8125 \nQ 48.828125 37.15625 52.796875 32.3125 \nQ 56.78125 27.484375 56.78125 20.515625 \nQ 56.78125 9.90625 50.3125 4.234375 \nQ 43.84375 -1.421875 31.78125 -1.421875 \nQ 19.734375 -1.421875 13.25 4.234375 \nQ 6.78125 9.90625 6.78125 20.515625 \nQ 6.78125 27.484375 10.78125 32.3125 \nQ 14.796875 37.15625 21.921875 38.8125 \nz\nM 18.3125 54.390625 \nQ 18.3125 48.734375 21.84375 45.5625 \nQ 25.390625 42.390625 31.78125 42.390625 \nQ 38.140625 42.390625 41.71875 45.5625 \nQ 45.3125 48.734375 45.3125 54.390625 \nQ 45.3125 60.0625 41.71875 63.234375 \nQ 38.140625 66.40625 31.78125 66.40625 \nQ 25.390625 66.40625 21.84375 63.234375 \nQ 18.3125 60.0625 18.3125 54.390625 \nz\n\" id=\"DejaVuSans-56\"/>\n       </defs>\n       <use xlink:href=\"#DejaVuSans-8722\"/>\n       <use x=\"83.789062\" xlink:href=\"#DejaVuSans-56\"/>\n      </g>\n     </g>\n    </g>\n    <g id=\"xtick_2\">\n     <g id=\"line2d_2\">\n      <g>\n       <use style=\"stroke:#000000;stroke-width:0.8;\" x=\"176.002414\" xlink:href=\"#m311f631102\" y=\"565.918125\"/>\n      </g>\n     </g>\n     <g id=\"text_2\">\n      <!-- −6 -->\n      <g transform=\"translate(168.63132 580.516562)scale(0.1 -0.1)\">\n       <defs>\n        <path d=\"M 33.015625 40.375 \nQ 26.375 40.375 22.484375 35.828125 \nQ 18.609375 31.296875 18.609375 23.390625 \nQ 18.609375 15.53125 22.484375 10.953125 \nQ 26.375 6.390625 33.015625 6.390625 \nQ 39.65625 6.390625 43.53125 10.953125 \nQ 47.40625 15.53125 47.40625 23.390625 \nQ 47.40625 31.296875 43.53125 35.828125 \nQ 39.65625 40.375 33.015625 40.375 \nz\nM 52.59375 71.296875 \nL 52.59375 62.3125 \nQ 48.875 64.0625 45.09375 64.984375 \nQ 41.3125 65.921875 37.59375 65.921875 \nQ 27.828125 65.921875 22.671875 59.328125 \nQ 17.53125 52.734375 16.796875 39.40625 \nQ 19.671875 43.65625 24.015625 45.921875 \nQ 28.375 48.1875 33.59375 48.1875 \nQ 44.578125 48.1875 50.953125 41.515625 \nQ 57.328125 34.859375 57.328125 23.390625 \nQ 57.328125 12.15625 50.6875 5.359375 \nQ 44.046875 -1.421875 33.015625 -1.421875 \nQ 20.359375 -1.421875 13.671875 8.265625 \nQ 6.984375 17.96875 6.984375 36.375 \nQ 6.984375 53.65625 15.1875 63.9375 \nQ 23.390625 74.21875 37.203125 74.21875 \nQ 40.921875 74.21875 44.703125 73.484375 \nQ 48.484375 72.75 52.59375 71.296875 \nz\n\" id=\"DejaVuSans-54\"/>\n       </defs>\n       <use xlink:href=\"#DejaVuSans-8722\"/>\n       <use x=\"83.789062\" xlink:href=\"#DejaVuSans-54\"/>\n      </g>\n     </g>\n    </g>\n    <g id=\"xtick_3\">\n     <g id=\"line2d_3\">\n      <g>\n       <use style=\"stroke:#000000;stroke-width:0.8;\" x=\"301.251969\" xlink:href=\"#m311f631102\" y=\"565.918125\"/>\n      </g>\n     </g>\n     <g id=\"text_3\">\n      <!-- −4 -->\n      <g transform=\"translate(293.880875 580.516562)scale(0.1 -0.1)\">\n       <defs>\n        <path d=\"M 37.796875 64.3125 \nL 12.890625 25.390625 \nL 37.796875 25.390625 \nz\nM 35.203125 72.90625 \nL 47.609375 72.90625 \nL 47.609375 25.390625 \nL 58.015625 25.390625 \nL 58.015625 17.1875 \nL 47.609375 17.1875 \nL 47.609375 0 \nL 37.796875 0 \nL 37.796875 17.1875 \nL 4.890625 17.1875 \nL 4.890625 26.703125 \nz\n\" id=\"DejaVuSans-52\"/>\n       </defs>\n       <use xlink:href=\"#DejaVuSans-8722\"/>\n       <use x=\"83.789062\" xlink:href=\"#DejaVuSans-52\"/>\n      </g>\n     </g>\n    </g>\n    <g id=\"xtick_4\">\n     <g id=\"line2d_4\">\n      <g>\n       <use style=\"stroke:#000000;stroke-width:0.8;\" x=\"426.501525\" xlink:href=\"#m311f631102\" y=\"565.918125\"/>\n      </g>\n     </g>\n     <g id=\"text_4\">\n      <!-- −2 -->\n      <g transform=\"translate(419.130431 580.516562)scale(0.1 -0.1)\">\n       <defs>\n        <path d=\"M 19.1875 8.296875 \nL 53.609375 8.296875 \nL 53.609375 0 \nL 7.328125 0 \nL 7.328125 8.296875 \nQ 12.9375 14.109375 22.625 23.890625 \nQ 32.328125 33.6875 34.8125 36.53125 \nQ 39.546875 41.84375 41.421875 45.53125 \nQ 43.3125 49.21875 43.3125 52.78125 \nQ 43.3125 58.59375 39.234375 62.25 \nQ 35.15625 65.921875 28.609375 65.921875 \nQ 23.96875 65.921875 18.8125 64.3125 \nQ 13.671875 62.703125 7.8125 59.421875 \nL 7.8125 69.390625 \nQ 13.765625 71.78125 18.9375 73 \nQ 24.125 74.21875 28.421875 74.21875 \nQ 39.75 74.21875 46.484375 68.546875 \nQ 53.21875 62.890625 53.21875 53.421875 \nQ 53.21875 48.921875 51.53125 44.890625 \nQ 49.859375 40.875 45.40625 35.40625 \nQ 44.1875 33.984375 37.640625 27.21875 \nQ 31.109375 20.453125 19.1875 8.296875 \nz\n\" id=\"DejaVuSans-50\"/>\n       </defs>\n       <use xlink:href=\"#DejaVuSans-8722\"/>\n       <use x=\"83.789062\" xlink:href=\"#DejaVuSans-50\"/>\n      </g>\n     </g>\n    </g>\n    <g id=\"xtick_5\">\n     <g id=\"line2d_5\">\n      <g>\n       <use style=\"stroke:#000000;stroke-width:0.8;\" x=\"551.75108\" xlink:href=\"#m311f631102\" y=\"565.918125\"/>\n      </g>\n     </g>\n     <g id=\"text_5\">\n      <!-- 0 -->\n      <g transform=\"translate(548.56983 580.516562)scale(0.1 -0.1)\">\n       <defs>\n        <path d=\"M 31.78125 66.40625 \nQ 24.171875 66.40625 20.328125 58.90625 \nQ 16.5 51.421875 16.5 36.375 \nQ 16.5 21.390625 20.328125 13.890625 \nQ 24.171875 6.390625 31.78125 6.390625 \nQ 39.453125 6.390625 43.28125 13.890625 \nQ 47.125 21.390625 47.125 36.375 \nQ 47.125 51.421875 43.28125 58.90625 \nQ 39.453125 66.40625 31.78125 66.40625 \nz\nM 31.78125 74.21875 \nQ 44.046875 74.21875 50.515625 64.515625 \nQ 56.984375 54.828125 56.984375 36.375 \nQ 56.984375 17.96875 50.515625 8.265625 \nQ 44.046875 -1.421875 31.78125 -1.421875 \nQ 19.53125 -1.421875 13.0625 8.265625 \nQ 6.59375 17.96875 6.59375 36.375 \nQ 6.59375 54.828125 13.0625 64.515625 \nQ 19.53125 74.21875 31.78125 74.21875 \nz\n\" id=\"DejaVuSans-48\"/>\n       </defs>\n       <use xlink:href=\"#DejaVuSans-48\"/>\n      </g>\n     </g>\n    </g>\n    <g id=\"xtick_6\">\n     <g id=\"line2d_6\">\n      <g>\n       <use style=\"stroke:#000000;stroke-width:0.8;\" x=\"677.000635\" xlink:href=\"#m311f631102\" y=\"565.918125\"/>\n      </g>\n     </g>\n     <g id=\"text_6\">\n      <!-- 2 -->\n      <g transform=\"translate(673.819385 580.516562)scale(0.1 -0.1)\">\n       <use xlink:href=\"#DejaVuSans-50\"/>\n      </g>\n     </g>\n    </g>\n    <g id=\"xtick_7\">\n     <g id=\"line2d_7\">\n      <g>\n       <use style=\"stroke:#000000;stroke-width:0.8;\" x=\"802.25019\" xlink:href=\"#m311f631102\" y=\"565.918125\"/>\n      </g>\n     </g>\n     <g id=\"text_7\">\n      <!-- 4 -->\n      <g transform=\"translate(799.06894 580.516562)scale(0.1 -0.1)\">\n       <use xlink:href=\"#DejaVuSans-52\"/>\n      </g>\n     </g>\n    </g>\n    <g id=\"xtick_8\">\n     <g id=\"line2d_8\">\n      <g>\n       <use style=\"stroke:#000000;stroke-width:0.8;\" x=\"927.499746\" xlink:href=\"#m311f631102\" y=\"565.918125\"/>\n      </g>\n     </g>\n     <g id=\"text_8\">\n      <!-- 6 -->\n      <g transform=\"translate(924.318496 580.516562)scale(0.1 -0.1)\">\n       <use xlink:href=\"#DejaVuSans-54\"/>\n      </g>\n     </g>\n    </g>\n    <g id=\"xtick_9\">\n     <g id=\"line2d_9\">\n      <g>\n       <use style=\"stroke:#000000;stroke-width:0.8;\" x=\"1052.749301\" xlink:href=\"#m311f631102\" y=\"565.918125\"/>\n      </g>\n     </g>\n     <g id=\"text_9\">\n      <!-- 8 -->\n      <g transform=\"translate(1049.568051 580.516562)scale(0.1 -0.1)\">\n       <use xlink:href=\"#DejaVuSans-56\"/>\n      </g>\n     </g>\n    </g>\n   </g>\n   <g id=\"matplotlib.axis_2\">\n    <g id=\"ytick_1\">\n     <g id=\"line2d_10\">\n      <defs>\n       <path d=\"M 0 0 \nL -3.5 0 \n\" id=\"m4fa9164279\" style=\"stroke:#000000;stroke-width:0.8;\"/>\n      </defs>\n      <g>\n       <use style=\"stroke:#000000;stroke-width:0.8;\" x=\"44.845313\" xlink:href=\"#m4fa9164279\" y=\"561.161653\"/>\n      </g>\n     </g>\n     <g id=\"text_10\">\n      <!-- −10.0 -->\n      <g transform=\"translate(7.2 564.960871)scale(0.1 -0.1)\">\n       <defs>\n        <path d=\"M 12.40625 8.296875 \nL 28.515625 8.296875 \nL 28.515625 63.921875 \nL 10.984375 60.40625 \nL 10.984375 69.390625 \nL 28.421875 72.90625 \nL 38.28125 72.90625 \nL 38.28125 8.296875 \nL 54.390625 8.296875 \nL 54.390625 0 \nL 12.40625 0 \nz\n\" id=\"DejaVuSans-49\"/>\n        <path d=\"M 10.6875 12.40625 \nL 21 12.40625 \nL 21 0 \nL 10.6875 0 \nz\n\" id=\"DejaVuSans-46\"/>\n       </defs>\n       <use xlink:href=\"#DejaVuSans-8722\"/>\n       <use x=\"83.789062\" xlink:href=\"#DejaVuSans-49\"/>\n       <use x=\"147.412109\" xlink:href=\"#DejaVuSans-48\"/>\n       <use x=\"211.035156\" xlink:href=\"#DejaVuSans-46\"/>\n       <use x=\"242.822266\" xlink:href=\"#DejaVuSans-48\"/>\n      </g>\n     </g>\n    </g>\n    <g id=\"ytick_2\">\n     <g id=\"line2d_11\">\n      <g>\n       <use style=\"stroke:#000000;stroke-width:0.8;\" x=\"44.845313\" xlink:href=\"#m4fa9164279\" y=\"497.288167\"/>\n      </g>\n     </g>\n     <g id=\"text_11\">\n      <!-- −7.5 -->\n      <g transform=\"translate(13.5625 501.087386)scale(0.1 -0.1)\">\n       <defs>\n        <path d=\"M 8.203125 72.90625 \nL 55.078125 72.90625 \nL 55.078125 68.703125 \nL 28.609375 0 \nL 18.3125 0 \nL 43.21875 64.59375 \nL 8.203125 64.59375 \nz\n\" id=\"DejaVuSans-55\"/>\n        <path d=\"M 10.796875 72.90625 \nL 49.515625 72.90625 \nL 49.515625 64.59375 \nL 19.828125 64.59375 \nL 19.828125 46.734375 \nQ 21.96875 47.46875 24.109375 47.828125 \nQ 26.265625 48.1875 28.421875 48.1875 \nQ 40.625 48.1875 47.75 41.5 \nQ 54.890625 34.8125 54.890625 23.390625 \nQ 54.890625 11.625 47.5625 5.09375 \nQ 40.234375 -1.421875 26.90625 -1.421875 \nQ 22.3125 -1.421875 17.546875 -0.640625 \nQ 12.796875 0.140625 7.71875 1.703125 \nL 7.71875 11.625 \nQ 12.109375 9.234375 16.796875 8.0625 \nQ 21.484375 6.890625 26.703125 6.890625 \nQ 35.15625 6.890625 40.078125 11.328125 \nQ 45.015625 15.765625 45.015625 23.390625 \nQ 45.015625 31 40.078125 35.4375 \nQ 35.15625 39.890625 26.703125 39.890625 \nQ 22.75 39.890625 18.8125 39.015625 \nQ 14.890625 38.140625 10.796875 36.28125 \nz\n\" id=\"DejaVuSans-53\"/>\n       </defs>\n       <use xlink:href=\"#DejaVuSans-8722\"/>\n       <use x=\"83.789062\" xlink:href=\"#DejaVuSans-55\"/>\n       <use x=\"147.412109\" xlink:href=\"#DejaVuSans-46\"/>\n       <use x=\"179.199219\" xlink:href=\"#DejaVuSans-53\"/>\n      </g>\n     </g>\n    </g>\n    <g id=\"ytick_3\">\n     <g id=\"line2d_12\">\n      <g>\n       <use style=\"stroke:#000000;stroke-width:0.8;\" x=\"44.845313\" xlink:href=\"#m4fa9164279\" y=\"433.414681\"/>\n      </g>\n     </g>\n     <g id=\"text_12\">\n      <!-- −5.0 -->\n      <g transform=\"translate(13.5625 437.2139)scale(0.1 -0.1)\">\n       <use xlink:href=\"#DejaVuSans-8722\"/>\n       <use x=\"83.789062\" xlink:href=\"#DejaVuSans-53\"/>\n       <use x=\"147.412109\" xlink:href=\"#DejaVuSans-46\"/>\n       <use x=\"179.199219\" xlink:href=\"#DejaVuSans-48\"/>\n      </g>\n     </g>\n    </g>\n    <g id=\"ytick_4\">\n     <g id=\"line2d_13\">\n      <g>\n       <use style=\"stroke:#000000;stroke-width:0.8;\" x=\"44.845313\" xlink:href=\"#m4fa9164279\" y=\"369.541195\"/>\n      </g>\n     </g>\n     <g id=\"text_13\">\n      <!-- −2.5 -->\n      <g transform=\"translate(13.5625 373.340414)scale(0.1 -0.1)\">\n       <use xlink:href=\"#DejaVuSans-8722\"/>\n       <use x=\"83.789062\" xlink:href=\"#DejaVuSans-50\"/>\n       <use x=\"147.412109\" xlink:href=\"#DejaVuSans-46\"/>\n       <use x=\"179.199219\" xlink:href=\"#DejaVuSans-53\"/>\n      </g>\n     </g>\n    </g>\n    <g id=\"ytick_5\">\n     <g id=\"line2d_14\">\n      <g>\n       <use style=\"stroke:#000000;stroke-width:0.8;\" x=\"44.845313\" xlink:href=\"#m4fa9164279\" y=\"305.66771\"/>\n      </g>\n     </g>\n     <g id=\"text_14\">\n      <!-- 0.0 -->\n      <g transform=\"translate(21.942188 309.466928)scale(0.1 -0.1)\">\n       <use xlink:href=\"#DejaVuSans-48\"/>\n       <use x=\"63.623047\" xlink:href=\"#DejaVuSans-46\"/>\n       <use x=\"95.410156\" xlink:href=\"#DejaVuSans-48\"/>\n      </g>\n     </g>\n    </g>\n    <g id=\"ytick_6\">\n     <g id=\"line2d_15\">\n      <g>\n       <use style=\"stroke:#000000;stroke-width:0.8;\" x=\"44.845313\" xlink:href=\"#m4fa9164279\" y=\"241.794224\"/>\n      </g>\n     </g>\n     <g id=\"text_15\">\n      <!-- 2.5 -->\n      <g transform=\"translate(21.942188 245.593443)scale(0.1 -0.1)\">\n       <use xlink:href=\"#DejaVuSans-50\"/>\n       <use x=\"63.623047\" xlink:href=\"#DejaVuSans-46\"/>\n       <use x=\"95.410156\" xlink:href=\"#DejaVuSans-53\"/>\n      </g>\n     </g>\n    </g>\n    <g id=\"ytick_7\">\n     <g id=\"line2d_16\">\n      <g>\n       <use style=\"stroke:#000000;stroke-width:0.8;\" x=\"44.845313\" xlink:href=\"#m4fa9164279\" y=\"177.920738\"/>\n      </g>\n     </g>\n     <g id=\"text_16\">\n      <!-- 5.0 -->\n      <g transform=\"translate(21.942188 181.719957)scale(0.1 -0.1)\">\n       <use xlink:href=\"#DejaVuSans-53\"/>\n       <use x=\"63.623047\" xlink:href=\"#DejaVuSans-46\"/>\n       <use x=\"95.410156\" xlink:href=\"#DejaVuSans-48\"/>\n      </g>\n     </g>\n    </g>\n    <g id=\"ytick_8\">\n     <g id=\"line2d_17\">\n      <g>\n       <use style=\"stroke:#000000;stroke-width:0.8;\" x=\"44.845313\" xlink:href=\"#m4fa9164279\" y=\"114.047252\"/>\n      </g>\n     </g>\n     <g id=\"text_17\">\n      <!-- 7.5 -->\n      <g transform=\"translate(21.942188 117.846471)scale(0.1 -0.1)\">\n       <use xlink:href=\"#DejaVuSans-55\"/>\n       <use x=\"63.623047\" xlink:href=\"#DejaVuSans-46\"/>\n       <use x=\"95.410156\" xlink:href=\"#DejaVuSans-53\"/>\n      </g>\n     </g>\n    </g>\n    <g id=\"ytick_9\">\n     <g id=\"line2d_18\">\n      <g>\n       <use style=\"stroke:#000000;stroke-width:0.8;\" x=\"44.845313\" xlink:href=\"#m4fa9164279\" y=\"50.173767\"/>\n      </g>\n     </g>\n     <g id=\"text_18\">\n      <!-- 10.0 -->\n      <g transform=\"translate(15.579688 53.972985)scale(0.1 -0.1)\">\n       <use xlink:href=\"#DejaVuSans-49\"/>\n       <use x=\"63.623047\" xlink:href=\"#DejaVuSans-48\"/>\n       <use x=\"127.246094\" xlink:href=\"#DejaVuSans-46\"/>\n       <use x=\"159.033203\" xlink:href=\"#DejaVuSans-48\"/>\n      </g>\n     </g>\n    </g>\n   </g>\n   <g id=\"patch_3\">\n    <path d=\"M 44.845313 565.918125 \nL 44.845313 22.318125 \n\" style=\"fill:none;stroke:#000000;stroke-linecap:square;stroke-linejoin:miter;stroke-width:0.8;\"/>\n   </g>\n   <g id=\"patch_4\">\n    <path d=\"M 1160.845313 565.918125 \nL 1160.845313 22.318125 \n\" style=\"fill:none;stroke:#000000;stroke-linecap:square;stroke-linejoin:miter;stroke-width:0.8;\"/>\n   </g>\n   <g id=\"patch_5\">\n    <path d=\"M 44.845313 565.918125 \nL 1160.845313 565.918125 \n\" style=\"fill:none;stroke:#000000;stroke-linecap:square;stroke-linejoin:miter;stroke-width:0.8;\"/>\n   </g>\n   <g id=\"patch_6\">\n    <path d=\"M 44.845313 22.318125 \nL 1160.845313 22.318125 \n\" style=\"fill:none;stroke:#000000;stroke-linecap:square;stroke-linejoin:miter;stroke-width:0.8;\"/>\n   </g>\n   <g id=\"text_19\">\n    <!-- TSNE visualization -->\n    <g transform=\"translate(547.709062 16.318125)scale(0.12 -0.12)\">\n     <defs>\n      <path d=\"M -0.296875 72.90625 \nL 61.375 72.90625 \nL 61.375 64.59375 \nL 35.5 64.59375 \nL 35.5 0 \nL 25.59375 0 \nL 25.59375 64.59375 \nL -0.296875 64.59375 \nz\n\" id=\"DejaVuSans-84\"/>\n      <path d=\"M 53.515625 70.515625 \nL 53.515625 60.890625 \nQ 47.90625 63.578125 42.921875 64.890625 \nQ 37.9375 66.21875 33.296875 66.21875 \nQ 25.25 66.21875 20.875 63.09375 \nQ 16.5 59.96875 16.5 54.203125 \nQ 16.5 49.359375 19.40625 46.890625 \nQ 22.3125 44.4375 30.421875 42.921875 \nL 36.375 41.703125 \nQ 47.40625 39.59375 52.65625 34.296875 \nQ 57.90625 29 57.90625 20.125 \nQ 57.90625 9.515625 50.796875 4.046875 \nQ 43.703125 -1.421875 29.984375 -1.421875 \nQ 24.8125 -1.421875 18.96875 -0.25 \nQ 13.140625 0.921875 6.890625 3.21875 \nL 6.890625 13.375 \nQ 12.890625 10.015625 18.65625 8.296875 \nQ 24.421875 6.59375 29.984375 6.59375 \nQ 38.421875 6.59375 43.015625 9.90625 \nQ 47.609375 13.234375 47.609375 19.390625 \nQ 47.609375 24.75 44.3125 27.78125 \nQ 41.015625 30.8125 33.5 32.328125 \nL 27.484375 33.5 \nQ 16.453125 35.6875 11.515625 40.375 \nQ 6.59375 45.0625 6.59375 53.421875 \nQ 6.59375 63.09375 13.40625 68.65625 \nQ 20.21875 74.21875 32.171875 74.21875 \nQ 37.3125 74.21875 42.625 73.28125 \nQ 47.953125 72.359375 53.515625 70.515625 \nz\n\" id=\"DejaVuSans-83\"/>\n      <path d=\"M 9.8125 72.90625 \nL 23.09375 72.90625 \nL 55.421875 11.921875 \nL 55.421875 72.90625 \nL 64.984375 72.90625 \nL 64.984375 0 \nL 51.703125 0 \nL 19.390625 60.984375 \nL 19.390625 0 \nL 9.8125 0 \nz\n\" id=\"DejaVuSans-78\"/>\n      <path d=\"M 9.8125 72.90625 \nL 55.90625 72.90625 \nL 55.90625 64.59375 \nL 19.671875 64.59375 \nL 19.671875 43.015625 \nL 54.390625 43.015625 \nL 54.390625 34.71875 \nL 19.671875 34.71875 \nL 19.671875 8.296875 \nL 56.78125 8.296875 \nL 56.78125 0 \nL 9.8125 0 \nz\n\" id=\"DejaVuSans-69\"/>\n      <path id=\"DejaVuSans-32\"/>\n      <path d=\"M 2.984375 54.6875 \nL 12.5 54.6875 \nL 29.59375 8.796875 \nL 46.6875 54.6875 \nL 56.203125 54.6875 \nL 35.6875 0 \nL 23.484375 0 \nz\n\" id=\"DejaVuSans-118\"/>\n      <path d=\"M 9.421875 54.6875 \nL 18.40625 54.6875 \nL 18.40625 0 \nL 9.421875 0 \nz\nM 9.421875 75.984375 \nL 18.40625 75.984375 \nL 18.40625 64.59375 \nL 9.421875 64.59375 \nz\n\" id=\"DejaVuSans-105\"/>\n      <path d=\"M 44.28125 53.078125 \nL 44.28125 44.578125 \nQ 40.484375 46.53125 36.375 47.5 \nQ 32.28125 48.484375 27.875 48.484375 \nQ 21.1875 48.484375 17.84375 46.4375 \nQ 14.5 44.390625 14.5 40.28125 \nQ 14.5 37.15625 16.890625 35.375 \nQ 19.28125 33.59375 26.515625 31.984375 \nL 29.59375 31.296875 \nQ 39.15625 29.25 43.1875 25.515625 \nQ 47.21875 21.78125 47.21875 15.09375 \nQ 47.21875 7.46875 41.1875 3.015625 \nQ 35.15625 -1.421875 24.609375 -1.421875 \nQ 20.21875 -1.421875 15.453125 -0.5625 \nQ 10.6875 0.296875 5.421875 2 \nL 5.421875 11.28125 \nQ 10.40625 8.6875 15.234375 7.390625 \nQ 20.0625 6.109375 24.8125 6.109375 \nQ 31.15625 6.109375 34.5625 8.28125 \nQ 37.984375 10.453125 37.984375 14.40625 \nQ 37.984375 18.0625 35.515625 20.015625 \nQ 33.0625 21.96875 24.703125 23.78125 \nL 21.578125 24.515625 \nQ 13.234375 26.265625 9.515625 29.90625 \nQ 5.8125 33.546875 5.8125 39.890625 \nQ 5.8125 47.609375 11.28125 51.796875 \nQ 16.75 56 26.8125 56 \nQ 31.78125 56 36.171875 55.265625 \nQ 40.578125 54.546875 44.28125 53.078125 \nz\n\" id=\"DejaVuSans-115\"/>\n      <path d=\"M 8.5 21.578125 \nL 8.5 54.6875 \nL 17.484375 54.6875 \nL 17.484375 21.921875 \nQ 17.484375 14.15625 20.5 10.265625 \nQ 23.53125 6.390625 29.59375 6.390625 \nQ 36.859375 6.390625 41.078125 11.03125 \nQ 45.3125 15.671875 45.3125 23.6875 \nL 45.3125 54.6875 \nL 54.296875 54.6875 \nL 54.296875 0 \nL 45.3125 0 \nL 45.3125 8.40625 \nQ 42.046875 3.421875 37.71875 1 \nQ 33.40625 -1.421875 27.6875 -1.421875 \nQ 18.265625 -1.421875 13.375 4.4375 \nQ 8.5 10.296875 8.5 21.578125 \nz\nM 31.109375 56 \nz\n\" id=\"DejaVuSans-117\"/>\n      <path d=\"M 34.28125 27.484375 \nQ 23.390625 27.484375 19.1875 25 \nQ 14.984375 22.515625 14.984375 16.5 \nQ 14.984375 11.71875 18.140625 8.90625 \nQ 21.296875 6.109375 26.703125 6.109375 \nQ 34.1875 6.109375 38.703125 11.40625 \nQ 43.21875 16.703125 43.21875 25.484375 \nL 43.21875 27.484375 \nz\nM 52.203125 31.203125 \nL 52.203125 0 \nL 43.21875 0 \nL 43.21875 8.296875 \nQ 40.140625 3.328125 35.546875 0.953125 \nQ 30.953125 -1.421875 24.3125 -1.421875 \nQ 15.921875 -1.421875 10.953125 3.296875 \nQ 6 8.015625 6 15.921875 \nQ 6 25.140625 12.171875 29.828125 \nQ 18.359375 34.515625 30.609375 34.515625 \nL 43.21875 34.515625 \nL 43.21875 35.40625 \nQ 43.21875 41.609375 39.140625 45 \nQ 35.0625 48.390625 27.6875 48.390625 \nQ 23 48.390625 18.546875 47.265625 \nQ 14.109375 46.140625 10.015625 43.890625 \nL 10.015625 52.203125 \nQ 14.9375 54.109375 19.578125 55.046875 \nQ 24.21875 56 28.609375 56 \nQ 40.484375 56 46.34375 49.84375 \nQ 52.203125 43.703125 52.203125 31.203125 \nz\n\" id=\"DejaVuSans-97\"/>\n      <path d=\"M 9.421875 75.984375 \nL 18.40625 75.984375 \nL 18.40625 0 \nL 9.421875 0 \nz\n\" id=\"DejaVuSans-108\"/>\n      <path d=\"M 5.515625 54.6875 \nL 48.1875 54.6875 \nL 48.1875 46.484375 \nL 14.40625 7.171875 \nL 48.1875 7.171875 \nL 48.1875 0 \nL 4.296875 0 \nL 4.296875 8.203125 \nL 38.09375 47.515625 \nL 5.515625 47.515625 \nz\n\" id=\"DejaVuSans-122\"/>\n      <path d=\"M 18.3125 70.21875 \nL 18.3125 54.6875 \nL 36.8125 54.6875 \nL 36.8125 47.703125 \nL 18.3125 47.703125 \nL 18.3125 18.015625 \nQ 18.3125 11.328125 20.140625 9.421875 \nQ 21.96875 7.515625 27.59375 7.515625 \nL 36.8125 7.515625 \nL 36.8125 0 \nL 27.59375 0 \nQ 17.1875 0 13.234375 3.875 \nQ 9.28125 7.765625 9.28125 18.015625 \nL 9.28125 47.703125 \nL 2.6875 47.703125 \nL 2.6875 54.6875 \nL 9.28125 54.6875 \nL 9.28125 70.21875 \nz\n\" id=\"DejaVuSans-116\"/>\n      <path d=\"M 30.609375 48.390625 \nQ 23.390625 48.390625 19.1875 42.75 \nQ 14.984375 37.109375 14.984375 27.296875 \nQ 14.984375 17.484375 19.15625 11.84375 \nQ 23.34375 6.203125 30.609375 6.203125 \nQ 37.796875 6.203125 41.984375 11.859375 \nQ 46.1875 17.53125 46.1875 27.296875 \nQ 46.1875 37.015625 41.984375 42.703125 \nQ 37.796875 48.390625 30.609375 48.390625 \nz\nM 30.609375 56 \nQ 42.328125 56 49.015625 48.375 \nQ 55.71875 40.765625 55.71875 27.296875 \nQ 55.71875 13.875 49.015625 6.21875 \nQ 42.328125 -1.421875 30.609375 -1.421875 \nQ 18.84375 -1.421875 12.171875 6.21875 \nQ 5.515625 13.875 5.515625 27.296875 \nQ 5.515625 40.765625 12.171875 48.375 \nQ 18.84375 56 30.609375 56 \nz\n\" id=\"DejaVuSans-111\"/>\n      <path d=\"M 54.890625 33.015625 \nL 54.890625 0 \nL 45.90625 0 \nL 45.90625 32.71875 \nQ 45.90625 40.484375 42.875 44.328125 \nQ 39.84375 48.1875 33.796875 48.1875 \nQ 26.515625 48.1875 22.3125 43.546875 \nQ 18.109375 38.921875 18.109375 30.90625 \nL 18.109375 0 \nL 9.078125 0 \nL 9.078125 54.6875 \nL 18.109375 54.6875 \nL 18.109375 46.1875 \nQ 21.34375 51.125 25.703125 53.5625 \nQ 30.078125 56 35.796875 56 \nQ 45.21875 56 50.046875 50.171875 \nQ 54.890625 44.34375 54.890625 33.015625 \nz\n\" id=\"DejaVuSans-110\"/>\n     </defs>\n     <use xlink:href=\"#DejaVuSans-84\"/>\n     <use x=\"61.083984\" xlink:href=\"#DejaVuSans-83\"/>\n     <use x=\"124.560547\" xlink:href=\"#DejaVuSans-78\"/>\n     <use x=\"199.365234\" xlink:href=\"#DejaVuSans-69\"/>\n     <use x=\"262.548828\" xlink:href=\"#DejaVuSans-32\"/>\n     <use x=\"294.335938\" xlink:href=\"#DejaVuSans-118\"/>\n     <use x=\"353.515625\" xlink:href=\"#DejaVuSans-105\"/>\n     <use x=\"381.298828\" xlink:href=\"#DejaVuSans-115\"/>\n     <use x=\"433.398438\" xlink:href=\"#DejaVuSans-117\"/>\n     <use x=\"496.777344\" xlink:href=\"#DejaVuSans-97\"/>\n     <use x=\"558.056641\" xlink:href=\"#DejaVuSans-108\"/>\n     <use x=\"585.839844\" xlink:href=\"#DejaVuSans-105\"/>\n     <use x=\"613.623047\" xlink:href=\"#DejaVuSans-122\"/>\n     <use x=\"666.113281\" xlink:href=\"#DejaVuSans-97\"/>\n     <use x=\"727.392578\" xlink:href=\"#DejaVuSans-116\"/>\n     <use x=\"766.601562\" xlink:href=\"#DejaVuSans-105\"/>\n     <use x=\"794.384766\" xlink:href=\"#DejaVuSans-111\"/>\n     <use x=\"855.566406\" xlink:href=\"#DejaVuSans-110\"/>\n    </g>\n   </g>\n  </g>\n </g>\n <defs>\n  <clipPath id=\"p0dd6970e85\">\n   <rect height=\"543.6\" width=\"1116\" x=\"44.845313\" y=\"22.318125\"/>\n  </clipPath>\n </defs>\n</svg>\n",
            "image/png": "[encoded data removed]"
          },
          "metadata": {
            "needs_background": "light"
          }
        }
      ]
    },
    {
      "cell_type": "markdown",
      "metadata": {
        "id": "3_HR5GjFpjik"
      },
      "source": [
        "*   What do you infer from the t-SNE plot?"
      ]
    },
    {
      "cell_type": "markdown",
      "metadata": {
        "id": "ueY9rvGBrVIc"
      },
      "source": [
        "**Solution**\n",
        "\n",
        "*(Double-click or enter to edit)*\n",
        "\n",
        "..."
      ]
    },
    {
      "cell_type": "markdown",
      "metadata": {
        "id": "eafGx0Hv9M6p"
      },
      "source": [
        "*   Compare the performance of both the BoVW models. Which model works better and why?"
      ]
    },
    {
      "cell_type": "markdown",
      "metadata": {
        "id": "U9SOuiKwiXkr"
      },
      "source": [
        "**Solution**\n",
        "\n",
        "*(Double-click or enter to edit)*\n",
        "\n",
        "..."
      ]
    },
    {
      "cell_type": "markdown",
      "metadata": {
        "id": "8BuiFGxPjDb1"
      },
      "source": [
        "*   Can the performance of pre-trained model increased further? If so, how?"
      ]
    },
    {
      "cell_type": "markdown",
      "metadata": {
        "id": "0kuJnOb9jE9r"
      },
      "source": [
        "**Solution**\n",
        "\n",
        "*(Double-click or enter to edit)*\n",
        "\n",
        "..."
      ]
    },
    {
      "cell_type": "markdown",
      "metadata": {
        "id": "NnN_t5Me7N5O"
      },
      "source": [
        "\n",
        "---\n",
        "\n",
        "## **End of P7: Image Classification using Bag of Visual Words**\n",
        "Deadline for P7 submission in CampusVirtual is: **Thursday, the 26th of November, 2020**"
      ]
    }
  ]
}