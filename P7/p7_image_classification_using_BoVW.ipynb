{
  "nbformat": 4,
  "nbformat_minor": 0,
  "metadata": {
    "colab": {
      "name": "p7_image_classification_using_BoVW.ipynb",
      "provenance": [],
      "collapsed_sections": []
    },
    "kernelspec": {
      "name": "python3",
      "display_name": "Python 3.7.9 64-bit",
      "metadata": {
        "interpreter": {
          "hash": "4f8c99a60de0199dfea782883644dfbcaef922b69ec165979a50d36522774233"
        }
      }
    }
  },
  "cells": [
    {
      "cell_type": "markdown",
      "metadata": {
        "id": "Sk0eYw8ojrFq"
      },
      "source": [
        "# Laboratory #07 : Image Classification using Bag of Visual Words\n",
        "\n",
        "At the end of this laboratory, you would get familiarized with\n",
        "\n",
        "*   Creating Bag of Visual Words\n",
        "    *   Feature Extraction\n",
        "    *   Codebook construction\n",
        "    *   Classification\n",
        "*   Using pre-trained deep networks for feature extraction\n",
        "\n",
        "**Remember this is a graded exercise.**\n",
        "\n",
        "*   For every plot, make sure you provide appropriate titles, axis labels, legends, wherever applicable.\n",
        "*   Create reusable functions where ever possible, so that the code could be reused at different places.\n",
        "*   Use will have to mount your drive if you need to access images.\n",
        "\n",
        "---"
      ]
    },
    {
      "cell_type": "code",
      "metadata": {
        "id": "aD5-E8PuaQ5P"
      },
      "source": [
        "# Loading necessary libraries (Feel free to add new libraries if you need for any computation)\n",
        "\n",
        "import os\n",
        "import numpy as np\n",
        "from tqdm import tqdm\n",
        "\n",
        "from sklearn.model_selection import train_test_split\n",
        "from skimage.feature import ORB\n",
        "from skimage.color import rgb2gray\n",
        "from skimage.io import imread\n",
        "from skimage import feature\n",
        "\n",
        "from matplotlib import pyplot as plt"
      ],
      "execution_count": 32,
      "outputs": []
    },
    {
      "cell_type": "code",
      "execution_count": 33,
      "metadata": {},
      "outputs": [],
      "source": [
        "def loadImage(imagePath, gray=False):\n",
        "    image = imread(imagePath)\n",
        "    if gray and len(image.shape) > 2:\n",
        "        image_gray = image\n",
        "        image_gray = rgb2gray(image_gray)\n",
        "        return image_gray\n",
        "    return image"
      ]
    },
    {
      "cell_type": "markdown",
      "metadata": {
        "id": "ampx9DIJiuGN"
      },
      "source": [
        "## Loading dataset\n",
        "\n",
        "We will use 3 categories from Caltech 101 objects dataset for this experiment. Upload the dataset to the drive and mount it."
      ]
    },
    {
      "cell_type": "code",
      "metadata": {
        "id": "PRSJP1XbG6-a"
      },
      "source": [
        "# modify the dataset variable with the path from your drive\n",
        "\n",
        "dataset_path = '.'"
      ],
      "execution_count": 34,
      "outputs": []
    },
    {
      "cell_type": "code",
      "metadata": {
        "id": "EQptvDX5AFem"
      },
      "source": [
        "# creating the list of files and corresponding labels\n",
        "\n",
        "data = []\n",
        "labels = []\n",
        "\n",
        "categories = ['butterfly', 'kangaroo', 'dalmatian']\n",
        "\n",
        "for idx, cat in enumerate(categories):\n",
        "    path = os.path.join(dataset_path, cat)\n",
        "    files_list = os.listdir(path)\n",
        "    for filename in files_list:\n",
        "        data.append(os.path.join(path, filename))\n",
        "        labels.append(idx)\n",
        "\n",
        "labels = np.array(labels)\n",
        "\n",
        "print('Total number of images:', len(data))"
      ],
      "execution_count": 35,
      "outputs": [
        {
          "output_type": "stream",
          "name": "stdout",
          "text": [
            "Total number of images: 244\n"
          ]
        }
      ]
    },
    {
      "cell_type": "code",
      "metadata": {
        "id": "QdA92ENTfKE-"
      },
      "source": [
        "ncl = len(categories) * 10"
      ],
      "execution_count": 36,
      "outputs": []
    },
    {
      "cell_type": "code",
      "metadata": {
        "id": "QzYnjzXBZXXt"
      },
      "source": [
        "# creating train test split\n",
        "\n",
        "\n",
        "\n",
        "x_train, x_test, y_train, y_test = train_test_split(data, labels, test_size=0.2, random_state=42)\n",
        "\n",
        "print('Train set:', len(x_train))\n",
        "print('Test set:', len(x_test))"
      ],
      "execution_count": 37,
      "outputs": [
        {
          "output_type": "stream",
          "name": "stdout",
          "text": [
            "Train set: 195\nTest set: 49\n"
          ]
        }
      ]
    },
    {
      "cell_type": "markdown",
      "metadata": {
        "id": "18OZf2kfkVNB"
      },
      "source": [
        "## Feature Extraction using ORB\n",
        "\n",
        "The first step is to extract descriptors for each image in our dataset. We will use ORB to extract descriptors.\n",
        "\n",
        "*   Create ORB detector with 64 keypoints.\n"
      ]
    },
    {
      "cell_type": "code",
      "metadata": {
        "id": "ptLbPcoow-ar"
      },
      "source": [
        "# solution\n",
        "\n",
        "orbExtractor = feature.ORB(n_keypoints=64)"
      ],
      "execution_count": 38,
      "outputs": []
    },
    {
      "cell_type": "markdown",
      "metadata": {
        "id": "3yinPkL8brow"
      },
      "source": [
        "*   Extract ORB descriptors from all the images in the train set.\n",
        "*   Note that, each patch would produce a descriptor of size (256,). So each image would return (N x 256) descriptors, where N is the number of keypoints."
      ]
    },
    {
      "cell_type": "code",
      "execution_count": 39,
      "metadata": {},
      "outputs": [
        {
          "output_type": "stream",
          "name": "stderr",
          "text": [
            "100%|██████████| 195/195 [00:45<00:00,  4.26it/s]\n"
          ]
        }
      ],
      "source": [
        "# solution\n",
        "x_trainOrb = []\n",
        "for imagePath in tqdm(x_train):\n",
        "    image = loadImage(imagePath, gray=True)\n",
        "    orbExtractor.detect_and_extract(image)\n",
        "    x_trainOrb.append(orbExtractor.descriptors)"
      ]
    },
    {
      "cell_type": "code",
      "metadata": {
        "id": "XYo0GYeOxeHM"
      },
      "source": [
        "# solution\n",
        "print(\"number of images: \", len(x_trainOrb))\n",
        "print(\"shape of features extracted: \", x_trainOrb[0].shape)\n",
        "assert x_trainOrb[0].shape == (64, 256)"
      ],
      "execution_count": 40,
      "outputs": [
        {
          "output_type": "stream",
          "name": "stdout",
          "text": [
            "number of images:  195\nshape of features extracted:  (64, 256)\n"
          ]
        }
      ]
    },
    {
      "cell_type": "markdown",
      "metadata": {
        "id": "420YQkAzleTQ"
      },
      "source": [
        "## Codebook Construction\n",
        "\n",
        "Codewords are nothing but vector representation of similar patches. This codeword produces a codebook similar to a word dictionary. We will create the codebook using K-Means algorithm\n",
        "\n",
        "*   Create a codebook using K-Means with k=number_of_classes*10\n",
        "*   Hint: Use sklearn.cluster.MiniBatchKMeans for K-Means"
      ]
    },
    {
      "cell_type": "code",
      "metadata": {
        "id": "UJSBg-QCd--0"
      },
      "source": [
        "from sklearn.cluster import MiniBatchKMeans"
      ],
      "execution_count": 41,
      "outputs": []
    },
    {
      "cell_type": "code",
      "metadata": {
        "id": "iO0e4718ppJt"
      },
      "source": [
        "# solution\n",
        "descriptors = np.vstack(x_trainOrb)\n",
        "k = len(np.unique(labels))*10\n",
        "clustering = MiniBatchKMeans(n_clusters=k)\n",
        "klabels = clustering.fit_predict(descriptors)"
      ],
      "execution_count": 42,
      "outputs": []
    },
    {
      "cell_type": "markdown",
      "metadata": {
        "id": "0GAD_JuNpqMt"
      },
      "source": [
        "*   Create a histogram using the cluster centers for each image descriptor.\n",
        "    *   Remember the histogram would be of size *n_images x n_clusters*.\n",
        "    *   Calculate the histogram and divide by the feature length to normalize"
      ]
    },
    {
      "cell_type": "code",
      "metadata": {
        "id": "SR0_9HnbDFBe",
        "tags": []
      },
      "source": [
        "# solution\n",
        "klabels_img = klabels.reshape(-1, 64)\n",
        "cluster_histograms = []\n",
        "for image_labels in klabels_img:\n",
        "    hist, _ = np.histogram(image_labels, bins=k)\n",
        "    hist = hist / image_labels.shape[0]\n",
        "    cluster_histograms.append(hist)\n",
        "dictionary = np.vstack(cluster_histograms)\n",
        "dictionary.shape"
      ],
      "execution_count": 43,
      "outputs": [
        {
          "output_type": "execute_result",
          "data": {
            "text/plain": [
              "(195, 30)"
            ]
          },
          "metadata": {},
          "execution_count": 43
        }
      ]
    },
    {
      "cell_type": "markdown",
      "metadata": {
        "id": "jmRO7dfLjgZa"
      },
      "source": [
        "\n",
        "# Creating Classification Model\n",
        "\n",
        "*   The next step is to create a classification model. We will use a C-Support Vector Classification for creating the model.\n",
        "\n"
      ]
    },
    {
      "cell_type": "code",
      "metadata": {
        "id": "K7VTBz1Oimtz"
      },
      "source": [
        "from sklearn.svm import SVC\n",
        "from sklearn.model_selection import GridSearchCV"
      ],
      "execution_count": 44,
      "outputs": []
    },
    {
      "cell_type": "code",
      "metadata": {
        "id": "IjFFpykV-GOI"
      },
      "source": [
        "# note the usage of grid search to select the best parameters\n",
        "\n",
        "gammas = np.logspace(-6, -1, 10)\n",
        "C = np.array([0.5, 1, 2, 4, 8, 10, 15, 20, 50, 100, 200, 375, 500, 1000])\n",
        "\n",
        "svc = SVC(decision_function_shape='ovr')\n",
        "\n",
        "clf = GridSearchCV(estimator=svc, param_grid=dict(gamma=gammas, C=C), n_jobs=-1)\n",
        "\n",
        "clf.fit(dictionary, y_train)\n",
        "\n",
        "print('Best accuracy:', clf.best_score_) \n",
        "print('The best value of gamma:', clf.best_estimator_.gamma)\n",
        "print('The best value of C:', clf.best_estimator_.C)"
      ],
      "execution_count": 45,
      "outputs": [
        {
          "output_type": "stream",
          "name": "stdout",
          "text": [
            "Best accuracy: 0.5384615384615384\nThe best value of gamma: 0.1\nThe best value of C: 50.0\n"
          ]
        }
      ]
    },
    {
      "cell_type": "markdown",
      "metadata": {
        "id": "eqThTmO5j1-p"
      },
      "source": [
        "# Testing the Classification Model\n",
        "\n",
        "*   Extract descriptors using ORB for the test split\n",
        "*   Use the previously trained k-means to generate the histogram\n",
        "*   Use the classifier to predict the label\n"
      ]
    },
    {
      "cell_type": "code",
      "metadata": {
        "id": "gVl3FzQWgv54"
      },
      "source": [
        "from sklearn.metrics import accuracy_score\n",
        "from sklearn.metrics import confusion_matrix"
      ],
      "execution_count": 46,
      "outputs": []
    },
    {
      "cell_type": "code",
      "metadata": {
        "id": "x2Gzbww9e0pP"
      },
      "source": [
        "# solution\n",
        "x_testOrb = []\n",
        "for imagePath in tqdm(x_test):\n",
        "    image = loadImage(imagePath, gray=True)\n",
        "    orbExtractor.detect_and_extract(image)\n",
        "    x_testOrb.append(orbExtractor.descriptors)"
      ],
      "execution_count": 47,
      "outputs": [
        {
          "output_type": "stream",
          "name": "stderr",
          "text": [
            "100%|██████████| 49/49 [00:11<00:00,  4.38it/s]\n"
          ]
        }
      ]
    },
    {
      "cell_type": "code",
      "execution_count": 48,
      "metadata": {},
      "outputs": [],
      "source": [
        "testklabels = clustering.predict(np.vstack(x_testOrb))"
      ]
    },
    {
      "cell_type": "code",
      "execution_count": 49,
      "metadata": {},
      "outputs": [
        {
          "output_type": "stream",
          "name": "stdout",
          "text": [
            "(49, 64)\n"
          ]
        },
        {
          "output_type": "execute_result",
          "data": {
            "text/plain": [
              "(49, 30)"
            ]
          },
          "metadata": {},
          "execution_count": 49
        }
      ],
      "source": [
        "klabels_test_img = testklabels.reshape(-1, 64)\n",
        "print(klabels_test_img.shape)\n",
        "test_cluster_histograms = []\n",
        "for image_labels in klabels_test_img:\n",
        "    hist, _ = np.histogram(image_labels, bins=k)\n",
        "    hist = hist / image_labels.shape[0]\n",
        "    test_cluster_histograms.append(hist)\n",
        "testdictionary = np.vstack(test_cluster_histograms)\n",
        "testdictionary.shape"
      ]
    },
    {
      "cell_type": "code",
      "execution_count": 50,
      "metadata": {},
      "outputs": [],
      "source": [
        "predicted_labels = clf.predict(testdictionary)"
      ]
    },
    {
      "cell_type": "code",
      "execution_count": 51,
      "metadata": {},
      "outputs": [
        {
          "output_type": "stream",
          "name": "stdout",
          "text": [
            "(49,)\n(49,)\n"
          ]
        }
      ],
      "source": [
        "print(predicted_labels.shape)\n",
        "print(y_test.shape)"
      ]
    },
    {
      "cell_type": "markdown",
      "metadata": {
        "id": "gGyQUtU3lAEz"
      },
      "source": [
        "*   Calculate the accuracy score for the classification model"
      ]
    },
    {
      "cell_type": "code",
      "metadata": {
        "id": "PszxSB0Ek_Lt"
      },
      "source": [
        "# solution\n",
        "print(confusion_matrix(predicted_labels, y_test))\n",
        "print(f\"Classification accuracy: {100*accuracy_score(predicted_labels, y_test):.2f}%\")\n"
      ],
      "execution_count": 52,
      "outputs": [
        {
          "output_type": "stream",
          "name": "stdout",
          "text": [
            "[[14  4  2]\n [ 4 11  6]\n [ 1  3  4]]\nClassification accuracy: 59.18%\n"
          ]
        }
      ]
    },
    {
      "cell_type": "markdown",
      "metadata": {
        "id": "7TN4rRra9yv_"
      },
      "source": [
        "*   Why do we use Clustering to create the codebook? \n",
        "*   What are the other techniques that can be used to create the codebook?"
      ]
    },
    {
      "cell_type": "markdown",
      "metadata": {
        "id": "Ri9kU3wa3Rei"
      },
      "source": [
        "**Solution**\n",
        "\n",
        "*(Double-click or enter to edit)*\n",
        "\n",
        "..."
      ]
    },
    {
      "cell_type": "markdown",
      "metadata": {
        "id": "K-8E3dBw8Zoa"
      },
      "source": [
        "# Extracting features from Deep Network\n",
        "\n",
        "It is quite possible to extract features (similar to SIFT or ORB) from different layers of deep network.\n",
        "\n",
        "*   Load ResNet50 model with imagenet weights and check the summary of the model\n",
        "*   Create a model to extract features from the 'avg_pool' layer.\n",
        "*   Extract features from the layer for all the train images."
      ]
    },
    {
      "cell_type": "code",
      "metadata": {
        "id": "xbDjklM3l0uq"
      },
      "source": [
        "import tensorflow as tf\n",
        "from tensorflow.keras.applications import ResNet50\n",
        "from tensorflow.keras import Model"
      ],
      "execution_count": 98,
      "outputs": []
    },
    {
      "cell_type": "code",
      "metadata": {
        "id": "89QGrzE5l7gu",
        "tags": []
      },
      "source": [
        "# solution\n",
        "class embeddingExtractor(Model):\n",
        "    def __init__(self, *args, **kwargs):\n",
        "        super(embeddingExtractor, self).__init__()\n",
        "        self.model = ResNet50(*args, **kwargs)\n",
        "    \n",
        "    def extractEmbedding(self, layer):\n",
        "        return self.model.get_layer(layer).output\n",
        "\n",
        "    def summary(self):\n",
        "        return self.model.summary()\n",
        "\n",
        "    def __call__(self, inputTensor):\n",
        "        return self.model(inputTensor)\n",
        "\n",
        "r50 = embeddingExtractor(weights='imagenet', )\n",
        "# r50.summary()\n",
        "r50.extractEmbedding('avg_pool')"
      ],
      "execution_count": 99,
      "outputs": [
        {
          "output_type": "execute_result",
          "data": {
            "text/plain": [
              "<tf.Tensor 'avg_pool/Mean_11:0' shape=(None, 2048) dtype=float32>"
            ]
          },
          "metadata": {},
          "execution_count": 99
        }
      ]
    },
    {
      "cell_type": "code",
      "metadata": {
        "id": "EJ83bPO3mO16",
        "tags": []
      },
      "source": [
        "# solution\n",
        "embeddings = []\n",
        "for imagePath in tqdm(x_train):\n",
        "    image = tf.convert_to_tensor(loadImage(imagePath))\n",
        "    image = tf.expand_dims(tf.transpose(image, [2, 0, 1]), 0)\n",
        "    print(image.shape)\n",
        "    r50(image)\n",
        "    embedding = r50.extractEmbedding('avg_pool')\n",
        "    embeddings.append(embedding)"
      ],
      "execution_count": 106,
      "outputs": [
        {
          "output_type": "stream",
          "name": "stderr",
          "text": [
            "  0%|          | 0/195 [00:00<?, ?it/s](1, 3, 272, 300)\n",
            "\n"
          ]
        },
        {
          "output_type": "error",
          "ename": "UnimplementedError",
          "evalue": "The Conv2D op currently does not support grouped convolutions on the CPU. A grouped convolution was attempted to be run because the input depth of 300 does not match the filter input depth of 3 [Op:Conv2D]",
          "traceback": [
            "\u001b[0;31m---------------------------------------------------------------------------\u001b[0m",
            "\u001b[0;31mUnimplementedError\u001b[0m                        Traceback (most recent call last)",
            "\u001b[0;32m<ipython-input-106-3a33a427a695>\u001b[0m in \u001b[0;36m<module>\u001b[0;34m\u001b[0m\n\u001b[1;32m      5\u001b[0m     \u001b[0mimage\u001b[0m \u001b[0;34m=\u001b[0m \u001b[0mtf\u001b[0m\u001b[0;34m.\u001b[0m\u001b[0mexpand_dims\u001b[0m\u001b[0;34m(\u001b[0m\u001b[0mtf\u001b[0m\u001b[0;34m.\u001b[0m\u001b[0mtranspose\u001b[0m\u001b[0;34m(\u001b[0m\u001b[0mimage\u001b[0m\u001b[0;34m,\u001b[0m \u001b[0;34m[\u001b[0m\u001b[0;36m2\u001b[0m\u001b[0;34m,\u001b[0m \u001b[0;36m0\u001b[0m\u001b[0;34m,\u001b[0m \u001b[0;36m1\u001b[0m\u001b[0;34m]\u001b[0m\u001b[0;34m)\u001b[0m\u001b[0;34m,\u001b[0m \u001b[0;36m0\u001b[0m\u001b[0;34m)\u001b[0m\u001b[0;34m\u001b[0m\u001b[0;34m\u001b[0m\u001b[0m\n\u001b[1;32m      6\u001b[0m     \u001b[0mprint\u001b[0m\u001b[0;34m(\u001b[0m\u001b[0mimage\u001b[0m\u001b[0;34m.\u001b[0m\u001b[0mshape\u001b[0m\u001b[0;34m)\u001b[0m\u001b[0;34m\u001b[0m\u001b[0;34m\u001b[0m\u001b[0m\n\u001b[0;32m----> 7\u001b[0;31m     \u001b[0mr50\u001b[0m\u001b[0;34m(\u001b[0m\u001b[0mimage\u001b[0m\u001b[0;34m)\u001b[0m\u001b[0;34m\u001b[0m\u001b[0;34m\u001b[0m\u001b[0m\n\u001b[0m\u001b[1;32m      8\u001b[0m     \u001b[0membedding\u001b[0m \u001b[0;34m=\u001b[0m \u001b[0mr50\u001b[0m\u001b[0;34m.\u001b[0m\u001b[0mextractEmbedding\u001b[0m\u001b[0;34m(\u001b[0m\u001b[0;34m'avg_pool'\u001b[0m\u001b[0;34m)\u001b[0m\u001b[0;34m\u001b[0m\u001b[0;34m\u001b[0m\u001b[0m\n\u001b[1;32m      9\u001b[0m     \u001b[0membeddings\u001b[0m\u001b[0;34m.\u001b[0m\u001b[0mappend\u001b[0m\u001b[0;34m(\u001b[0m\u001b[0membedding\u001b[0m\u001b[0;34m)\u001b[0m\u001b[0;34m\u001b[0m\u001b[0;34m\u001b[0m\u001b[0m\n",
            "\u001b[0;32m<ipython-input-99-8e033eaa80cc>\u001b[0m in \u001b[0;36m__call__\u001b[0;34m(self, inputTensor)\u001b[0m\n\u001b[1;32m     12\u001b[0m \u001b[0;34m\u001b[0m\u001b[0m\n\u001b[1;32m     13\u001b[0m     \u001b[0;32mdef\u001b[0m \u001b[0m__call__\u001b[0m\u001b[0;34m(\u001b[0m\u001b[0mself\u001b[0m\u001b[0;34m,\u001b[0m \u001b[0minputTensor\u001b[0m\u001b[0;34m)\u001b[0m\u001b[0;34m:\u001b[0m\u001b[0;34m\u001b[0m\u001b[0;34m\u001b[0m\u001b[0m\n\u001b[0;32m---> 14\u001b[0;31m         \u001b[0;32mreturn\u001b[0m \u001b[0mself\u001b[0m\u001b[0;34m.\u001b[0m\u001b[0mmodel\u001b[0m\u001b[0;34m(\u001b[0m\u001b[0minputTensor\u001b[0m\u001b[0;34m)\u001b[0m\u001b[0;34m\u001b[0m\u001b[0;34m\u001b[0m\u001b[0m\n\u001b[0m\u001b[1;32m     15\u001b[0m \u001b[0;34m\u001b[0m\u001b[0m\n\u001b[1;32m     16\u001b[0m \u001b[0mr50\u001b[0m \u001b[0;34m=\u001b[0m \u001b[0membeddingExtractor\u001b[0m\u001b[0;34m(\u001b[0m\u001b[0mweights\u001b[0m\u001b[0;34m=\u001b[0m\u001b[0;34m'imagenet'\u001b[0m\u001b[0;34m,\u001b[0m \u001b[0;34m)\u001b[0m\u001b[0;34m\u001b[0m\u001b[0;34m\u001b[0m\u001b[0m\n",
            "\u001b[0;32m/anaconda3/envs/CV3.7/lib/python3.7/site-packages/tensorflow/python/keras/engine/base_layer.py\u001b[0m in \u001b[0;36m__call__\u001b[0;34m(self, *args, **kwargs)\u001b[0m\n\u001b[1;32m    983\u001b[0m \u001b[0;34m\u001b[0m\u001b[0m\n\u001b[1;32m    984\u001b[0m         \u001b[0;32mwith\u001b[0m \u001b[0mops\u001b[0m\u001b[0;34m.\u001b[0m\u001b[0menable_auto_cast_variables\u001b[0m\u001b[0;34m(\u001b[0m\u001b[0mself\u001b[0m\u001b[0;34m.\u001b[0m\u001b[0m_compute_dtype_object\u001b[0m\u001b[0;34m)\u001b[0m\u001b[0;34m:\u001b[0m\u001b[0;34m\u001b[0m\u001b[0;34m\u001b[0m\u001b[0m\n\u001b[0;32m--> 985\u001b[0;31m           \u001b[0moutputs\u001b[0m \u001b[0;34m=\u001b[0m \u001b[0mcall_fn\u001b[0m\u001b[0;34m(\u001b[0m\u001b[0minputs\u001b[0m\u001b[0;34m,\u001b[0m \u001b[0;34m*\u001b[0m\u001b[0margs\u001b[0m\u001b[0;34m,\u001b[0m \u001b[0;34m**\u001b[0m\u001b[0mkwargs\u001b[0m\u001b[0;34m)\u001b[0m\u001b[0;34m\u001b[0m\u001b[0;34m\u001b[0m\u001b[0m\n\u001b[0m\u001b[1;32m    986\u001b[0m \u001b[0;34m\u001b[0m\u001b[0m\n\u001b[1;32m    987\u001b[0m         \u001b[0;32mif\u001b[0m \u001b[0mself\u001b[0m\u001b[0;34m.\u001b[0m\u001b[0m_activity_regularizer\u001b[0m\u001b[0;34m:\u001b[0m\u001b[0;34m\u001b[0m\u001b[0;34m\u001b[0m\u001b[0m\n",
            "\u001b[0;32m/anaconda3/envs/CV3.7/lib/python3.7/site-packages/tensorflow/python/keras/engine/functional.py\u001b[0m in \u001b[0;36mcall\u001b[0;34m(self, inputs, training, mask)\u001b[0m\n\u001b[1;32m    384\u001b[0m     \"\"\"\n\u001b[1;32m    385\u001b[0m     return self._run_internal_graph(\n\u001b[0;32m--> 386\u001b[0;31m         inputs, training=training, mask=mask)\n\u001b[0m\u001b[1;32m    387\u001b[0m \u001b[0;34m\u001b[0m\u001b[0m\n\u001b[1;32m    388\u001b[0m   \u001b[0;32mdef\u001b[0m \u001b[0mcompute_output_shape\u001b[0m\u001b[0;34m(\u001b[0m\u001b[0mself\u001b[0m\u001b[0;34m,\u001b[0m \u001b[0minput_shape\u001b[0m\u001b[0;34m)\u001b[0m\u001b[0;34m:\u001b[0m\u001b[0;34m\u001b[0m\u001b[0;34m\u001b[0m\u001b[0m\n",
            "\u001b[0;32m/anaconda3/envs/CV3.7/lib/python3.7/site-packages/tensorflow/python/keras/engine/functional.py\u001b[0m in \u001b[0;36m_run_internal_graph\u001b[0;34m(self, inputs, training, mask)\u001b[0m\n\u001b[1;32m    506\u001b[0m \u001b[0;34m\u001b[0m\u001b[0m\n\u001b[1;32m    507\u001b[0m         \u001b[0margs\u001b[0m\u001b[0;34m,\u001b[0m \u001b[0mkwargs\u001b[0m \u001b[0;34m=\u001b[0m \u001b[0mnode\u001b[0m\u001b[0;34m.\u001b[0m\u001b[0mmap_arguments\u001b[0m\u001b[0;34m(\u001b[0m\u001b[0mtensor_dict\u001b[0m\u001b[0;34m)\u001b[0m\u001b[0;34m\u001b[0m\u001b[0;34m\u001b[0m\u001b[0m\n\u001b[0;32m--> 508\u001b[0;31m         \u001b[0moutputs\u001b[0m \u001b[0;34m=\u001b[0m \u001b[0mnode\u001b[0m\u001b[0;34m.\u001b[0m\u001b[0mlayer\u001b[0m\u001b[0;34m(\u001b[0m\u001b[0;34m*\u001b[0m\u001b[0margs\u001b[0m\u001b[0;34m,\u001b[0m \u001b[0;34m**\u001b[0m\u001b[0mkwargs\u001b[0m\u001b[0;34m)\u001b[0m\u001b[0;34m\u001b[0m\u001b[0;34m\u001b[0m\u001b[0m\n\u001b[0m\u001b[1;32m    509\u001b[0m \u001b[0;34m\u001b[0m\u001b[0m\n\u001b[1;32m    510\u001b[0m         \u001b[0;31m# Update tensor_dict.\u001b[0m\u001b[0;34m\u001b[0m\u001b[0;34m\u001b[0m\u001b[0;34m\u001b[0m\u001b[0m\n",
            "\u001b[0;32m/anaconda3/envs/CV3.7/lib/python3.7/site-packages/tensorflow/python/keras/engine/base_layer.py\u001b[0m in \u001b[0;36m__call__\u001b[0;34m(self, *args, **kwargs)\u001b[0m\n\u001b[1;32m    983\u001b[0m \u001b[0;34m\u001b[0m\u001b[0m\n\u001b[1;32m    984\u001b[0m         \u001b[0;32mwith\u001b[0m \u001b[0mops\u001b[0m\u001b[0;34m.\u001b[0m\u001b[0menable_auto_cast_variables\u001b[0m\u001b[0;34m(\u001b[0m\u001b[0mself\u001b[0m\u001b[0;34m.\u001b[0m\u001b[0m_compute_dtype_object\u001b[0m\u001b[0;34m)\u001b[0m\u001b[0;34m:\u001b[0m\u001b[0;34m\u001b[0m\u001b[0;34m\u001b[0m\u001b[0m\n\u001b[0;32m--> 985\u001b[0;31m           \u001b[0moutputs\u001b[0m \u001b[0;34m=\u001b[0m \u001b[0mcall_fn\u001b[0m\u001b[0;34m(\u001b[0m\u001b[0minputs\u001b[0m\u001b[0;34m,\u001b[0m \u001b[0;34m*\u001b[0m\u001b[0margs\u001b[0m\u001b[0;34m,\u001b[0m \u001b[0;34m**\u001b[0m\u001b[0mkwargs\u001b[0m\u001b[0;34m)\u001b[0m\u001b[0;34m\u001b[0m\u001b[0;34m\u001b[0m\u001b[0m\n\u001b[0m\u001b[1;32m    986\u001b[0m \u001b[0;34m\u001b[0m\u001b[0m\n\u001b[1;32m    987\u001b[0m         \u001b[0;32mif\u001b[0m \u001b[0mself\u001b[0m\u001b[0;34m.\u001b[0m\u001b[0m_activity_regularizer\u001b[0m\u001b[0;34m:\u001b[0m\u001b[0;34m\u001b[0m\u001b[0;34m\u001b[0m\u001b[0m\n",
            "\u001b[0;32m/anaconda3/envs/CV3.7/lib/python3.7/site-packages/tensorflow/python/keras/layers/convolutional.py\u001b[0m in \u001b[0;36mcall\u001b[0;34m(self, inputs)\u001b[0m\n\u001b[1;32m    245\u001b[0m       \u001b[0minputs\u001b[0m \u001b[0;34m=\u001b[0m \u001b[0marray_ops\u001b[0m\u001b[0;34m.\u001b[0m\u001b[0mpad\u001b[0m\u001b[0;34m(\u001b[0m\u001b[0minputs\u001b[0m\u001b[0;34m,\u001b[0m \u001b[0mself\u001b[0m\u001b[0;34m.\u001b[0m\u001b[0m_compute_causal_padding\u001b[0m\u001b[0;34m(\u001b[0m\u001b[0minputs\u001b[0m\u001b[0;34m)\u001b[0m\u001b[0;34m)\u001b[0m\u001b[0;34m\u001b[0m\u001b[0;34m\u001b[0m\u001b[0m\n\u001b[1;32m    246\u001b[0m \u001b[0;34m\u001b[0m\u001b[0m\n\u001b[0;32m--> 247\u001b[0;31m     \u001b[0moutputs\u001b[0m \u001b[0;34m=\u001b[0m \u001b[0mself\u001b[0m\u001b[0;34m.\u001b[0m\u001b[0m_convolution_op\u001b[0m\u001b[0;34m(\u001b[0m\u001b[0minputs\u001b[0m\u001b[0;34m,\u001b[0m \u001b[0mself\u001b[0m\u001b[0;34m.\u001b[0m\u001b[0mkernel\u001b[0m\u001b[0;34m)\u001b[0m\u001b[0;34m\u001b[0m\u001b[0;34m\u001b[0m\u001b[0m\n\u001b[0m\u001b[1;32m    248\u001b[0m \u001b[0;34m\u001b[0m\u001b[0m\n\u001b[1;32m    249\u001b[0m     \u001b[0;32mif\u001b[0m \u001b[0mself\u001b[0m\u001b[0;34m.\u001b[0m\u001b[0muse_bias\u001b[0m\u001b[0;34m:\u001b[0m\u001b[0;34m\u001b[0m\u001b[0;34m\u001b[0m\u001b[0m\n",
            "\u001b[0;32m/anaconda3/envs/CV3.7/lib/python3.7/site-packages/tensorflow/python/util/dispatch.py\u001b[0m in \u001b[0;36mwrapper\u001b[0;34m(*args, **kwargs)\u001b[0m\n\u001b[1;32m    199\u001b[0m     \u001b[0;34m\"\"\"Call target, and fall back on dispatchers if there is a TypeError.\"\"\"\u001b[0m\u001b[0;34m\u001b[0m\u001b[0;34m\u001b[0m\u001b[0m\n\u001b[1;32m    200\u001b[0m     \u001b[0;32mtry\u001b[0m\u001b[0;34m:\u001b[0m\u001b[0;34m\u001b[0m\u001b[0;34m\u001b[0m\u001b[0m\n\u001b[0;32m--> 201\u001b[0;31m       \u001b[0;32mreturn\u001b[0m \u001b[0mtarget\u001b[0m\u001b[0;34m(\u001b[0m\u001b[0;34m*\u001b[0m\u001b[0margs\u001b[0m\u001b[0;34m,\u001b[0m \u001b[0;34m**\u001b[0m\u001b[0mkwargs\u001b[0m\u001b[0;34m)\u001b[0m\u001b[0;34m\u001b[0m\u001b[0;34m\u001b[0m\u001b[0m\n\u001b[0m\u001b[1;32m    202\u001b[0m     \u001b[0;32mexcept\u001b[0m \u001b[0;34m(\u001b[0m\u001b[0mTypeError\u001b[0m\u001b[0;34m,\u001b[0m \u001b[0mValueError\u001b[0m\u001b[0;34m)\u001b[0m\u001b[0;34m:\u001b[0m\u001b[0;34m\u001b[0m\u001b[0;34m\u001b[0m\u001b[0m\n\u001b[1;32m    203\u001b[0m       \u001b[0;31m# Note: convert_to_eager_tensor currently raises a ValueError, not a\u001b[0m\u001b[0;34m\u001b[0m\u001b[0;34m\u001b[0m\u001b[0;34m\u001b[0m\u001b[0m\n",
            "\u001b[0;32m/anaconda3/envs/CV3.7/lib/python3.7/site-packages/tensorflow/python/ops/nn_ops.py\u001b[0m in \u001b[0;36mconvolution_v2\u001b[0;34m(input, filters, strides, padding, data_format, dilations, name)\u001b[0m\n\u001b[1;32m   1015\u001b[0m       \u001b[0mdata_format\u001b[0m\u001b[0;34m=\u001b[0m\u001b[0mdata_format\u001b[0m\u001b[0;34m,\u001b[0m\u001b[0;34m\u001b[0m\u001b[0;34m\u001b[0m\u001b[0m\n\u001b[1;32m   1016\u001b[0m       \u001b[0mdilations\u001b[0m\u001b[0;34m=\u001b[0m\u001b[0mdilations\u001b[0m\u001b[0;34m,\u001b[0m\u001b[0;34m\u001b[0m\u001b[0;34m\u001b[0m\u001b[0m\n\u001b[0;32m-> 1017\u001b[0;31m       name=name)\n\u001b[0m\u001b[1;32m   1018\u001b[0m \u001b[0;34m\u001b[0m\u001b[0m\n\u001b[1;32m   1019\u001b[0m \u001b[0;34m\u001b[0m\u001b[0m\n",
            "\u001b[0;32m/anaconda3/envs/CV3.7/lib/python3.7/site-packages/tensorflow/python/ops/nn_ops.py\u001b[0m in \u001b[0;36mconvolution_internal\u001b[0;34m(input, filters, strides, padding, data_format, dilations, name, call_from_convolution, num_spatial_dims)\u001b[0m\n\u001b[1;32m   1145\u001b[0m           \u001b[0mdata_format\u001b[0m\u001b[0;34m=\u001b[0m\u001b[0mdata_format\u001b[0m\u001b[0;34m,\u001b[0m\u001b[0;34m\u001b[0m\u001b[0;34m\u001b[0m\u001b[0m\n\u001b[1;32m   1146\u001b[0m           \u001b[0mdilations\u001b[0m\u001b[0;34m=\u001b[0m\u001b[0mdilations\u001b[0m\u001b[0;34m,\u001b[0m\u001b[0;34m\u001b[0m\u001b[0;34m\u001b[0m\u001b[0m\n\u001b[0;32m-> 1147\u001b[0;31m           name=name)\n\u001b[0m\u001b[1;32m   1148\u001b[0m     \u001b[0;32melse\u001b[0m\u001b[0;34m:\u001b[0m\u001b[0;34m\u001b[0m\u001b[0;34m\u001b[0m\u001b[0m\n\u001b[1;32m   1149\u001b[0m       \u001b[0;32mif\u001b[0m \u001b[0mchannel_index\u001b[0m \u001b[0;34m==\u001b[0m \u001b[0;36m1\u001b[0m\u001b[0;34m:\u001b[0m\u001b[0;34m\u001b[0m\u001b[0;34m\u001b[0m\u001b[0m\n",
            "\u001b[0;32m/anaconda3/envs/CV3.7/lib/python3.7/site-packages/tensorflow/python/ops/nn_ops.py\u001b[0m in \u001b[0;36m_conv2d_expanded_batch\u001b[0;34m(input, filters, strides, padding, data_format, dilations, name)\u001b[0m\n\u001b[1;32m   2589\u001b[0m         \u001b[0mdata_format\u001b[0m\u001b[0;34m=\u001b[0m\u001b[0mdata_format\u001b[0m\u001b[0;34m,\u001b[0m\u001b[0;34m\u001b[0m\u001b[0;34m\u001b[0m\u001b[0m\n\u001b[1;32m   2590\u001b[0m         \u001b[0mdilations\u001b[0m\u001b[0;34m=\u001b[0m\u001b[0mdilations\u001b[0m\u001b[0;34m,\u001b[0m\u001b[0;34m\u001b[0m\u001b[0;34m\u001b[0m\u001b[0m\n\u001b[0;32m-> 2591\u001b[0;31m         name=name)\n\u001b[0m\u001b[1;32m   2592\u001b[0m   return squeeze_batch_dims(\n\u001b[1;32m   2593\u001b[0m       \u001b[0minput\u001b[0m\u001b[0;34m,\u001b[0m\u001b[0;34m\u001b[0m\u001b[0;34m\u001b[0m\u001b[0m\n",
            "\u001b[0;32m/anaconda3/envs/CV3.7/lib/python3.7/site-packages/tensorflow/python/ops/gen_nn_ops.py\u001b[0m in \u001b[0;36mconv2d\u001b[0;34m(input, filter, strides, padding, use_cudnn_on_gpu, explicit_paddings, data_format, dilations, name)\u001b[0m\n\u001b[1;32m    936\u001b[0m       \u001b[0;32mreturn\u001b[0m \u001b[0m_result\u001b[0m\u001b[0;34m\u001b[0m\u001b[0;34m\u001b[0m\u001b[0m\n\u001b[1;32m    937\u001b[0m     \u001b[0;32mexcept\u001b[0m \u001b[0m_core\u001b[0m\u001b[0;34m.\u001b[0m\u001b[0m_NotOkStatusException\u001b[0m \u001b[0;32mas\u001b[0m \u001b[0me\u001b[0m\u001b[0;34m:\u001b[0m\u001b[0;34m\u001b[0m\u001b[0;34m\u001b[0m\u001b[0m\n\u001b[0;32m--> 938\u001b[0;31m       \u001b[0m_ops\u001b[0m\u001b[0;34m.\u001b[0m\u001b[0mraise_from_not_ok_status\u001b[0m\u001b[0;34m(\u001b[0m\u001b[0me\u001b[0m\u001b[0;34m,\u001b[0m \u001b[0mname\u001b[0m\u001b[0;34m)\u001b[0m\u001b[0;34m\u001b[0m\u001b[0;34m\u001b[0m\u001b[0m\n\u001b[0m\u001b[1;32m    939\u001b[0m     \u001b[0;32mexcept\u001b[0m \u001b[0m_core\u001b[0m\u001b[0;34m.\u001b[0m\u001b[0m_FallbackException\u001b[0m\u001b[0;34m:\u001b[0m\u001b[0;34m\u001b[0m\u001b[0;34m\u001b[0m\u001b[0m\n\u001b[1;32m    940\u001b[0m       \u001b[0;32mpass\u001b[0m\u001b[0;34m\u001b[0m\u001b[0;34m\u001b[0m\u001b[0m\n",
            "\u001b[0;32m/anaconda3/envs/CV3.7/lib/python3.7/site-packages/tensorflow/python/framework/ops.py\u001b[0m in \u001b[0;36mraise_from_not_ok_status\u001b[0;34m(e, name)\u001b[0m\n\u001b[1;32m   6841\u001b[0m   \u001b[0mmessage\u001b[0m \u001b[0;34m=\u001b[0m \u001b[0me\u001b[0m\u001b[0;34m.\u001b[0m\u001b[0mmessage\u001b[0m \u001b[0;34m+\u001b[0m \u001b[0;34m(\u001b[0m\u001b[0;34m\" name: \"\u001b[0m \u001b[0;34m+\u001b[0m \u001b[0mname\u001b[0m \u001b[0;32mif\u001b[0m \u001b[0mname\u001b[0m \u001b[0;32mis\u001b[0m \u001b[0;32mnot\u001b[0m \u001b[0;32mNone\u001b[0m \u001b[0;32melse\u001b[0m \u001b[0;34m\"\"\u001b[0m\u001b[0;34m)\u001b[0m\u001b[0;34m\u001b[0m\u001b[0;34m\u001b[0m\u001b[0m\n\u001b[1;32m   6842\u001b[0m   \u001b[0;31m# pylint: disable=protected-access\u001b[0m\u001b[0;34m\u001b[0m\u001b[0;34m\u001b[0m\u001b[0;34m\u001b[0m\u001b[0m\n\u001b[0;32m-> 6843\u001b[0;31m   \u001b[0msix\u001b[0m\u001b[0;34m.\u001b[0m\u001b[0mraise_from\u001b[0m\u001b[0;34m(\u001b[0m\u001b[0mcore\u001b[0m\u001b[0;34m.\u001b[0m\u001b[0m_status_to_exception\u001b[0m\u001b[0;34m(\u001b[0m\u001b[0me\u001b[0m\u001b[0;34m.\u001b[0m\u001b[0mcode\u001b[0m\u001b[0;34m,\u001b[0m \u001b[0mmessage\u001b[0m\u001b[0;34m)\u001b[0m\u001b[0;34m,\u001b[0m \u001b[0;32mNone\u001b[0m\u001b[0;34m)\u001b[0m\u001b[0;34m\u001b[0m\u001b[0;34m\u001b[0m\u001b[0m\n\u001b[0m\u001b[1;32m   6844\u001b[0m   \u001b[0;31m# pylint: enable=protected-access\u001b[0m\u001b[0;34m\u001b[0m\u001b[0;34m\u001b[0m\u001b[0;34m\u001b[0m\u001b[0m\n\u001b[1;32m   6845\u001b[0m \u001b[0;34m\u001b[0m\u001b[0m\n",
            "\u001b[0;32m/anaconda3/envs/CV3.7/lib/python3.7/site-packages/six.py\u001b[0m in \u001b[0;36mraise_from\u001b[0;34m(value, from_value)\u001b[0m\n",
            "\u001b[0;31mUnimplementedError\u001b[0m: The Conv2D op currently does not support grouped convolutions on the CPU. A grouped convolution was attempted to be run because the input depth of 300 does not match the filter input depth of 3 [Op:Conv2D]"
          ]
        }
      ]
    },
    {
      "cell_type": "markdown",
      "metadata": {
        "id": "GkEprqtK87q2"
      },
      "source": [
        "*   Create codebook using the extracted features"
      ]
    },
    {
      "cell_type": "code",
      "metadata": {
        "id": "5crz4gBz9CQF"
      },
      "source": [
        "# solution\n",
        "\n"
      ],
      "execution_count": 56,
      "outputs": []
    },
    {
      "cell_type": "code",
      "metadata": {
        "id": "4cD28JWOFm2w"
      },
      "source": [
        "# solution\n",
        "\n"
      ],
      "execution_count": 57,
      "outputs": []
    },
    {
      "cell_type": "code",
      "metadata": {
        "id": "Bjax5E3gFxiF"
      },
      "source": [
        "# solution\n",
        "\n"
      ],
      "execution_count": 58,
      "outputs": []
    },
    {
      "cell_type": "markdown",
      "metadata": {
        "id": "K_RB2vPl9CzB"
      },
      "source": [
        "*   Train SVM classifier using the codebook"
      ]
    },
    {
      "cell_type": "code",
      "metadata": {
        "id": "5oKk_Wzz9HLf"
      },
      "source": [
        "gammas = np.logspace(-6, -1, 10)\n",
        "C = np.array([0.5, 1, 2, 4, 8, 10, 15, 20, 50, 100, 200, 375, 500, 1000])\n",
        "\n",
        "svc = SVC(decision_function_shape='ovr')\n",
        "\n",
        "clf = GridSearchCV(estimator=svc, param_grid=dict(gamma=gammas, C=C), n_jobs=-1)\n",
        "\n",
        "clf.fit(dictionary, y_train)\n",
        "\n",
        "print('Best accuracy:', clf.best_score_) \n",
        "print('The best value of gamma:', clf.best_estimator_.gamma)\n",
        "print('The best value of C:', clf.best_estimator_.C)"
      ],
      "execution_count": 59,
      "outputs": [
        {
          "output_type": "stream",
          "name": "stdout",
          "text": [
            "Best accuracy: 0.5384615384615384\nThe best value of gamma: 0.1\nThe best value of C: 50.0\n"
          ]
        }
      ]
    },
    {
      "cell_type": "markdown",
      "metadata": {
        "id": "ym0XesGL9Hrc"
      },
      "source": [
        "*   Evaluate the test set using the above method"
      ]
    },
    {
      "cell_type": "code",
      "metadata": {
        "id": "NM6LIynq9Ma1"
      },
      "source": [
        "# solution\n",
        "\n"
      ],
      "execution_count": 60,
      "outputs": []
    },
    {
      "cell_type": "markdown",
      "metadata": {
        "id": "d-OnKf-ti_vy"
      },
      "source": [
        "*   Calculate the accuracy score for the classification model"
      ]
    },
    {
      "cell_type": "code",
      "metadata": {
        "id": "upqdRQUoGC94"
      },
      "source": [
        "# solution\n",
        "\n"
      ],
      "execution_count": 61,
      "outputs": []
    },
    {
      "cell_type": "markdown",
      "metadata": {
        "id": "DjL0oQCumkrV"
      },
      "source": [
        "## t-distributed Stochastic Neighbor Embedding.\n",
        "\n",
        "In order to visualize the features of a higher dimension data, t-SNE is used. t-SNE converts the affinities of the data points to probabilities. It recreates the probability distribution in a low-dimensional space. It is very helpful in visualizing features of different layers in a neural network.\n",
        "\n",
        "You can find more information about t-SNE [here](https://scikit-learn.org/stable/modules/manifold.html#t-distributed-stochastic-neighbor-embedding-t-sne)"
      ]
    },
    {
      "cell_type": "code",
      "metadata": {
        "id": "6ahIG1fulhW9"
      },
      "source": [
        "from sklearn.manifold import TSNE\n",
        "\n",
        "model = TSNE(n_components=2, random_state=0)\n",
        "\n",
        "np.set_printoptions(suppress=True)\n",
        "\n",
        "low_embedding = model.fit_transform(dictionary) \n",
        "\n",
        "plt.figure(figsize=(20,10))\n",
        "plt.scatter(low_embedding[:, 0], low_embedding[:, 1], c=y_train)\n",
        "plt.title(\"TSNE visualization\")\n",
        "plt.show()"
      ],
      "execution_count": 62,
      "outputs": [
        {
          "output_type": "display_data",
          "data": {
            "text/plain": "<Figure size 1440x720 with 1 Axes>",
            "image/svg+xml": "<?xml version=\"1.0\" encoding=\"utf-8\" standalone=\"no\"?>\n<!DOCTYPE svg PUBLIC \"-//W3C//DTD SVG 1.1//EN\"\n  \"http://www.w3.org/Graphics/SVG/1.1/DTD/svg11.dtd\">\n<!-- Created with matplotlib (https://matplotlib.org/) -->\n<svg height=\"589.79625pt\" version=\"1.1\" viewBox=\"0 0 1161.682812 589.79625\" width=\"1161.682812pt\" xmlns=\"http://www.w3.org/2000/svg\" xmlns:xlink=\"http://www.w3.org/1999/xlink\">\n <metadata>\n  <rdf:RDF xmlns:cc=\"http://creativecommons.org/ns#\" xmlns:dc=\"http://purl.org/dc/elements/1.1/\" xmlns:rdf=\"http://www.w3.org/1999/02/22-rdf-syntax-ns#\">\n   <cc:Work>\n    <dc:type rdf:resource=\"http://purl.org/dc/dcmitype/StillImage\"/>\n    <dc:date>2020-11-22T15:34:09.349403</dc:date>\n    <dc:format>image/svg+xml</dc:format>\n    <dc:creator>\n     <cc:Agent>\n      <dc:title>Matplotlib v3.3.2, https://matplotlib.org/</dc:title>\n     </cc:Agent>\n    </dc:creator>\n   </cc:Work>\n  </rdf:RDF>\n </metadata>\n <defs>\n  <style type=\"text/css\">*{stroke-linecap:butt;stroke-linejoin:round;}</style>\n </defs>\n <g id=\"figure_1\">\n  <g id=\"patch_1\">\n   <path d=\"M 0 589.79625 \nL 1161.682812 589.79625 \nL 1161.682812 0 \nL 0 0 \nz\n\" style=\"fill:none;\"/>\n  </g>\n  <g id=\"axes_1\">\n   <g id=\"patch_2\">\n    <path d=\"M 38.482813 565.918125 \nL 1154.482812 565.918125 \nL 1154.482812 22.318125 \nL 38.482813 22.318125 \nz\n\" style=\"fill:#ffffff;\"/>\n   </g>\n   <g id=\"PathCollection_1\">\n    <defs>\n     <path d=\"M 0 3 \nC 0.795609 3 1.55874 2.683901 2.12132 2.12132 \nC 2.683901 1.55874 3 0.795609 3 -0 \nC 3 -0.795609 2.683901 -1.55874 2.12132 -2.12132 \nC 1.55874 -2.683901 0.795609 -3 0 -3 \nC -0.795609 -3 -1.55874 -2.683901 -2.12132 -2.12132 \nC -2.683901 -1.55874 -3 -0.795609 -3 0 \nC -3 0.795609 -2.683901 1.55874 -2.12132 2.12132 \nC -1.55874 2.683901 -0.795609 3 0 3 \nz\n\" id=\"C0_0_3163f385a5\"/>\n    </defs>\n    <g clip-path=\"url(#p4ed6578a35)\">\n     <use style=\"fill:#fde725;stroke:#fde725;\" x=\"820.091879\" xlink:href=\"#C0_0_3163f385a5\" y=\"264.929429\"/>\n    </g>\n    <g clip-path=\"url(#p4ed6578a35)\">\n     <use style=\"fill:#fde725;stroke:#fde725;\" x=\"567.039534\" xlink:href=\"#C0_0_3163f385a5\" y=\"430.656435\"/>\n    </g>\n    <g clip-path=\"url(#p4ed6578a35)\">\n     <use style=\"fill:#21918c;stroke:#21918c;\" x=\"480.099142\" xlink:href=\"#C0_0_3163f385a5\" y=\"248.75501\"/>\n    </g>\n    <g clip-path=\"url(#p4ed6578a35)\">\n     <use style=\"fill:#21918c;stroke:#21918c;\" x=\"557.412407\" xlink:href=\"#C0_0_3163f385a5\" y=\"368.162593\"/>\n    </g>\n    <g clip-path=\"url(#p4ed6578a35)\">\n     <use style=\"fill:#440154;stroke:#440154;\" x=\"622.799797\" xlink:href=\"#C0_0_3163f385a5\" y=\"269.307429\"/>\n    </g>\n    <g clip-path=\"url(#p4ed6578a35)\">\n     <use style=\"fill:#440154;stroke:#440154;\" x=\"436.185745\" xlink:href=\"#C0_0_3163f385a5\" y=\"145.3128\"/>\n    </g>\n    <g clip-path=\"url(#p4ed6578a35)\">\n     <use style=\"fill:#440154;stroke:#440154;\" x=\"203.557715\" xlink:href=\"#C0_0_3163f385a5\" y=\"221.363114\"/>\n    </g>\n    <g clip-path=\"url(#p4ed6578a35)\">\n     <use style=\"fill:#21918c;stroke:#21918c;\" x=\"540.479172\" xlink:href=\"#C0_0_3163f385a5\" y=\"408.991251\"/>\n    </g>\n    <g clip-path=\"url(#p4ed6578a35)\">\n     <use style=\"fill:#fde725;stroke:#fde725;\" x=\"493.969554\" xlink:href=\"#C0_0_3163f385a5\" y=\"529.051223\"/>\n    </g>\n    <g clip-path=\"url(#p4ed6578a35)\">\n     <use style=\"fill:#21918c;stroke:#21918c;\" x=\"669.004567\" xlink:href=\"#C0_0_3163f385a5\" y=\"462.286\"/>\n    </g>\n    <g clip-path=\"url(#p4ed6578a35)\">\n     <use style=\"fill:#fde725;stroke:#fde725;\" x=\"967.795906\" xlink:href=\"#C0_0_3163f385a5\" y=\"461.240224\"/>\n    </g>\n    <g clip-path=\"url(#p4ed6578a35)\">\n     <use style=\"fill:#21918c;stroke:#21918c;\" x=\"543.674225\" xlink:href=\"#C0_0_3163f385a5\" y=\"361.707989\"/>\n    </g>\n    <g clip-path=\"url(#p4ed6578a35)\">\n     <use style=\"fill:#21918c;stroke:#21918c;\" x=\"542.188967\" xlink:href=\"#C0_0_3163f385a5\" y=\"210.578092\"/>\n    </g>\n    <g clip-path=\"url(#p4ed6578a35)\">\n     <use style=\"fill:#fde725;stroke:#fde725;\" x=\"947.009747\" xlink:href=\"#C0_0_3163f385a5\" y=\"260.448989\"/>\n    </g>\n    <g clip-path=\"url(#p4ed6578a35)\">\n     <use style=\"fill:#fde725;stroke:#fde725;\" x=\"779.944051\" xlink:href=\"#C0_0_3163f385a5\" y=\"404.994461\"/>\n    </g>\n    <g clip-path=\"url(#p4ed6578a35)\">\n     <use style=\"fill:#440154;stroke:#440154;\" x=\"1001.727412\" xlink:href=\"#C0_0_3163f385a5\" y=\"372.921094\"/>\n    </g>\n    <g clip-path=\"url(#p4ed6578a35)\">\n     <use style=\"fill:#21918c;stroke:#21918c;\" x=\"649.236918\" xlink:href=\"#C0_0_3163f385a5\" y=\"351.271527\"/>\n    </g>\n    <g clip-path=\"url(#p4ed6578a35)\">\n     <use style=\"fill:#440154;stroke:#440154;\" x=\"314.042482\" xlink:href=\"#C0_0_3163f385a5\" y=\"216.125603\"/>\n    </g>\n    <g clip-path=\"url(#p4ed6578a35)\">\n     <use style=\"fill:#21918c;stroke:#21918c;\" x=\"709.63312\" xlink:href=\"#C0_0_3163f385a5\" y=\"445.187434\"/>\n    </g>\n    <g clip-path=\"url(#p4ed6578a35)\">\n     <use style=\"fill:#fde725;stroke:#fde725;\" x=\"793.59129\" xlink:href=\"#C0_0_3163f385a5\" y=\"199.762254\"/>\n    </g>\n    <g clip-path=\"url(#p4ed6578a35)\">\n     <use style=\"fill:#21918c;stroke:#21918c;\" x=\"439.978749\" xlink:href=\"#C0_0_3163f385a5\" y=\"156.019384\"/>\n    </g>\n    <g clip-path=\"url(#p4ed6578a35)\">\n     <use style=\"fill:#21918c;stroke:#21918c;\" x=\"621.335557\" xlink:href=\"#C0_0_3163f385a5\" y=\"228.637271\"/>\n    </g>\n    <g clip-path=\"url(#p4ed6578a35)\">\n     <use style=\"fill:#fde725;stroke:#fde725;\" x=\"604.411411\" xlink:href=\"#C0_0_3163f385a5\" y=\"475.09582\"/>\n    </g>\n    <g clip-path=\"url(#p4ed6578a35)\">\n     <use style=\"fill:#440154;stroke:#440154;\" x=\"823.510369\" xlink:href=\"#C0_0_3163f385a5\" y=\"97.115716\"/>\n    </g>\n    <g clip-path=\"url(#p4ed6578a35)\">\n     <use style=\"fill:#440154;stroke:#440154;\" x=\"839.744505\" xlink:href=\"#C0_0_3163f385a5\" y=\"177.858209\"/>\n    </g>\n    <g clip-path=\"url(#p4ed6578a35)\">\n     <use style=\"fill:#fde725;stroke:#fde725;\" x=\"1103.75554\" xlink:href=\"#C0_0_3163f385a5\" y=\"292.859578\"/>\n    </g>\n    <g clip-path=\"url(#p4ed6578a35)\">\n     <use style=\"fill:#fde725;stroke:#fde725;\" x=\"729.440171\" xlink:href=\"#C0_0_3163f385a5\" y=\"47.027216\"/>\n    </g>\n    <g clip-path=\"url(#p4ed6578a35)\">\n     <use style=\"fill:#fde725;stroke:#fde725;\" x=\"950.833349\" xlink:href=\"#C0_0_3163f385a5\" y=\"220.375422\"/>\n    </g>\n    <g clip-path=\"url(#p4ed6578a35)\">\n     <use style=\"fill:#440154;stroke:#440154;\" x=\"1072.936834\" xlink:href=\"#C0_0_3163f385a5\" y=\"435.737005\"/>\n    </g>\n    <g clip-path=\"url(#p4ed6578a35)\">\n     <use style=\"fill:#440154;stroke:#440154;\" x=\"646.514702\" xlink:href=\"#C0_0_3163f385a5\" y=\"147.77896\"/>\n    </g>\n    <g clip-path=\"url(#p4ed6578a35)\">\n     <use style=\"fill:#21918c;stroke:#21918c;\" x=\"606.932262\" xlink:href=\"#C0_0_3163f385a5\" y=\"189.009494\"/>\n    </g>\n    <g clip-path=\"url(#p4ed6578a35)\">\n     <use style=\"fill:#21918c;stroke:#21918c;\" x=\"183.710639\" xlink:href=\"#C0_0_3163f385a5\" y=\"311.885824\"/>\n    </g>\n    <g clip-path=\"url(#p4ed6578a35)\">\n     <use style=\"fill:#21918c;stroke:#21918c;\" x=\"89.210085\" xlink:href=\"#C0_0_3163f385a5\" y=\"336.116565\"/>\n    </g>\n    <g clip-path=\"url(#p4ed6578a35)\">\n     <use style=\"fill:#440154;stroke:#440154;\" x=\"799.246718\" xlink:href=\"#C0_0_3163f385a5\" y=\"156.573139\"/>\n    </g>\n    <g clip-path=\"url(#p4ed6578a35)\">\n     <use style=\"fill:#21918c;stroke:#21918c;\" x=\"827.914039\" xlink:href=\"#C0_0_3163f385a5\" y=\"325.71859\"/>\n    </g>\n    <g clip-path=\"url(#p4ed6578a35)\">\n     <use style=\"fill:#fde725;stroke:#fde725;\" x=\"586.684882\" xlink:href=\"#C0_0_3163f385a5\" y=\"232.55761\"/>\n    </g>\n    <g clip-path=\"url(#p4ed6578a35)\">\n     <use style=\"fill:#21918c;stroke:#21918c;\" x=\"727.897541\" xlink:href=\"#C0_0_3163f385a5\" y=\"178.090219\"/>\n    </g>\n    <g clip-path=\"url(#p4ed6578a35)\">\n     <use style=\"fill:#440154;stroke:#440154;\" x=\"876.423773\" xlink:href=\"#C0_0_3163f385a5\" y=\"370.536335\"/>\n    </g>\n    <g clip-path=\"url(#p4ed6578a35)\">\n     <use style=\"fill:#440154;stroke:#440154;\" x=\"967.273286\" xlink:href=\"#C0_0_3163f385a5\" y=\"149.153606\"/>\n    </g>\n    <g clip-path=\"url(#p4ed6578a35)\">\n     <use style=\"fill:#440154;stroke:#440154;\" x=\"560.832264\" xlink:href=\"#C0_0_3163f385a5\" y=\"119.777101\"/>\n    </g>\n    <g clip-path=\"url(#p4ed6578a35)\">\n     <use style=\"fill:#440154;stroke:#440154;\" x=\"493.404496\" xlink:href=\"#C0_0_3163f385a5\" y=\"188.987297\"/>\n    </g>\n    <g clip-path=\"url(#p4ed6578a35)\">\n     <use style=\"fill:#440154;stroke:#440154;\" x=\"620.399626\" xlink:href=\"#C0_0_3163f385a5\" y=\"369.016119\"/>\n    </g>\n    <g clip-path=\"url(#p4ed6578a35)\">\n     <use style=\"fill:#fde725;stroke:#fde725;\" x=\"959.923998\" xlink:href=\"#C0_0_3163f385a5\" y=\"261.437709\"/>\n    </g>\n    <g clip-path=\"url(#p4ed6578a35)\">\n     <use style=\"fill:#21918c;stroke:#21918c;\" x=\"938.593996\" xlink:href=\"#C0_0_3163f385a5\" y=\"147.326575\"/>\n    </g>\n    <g clip-path=\"url(#p4ed6578a35)\">\n     <use style=\"fill:#21918c;stroke:#21918c;\" x=\"424.931263\" xlink:href=\"#C0_0_3163f385a5\" y=\"487.815719\"/>\n    </g>\n    <g clip-path=\"url(#p4ed6578a35)\">\n     <use style=\"fill:#21918c;stroke:#21918c;\" x=\"459.359096\" xlink:href=\"#C0_0_3163f385a5\" y=\"362.309446\"/>\n    </g>\n    <g clip-path=\"url(#p4ed6578a35)\">\n     <use style=\"fill:#440154;stroke:#440154;\" x=\"879.714613\" xlink:href=\"#C0_0_3163f385a5\" y=\"282.288479\"/>\n    </g>\n    <g clip-path=\"url(#p4ed6578a35)\">\n     <use style=\"fill:#21918c;stroke:#21918c;\" x=\"1078.603959\" xlink:href=\"#C0_0_3163f385a5\" y=\"211.626073\"/>\n    </g>\n    <g clip-path=\"url(#p4ed6578a35)\">\n     <use style=\"fill:#21918c;stroke:#21918c;\" x=\"386.996683\" xlink:href=\"#C0_0_3163f385a5\" y=\"396.741014\"/>\n    </g>\n    <g clip-path=\"url(#p4ed6578a35)\">\n     <use style=\"fill:#fde725;stroke:#fde725;\" x=\"1007.318336\" xlink:href=\"#C0_0_3163f385a5\" y=\"359.136328\"/>\n    </g>\n    <g clip-path=\"url(#p4ed6578a35)\">\n     <use style=\"fill:#440154;stroke:#440154;\" x=\"381.307387\" xlink:href=\"#C0_0_3163f385a5\" y=\"289.890219\"/>\n    </g>\n    <g clip-path=\"url(#p4ed6578a35)\">\n     <use style=\"fill:#440154;stroke:#440154;\" x=\"1073.984346\" xlink:href=\"#C0_0_3163f385a5\" y=\"224.539679\"/>\n    </g>\n    <g clip-path=\"url(#p4ed6578a35)\">\n     <use style=\"fill:#21918c;stroke:#21918c;\" x=\"335.401207\" xlink:href=\"#C0_0_3163f385a5\" y=\"403.478637\"/>\n    </g>\n    <g clip-path=\"url(#p4ed6578a35)\">\n     <use style=\"fill:#fde725;stroke:#fde725;\" x=\"783.813207\" xlink:href=\"#C0_0_3163f385a5\" y=\"330.544228\"/>\n    </g>\n    <g clip-path=\"url(#p4ed6578a35)\">\n     <use style=\"fill:#440154;stroke:#440154;\" x=\"266.371078\" xlink:href=\"#C0_0_3163f385a5\" y=\"459.424553\"/>\n    </g>\n    <g clip-path=\"url(#p4ed6578a35)\">\n     <use style=\"fill:#21918c;stroke:#21918c;\" x=\"572.803314\" xlink:href=\"#C0_0_3163f385a5\" y=\"199.968654\"/>\n    </g>\n    <g clip-path=\"url(#p4ed6578a35)\">\n     <use style=\"fill:#440154;stroke:#440154;\" x=\"166.505538\" xlink:href=\"#C0_0_3163f385a5\" y=\"391.672608\"/>\n    </g>\n    <g clip-path=\"url(#p4ed6578a35)\">\n     <use style=\"fill:#fde725;stroke:#fde725;\" x=\"563.759322\" xlink:href=\"#C0_0_3163f385a5\" y=\"172.523613\"/>\n    </g>\n    <g clip-path=\"url(#p4ed6578a35)\">\n     <use style=\"fill:#fde725;stroke:#fde725;\" x=\"507.110075\" xlink:href=\"#C0_0_3163f385a5\" y=\"541.209034\"/>\n    </g>\n    <g clip-path=\"url(#p4ed6578a35)\">\n     <use style=\"fill:#fde725;stroke:#fde725;\" x=\"879.296842\" xlink:href=\"#C0_0_3163f385a5\" y=\"410.288313\"/>\n    </g>\n    <g clip-path=\"url(#p4ed6578a35)\">\n     <use style=\"fill:#fde725;stroke:#fde725;\" x=\"681.750803\" xlink:href=\"#C0_0_3163f385a5\" y=\"499.080132\"/>\n    </g>\n    <g clip-path=\"url(#p4ed6578a35)\">\n     <use style=\"fill:#440154;stroke:#440154;\" x=\"342.807078\" xlink:href=\"#C0_0_3163f385a5\" y=\"253.401741\"/>\n    </g>\n    <g clip-path=\"url(#p4ed6578a35)\">\n     <use style=\"fill:#440154;stroke:#440154;\" x=\"299.512323\" xlink:href=\"#C0_0_3163f385a5\" y=\"199.595565\"/>\n    </g>\n    <g clip-path=\"url(#p4ed6578a35)\">\n     <use style=\"fill:#440154;stroke:#440154;\" x=\"172.904119\" xlink:href=\"#C0_0_3163f385a5\" y=\"390.584248\"/>\n    </g>\n    <g clip-path=\"url(#p4ed6578a35)\">\n     <use style=\"fill:#440154;stroke:#440154;\" x=\"1074.403647\" xlink:href=\"#C0_0_3163f385a5\" y=\"435.825568\"/>\n    </g>\n    <g clip-path=\"url(#p4ed6578a35)\">\n     <use style=\"fill:#21918c;stroke:#21918c;\" x=\"394.730095\" xlink:href=\"#C0_0_3163f385a5\" y=\"305.261597\"/>\n    </g>\n    <g clip-path=\"url(#p4ed6578a35)\">\n     <use style=\"fill:#21918c;stroke:#21918c;\" x=\"733.978192\" xlink:href=\"#C0_0_3163f385a5\" y=\"169.832767\"/>\n    </g>\n    <g clip-path=\"url(#p4ed6578a35)\">\n     <use style=\"fill:#21918c;stroke:#21918c;\" x=\"458.275582\" xlink:href=\"#C0_0_3163f385a5\" y=\"369.51255\"/>\n    </g>\n    <g clip-path=\"url(#p4ed6578a35)\">\n     <use style=\"fill:#21918c;stroke:#21918c;\" x=\"457.248971\" xlink:href=\"#C0_0_3163f385a5\" y=\"122.560871\"/>\n    </g>\n    <g clip-path=\"url(#p4ed6578a35)\">\n     <use style=\"fill:#440154;stroke:#440154;\" x=\"1062.917737\" xlink:href=\"#C0_0_3163f385a5\" y=\"437.013906\"/>\n    </g>\n    <g clip-path=\"url(#p4ed6578a35)\">\n     <use style=\"fill:#440154;stroke:#440154;\" x=\"329.002676\" xlink:href=\"#C0_0_3163f385a5\" y=\"152.250289\"/>\n    </g>\n    <g clip-path=\"url(#p4ed6578a35)\">\n     <use style=\"fill:#21918c;stroke:#21918c;\" x=\"483.275194\" xlink:href=\"#C0_0_3163f385a5\" y=\"202.790714\"/>\n    </g>\n    <g clip-path=\"url(#p4ed6578a35)\">\n     <use style=\"fill:#21918c;stroke:#21918c;\" x=\"395.668217\" xlink:href=\"#C0_0_3163f385a5\" y=\"256.418337\"/>\n    </g>\n    <g clip-path=\"url(#p4ed6578a35)\">\n     <use style=\"fill:#21918c;stroke:#21918c;\" x=\"835.27643\" xlink:href=\"#C0_0_3163f385a5\" y=\"280.070185\"/>\n    </g>\n    <g clip-path=\"url(#p4ed6578a35)\">\n     <use style=\"fill:#440154;stroke:#440154;\" x=\"637.369987\" xlink:href=\"#C0_0_3163f385a5\" y=\"258.27715\"/>\n    </g>\n    <g clip-path=\"url(#p4ed6578a35)\">\n     <use style=\"fill:#21918c;stroke:#21918c;\" x=\"591.169934\" xlink:href=\"#C0_0_3163f385a5\" y=\"390.032658\"/>\n    </g>\n    <g clip-path=\"url(#p4ed6578a35)\">\n     <use style=\"fill:#440154;stroke:#440154;\" x=\"603.294627\" xlink:href=\"#C0_0_3163f385a5\" y=\"190.251181\"/>\n    </g>\n    <g clip-path=\"url(#p4ed6578a35)\">\n     <use style=\"fill:#440154;stroke:#440154;\" x=\"206.881745\" xlink:href=\"#C0_0_3163f385a5\" y=\"221.894908\"/>\n    </g>\n    <g clip-path=\"url(#p4ed6578a35)\">\n     <use style=\"fill:#21918c;stroke:#21918c;\" x=\"524.849164\" xlink:href=\"#C0_0_3163f385a5\" y=\"266.540618\"/>\n    </g>\n    <g clip-path=\"url(#p4ed6578a35)\">\n     <use style=\"fill:#21918c;stroke:#21918c;\" x=\"741.712295\" xlink:href=\"#C0_0_3163f385a5\" y=\"250.356733\"/>\n    </g>\n    <g clip-path=\"url(#p4ed6578a35)\">\n     <use style=\"fill:#21918c;stroke:#21918c;\" x=\"440.755129\" xlink:href=\"#C0_0_3163f385a5\" y=\"454.93231\"/>\n    </g>\n    <g clip-path=\"url(#p4ed6578a35)\">\n     <use style=\"fill:#440154;stroke:#440154;\" x=\"447.145419\" xlink:href=\"#C0_0_3163f385a5\" y=\"141.129659\"/>\n    </g>\n    <g clip-path=\"url(#p4ed6578a35)\">\n     <use style=\"fill:#fde725;stroke:#fde725;\" x=\"699.753297\" xlink:href=\"#C0_0_3163f385a5\" y=\"308.966985\"/>\n    </g>\n    <g clip-path=\"url(#p4ed6578a35)\">\n     <use style=\"fill:#440154;stroke:#440154;\" x=\"1048.167983\" xlink:href=\"#C0_0_3163f385a5\" y=\"324.978172\"/>\n    </g>\n    <g clip-path=\"url(#p4ed6578a35)\">\n     <use style=\"fill:#21918c;stroke:#21918c;\" x=\"517.989909\" xlink:href=\"#C0_0_3163f385a5\" y=\"323.258955\"/>\n    </g>\n    <g clip-path=\"url(#p4ed6578a35)\">\n     <use style=\"fill:#440154;stroke:#440154;\" x=\"386.58196\" xlink:href=\"#C0_0_3163f385a5\" y=\"198.775658\"/>\n    </g>\n    <g clip-path=\"url(#p4ed6578a35)\">\n     <use style=\"fill:#21918c;stroke:#21918c;\" x=\"341.695062\" xlink:href=\"#C0_0_3163f385a5\" y=\"351.58005\"/>\n    </g>\n    <g clip-path=\"url(#p4ed6578a35)\">\n     <use style=\"fill:#440154;stroke:#440154;\" x=\"388.292883\" xlink:href=\"#C0_0_3163f385a5\" y=\"234.650762\"/>\n    </g>\n    <g clip-path=\"url(#p4ed6578a35)\">\n     <use style=\"fill:#21918c;stroke:#21918c;\" x=\"256.99369\" xlink:href=\"#C0_0_3163f385a5\" y=\"443.993578\"/>\n    </g>\n    <g clip-path=\"url(#p4ed6578a35)\">\n     <use style=\"fill:#21918c;stroke:#21918c;\" x=\"259.765462\" xlink:href=\"#C0_0_3163f385a5\" y=\"443.53986\"/>\n    </g>\n    <g clip-path=\"url(#p4ed6578a35)\">\n     <use style=\"fill:#21918c;stroke:#21918c;\" x=\"666.011558\" xlink:href=\"#C0_0_3163f385a5\" y=\"203.62228\"/>\n    </g>\n    <g clip-path=\"url(#p4ed6578a35)\">\n     <use style=\"fill:#440154;stroke:#440154;\" x=\"394.954576\" xlink:href=\"#C0_0_3163f385a5\" y=\"463.179647\"/>\n    </g>\n    <g clip-path=\"url(#p4ed6578a35)\">\n     <use style=\"fill:#21918c;stroke:#21918c;\" x=\"774.795081\" xlink:href=\"#C0_0_3163f385a5\" y=\"110.860527\"/>\n    </g>\n    <g clip-path=\"url(#p4ed6578a35)\">\n     <use style=\"fill:#21918c;stroke:#21918c;\" x=\"510.453796\" xlink:href=\"#C0_0_3163f385a5\" y=\"245.525606\"/>\n    </g>\n    <g clip-path=\"url(#p4ed6578a35)\">\n     <use style=\"fill:#fde725;stroke:#fde725;\" x=\"477.651765\" xlink:href=\"#C0_0_3163f385a5\" y=\"482.869135\"/>\n    </g>\n    <g clip-path=\"url(#p4ed6578a35)\">\n     <use style=\"fill:#fde725;stroke:#fde725;\" x=\"905.600513\" xlink:href=\"#C0_0_3163f385a5\" y=\"288.984912\"/>\n    </g>\n    <g clip-path=\"url(#p4ed6578a35)\">\n     <use style=\"fill:#440154;stroke:#440154;\" x=\"440.387784\" xlink:href=\"#C0_0_3163f385a5\" y=\"257.769067\"/>\n    </g>\n    <g clip-path=\"url(#p4ed6578a35)\">\n     <use style=\"fill:#fde725;stroke:#fde725;\" x=\"557.976631\" xlink:href=\"#C0_0_3163f385a5\" y=\"378.049386\"/>\n    </g>\n    <g clip-path=\"url(#p4ed6578a35)\">\n     <use style=\"fill:#440154;stroke:#440154;\" x=\"499.506313\" xlink:href=\"#C0_0_3163f385a5\" y=\"145.683161\"/>\n    </g>\n    <g clip-path=\"url(#p4ed6578a35)\">\n     <use style=\"fill:#440154;stroke:#440154;\" x=\"975.137322\" xlink:href=\"#C0_0_3163f385a5\" y=\"176.326478\"/>\n    </g>\n    <g clip-path=\"url(#p4ed6578a35)\">\n     <use style=\"fill:#fde725;stroke:#fde725;\" x=\"414.194725\" xlink:href=\"#C0_0_3163f385a5\" y=\"361.789093\"/>\n    </g>\n    <g clip-path=\"url(#p4ed6578a35)\">\n     <use style=\"fill:#440154;stroke:#440154;\" x=\"432.366399\" xlink:href=\"#C0_0_3163f385a5\" y=\"337.513686\"/>\n    </g>\n    <g clip-path=\"url(#p4ed6578a35)\">\n     <use style=\"fill:#21918c;stroke:#21918c;\" x=\"623.659484\" xlink:href=\"#C0_0_3163f385a5\" y=\"177.303458\"/>\n    </g>\n    <g clip-path=\"url(#p4ed6578a35)\">\n     <use style=\"fill:#440154;stroke:#440154;\" x=\"337.485546\" xlink:href=\"#C0_0_3163f385a5\" y=\"219.887586\"/>\n    </g>\n    <g clip-path=\"url(#p4ed6578a35)\">\n     <use style=\"fill:#fde725;stroke:#fde725;\" x=\"682.844287\" xlink:href=\"#C0_0_3163f385a5\" y=\"218.713112\"/>\n    </g>\n    <g clip-path=\"url(#p4ed6578a35)\">\n     <use style=\"fill:#fde725;stroke:#fde725;\" x=\"1068.231693\" xlink:href=\"#C0_0_3163f385a5\" y=\"213.697359\"/>\n    </g>\n    <g clip-path=\"url(#p4ed6578a35)\">\n     <use style=\"fill:#440154;stroke:#440154;\" x=\"592.673565\" xlink:href=\"#C0_0_3163f385a5\" y=\"291.37216\"/>\n    </g>\n    <g clip-path=\"url(#p4ed6578a35)\">\n     <use style=\"fill:#440154;stroke:#440154;\" x=\"558.969356\" xlink:href=\"#C0_0_3163f385a5\" y=\"316.099153\"/>\n    </g>\n    <g clip-path=\"url(#p4ed6578a35)\">\n     <use style=\"fill:#fde725;stroke:#fde725;\" x=\"638.743942\" xlink:href=\"#C0_0_3163f385a5\" y=\"278.486362\"/>\n    </g>\n    <g clip-path=\"url(#p4ed6578a35)\">\n     <use style=\"fill:#440154;stroke:#440154;\" x=\"1063.675054\" xlink:href=\"#C0_0_3163f385a5\" y=\"362.605798\"/>\n    </g>\n    <g clip-path=\"url(#p4ed6578a35)\">\n     <use style=\"fill:#21918c;stroke:#21918c;\" x=\"424.620575\" xlink:href=\"#C0_0_3163f385a5\" y=\"303.288934\"/>\n    </g>\n    <g clip-path=\"url(#p4ed6578a35)\">\n     <use style=\"fill:#fde725;stroke:#fde725;\" x=\"449.191139\" xlink:href=\"#C0_0_3163f385a5\" y=\"405.244153\"/>\n    </g>\n    <g clip-path=\"url(#p4ed6578a35)\">\n     <use style=\"fill:#440154;stroke:#440154;\" x=\"536.190621\" xlink:href=\"#C0_0_3163f385a5\" y=\"231.678847\"/>\n    </g>\n    <g clip-path=\"url(#p4ed6578a35)\">\n     <use style=\"fill:#21918c;stroke:#21918c;\" x=\"639.890591\" xlink:href=\"#C0_0_3163f385a5\" y=\"55.884\"/>\n    </g>\n    <g clip-path=\"url(#p4ed6578a35)\">\n     <use style=\"fill:#fde725;stroke:#fde725;\" x=\"253.058007\" xlink:href=\"#C0_0_3163f385a5\" y=\"257.802499\"/>\n    </g>\n    <g clip-path=\"url(#p4ed6578a35)\">\n     <use style=\"fill:#440154;stroke:#440154;\" x=\"493.205364\" xlink:href=\"#C0_0_3163f385a5\" y=\"311.840396\"/>\n    </g>\n    <g clip-path=\"url(#p4ed6578a35)\">\n     <use style=\"fill:#21918c;stroke:#21918c;\" x=\"314.389555\" xlink:href=\"#C0_0_3163f385a5\" y=\"387.558793\"/>\n    </g>\n    <g clip-path=\"url(#p4ed6578a35)\">\n     <use style=\"fill:#440154;stroke:#440154;\" x=\"305.754777\" xlink:href=\"#C0_0_3163f385a5\" y=\"349.49624\"/>\n    </g>\n    <g clip-path=\"url(#p4ed6578a35)\">\n     <use style=\"fill:#21918c;stroke:#21918c;\" x=\"689.345324\" xlink:href=\"#C0_0_3163f385a5\" y=\"327.279488\"/>\n    </g>\n    <g clip-path=\"url(#p4ed6578a35)\">\n     <use style=\"fill:#fde725;stroke:#fde725;\" x=\"493.689828\" xlink:href=\"#C0_0_3163f385a5\" y=\"423.116488\"/>\n    </g>\n    <g clip-path=\"url(#p4ed6578a35)\">\n     <use style=\"fill:#fde725;stroke:#fde725;\" x=\"461.537711\" xlink:href=\"#C0_0_3163f385a5\" y=\"327.42219\"/>\n    </g>\n    <g clip-path=\"url(#p4ed6578a35)\">\n     <use style=\"fill:#fde725;stroke:#fde725;\" x=\"669.013802\" xlink:href=\"#C0_0_3163f385a5\" y=\"139.331177\"/>\n    </g>\n    <g clip-path=\"url(#p4ed6578a35)\">\n     <use style=\"fill:#440154;stroke:#440154;\" x=\"866.667701\" xlink:href=\"#C0_0_3163f385a5\" y=\"245.692819\"/>\n    </g>\n    <g clip-path=\"url(#p4ed6578a35)\">\n     <use style=\"fill:#21918c;stroke:#21918c;\" x=\"682.953492\" xlink:href=\"#C0_0_3163f385a5\" y=\"239.413473\"/>\n    </g>\n    <g clip-path=\"url(#p4ed6578a35)\">\n     <use style=\"fill:#440154;stroke:#440154;\" x=\"354.283758\" xlink:href=\"#C0_0_3163f385a5\" y=\"316.42784\"/>\n    </g>\n    <g clip-path=\"url(#p4ed6578a35)\">\n     <use style=\"fill:#440154;stroke:#440154;\" x=\"842.056532\" xlink:href=\"#C0_0_3163f385a5\" y=\"242.27918\"/>\n    </g>\n    <g clip-path=\"url(#p4ed6578a35)\">\n     <use style=\"fill:#fde725;stroke:#fde725;\" x=\"963.469572\" xlink:href=\"#C0_0_3163f385a5\" y=\"316.726268\"/>\n    </g>\n    <g clip-path=\"url(#p4ed6578a35)\">\n     <use style=\"fill:#440154;stroke:#440154;\" x=\"523.51395\" xlink:href=\"#C0_0_3163f385a5\" y=\"341.14366\"/>\n    </g>\n    <g clip-path=\"url(#p4ed6578a35)\">\n     <use style=\"fill:#21918c;stroke:#21918c;\" x=\"1022.754734\" xlink:href=\"#C0_0_3163f385a5\" y=\"311.876575\"/>\n    </g>\n    <g clip-path=\"url(#p4ed6578a35)\">\n     <use style=\"fill:#21918c;stroke:#21918c;\" x=\"479.960757\" xlink:href=\"#C0_0_3163f385a5\" y=\"393.707048\"/>\n    </g>\n    <g clip-path=\"url(#p4ed6578a35)\">\n     <use style=\"fill:#21918c;stroke:#21918c;\" x=\"505.292698\" xlink:href=\"#C0_0_3163f385a5\" y=\"272.142569\"/>\n    </g>\n    <g clip-path=\"url(#p4ed6578a35)\">\n     <use style=\"fill:#440154;stroke:#440154;\" x=\"860.682844\" xlink:href=\"#C0_0_3163f385a5\" y=\"227.979357\"/>\n    </g>\n    <g clip-path=\"url(#p4ed6578a35)\">\n     <use style=\"fill:#fde725;stroke:#fde725;\" x=\"965.297104\" xlink:href=\"#C0_0_3163f385a5\" y=\"315.821306\"/>\n    </g>\n    <g clip-path=\"url(#p4ed6578a35)\">\n     <use style=\"fill:#fde725;stroke:#fde725;\" x=\"763.703907\" xlink:href=\"#C0_0_3163f385a5\" y=\"98.610839\"/>\n    </g>\n    <g clip-path=\"url(#p4ed6578a35)\">\n     <use style=\"fill:#440154;stroke:#440154;\" x=\"761.954365\" xlink:href=\"#C0_0_3163f385a5\" y=\"211.299371\"/>\n    </g>\n    <g clip-path=\"url(#p4ed6578a35)\">\n     <use style=\"fill:#440154;stroke:#440154;\" x=\"625.535394\" xlink:href=\"#C0_0_3163f385a5\" y=\"402.894003\"/>\n    </g>\n    <g clip-path=\"url(#p4ed6578a35)\">\n     <use style=\"fill:#440154;stroke:#440154;\" x=\"1010.45485\" xlink:href=\"#C0_0_3163f385a5\" y=\"278.116063\"/>\n    </g>\n    <g clip-path=\"url(#p4ed6578a35)\">\n     <use style=\"fill:#440154;stroke:#440154;\" x=\"236.751989\" xlink:href=\"#C0_0_3163f385a5\" y=\"293.741455\"/>\n    </g>\n    <g clip-path=\"url(#p4ed6578a35)\">\n     <use style=\"fill:#fde725;stroke:#fde725;\" x=\"594.087996\" xlink:href=\"#C0_0_3163f385a5\" y=\"392.672726\"/>\n    </g>\n    <g clip-path=\"url(#p4ed6578a35)\">\n     <use style=\"fill:#21918c;stroke:#21918c;\" x=\"771.471039\" xlink:href=\"#C0_0_3163f385a5\" y=\"144.968248\"/>\n    </g>\n    <g clip-path=\"url(#p4ed6578a35)\">\n     <use style=\"fill:#440154;stroke:#440154;\" x=\"788.651008\" xlink:href=\"#C0_0_3163f385a5\" y=\"108.438412\"/>\n    </g>\n    <g clip-path=\"url(#p4ed6578a35)\">\n     <use style=\"fill:#21918c;stroke:#21918c;\" x=\"432.067778\" xlink:href=\"#C0_0_3163f385a5\" y=\"439.768422\"/>\n    </g>\n    <g clip-path=\"url(#p4ed6578a35)\">\n     <use style=\"fill:#440154;stroke:#440154;\" x=\"494.283819\" xlink:href=\"#C0_0_3163f385a5\" y=\"294.271801\"/>\n    </g>\n    <g clip-path=\"url(#p4ed6578a35)\">\n     <use style=\"fill:#fde725;stroke:#fde725;\" x=\"523.937825\" xlink:href=\"#C0_0_3163f385a5\" y=\"468.307096\"/>\n    </g>\n    <g clip-path=\"url(#p4ed6578a35)\">\n     <use style=\"fill:#21918c;stroke:#21918c;\" x=\"452.157756\" xlink:href=\"#C0_0_3163f385a5\" y=\"223.17526\"/>\n    </g>\n    <g clip-path=\"url(#p4ed6578a35)\">\n     <use style=\"fill:#fde725;stroke:#fde725;\" x=\"795.338302\" xlink:href=\"#C0_0_3163f385a5\" y=\"316.447756\"/>\n    </g>\n    <g clip-path=\"url(#p4ed6578a35)\">\n     <use style=\"fill:#fde725;stroke:#fde725;\" x=\"860.054337\" xlink:href=\"#C0_0_3163f385a5\" y=\"309.762571\"/>\n    </g>\n    <g clip-path=\"url(#p4ed6578a35)\">\n     <use style=\"fill:#440154;stroke:#440154;\" x=\"714.406294\" xlink:href=\"#C0_0_3163f385a5\" y=\"270.138223\"/>\n    </g>\n    <g clip-path=\"url(#p4ed6578a35)\">\n     <use style=\"fill:#440154;stroke:#440154;\" x=\"639.334527\" xlink:href=\"#C0_0_3163f385a5\" y=\"221.703892\"/>\n    </g>\n    <g clip-path=\"url(#p4ed6578a35)\">\n     <use style=\"fill:#21918c;stroke:#21918c;\" x=\"1069.546055\" xlink:href=\"#C0_0_3163f385a5\" y=\"173.524733\"/>\n    </g>\n    <g clip-path=\"url(#p4ed6578a35)\">\n     <use style=\"fill:#440154;stroke:#440154;\" x=\"411.334722\" xlink:href=\"#C0_0_3163f385a5\" y=\"244.45678\"/>\n    </g>\n    <g clip-path=\"url(#p4ed6578a35)\">\n     <use style=\"fill:#fde725;stroke:#fde725;\" x=\"997.598316\" xlink:href=\"#C0_0_3163f385a5\" y=\"264.760105\"/>\n    </g>\n    <g clip-path=\"url(#p4ed6578a35)\">\n     <use style=\"fill:#21918c;stroke:#21918c;\" x=\"358.212507\" xlink:href=\"#C0_0_3163f385a5\" y=\"171.622927\"/>\n    </g>\n    <g clip-path=\"url(#p4ed6578a35)\">\n     <use style=\"fill:#fde725;stroke:#fde725;\" x=\"773.578635\" xlink:href=\"#C0_0_3163f385a5\" y=\"445.782755\"/>\n    </g>\n    <g clip-path=\"url(#p4ed6578a35)\">\n     <use style=\"fill:#fde725;stroke:#fde725;\" x=\"600.160939\" xlink:href=\"#C0_0_3163f385a5\" y=\"341.978864\"/>\n    </g>\n    <g clip-path=\"url(#p4ed6578a35)\">\n     <use style=\"fill:#fde725;stroke:#fde725;\" x=\"625.4272\" xlink:href=\"#C0_0_3163f385a5\" y=\"309.812514\"/>\n    </g>\n    <g clip-path=\"url(#p4ed6578a35)\">\n     <use style=\"fill:#fde725;stroke:#fde725;\" x=\"318.70286\" xlink:href=\"#C0_0_3163f385a5\" y=\"281.483022\"/>\n    </g>\n    <g clip-path=\"url(#p4ed6578a35)\">\n     <use style=\"fill:#21918c;stroke:#21918c;\" x=\"407.967163\" xlink:href=\"#C0_0_3163f385a5\" y=\"278.658321\"/>\n    </g>\n    <g clip-path=\"url(#p4ed6578a35)\">\n     <use style=\"fill:#440154;stroke:#440154;\" x=\"971.266292\" xlink:href=\"#C0_0_3163f385a5\" y=\"459.99171\"/>\n    </g>\n    <g clip-path=\"url(#p4ed6578a35)\">\n     <use style=\"fill:#440154;stroke:#440154;\" x=\"1084.821464\" xlink:href=\"#C0_0_3163f385a5\" y=\"294.359303\"/>\n    </g>\n    <g clip-path=\"url(#p4ed6578a35)\">\n     <use style=\"fill:#440154;stroke:#440154;\" x=\"298.85682\" xlink:href=\"#C0_0_3163f385a5\" y=\"141.418631\"/>\n    </g>\n    <g clip-path=\"url(#p4ed6578a35)\">\n     <use style=\"fill:#440154;stroke:#440154;\" x=\"486.231175\" xlink:href=\"#C0_0_3163f385a5\" y=\"115.017124\"/>\n    </g>\n    <g clip-path=\"url(#p4ed6578a35)\">\n     <use style=\"fill:#440154;stroke:#440154;\" x=\"371.933158\" xlink:href=\"#C0_0_3163f385a5\" y=\"173.878391\"/>\n    </g>\n    <g clip-path=\"url(#p4ed6578a35)\">\n     <use style=\"fill:#fde725;stroke:#fde725;\" x=\"781.162126\" xlink:href=\"#C0_0_3163f385a5\" y=\"339.687764\"/>\n    </g>\n    <g clip-path=\"url(#p4ed6578a35)\">\n     <use style=\"fill:#21918c;stroke:#21918c;\" x=\"981.728404\" xlink:href=\"#C0_0_3163f385a5\" y=\"228.569534\"/>\n    </g>\n    <g clip-path=\"url(#p4ed6578a35)\">\n     <use style=\"fill:#fde725;stroke:#fde725;\" x=\"505.645922\" xlink:href=\"#C0_0_3163f385a5\" y=\"188.011488\"/>\n    </g>\n    <g clip-path=\"url(#p4ed6578a35)\">\n     <use style=\"fill:#fde725;stroke:#fde725;\" x=\"514.2835\" xlink:href=\"#C0_0_3163f385a5\" y=\"376.154643\"/>\n    </g>\n    <g clip-path=\"url(#p4ed6578a35)\">\n     <use style=\"fill:#fde725;stroke:#fde725;\" x=\"989.48833\" xlink:href=\"#C0_0_3163f385a5\" y=\"285.981256\"/>\n    </g>\n    <g clip-path=\"url(#p4ed6578a35)\">\n     <use style=\"fill:#21918c;stroke:#21918c;\" x=\"442.704426\" xlink:href=\"#C0_0_3163f385a5\" y=\"474.257839\"/>\n    </g>\n    <g clip-path=\"url(#p4ed6578a35)\">\n     <use style=\"fill:#440154;stroke:#440154;\" x=\"922.904221\" xlink:href=\"#C0_0_3163f385a5\" y=\"327.959976\"/>\n    </g>\n    <g clip-path=\"url(#p4ed6578a35)\">\n     <use style=\"fill:#21918c;stroke:#21918c;\" x=\"715.622271\" xlink:href=\"#C0_0_3163f385a5\" y=\"413.851799\"/>\n    </g>\n    <g clip-path=\"url(#p4ed6578a35)\">\n     <use style=\"fill:#fde725;stroke:#fde725;\" x=\"930.073248\" xlink:href=\"#C0_0_3163f385a5\" y=\"317.726813\"/>\n    </g>\n    <g clip-path=\"url(#p4ed6578a35)\">\n     <use style=\"fill:#440154;stroke:#440154;\" x=\"304.209815\" xlink:href=\"#C0_0_3163f385a5\" y=\"327.336897\"/>\n    </g>\n    <g clip-path=\"url(#p4ed6578a35)\">\n     <use style=\"fill:#440154;stroke:#440154;\" x=\"322.052824\" xlink:href=\"#C0_0_3163f385a5\" y=\"363.750765\"/>\n    </g>\n    <g clip-path=\"url(#p4ed6578a35)\">\n     <use style=\"fill:#21918c;stroke:#21918c;\" x=\"576.527924\" xlink:href=\"#C0_0_3163f385a5\" y=\"431.073134\"/>\n    </g>\n    <g clip-path=\"url(#p4ed6578a35)\">\n     <use style=\"fill:#21918c;stroke:#21918c;\" x=\"601.346444\" xlink:href=\"#C0_0_3163f385a5\" y=\"439.170573\"/>\n    </g>\n    <g clip-path=\"url(#p4ed6578a35)\">\n     <use style=\"fill:#21918c;stroke:#21918c;\" x=\"559.11282\" xlink:href=\"#C0_0_3163f385a5\" y=\"270.661703\"/>\n    </g>\n    <g clip-path=\"url(#p4ed6578a35)\">\n     <use style=\"fill:#21918c;stroke:#21918c;\" x=\"492.330932\" xlink:href=\"#C0_0_3163f385a5\" y=\"445.469456\"/>\n    </g>\n    <g clip-path=\"url(#p4ed6578a35)\">\n     <use style=\"fill:#21918c;stroke:#21918c;\" x=\"627.217014\" xlink:href=\"#C0_0_3163f385a5\" y=\"398.397358\"/>\n    </g>\n    <g clip-path=\"url(#p4ed6578a35)\">\n     <use style=\"fill:#21918c;stroke:#21918c;\" x=\"774.640595\" xlink:href=\"#C0_0_3163f385a5\" y=\"155.577886\"/>\n    </g>\n    <g clip-path=\"url(#p4ed6578a35)\">\n     <use style=\"fill:#440154;stroke:#440154;\" x=\"451.170776\" xlink:href=\"#C0_0_3163f385a5\" y=\"134.693259\"/>\n    </g>\n    <g clip-path=\"url(#p4ed6578a35)\">\n     <use style=\"fill:#fde725;stroke:#fde725;\" x=\"635.912378\" xlink:href=\"#C0_0_3163f385a5\" y=\"73.276595\"/>\n    </g>\n    <g clip-path=\"url(#p4ed6578a35)\">\n     <use style=\"fill:#440154;stroke:#440154;\" x=\"159.491577\" xlink:href=\"#C0_0_3163f385a5\" y=\"391.596781\"/>\n    </g>\n    <g clip-path=\"url(#p4ed6578a35)\">\n     <use style=\"fill:#fde725;stroke:#fde725;\" x=\"834.546305\" xlink:href=\"#C0_0_3163f385a5\" y=\"372.652693\"/>\n    </g>\n    <g clip-path=\"url(#p4ed6578a35)\">\n     <use style=\"fill:#fde725;stroke:#fde725;\" x=\"975.139123\" xlink:href=\"#C0_0_3163f385a5\" y=\"325.582448\"/>\n    </g>\n    <g clip-path=\"url(#p4ed6578a35)\">\n     <use style=\"fill:#21918c;stroke:#21918c;\" x=\"1047.257376\" xlink:href=\"#C0_0_3163f385a5\" y=\"220.818565\"/>\n    </g>\n    <g clip-path=\"url(#p4ed6578a35)\">\n     <use style=\"fill:#fde725;stroke:#fde725;\" x=\"486.180866\" xlink:href=\"#C0_0_3163f385a5\" y=\"282.277381\"/>\n    </g>\n    <g clip-path=\"url(#p4ed6578a35)\">\n     <use style=\"fill:#440154;stroke:#440154;\" x=\"722.155376\" xlink:href=\"#C0_0_3163f385a5\" y=\"276.072138\"/>\n    </g>\n    <g clip-path=\"url(#p4ed6578a35)\">\n     <use style=\"fill:#fde725;stroke:#fde725;\" x=\"489.972587\" xlink:href=\"#C0_0_3163f385a5\" y=\"522.246218\"/>\n    </g>\n    <g clip-path=\"url(#p4ed6578a35)\">\n     <use style=\"fill:#440154;stroke:#440154;\" x=\"566.620033\" xlink:href=\"#C0_0_3163f385a5\" y=\"310.958077\"/>\n    </g>\n    <g clip-path=\"url(#p4ed6578a35)\">\n     <use style=\"fill:#21918c;stroke:#21918c;\" x=\"531.899269\" xlink:href=\"#C0_0_3163f385a5\" y=\"273.527646\"/>\n    </g>\n    <g clip-path=\"url(#p4ed6578a35)\">\n     <use style=\"fill:#440154;stroke:#440154;\" x=\"711.196208\" xlink:href=\"#C0_0_3163f385a5\" y=\"266.682489\"/>\n    </g>\n    <g clip-path=\"url(#p4ed6578a35)\">\n     <use style=\"fill:#21918c;stroke:#21918c;\" x=\"643.906552\" xlink:href=\"#C0_0_3163f385a5\" y=\"428.006925\"/>\n    </g>\n    <g clip-path=\"url(#p4ed6578a35)\">\n     <use style=\"fill:#fde725;stroke:#fde725;\" x=\"720.140526\" xlink:href=\"#C0_0_3163f385a5\" y=\"367.592172\"/>\n    </g>\n    <g clip-path=\"url(#p4ed6578a35)\">\n     <use style=\"fill:#21918c;stroke:#21918c;\" x=\"1030.400261\" xlink:href=\"#C0_0_3163f385a5\" y=\"266.209993\"/>\n    </g>\n   </g>\n   <g id=\"matplotlib.axis_1\">\n    <g id=\"xtick_1\">\n     <g id=\"line2d_1\">\n      <defs>\n       <path d=\"M 0 0 \nL 0 3.5 \n\" id=\"mccc632b08c\" style=\"stroke:#000000;stroke-width:0.8;\"/>\n      </defs>\n      <g>\n       <use style=\"stroke:#000000;stroke-width:0.8;\" x=\"51.692092\" xlink:href=\"#mccc632b08c\" y=\"565.918125\"/>\n      </g>\n     </g>\n     <g id=\"text_1\">\n      <!-- −10.0 -->\n      <g transform=\"translate(36.369436 580.516562)scale(0.1 -0.1)\">\n       <defs>\n        <path d=\"M 10.59375 35.5 \nL 73.1875 35.5 \nL 73.1875 27.203125 \nL 10.59375 27.203125 \nz\n\" id=\"DejaVuSans-8722\"/>\n        <path d=\"M 12.40625 8.296875 \nL 28.515625 8.296875 \nL 28.515625 63.921875 \nL 10.984375 60.40625 \nL 10.984375 69.390625 \nL 28.421875 72.90625 \nL 38.28125 72.90625 \nL 38.28125 8.296875 \nL 54.390625 8.296875 \nL 54.390625 0 \nL 12.40625 0 \nz\n\" id=\"DejaVuSans-49\"/>\n        <path d=\"M 31.78125 66.40625 \nQ 24.171875 66.40625 20.328125 58.90625 \nQ 16.5 51.421875 16.5 36.375 \nQ 16.5 21.390625 20.328125 13.890625 \nQ 24.171875 6.390625 31.78125 6.390625 \nQ 39.453125 6.390625 43.28125 13.890625 \nQ 47.125 21.390625 47.125 36.375 \nQ 47.125 51.421875 43.28125 58.90625 \nQ 39.453125 66.40625 31.78125 66.40625 \nz\nM 31.78125 74.21875 \nQ 44.046875 74.21875 50.515625 64.515625 \nQ 56.984375 54.828125 56.984375 36.375 \nQ 56.984375 17.96875 50.515625 8.265625 \nQ 44.046875 -1.421875 31.78125 -1.421875 \nQ 19.53125 -1.421875 13.0625 8.265625 \nQ 6.59375 17.96875 6.59375 36.375 \nQ 6.59375 54.828125 13.0625 64.515625 \nQ 19.53125 74.21875 31.78125 74.21875 \nz\n\" id=\"DejaVuSans-48\"/>\n        <path d=\"M 10.6875 12.40625 \nL 21 12.40625 \nL 21 0 \nL 10.6875 0 \nz\n\" id=\"DejaVuSans-46\"/>\n       </defs>\n       <use xlink:href=\"#DejaVuSans-8722\"/>\n       <use x=\"83.789062\" xlink:href=\"#DejaVuSans-49\"/>\n       <use x=\"147.412109\" xlink:href=\"#DejaVuSans-48\"/>\n       <use x=\"211.035156\" xlink:href=\"#DejaVuSans-46\"/>\n       <use x=\"242.822266\" xlink:href=\"#DejaVuSans-48\"/>\n      </g>\n     </g>\n    </g>\n    <g id=\"xtick_2\">\n     <g id=\"line2d_2\">\n      <g>\n       <use style=\"stroke:#000000;stroke-width:0.8;\" x=\"181.067307\" xlink:href=\"#mccc632b08c\" y=\"565.918125\"/>\n      </g>\n     </g>\n     <g id=\"text_2\">\n      <!-- −7.5 -->\n      <g transform=\"translate(168.925901 580.516562)scale(0.1 -0.1)\">\n       <defs>\n        <path d=\"M 8.203125 72.90625 \nL 55.078125 72.90625 \nL 55.078125 68.703125 \nL 28.609375 0 \nL 18.3125 0 \nL 43.21875 64.59375 \nL 8.203125 64.59375 \nz\n\" id=\"DejaVuSans-55\"/>\n        <path d=\"M 10.796875 72.90625 \nL 49.515625 72.90625 \nL 49.515625 64.59375 \nL 19.828125 64.59375 \nL 19.828125 46.734375 \nQ 21.96875 47.46875 24.109375 47.828125 \nQ 26.265625 48.1875 28.421875 48.1875 \nQ 40.625 48.1875 47.75 41.5 \nQ 54.890625 34.8125 54.890625 23.390625 \nQ 54.890625 11.625 47.5625 5.09375 \nQ 40.234375 -1.421875 26.90625 -1.421875 \nQ 22.3125 -1.421875 17.546875 -0.640625 \nQ 12.796875 0.140625 7.71875 1.703125 \nL 7.71875 11.625 \nQ 12.109375 9.234375 16.796875 8.0625 \nQ 21.484375 6.890625 26.703125 6.890625 \nQ 35.15625 6.890625 40.078125 11.328125 \nQ 45.015625 15.765625 45.015625 23.390625 \nQ 45.015625 31 40.078125 35.4375 \nQ 35.15625 39.890625 26.703125 39.890625 \nQ 22.75 39.890625 18.8125 39.015625 \nQ 14.890625 38.140625 10.796875 36.28125 \nz\n\" id=\"DejaVuSans-53\"/>\n       </defs>\n       <use xlink:href=\"#DejaVuSans-8722\"/>\n       <use x=\"83.789062\" xlink:href=\"#DejaVuSans-55\"/>\n       <use x=\"147.412109\" xlink:href=\"#DejaVuSans-46\"/>\n       <use x=\"179.199219\" xlink:href=\"#DejaVuSans-53\"/>\n      </g>\n     </g>\n    </g>\n    <g id=\"xtick_3\">\n     <g id=\"line2d_3\">\n      <g>\n       <use style=\"stroke:#000000;stroke-width:0.8;\" x=\"310.442521\" xlink:href=\"#mccc632b08c\" y=\"565.918125\"/>\n      </g>\n     </g>\n     <g id=\"text_3\">\n      <!-- −5.0 -->\n      <g transform=\"translate(298.301115 580.516562)scale(0.1 -0.1)\">\n       <use xlink:href=\"#DejaVuSans-8722\"/>\n       <use x=\"83.789062\" xlink:href=\"#DejaVuSans-53\"/>\n       <use x=\"147.412109\" xlink:href=\"#DejaVuSans-46\"/>\n       <use x=\"179.199219\" xlink:href=\"#DejaVuSans-48\"/>\n      </g>\n     </g>\n    </g>\n    <g id=\"xtick_4\">\n     <g id=\"line2d_4\">\n      <g>\n       <use style=\"stroke:#000000;stroke-width:0.8;\" x=\"439.817736\" xlink:href=\"#mccc632b08c\" y=\"565.918125\"/>\n      </g>\n     </g>\n     <g id=\"text_4\">\n      <!-- −2.5 -->\n      <g transform=\"translate(427.67633 580.516562)scale(0.1 -0.1)\">\n       <defs>\n        <path d=\"M 19.1875 8.296875 \nL 53.609375 8.296875 \nL 53.609375 0 \nL 7.328125 0 \nL 7.328125 8.296875 \nQ 12.9375 14.109375 22.625 23.890625 \nQ 32.328125 33.6875 34.8125 36.53125 \nQ 39.546875 41.84375 41.421875 45.53125 \nQ 43.3125 49.21875 43.3125 52.78125 \nQ 43.3125 58.59375 39.234375 62.25 \nQ 35.15625 65.921875 28.609375 65.921875 \nQ 23.96875 65.921875 18.8125 64.3125 \nQ 13.671875 62.703125 7.8125 59.421875 \nL 7.8125 69.390625 \nQ 13.765625 71.78125 18.9375 73 \nQ 24.125 74.21875 28.421875 74.21875 \nQ 39.75 74.21875 46.484375 68.546875 \nQ 53.21875 62.890625 53.21875 53.421875 \nQ 53.21875 48.921875 51.53125 44.890625 \nQ 49.859375 40.875 45.40625 35.40625 \nQ 44.1875 33.984375 37.640625 27.21875 \nQ 31.109375 20.453125 19.1875 8.296875 \nz\n\" id=\"DejaVuSans-50\"/>\n       </defs>\n       <use xlink:href=\"#DejaVuSans-8722\"/>\n       <use x=\"83.789062\" xlink:href=\"#DejaVuSans-50\"/>\n       <use x=\"147.412109\" xlink:href=\"#DejaVuSans-46\"/>\n       <use x=\"179.199219\" xlink:href=\"#DejaVuSans-53\"/>\n      </g>\n     </g>\n    </g>\n    <g id=\"xtick_5\">\n     <g id=\"line2d_5\">\n      <g>\n       <use style=\"stroke:#000000;stroke-width:0.8;\" x=\"569.19295\" xlink:href=\"#mccc632b08c\" y=\"565.918125\"/>\n      </g>\n     </g>\n     <g id=\"text_5\">\n      <!-- 0.0 -->\n      <g transform=\"translate(561.241388 580.516562)scale(0.1 -0.1)\">\n       <use xlink:href=\"#DejaVuSans-48\"/>\n       <use x=\"63.623047\" xlink:href=\"#DejaVuSans-46\"/>\n       <use x=\"95.410156\" xlink:href=\"#DejaVuSans-48\"/>\n      </g>\n     </g>\n    </g>\n    <g id=\"xtick_6\">\n     <g id=\"line2d_6\">\n      <g>\n       <use style=\"stroke:#000000;stroke-width:0.8;\" x=\"698.568165\" xlink:href=\"#mccc632b08c\" y=\"565.918125\"/>\n      </g>\n     </g>\n     <g id=\"text_6\">\n      <!-- 2.5 -->\n      <g transform=\"translate(690.616602 580.516562)scale(0.1 -0.1)\">\n       <use xlink:href=\"#DejaVuSans-50\"/>\n       <use x=\"63.623047\" xlink:href=\"#DejaVuSans-46\"/>\n       <use x=\"95.410156\" xlink:href=\"#DejaVuSans-53\"/>\n      </g>\n     </g>\n    </g>\n    <g id=\"xtick_7\">\n     <g id=\"line2d_7\">\n      <g>\n       <use style=\"stroke:#000000;stroke-width:0.8;\" x=\"827.943379\" xlink:href=\"#mccc632b08c\" y=\"565.918125\"/>\n      </g>\n     </g>\n     <g id=\"text_7\">\n      <!-- 5.0 -->\n      <g transform=\"translate(819.991817 580.516562)scale(0.1 -0.1)\">\n       <use xlink:href=\"#DejaVuSans-53\"/>\n       <use x=\"63.623047\" xlink:href=\"#DejaVuSans-46\"/>\n       <use x=\"95.410156\" xlink:href=\"#DejaVuSans-48\"/>\n      </g>\n     </g>\n    </g>\n    <g id=\"xtick_8\">\n     <g id=\"line2d_8\">\n      <g>\n       <use style=\"stroke:#000000;stroke-width:0.8;\" x=\"957.318594\" xlink:href=\"#mccc632b08c\" y=\"565.918125\"/>\n      </g>\n     </g>\n     <g id=\"text_8\">\n      <!-- 7.5 -->\n      <g transform=\"translate(949.367031 580.516562)scale(0.1 -0.1)\">\n       <use xlink:href=\"#DejaVuSans-55\"/>\n       <use x=\"63.623047\" xlink:href=\"#DejaVuSans-46\"/>\n       <use x=\"95.410156\" xlink:href=\"#DejaVuSans-53\"/>\n      </g>\n     </g>\n    </g>\n    <g id=\"xtick_9\">\n     <g id=\"line2d_9\">\n      <g>\n       <use style=\"stroke:#000000;stroke-width:0.8;\" x=\"1086.693808\" xlink:href=\"#mccc632b08c\" y=\"565.918125\"/>\n      </g>\n     </g>\n     <g id=\"text_9\">\n      <!-- 10.0 -->\n      <g transform=\"translate(1075.560996 580.516562)scale(0.1 -0.1)\">\n       <use xlink:href=\"#DejaVuSans-49\"/>\n       <use x=\"63.623047\" xlink:href=\"#DejaVuSans-48\"/>\n       <use x=\"127.246094\" xlink:href=\"#DejaVuSans-46\"/>\n       <use x=\"159.033203\" xlink:href=\"#DejaVuSans-48\"/>\n      </g>\n     </g>\n    </g>\n   </g>\n   <g id=\"matplotlib.axis_2\">\n    <g id=\"ytick_1\">\n     <g id=\"line2d_10\">\n      <defs>\n       <path d=\"M 0 0 \nL -3.5 0 \n\" id=\"m7d16d74683\" style=\"stroke:#000000;stroke-width:0.8;\"/>\n      </defs>\n      <g>\n       <use style=\"stroke:#000000;stroke-width:0.8;\" x=\"38.482813\" xlink:href=\"#m7d16d74683\" y=\"534.766979\"/>\n      </g>\n     </g>\n     <g id=\"text_10\">\n      <!-- −7.5 -->\n      <g transform=\"translate(7.2 538.566198)scale(0.1 -0.1)\">\n       <use xlink:href=\"#DejaVuSans-8722\"/>\n       <use x=\"83.789062\" xlink:href=\"#DejaVuSans-55\"/>\n       <use x=\"147.412109\" xlink:href=\"#DejaVuSans-46\"/>\n       <use x=\"179.199219\" xlink:href=\"#DejaVuSans-53\"/>\n      </g>\n     </g>\n    </g>\n    <g id=\"ytick_2\">\n     <g id=\"line2d_11\">\n      <g>\n       <use style=\"stroke:#000000;stroke-width:0.8;\" x=\"38.482813\" xlink:href=\"#m7d16d74683\" y=\"469.460419\"/>\n      </g>\n     </g>\n     <g id=\"text_11\">\n      <!-- −5.0 -->\n      <g transform=\"translate(7.2 473.259638)scale(0.1 -0.1)\">\n       <use xlink:href=\"#DejaVuSans-8722\"/>\n       <use x=\"83.789062\" xlink:href=\"#DejaVuSans-53\"/>\n       <use x=\"147.412109\" xlink:href=\"#DejaVuSans-46\"/>\n       <use x=\"179.199219\" xlink:href=\"#DejaVuSans-48\"/>\n      </g>\n     </g>\n    </g>\n    <g id=\"ytick_3\">\n     <g id=\"line2d_12\">\n      <g>\n       <use style=\"stroke:#000000;stroke-width:0.8;\" x=\"38.482813\" xlink:href=\"#m7d16d74683\" y=\"404.153858\"/>\n      </g>\n     </g>\n     <g id=\"text_12\">\n      <!-- −2.5 -->\n      <g transform=\"translate(7.2 407.953077)scale(0.1 -0.1)\">\n       <use xlink:href=\"#DejaVuSans-8722\"/>\n       <use x=\"83.789062\" xlink:href=\"#DejaVuSans-50\"/>\n       <use x=\"147.412109\" xlink:href=\"#DejaVuSans-46\"/>\n       <use x=\"179.199219\" xlink:href=\"#DejaVuSans-53\"/>\n      </g>\n     </g>\n    </g>\n    <g id=\"ytick_4\">\n     <g id=\"line2d_13\">\n      <g>\n       <use style=\"stroke:#000000;stroke-width:0.8;\" x=\"38.482813\" xlink:href=\"#m7d16d74683\" y=\"338.847298\"/>\n      </g>\n     </g>\n     <g id=\"text_13\">\n      <!-- 0.0 -->\n      <g transform=\"translate(15.579688 342.646517)scale(0.1 -0.1)\">\n       <use xlink:href=\"#DejaVuSans-48\"/>\n       <use x=\"63.623047\" xlink:href=\"#DejaVuSans-46\"/>\n       <use x=\"95.410156\" xlink:href=\"#DejaVuSans-48\"/>\n      </g>\n     </g>\n    </g>\n    <g id=\"ytick_5\">\n     <g id=\"line2d_14\">\n      <g>\n       <use style=\"stroke:#000000;stroke-width:0.8;\" x=\"38.482813\" xlink:href=\"#m7d16d74683\" y=\"273.540738\"/>\n      </g>\n     </g>\n     <g id=\"text_14\">\n      <!-- 2.5 -->\n      <g transform=\"translate(15.579688 277.339956)scale(0.1 -0.1)\">\n       <use xlink:href=\"#DejaVuSans-50\"/>\n       <use x=\"63.623047\" xlink:href=\"#DejaVuSans-46\"/>\n       <use x=\"95.410156\" xlink:href=\"#DejaVuSans-53\"/>\n      </g>\n     </g>\n    </g>\n    <g id=\"ytick_6\">\n     <g id=\"line2d_15\">\n      <g>\n       <use style=\"stroke:#000000;stroke-width:0.8;\" x=\"38.482813\" xlink:href=\"#m7d16d74683\" y=\"208.234177\"/>\n      </g>\n     </g>\n     <g id=\"text_15\">\n      <!-- 5.0 -->\n      <g transform=\"translate(15.579688 212.033396)scale(0.1 -0.1)\">\n       <use xlink:href=\"#DejaVuSans-53\"/>\n       <use x=\"63.623047\" xlink:href=\"#DejaVuSans-46\"/>\n       <use x=\"95.410156\" xlink:href=\"#DejaVuSans-48\"/>\n      </g>\n     </g>\n    </g>\n    <g id=\"ytick_7\">\n     <g id=\"line2d_16\">\n      <g>\n       <use style=\"stroke:#000000;stroke-width:0.8;\" x=\"38.482813\" xlink:href=\"#m7d16d74683\" y=\"142.927617\"/>\n      </g>\n     </g>\n     <g id=\"text_16\">\n      <!-- 7.5 -->\n      <g transform=\"translate(15.579688 146.726836)scale(0.1 -0.1)\">\n       <use xlink:href=\"#DejaVuSans-55\"/>\n       <use x=\"63.623047\" xlink:href=\"#DejaVuSans-46\"/>\n       <use x=\"95.410156\" xlink:href=\"#DejaVuSans-53\"/>\n      </g>\n     </g>\n    </g>\n    <g id=\"ytick_8\">\n     <g id=\"line2d_17\">\n      <g>\n       <use style=\"stroke:#000000;stroke-width:0.8;\" x=\"38.482813\" xlink:href=\"#m7d16d74683\" y=\"77.621056\"/>\n      </g>\n     </g>\n     <g id=\"text_17\">\n      <!-- 10.0 -->\n      <g transform=\"translate(9.217188 81.420275)scale(0.1 -0.1)\">\n       <use xlink:href=\"#DejaVuSans-49\"/>\n       <use x=\"63.623047\" xlink:href=\"#DejaVuSans-48\"/>\n       <use x=\"127.246094\" xlink:href=\"#DejaVuSans-46\"/>\n       <use x=\"159.033203\" xlink:href=\"#DejaVuSans-48\"/>\n      </g>\n     </g>\n    </g>\n   </g>\n   <g id=\"patch_3\">\n    <path d=\"M 38.482813 565.918125 \nL 38.482813 22.318125 \n\" style=\"fill:none;stroke:#000000;stroke-linecap:square;stroke-linejoin:miter;stroke-width:0.8;\"/>\n   </g>\n   <g id=\"patch_4\">\n    <path d=\"M 1154.482812 565.918125 \nL 1154.482812 22.318125 \n\" style=\"fill:none;stroke:#000000;stroke-linecap:square;stroke-linejoin:miter;stroke-width:0.8;\"/>\n   </g>\n   <g id=\"patch_5\">\n    <path d=\"M 38.482813 565.918125 \nL 1154.482813 565.918125 \n\" style=\"fill:none;stroke:#000000;stroke-linecap:square;stroke-linejoin:miter;stroke-width:0.8;\"/>\n   </g>\n   <g id=\"patch_6\">\n    <path d=\"M 38.482813 22.318125 \nL 1154.482813 22.318125 \n\" style=\"fill:none;stroke:#000000;stroke-linecap:square;stroke-linejoin:miter;stroke-width:0.8;\"/>\n   </g>\n   <g id=\"text_18\">\n    <!-- TSNE visualization -->\n    <g transform=\"translate(541.346563 16.318125)scale(0.12 -0.12)\">\n     <defs>\n      <path d=\"M -0.296875 72.90625 \nL 61.375 72.90625 \nL 61.375 64.59375 \nL 35.5 64.59375 \nL 35.5 0 \nL 25.59375 0 \nL 25.59375 64.59375 \nL -0.296875 64.59375 \nz\n\" id=\"DejaVuSans-84\"/>\n      <path d=\"M 53.515625 70.515625 \nL 53.515625 60.890625 \nQ 47.90625 63.578125 42.921875 64.890625 \nQ 37.9375 66.21875 33.296875 66.21875 \nQ 25.25 66.21875 20.875 63.09375 \nQ 16.5 59.96875 16.5 54.203125 \nQ 16.5 49.359375 19.40625 46.890625 \nQ 22.3125 44.4375 30.421875 42.921875 \nL 36.375 41.703125 \nQ 47.40625 39.59375 52.65625 34.296875 \nQ 57.90625 29 57.90625 20.125 \nQ 57.90625 9.515625 50.796875 4.046875 \nQ 43.703125 -1.421875 29.984375 -1.421875 \nQ 24.8125 -1.421875 18.96875 -0.25 \nQ 13.140625 0.921875 6.890625 3.21875 \nL 6.890625 13.375 \nQ 12.890625 10.015625 18.65625 8.296875 \nQ 24.421875 6.59375 29.984375 6.59375 \nQ 38.421875 6.59375 43.015625 9.90625 \nQ 47.609375 13.234375 47.609375 19.390625 \nQ 47.609375 24.75 44.3125 27.78125 \nQ 41.015625 30.8125 33.5 32.328125 \nL 27.484375 33.5 \nQ 16.453125 35.6875 11.515625 40.375 \nQ 6.59375 45.0625 6.59375 53.421875 \nQ 6.59375 63.09375 13.40625 68.65625 \nQ 20.21875 74.21875 32.171875 74.21875 \nQ 37.3125 74.21875 42.625 73.28125 \nQ 47.953125 72.359375 53.515625 70.515625 \nz\n\" id=\"DejaVuSans-83\"/>\n      <path d=\"M 9.8125 72.90625 \nL 23.09375 72.90625 \nL 55.421875 11.921875 \nL 55.421875 72.90625 \nL 64.984375 72.90625 \nL 64.984375 0 \nL 51.703125 0 \nL 19.390625 60.984375 \nL 19.390625 0 \nL 9.8125 0 \nz\n\" id=\"DejaVuSans-78\"/>\n      <path d=\"M 9.8125 72.90625 \nL 55.90625 72.90625 \nL 55.90625 64.59375 \nL 19.671875 64.59375 \nL 19.671875 43.015625 \nL 54.390625 43.015625 \nL 54.390625 34.71875 \nL 19.671875 34.71875 \nL 19.671875 8.296875 \nL 56.78125 8.296875 \nL 56.78125 0 \nL 9.8125 0 \nz\n\" id=\"DejaVuSans-69\"/>\n      <path id=\"DejaVuSans-32\"/>\n      <path d=\"M 2.984375 54.6875 \nL 12.5 54.6875 \nL 29.59375 8.796875 \nL 46.6875 54.6875 \nL 56.203125 54.6875 \nL 35.6875 0 \nL 23.484375 0 \nz\n\" id=\"DejaVuSans-118\"/>\n      <path d=\"M 9.421875 54.6875 \nL 18.40625 54.6875 \nL 18.40625 0 \nL 9.421875 0 \nz\nM 9.421875 75.984375 \nL 18.40625 75.984375 \nL 18.40625 64.59375 \nL 9.421875 64.59375 \nz\n\" id=\"DejaVuSans-105\"/>\n      <path d=\"M 44.28125 53.078125 \nL 44.28125 44.578125 \nQ 40.484375 46.53125 36.375 47.5 \nQ 32.28125 48.484375 27.875 48.484375 \nQ 21.1875 48.484375 17.84375 46.4375 \nQ 14.5 44.390625 14.5 40.28125 \nQ 14.5 37.15625 16.890625 35.375 \nQ 19.28125 33.59375 26.515625 31.984375 \nL 29.59375 31.296875 \nQ 39.15625 29.25 43.1875 25.515625 \nQ 47.21875 21.78125 47.21875 15.09375 \nQ 47.21875 7.46875 41.1875 3.015625 \nQ 35.15625 -1.421875 24.609375 -1.421875 \nQ 20.21875 -1.421875 15.453125 -0.5625 \nQ 10.6875 0.296875 5.421875 2 \nL 5.421875 11.28125 \nQ 10.40625 8.6875 15.234375 7.390625 \nQ 20.0625 6.109375 24.8125 6.109375 \nQ 31.15625 6.109375 34.5625 8.28125 \nQ 37.984375 10.453125 37.984375 14.40625 \nQ 37.984375 18.0625 35.515625 20.015625 \nQ 33.0625 21.96875 24.703125 23.78125 \nL 21.578125 24.515625 \nQ 13.234375 26.265625 9.515625 29.90625 \nQ 5.8125 33.546875 5.8125 39.890625 \nQ 5.8125 47.609375 11.28125 51.796875 \nQ 16.75 56 26.8125 56 \nQ 31.78125 56 36.171875 55.265625 \nQ 40.578125 54.546875 44.28125 53.078125 \nz\n\" id=\"DejaVuSans-115\"/>\n      <path d=\"M 8.5 21.578125 \nL 8.5 54.6875 \nL 17.484375 54.6875 \nL 17.484375 21.921875 \nQ 17.484375 14.15625 20.5 10.265625 \nQ 23.53125 6.390625 29.59375 6.390625 \nQ 36.859375 6.390625 41.078125 11.03125 \nQ 45.3125 15.671875 45.3125 23.6875 \nL 45.3125 54.6875 \nL 54.296875 54.6875 \nL 54.296875 0 \nL 45.3125 0 \nL 45.3125 8.40625 \nQ 42.046875 3.421875 37.71875 1 \nQ 33.40625 -1.421875 27.6875 -1.421875 \nQ 18.265625 -1.421875 13.375 4.4375 \nQ 8.5 10.296875 8.5 21.578125 \nz\nM 31.109375 56 \nz\n\" id=\"DejaVuSans-117\"/>\n      <path d=\"M 34.28125 27.484375 \nQ 23.390625 27.484375 19.1875 25 \nQ 14.984375 22.515625 14.984375 16.5 \nQ 14.984375 11.71875 18.140625 8.90625 \nQ 21.296875 6.109375 26.703125 6.109375 \nQ 34.1875 6.109375 38.703125 11.40625 \nQ 43.21875 16.703125 43.21875 25.484375 \nL 43.21875 27.484375 \nz\nM 52.203125 31.203125 \nL 52.203125 0 \nL 43.21875 0 \nL 43.21875 8.296875 \nQ 40.140625 3.328125 35.546875 0.953125 \nQ 30.953125 -1.421875 24.3125 -1.421875 \nQ 15.921875 -1.421875 10.953125 3.296875 \nQ 6 8.015625 6 15.921875 \nQ 6 25.140625 12.171875 29.828125 \nQ 18.359375 34.515625 30.609375 34.515625 \nL 43.21875 34.515625 \nL 43.21875 35.40625 \nQ 43.21875 41.609375 39.140625 45 \nQ 35.0625 48.390625 27.6875 48.390625 \nQ 23 48.390625 18.546875 47.265625 \nQ 14.109375 46.140625 10.015625 43.890625 \nL 10.015625 52.203125 \nQ 14.9375 54.109375 19.578125 55.046875 \nQ 24.21875 56 28.609375 56 \nQ 40.484375 56 46.34375 49.84375 \nQ 52.203125 43.703125 52.203125 31.203125 \nz\n\" id=\"DejaVuSans-97\"/>\n      <path d=\"M 9.421875 75.984375 \nL 18.40625 75.984375 \nL 18.40625 0 \nL 9.421875 0 \nz\n\" id=\"DejaVuSans-108\"/>\n      <path d=\"M 5.515625 54.6875 \nL 48.1875 54.6875 \nL 48.1875 46.484375 \nL 14.40625 7.171875 \nL 48.1875 7.171875 \nL 48.1875 0 \nL 4.296875 0 \nL 4.296875 8.203125 \nL 38.09375 47.515625 \nL 5.515625 47.515625 \nz\n\" id=\"DejaVuSans-122\"/>\n      <path d=\"M 18.3125 70.21875 \nL 18.3125 54.6875 \nL 36.8125 54.6875 \nL 36.8125 47.703125 \nL 18.3125 47.703125 \nL 18.3125 18.015625 \nQ 18.3125 11.328125 20.140625 9.421875 \nQ 21.96875 7.515625 27.59375 7.515625 \nL 36.8125 7.515625 \nL 36.8125 0 \nL 27.59375 0 \nQ 17.1875 0 13.234375 3.875 \nQ 9.28125 7.765625 9.28125 18.015625 \nL 9.28125 47.703125 \nL 2.6875 47.703125 \nL 2.6875 54.6875 \nL 9.28125 54.6875 \nL 9.28125 70.21875 \nz\n\" id=\"DejaVuSans-116\"/>\n      <path d=\"M 30.609375 48.390625 \nQ 23.390625 48.390625 19.1875 42.75 \nQ 14.984375 37.109375 14.984375 27.296875 \nQ 14.984375 17.484375 19.15625 11.84375 \nQ 23.34375 6.203125 30.609375 6.203125 \nQ 37.796875 6.203125 41.984375 11.859375 \nQ 46.1875 17.53125 46.1875 27.296875 \nQ 46.1875 37.015625 41.984375 42.703125 \nQ 37.796875 48.390625 30.609375 48.390625 \nz\nM 30.609375 56 \nQ 42.328125 56 49.015625 48.375 \nQ 55.71875 40.765625 55.71875 27.296875 \nQ 55.71875 13.875 49.015625 6.21875 \nQ 42.328125 -1.421875 30.609375 -1.421875 \nQ 18.84375 -1.421875 12.171875 6.21875 \nQ 5.515625 13.875 5.515625 27.296875 \nQ 5.515625 40.765625 12.171875 48.375 \nQ 18.84375 56 30.609375 56 \nz\n\" id=\"DejaVuSans-111\"/>\n      <path d=\"M 54.890625 33.015625 \nL 54.890625 0 \nL 45.90625 0 \nL 45.90625 32.71875 \nQ 45.90625 40.484375 42.875 44.328125 \nQ 39.84375 48.1875 33.796875 48.1875 \nQ 26.515625 48.1875 22.3125 43.546875 \nQ 18.109375 38.921875 18.109375 30.90625 \nL 18.109375 0 \nL 9.078125 0 \nL 9.078125 54.6875 \nL 18.109375 54.6875 \nL 18.109375 46.1875 \nQ 21.34375 51.125 25.703125 53.5625 \nQ 30.078125 56 35.796875 56 \nQ 45.21875 56 50.046875 50.171875 \nQ 54.890625 44.34375 54.890625 33.015625 \nz\n\" id=\"DejaVuSans-110\"/>\n     </defs>\n     <use xlink:href=\"#DejaVuSans-84\"/>\n     <use x=\"61.083984\" xlink:href=\"#DejaVuSans-83\"/>\n     <use x=\"124.560547\" xlink:href=\"#DejaVuSans-78\"/>\n     <use x=\"199.365234\" xlink:href=\"#DejaVuSans-69\"/>\n     <use x=\"262.548828\" xlink:href=\"#DejaVuSans-32\"/>\n     <use x=\"294.335938\" xlink:href=\"#DejaVuSans-118\"/>\n     <use x=\"353.515625\" xlink:href=\"#DejaVuSans-105\"/>\n     <use x=\"381.298828\" xlink:href=\"#DejaVuSans-115\"/>\n     <use x=\"433.398438\" xlink:href=\"#DejaVuSans-117\"/>\n     <use x=\"496.777344\" xlink:href=\"#DejaVuSans-97\"/>\n     <use x=\"558.056641\" xlink:href=\"#DejaVuSans-108\"/>\n     <use x=\"585.839844\" xlink:href=\"#DejaVuSans-105\"/>\n     <use x=\"613.623047\" xlink:href=\"#DejaVuSans-122\"/>\n     <use x=\"666.113281\" xlink:href=\"#DejaVuSans-97\"/>\n     <use x=\"727.392578\" xlink:href=\"#DejaVuSans-116\"/>\n     <use x=\"766.601562\" xlink:href=\"#DejaVuSans-105\"/>\n     <use x=\"794.384766\" xlink:href=\"#DejaVuSans-111\"/>\n     <use x=\"855.566406\" xlink:href=\"#DejaVuSans-110\"/>\n    </g>\n   </g>\n  </g>\n </g>\n <defs>\n  <clipPath id=\"p4ed6578a35\">\n   <rect height=\"543.6\" width=\"1116\" x=\"38.482813\" y=\"22.318125\"/>\n  </clipPath>\n </defs>\n</svg>\n",
            "image/png": "[encoded data removed]"
          },
          "metadata": {
            "needs_background": "light"
          }
        }
      ]
    },
    {
      "cell_type": "markdown",
      "metadata": {
        "id": "3_HR5GjFpjik"
      },
      "source": [
        "*   What do you infer from the t-SNE plot?"
      ]
    },
    {
      "cell_type": "markdown",
      "metadata": {
        "id": "ueY9rvGBrVIc"
      },
      "source": [
        "**Solution**\n",
        "\n",
        "*(Double-click or enter to edit)*\n",
        "\n",
        "..."
      ]
    },
    {
      "cell_type": "markdown",
      "metadata": {
        "id": "eafGx0Hv9M6p"
      },
      "source": [
        "*   Compare the performance of both the BoVW models. Which model works better and why?"
      ]
    },
    {
      "cell_type": "markdown",
      "metadata": {
        "id": "U9SOuiKwiXkr"
      },
      "source": [
        "**Solution**\n",
        "\n",
        "*(Double-click or enter to edit)*\n",
        "\n",
        "..."
      ]
    },
    {
      "cell_type": "markdown",
      "metadata": {
        "id": "8BuiFGxPjDb1"
      },
      "source": [
        "*   Can the performance of pre-trained model increased further? If so, how?"
      ]
    },
    {
      "cell_type": "markdown",
      "metadata": {
        "id": "0kuJnOb9jE9r"
      },
      "source": [
        "**Solution**\n",
        "\n",
        "*(Double-click or enter to edit)*\n",
        "\n",
        "..."
      ]
    },
    {
      "cell_type": "markdown",
      "metadata": {
        "id": "NnN_t5Me7N5O"
      },
      "source": [
        "\n",
        "---\n",
        "\n",
        "## **End of P7: Image Classification using Bag of Visual Words**\n",
        "Deadline for P7 submission in CampusVirtual is: **Thursday, the 26th of November, 2020**"
      ]
    }
  ]
}