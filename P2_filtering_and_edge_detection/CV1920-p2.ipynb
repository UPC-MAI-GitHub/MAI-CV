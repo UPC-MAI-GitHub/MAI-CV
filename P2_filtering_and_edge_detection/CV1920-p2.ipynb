{
 "cells": [
  {
   "cell_type": "markdown",
   "metadata": {
    "slideshow": {
     "slide_type": "-"
    }
   },
   "source": [
    "# P2 Computational Vision\n",
    "\n",
    "**Important:** Read the file `README.md` before start coding.\n"
   ]
  },
  {
   "cell_type": "markdown",
   "metadata": {},
   "source": [
    "<div class = \"alert alert-info\" style = \"border-radius:10px;border-width:3px;border-color:darkblue;font-family:Verdana,sans-serif;font-size:16px;\">\n",
    "\n",
    "**Delivery**\n",
    "<ol>\n",
    "\n",
    "Requirements to fulfill:\n",
    "<ul>\n",
    "    <li>  Answer the questions introduced in the exercises.    \n",
    "    <li>  The implemented code should be,<br>\n",
    "        - free of errors (Run All before delivery and check for possible errors)<br>\n",
    "        - optimized ( e.g. do not use 'for' instruction when indexing numpy arrays)<br>\n",
    "        - readable  ( e.g. avoiding the implementation of more than 2 loops within a line)<br>\n",
    "        - commented and with descriptions        \n",
    "    <li> The deliverable must be a file named P2_Student1_Student2.zip that includes:\n",
    "    <ul>\n",
    "        <li> The notebook P2_Student1_Student2.ipynb completed with the solutions to the exercises and their corresponding comments.\n",
    "         <li> All the images used in this notebook.\n",
    "    </ul>\n",
    "\n",
    "</ul>\n",
    "\n",
    " **Deadline (Campus Virtual): October 14th, 23:00 h** \n",
    "\n",
    "\n",
    "</ol>\n",
    "</div>"
   ]
  },
  {
   "cell_type": "markdown",
   "metadata": {},
   "source": [
    "\n",
    "## Practicum 2: Filtering and edge detection\n",
    "\n"
   ]
  },
  {
   "cell_type": "markdown",
   "metadata": {},
   "source": [
    "The main topics are:\n",
    "1. Image smoothing and convolution\n",
    "2. Edge detection \n",
    "\n",
    "In order to complete this practicum, the following concepts need to be understood: linear filters, histograms, convolutions, and edges.\n"
   ]
  },
  {
   "cell_type": "markdown",
   "metadata": {},
   "source": [
    "### Image smoothing and convolution"
   ]
  },
  {
   "cell_type": "markdown",
   "metadata": {},
   "source": [
    "### 2.1 Histogram visualization"
   ]
  },
  {
   "cell_type": "markdown",
   "metadata": {},
   "source": [
    "**Exercise 2.1**: \n",
    "\n",
    "a) \n",
    "- Read the image \"peppers.png\" from folder 'images'\n",
    "- Visualize the histogram of the gray image\n",
    "\n",
    "    To plot the histogram follow the following instructions:\n",
    "    - Convert the image to grayscale with the function `color.rgb2gray()` of the package `skimage`.\n",
    "    - Use the `exposure` module within the `skimage` library, which makes the histogram extraction easy.\n",
    "    - Use `bar` of `matplotlib` to visualize the histogram.\n",
    "    - Obtain the histogram with 8 and 32 bins. \n",
    "    - Use the values at the center of the bins to set the ticks labels as the gray value in the range [0-255].\n",
    "    \n",
    "    \n",
    "- What is the histogram representing for an image? \n",
    " "
   ]
  },
  {
   "cell_type": "code",
   "execution_count": 1,
   "metadata": {},
   "outputs": [],
   "source": [
    "# Your solution here"
   ]
  },
  {
   "cell_type": "markdown",
   "metadata": {},
   "source": [
    "b) Given a color image (im), what is the difference between ***1*** and ***2*** ?\n",
    "   \n",
    "*** 1. ***\n",
    "\n",
    "im_2=np.array(im, dtype='float')\n",
    "\n",
    "\n",
    "*** 2. ***\n",
    "\n",
    "im_2=np.array(im)\n",
    "\n",
    "im_2=img_as_float(im_2)"
   ]
  },
  {
   "cell_type": "code",
   "execution_count": 9,
   "metadata": {},
   "outputs": [],
   "source": [
    "#Your solution here"
   ]
  },
  {
   "cell_type": "markdown",
   "metadata": {},
   "source": [
    "### 2.2 Grayscale and RGB images filtering (convolutions)"
   ]
  },
  {
   "cell_type": "markdown",
   "metadata": {},
   "source": [
    "**Exercise 2.2:**\n",
    "    \n",
    "a) Read the image `peppers.png` and apply each of the following steps:\n",
    "\n",
    "1. Convert it to grayscale with the function `color.rgb2gray()` of the package `skimage`.\n",
    "2. Convolve it with a horizontal mask `mask_h1d=[1,1,1,1,1,1,1,1,1,1,1,1,1,1,1]` using the function `ndimage.convolve()` of the package `scipy`.\n",
    "3. Convolve the original image (1) with a transposed version of the mask in (2).\n",
    "4. Convolve the original image (1) with a uniform `two-dimensional` mask of dimensions 15x15 with all values set to 1.\n",
    "\n",
    "Visualize the output of each step (1 to 4) in a single figure with short titles on each image to make them understandable.\n",
    "\n",
    "Note: The command `convolve` performs a multidimensional convolution! A vector should be represented as: [[1,...1]].\n",
    "\n",
    "Note: Remember that before applying the `convolve` function the mask must be normalized (i.e. all values in the mask must sum 1).\n",
    "\n"
   ]
  },
  {
   "cell_type": "code",
   "execution_count": 12,
   "metadata": {},
   "outputs": [],
   "source": [
    "# Your solution code here"
   ]
  },
  {
   "cell_type": "markdown",
   "metadata": {},
   "source": [
    "b) In order to convolve an RGB image, each of the channels must be convolved separately.\n",
    "\n",
    "Show the result obtained when applying a single-channel filter channel by channel separately on `pappers.png` with a 15x15 uniform mask. \n",
    "\n",
    "Note: Use the provided method `convolve_RGB_image`.\n",
    "\n",
    "Note: Use `img_as_float` before the convolutions and for the final image."
   ]
  },
  {
   "cell_type": "code",
   "execution_count": 15,
   "metadata": {},
   "outputs": [],
   "source": [
    "# Provided method\n",
    "\n",
    "# convolve_RGB_image(image to convolve, \n",
    "# the mask for the convolution\n",
    "# image to save the results\n",
    "def convolve_RGB_image (image, mask, image_convolved):  \n",
    "    image_convolved[:,:,0]  = ndimage.convolve(img_as_float(image[:,:,0]), mask)\n",
    "    image_convolved[:,:,1] = ndimage.convolve(img_as_float(image[:,:,1]), mask)\n",
    "    image_convolved[:,:,2]  = ndimage.convolve(img_as_float(image[:,:,2]), mask)\n"
   ]
  },
  {
   "cell_type": "code",
   "execution_count": 16,
   "metadata": {},
   "outputs": [],
   "source": [
    "# Your solution here"
   ]
  },
  {
   "cell_type": "markdown",
   "metadata": {},
   "source": [
    "### 2.3 Effect of image scale on convolutions"
   ]
  },
  {
   "cell_type": "markdown",
   "metadata": {},
   "source": [
    "**Exercise 2.3.**\n",
    "\n",
    "a) Resize the image 'peppers.png' and observe the variations in the histograms.\n",
    "\n",
    "1. Reduce it 10 times\n",
    "2. Augment it 10 times. \n",
    "3. Observe if the histogram (i.e. nbins = 32) of the new images changed, and comment what happens and why.\n",
    "\n",
    "Note: Use the command `resize` to change the size of the images.\n",
    "\n",
    "Note: Use the provided method `create_RGB_histogram_figure` to show the RGB histogram.\n"
   ]
  },
  {
   "cell_type": "code",
   "execution_count": 19,
   "metadata": {},
   "outputs": [],
   "source": [
    "# Provided method\n",
    "\n",
    "# create_histogram_figure(image to create the histogram, \n",
    "# 'true' to show the gray image bar,\n",
    "# number of bins for the histogram, \n",
    "# title for the figure)\n",
    "def create_RGB_histogram_figure(image, bins, gray, title):\n",
    "    \n",
    "    histogram_red, bins_red = exposure.histogram(img_as_float(image[:,:,0]), nbins=bins) \n",
    "    histogram_green, bins_green = exposure.histogram(img_as_float(image[:,:,1]), nbins=bins)\n",
    "    histogram_blue, bins_blue = exposure.histogram(img_as_float(image[:,:,2]), nbins=bins)\n",
    "\n",
    "    fig = plt.figure(figsize=(12,3)) \n",
    "    index = np.arange(len(bins_red))\n",
    "    bar_width = 0.2\n",
    "    opacity = 0.8\n",
    "\n",
    "    rects1 = plt.bar(index, histogram_red, bar_width,\n",
    "                     alpha=opacity,\n",
    "                     color='r',\n",
    "                     label='Red')\n",
    "\n",
    "    rects2 = plt.bar(index + bar_width, histogram_green, bar_width,\n",
    "                     alpha=opacity,\n",
    "                     color='g',\n",
    "                     label='Green')\n",
    "\n",
    "    rects3 = plt.bar(index + bar_width*2, histogram_blue, bar_width,\n",
    "                     alpha=opacity,\n",
    "                     color='b',\n",
    "                     label='Blue')\n",
    "    \n",
    "    if (gray == 'True'): # it will show the gray image bar\n",
    "        histogram_gray, bins_gray = exposure.histogram(rgb2gray(image), nbins=bins)\n",
    "        rects4 = plt.bar(index + bar_width*3, histogram_gray, bar_width,\n",
    "                         alpha=opacity,\n",
    "                         color='y',\n",
    "                         label='Gray')\n",
    "\n",
    "    # Other propierties of the histogram\n",
    "    plt.title(title)\n",
    "    plt.xticks(index + bar_width, range(len(bins_red)))\n",
    "    plt.legend()\n",
    "\n",
    "    plt.tight_layout()\n",
    "    plt.show()\n",
    "    \n"
   ]
  },
  {
   "cell_type": "code",
   "execution_count": 20,
   "metadata": {},
   "outputs": [],
   "source": [
    "# Your solution here"
   ]
  },
  {
   "cell_type": "markdown",
   "metadata": {},
   "source": [
    "**Exercise 2.3.**\n",
    "\n",
    "b) Apply a convolution (15x15 uniform mask) on the resized images and visually compare the results.\n",
    "\n",
    "1. Convolve the original image.\n",
    "2. Convolve the image reduced 10 times.\n",
    "3. Convolve the image augmented 10 times."
   ]
  },
  {
   "cell_type": "code",
   "execution_count": 22,
   "metadata": {},
   "outputs": [],
   "source": [
    "# Your solution here"
   ]
  },
  {
   "cell_type": "markdown",
   "metadata": {},
   "source": [
    "### 2.4 Image processing with weighting and non-linear filters"
   ]
  },
  {
   "cell_type": "markdown",
   "metadata": {},
   "source": [
    "**Exercise 2.4**: \n",
    "\n",
    "a) Generate the following kernels and apply them to the `peppers.png`:\n",
    "\n",
    "1. Gaussian kernel with sigma = 1\n",
    "2. Gaussian kernel with a different sigma value. Which is the most adequate value for keeping the main objects and structures of the image?\n",
    "3. Median filter.\n",
    "\n",
    "Comment the effect of using different kinds of filters on the original image.\n",
    "\n",
    "Note: Use the [skimage.filters functions](https://scikit-image.org/docs/dev/api/skimage.filters.html) for creating the different filters."
   ]
  },
  {
   "cell_type": "code",
   "execution_count": 24,
   "metadata": {},
   "outputs": [],
   "source": [
    "# Your solution here"
   ]
  },
  {
   "cell_type": "markdown",
   "metadata": {},
   "source": [
    "### Edge detection"
   ]
  },
  {
   "cell_type": "markdown",
   "metadata": {},
   "source": [
    "### 2.5 Determine the optimal contour \n",
    "\n",
    "a) Load the 'starbuck.png' image and visualize its contours.\t\n",
    "\n",
    "Apply the different contour extraction tecniques introduced during the theory session and change any parameter if necessary for detecting the edges of the image:\n",
    "\n",
    "1. Roberts.\n",
    "2. Prewitt\n",
    "3. Sobel\n",
    "4. Canny\n",
    "\n",
    "Use subplot and title to visualize the results.\n",
    "\n",
    "#### **Questions**\n",
    "\n",
    "- Q1: Which is the best countour detection technique? \n",
    "\n",
    "- Q2: Which are the optimal canny parameters for this image? (use sigma = 1,3 and 5).\n",
    "\n",
    "\n",
    "**Note**: Use `skimage.feature.canny` for applying the canny filter and `skimage.filters` for the rest.\n",
    "\n",
    "**(Optional)** Superimpose the contours over the image."
   ]
  },
  {
   "cell_type": "code",
   "execution_count": 27,
   "metadata": {},
   "outputs": [],
   "source": [
    "# Your solution here"
   ]
  },
  {
   "cell_type": "markdown",
   "metadata": {},
   "source": [
    "b)\t(Optional): Repeat the experiment with other images, you can use the ones included in the folder `images`. Comment if some parameter needs to be changed for the different images.\n",
    "\n",
    "#### **Question**\n",
    "\n",
    "- Which are the limitations of the different images contour extraction?"
   ]
  },
  {
   "cell_type": "code",
   "execution_count": 29,
   "metadata": {},
   "outputs": [],
   "source": [
    "# Your solution here"
   ]
  }
 ],
 "metadata": {
  "celltoolbar": "Slideshow",
  "kernelspec": {
   "display_name": "Python 3",
   "language": "python",
   "name": "python3"
  },
  "language_info": {
   "codemirror_mode": {
    "name": "ipython",
    "version": 3
   },
   "file_extension": ".py",
   "mimetype": "text/x-python",
   "name": "python",
   "nbconvert_exporter": "python",
   "pygments_lexer": "ipython3",
   "version": "3.7.3"
  }
 },
 "nbformat": 4,
 "nbformat_minor": 2
}
