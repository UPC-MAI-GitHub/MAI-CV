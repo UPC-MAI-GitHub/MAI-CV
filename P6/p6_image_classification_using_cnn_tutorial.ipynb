{
  "nbformat": 4,
  "nbformat_minor": 0,
  "metadata": {
    "colab": {
      "name": "p6_image_classification_using_cnn_tutorial.ipynb",
      "provenance": [],
      "collapsed_sections": [
        "Zli14lxJ48BK"
      ]
    },
    "kernelspec": {
      "name": "python3",
      "display_name": "Python 3"
    },
    "accelerator": "GPU"
  },
  "cells": [
    {
      "cell_type": "markdown",
      "metadata": {
        "id": "_K94I7aFLQ9S"
      },
      "source": [
        "# Laboratory #06 : Image Classification using CNN - Tutorial\n",
        "\n",
        "At the end of this tutorial, you would get familiarized with\n",
        "\n",
        "*   Creating deep networks using Keras\n",
        "*   Steps necessary in training a neural network\n",
        "*   Prediction and performance analysis using neural networks\n",
        "\n",
        "---"
      ]
    },
    {
      "cell_type": "markdown",
      "metadata": {
        "id": "KdglSzOi4Cp-"
      },
      "source": [
        "# **Colaboratory environment**\n",
        "By default, Colab notebooks run on CPU.\n",
        "You can switch your notebook to run with GPU.\n",
        "\n",
        "In order to obtain access to the GPU, you need to choose the tab Runtime and then select “Change runtime type” as shown in the following figure:\n",
        "\n",
        "![Changing runtime](https://miro.medium.com/max/747/1*euE7nGZ0uJQcgvkpgvkoQg.png)\n",
        "\n",
        "When a pop-up window appears select GPU. \n",
        "\n",
        "**Ensure “Hardware accelerator” is set to GPU.**"
      ]
    },
    {
      "cell_type": "markdown",
      "metadata": {
        "id": "Zli14lxJ48BK"
      },
      "source": [
        "# **Environment set up**\n",
        "**Keras** is a Python library that provides, in a simple way, the creation of a wide range of Deep Learning models using as backend other libraries such as TensorFlow, Theano or CNTK **(We would use Tensorflow backend)**. \n",
        "\n",
        "Keras is used since its learning curve is very smooth compared to others, and at the moment it is one of the popular middleware to implement neural networks.\n",
        "\n",
        "The developer guides for Keras can be found at: https://keras.io/guides/"
      ]
    },
    {
      "cell_type": "code",
      "metadata": {
        "id": "P3BPaal61sjX",
        "outputId": "96742f14-ae73-4155-e4fc-a0b2f7314b9f",
        "colab": {
          "base_uri": "https://localhost:8080/"
        }
      },
      "source": [
        "from tensorflow import keras\n",
        "\n",
        "print(keras.__version__)"
      ],
      "execution_count": null,
      "outputs": [
        {
          "output_type": "stream",
          "text": [
            "2.4.0\n"
          ],
          "name": "stdout"
        }
      ]
    },
    {
      "cell_type": "markdown",
      "metadata": {
        "id": "I5slKBah5sLk"
      },
      "source": [
        "# **Understanding Data: MNIST Dataset**\n",
        "The MNIST dataset is an acronym that stands for the Modified National Institute of Standards and Technology dataset. \n",
        "\n",
        "It is a dataset of 60,000 small square 28×28 pixel grayscale images of handwritten single digits between 0 and 9.\n",
        "\n",
        "In Keras, the MNIST dataset is preloaded in the form of four Numpy arrays. x_train and y_train contain the training set, while x_test and y_test contain the test data. The images are encoded as Numpy arrays and their corresponding labels ranging from 0 to 9."
      ]
    },
    {
      "cell_type": "code",
      "metadata": {
        "id": "KWxUKDUf0N70",
        "outputId": "a569fceb-768a-480c-d5c3-153d9f2a6892",
        "colab": {
          "base_uri": "https://localhost:8080/"
        }
      },
      "source": [
        "from keras.datasets import mnist\n",
        "(x_train, y_train), (x_test, y_test) = mnist.load_data()\n",
        "\n",
        "print(x_train.shape)\n",
        "print(x_train.ndim)\n",
        "print(x_train.dtype)\n",
        "\n",
        "print(x_test.shape)"
      ],
      "execution_count": null,
      "outputs": [
        {
          "output_type": "stream",
          "text": [
            "(60000, 28, 28)\n",
            "3\n",
            "uint8\n",
            "(10000, 28, 28)\n"
          ],
          "name": "stdout"
        }
      ]
    },
    {
      "cell_type": "markdown",
      "metadata": {
        "id": "ibzTShLR-ZYv"
      },
      "source": [
        "## Visualizing the Data\n",
        "\n",
        "A plot of the first nine images in the dataset is created showing the natural handwritten nature of the images to be classified.\n",
        "\n",
        "**Let us create a 3*3 subplot to visualize the first 9 images of the dataset.** "
      ]
    },
    {
      "cell_type": "code",
      "metadata": {
        "id": "o8VOg4ix0Yry",
        "outputId": "c2c3a6ab-0ea7-48d6-f17a-66bb5373fab1",
        "colab": {
          "base_uri": "https://localhost:8080/",
          "height": 268
        }
      },
      "source": [
        "import matplotlib.pyplot as plt\n",
        "\n",
        "for i in range(9):\n",
        "\tplt.subplot(330 + 1 + i)\n",
        "\tplt.imshow(x_train[i], cmap=plt.get_cmap('gray'))\n",
        "plt.show()"
      ],
      "execution_count": null,
      "outputs": [
        {
          "output_type": "display_data",
          "data": {
            "image/png": "[encoded data removed]",
            "text/plain": [
              "<Figure size 432x288 with 9 Axes>"
            ]
          },
          "metadata": {
            "tags": [],
            "needs_background": "light"
          }
        }
      ]
    },
    {
      "cell_type": "markdown",
      "metadata": {
        "id": "uGZkLxinEN6L"
      },
      "source": [
        "## Data normalization\n",
        "\n",
        "The pixel values for each image in the dataset are unsigned integers in the range between black and white, or 0 and 255.\n",
        "\n",
        "**Let us normalize the pixel values of grayscale images, e.g. rescale them to the range [0,1].**\n",
        "\n",
        "*Hint: 'astype' is a numpy function that could be used to cast the numpy array to a specified type*"
      ]
    },
    {
      "cell_type": "code",
      "metadata": {
        "id": "iODdnwlH0xyw",
        "outputId": "abc5c55e-eada-4441-d285-44004c7c0ab7",
        "colab": {
          "base_uri": "https://localhost:8080/"
        }
      },
      "source": [
        "x_train = x_train.astype(\"float32\") / 255\n",
        "x_test = x_test.astype(\"float32\") / 255\n",
        "\n",
        "print(x_train.shape)\n",
        "print(x_test.shape)"
      ],
      "execution_count": null,
      "outputs": [
        {
          "output_type": "stream",
          "text": [
            "(60000, 28, 28)\n",
            "(10000, 28, 28)\n"
          ],
          "name": "stdout"
        }
      ]
    },
    {
      "cell_type": "markdown",
      "metadata": {
        "id": "-AK7-4arKNF9"
      },
      "source": [
        "## Preparing data\n",
        "The images are all pre-aligned (e.g. each image only contains a hand-drawn digit) and they have the same square size of 28×28 pixels. Also, the images are grayscale. Therefore, we can load the images and reshape the data arrays to have a 1D vector data.\n",
        "\n",
        "*Note that this data preparation is not applicable for all networks*\n",
        "\n",
        "**Let us reshape the images as a 1D vector.**"
      ]
    },
    {
      "cell_type": "code",
      "metadata": {
        "id": "mQWNj20I0_-w",
        "outputId": "16b62a2b-8f55-439f-be4f-c449dec0a0d7",
        "colab": {
          "base_uri": "https://localhost:8080/"
        }
      },
      "source": [
        "x_train = x_train.reshape(60000, 784)\n",
        "x_test = x_test.reshape(10000, 784)\n",
        "\n",
        "print(x_train.shape)\n",
        "print(x_test.shape)"
      ],
      "execution_count": null,
      "outputs": [
        {
          "output_type": "stream",
          "text": [
            "(60000, 784)\n",
            "(10000, 784)\n"
          ],
          "name": "stdout"
        }
      ]
    },
    {
      "cell_type": "markdown",
      "metadata": {
        "id": "3yNN4gs-LOmS"
      },
      "source": [
        "## Preparing labels\n",
        "\n",
        "The labels for each input data (remember that in our case they are numbers between 0 and 9) indicate which digit represents the image, that is, to which class it is associated. \n",
        "\n",
        "In this case, we will represent this label with a vector of 10 positions, where the position corresponding to the digit that represents the image contains a 1 and the remaining positions of the vector contain the value 0. This is known as **one-hot encoding.**\n",
        "\n",
        "**Let us convert the labels into the equivalent one-hot encoded form.**\n",
        "\n",
        "*Hint: keras.utils.to_categorical could be used to convert an integer vector to a binary class matrix.*"
      ]
    },
    {
      "cell_type": "code",
      "metadata": {
        "id": "hRBa1_PA1KBX",
        "outputId": "af54a58e-eb73-497f-aa8f-f252c077d7b0",
        "colab": {
          "base_uri": "https://localhost:8080/"
        }
      },
      "source": [
        "from keras.utils import to_categorical\n",
        "\n",
        "y_train = to_categorical(y_train, num_classes=10)\n",
        "y_test = to_categorical(y_test, num_classes=10)\n",
        "\n",
        "print(y_train.shape)\n",
        "print(y_test.shape)"
      ],
      "execution_count": null,
      "outputs": [
        {
          "output_type": "stream",
          "text": [
            "(60000, 10)\n",
            "(10000, 10)\n"
          ],
          "name": "stdout"
        }
      ]
    },
    {
      "cell_type": "markdown",
      "metadata": {
        "id": "dfEBWzOpOmP7"
      },
      "source": [
        "# **Defining Model**\n",
        "\n",
        "The Sequential class of the Keras library is a wrapper for the sequential neural network model. In this case, the model in Keras is considered as a sequence of layers and each of them gradually “distills” the input data to obtain the desired output. \n",
        "\n",
        "In Keras we can find all the required types of layers that can be easily added to the model through the add() method. \n",
        "\n",
        "Below snippet shows a simple network with a single dense layer. \n",
        "\n",
        "*Note that the input information has to be defined in the first layer of the model.* "
      ]
    },
    {
      "cell_type": "code",
      "metadata": {
        "id": "KjW4xAFaP1KG"
      },
      "source": [
        "from keras.models import Sequential\n",
        "from keras.layers import Dense, Activation\n",
        "\n",
        "model = Sequential()\n",
        "model.add(Dense(10, input_dim=784))\n",
        "model.add(Activation('relu'))"
      ],
      "execution_count": null,
      "outputs": []
    },
    {
      "cell_type": "markdown",
      "metadata": {
        "id": "wqxvLQf6QSv1"
      },
      "source": [
        "The architecture of the model can be checked using the function **summary()** available in the model class. Note that the summary returns the layer information along with the output shape for each layer and the number of parameters that needs to be trained.\n",
        "\n",
        "In this simple example, it indicates that 7,850 parameters are required (column Param #). In the first layer, for each neuron i (between 0 and 9) we require 784 parameters for the weights wij and therefore 10×784 parameters to store the weights of the 10 neurons. In addition to that 10 additional parameters for the 10 bj biases corresponding to each one of them.\n",
        "\n",
        "The non-trainable parameters of a model are those that will not be updating and optimized during training, and that have to be defined a priori, or passed as inputs. "
      ]
    },
    {
      "cell_type": "code",
      "metadata": {
        "id": "8mktMmmURAfb",
        "outputId": "ef09a18a-40e7-4007-b0df-d91e20b89c7c",
        "colab": {
          "base_uri": "https://localhost:8080/"
        }
      },
      "source": [
        "model.summary()"
      ],
      "execution_count": null,
      "outputs": [
        {
          "output_type": "stream",
          "text": [
            "Model: \"sequential\"\n",
            "_________________________________________________________________\n",
            "Layer (type)                 Output Shape              Param #   \n",
            "=================================================================\n",
            "dense (Dense)                (None, 10)                7850      \n",
            "_________________________________________________________________\n",
            "activation (Activation)      (None, 10)                0         \n",
            "=================================================================\n",
            "Total params: 7,850\n",
            "Trainable params: 7,850\n",
            "Non-trainable params: 0\n",
            "_________________________________________________________________\n"
          ],
          "name": "stdout"
        }
      ]
    },
    {
      "cell_type": "markdown",
      "metadata": {
        "id": "sqHk3fztYFjs"
      },
      "source": [
        "# Compiling models\n",
        "\n",
        "Before training a model, we need to configure the learning process, which is done via the compile method. It receives three arguments:\n",
        "\n",
        "*   Loss function\n",
        "*   Optimizer\n",
        "*   Metrics\n",
        "\n",
        "**Hint: Learn the commonly used loss functions and optimizers available in Keras documentation.**"
      ]
    },
    {
      "cell_type": "code",
      "metadata": {
        "id": "aVdNIBmv102V"
      },
      "source": [
        "model.compile(loss='categorical_crossentropy',\n",
        "              optimizer='sgd',\n",
        "              metrics = ['accuracy'])"
      ],
      "execution_count": null,
      "outputs": []
    },
    {
      "cell_type": "markdown",
      "metadata": {
        "id": "ktS7_-13ZSfp"
      },
      "source": [
        "## Training models\n",
        "\n",
        "Keras models are trained on Numpy arrays of input data and labels. For training a model, we will typically use the fit function."
      ]
    },
    {
      "cell_type": "code",
      "metadata": {
        "id": "gCpox6Oa19c9",
        "outputId": "aa3aeb96-cfd9-4e30-bf7c-f77133bfbd04",
        "colab": {
          "base_uri": "https://localhost:8080/"
        }
      },
      "source": [
        "history = model.fit(x_train, y_train, batch_size=100, epochs=10)"
      ],
      "execution_count": null,
      "outputs": [
        {
          "output_type": "stream",
          "text": [
            "Epoch 1/10\n",
            "600/600 [==============================] - 1s 2ms/step - loss: 2.4864 - accuracy: 0.1284\n",
            "Epoch 2/10\n",
            "600/600 [==============================] - 1s 2ms/step - loss: 2.4307 - accuracy: 0.0821\n",
            "Epoch 3/10\n",
            "600/600 [==============================] - 1s 2ms/step - loss: 2.3050 - accuracy: 0.0838\n",
            "Epoch 4/10\n",
            "600/600 [==============================] - 1s 2ms/step - loss: 2.2280 - accuracy: 0.0857\n",
            "Epoch 5/10\n",
            "600/600 [==============================] - 1s 2ms/step - loss: 2.1699 - accuracy: 0.0872\n",
            "Epoch 6/10\n",
            "600/600 [==============================] - 1s 2ms/step - loss: 2.1213 - accuracy: 0.0888\n",
            "Epoch 7/10\n",
            "600/600 [==============================] - 1s 2ms/step - loss: 2.0780 - accuracy: 0.0909\n",
            "Epoch 8/10\n",
            "600/600 [==============================] - 1s 2ms/step - loss: 2.0376 - accuracy: 0.0926\n",
            "Epoch 9/10\n",
            "600/600 [==============================] - 1s 2ms/step - loss: 1.9987 - accuracy: 0.0951\n",
            "Epoch 10/10\n",
            "600/600 [==============================] - 1s 2ms/step - loss: 1.9606 - accuracy: 0.0989\n"
          ],
          "name": "stdout"
        }
      ]
    },
    {
      "cell_type": "markdown",
      "metadata": {
        "id": "ViagI49FvTmo"
      },
      "source": [
        "## History Callback\n",
        "\n",
        "A callback is a set of functions to be applied at given stages of the training procedure. It can be used to get a view on internal states and statistics of the model during training. There are several callbacks are available in Keras and they are passed as a list of callbacks to the .fit() method.\n",
        "\n",
        "The History object gets returned by the fit method of models and is automatically applied to every Keras model."
      ]
    },
    {
      "cell_type": "code",
      "metadata": {
        "id": "bPsnRowdMT1P",
        "outputId": "8c3b80b3-bdfc-47b5-fa49-baecdf2738ca",
        "colab": {
          "base_uri": "https://localhost:8080/"
        }
      },
      "source": [
        "print(history.history.keys())"
      ],
      "execution_count": null,
      "outputs": [
        {
          "output_type": "stream",
          "text": [
            "dict_keys(['loss', 'accuracy'])\n"
          ],
          "name": "stdout"
        }
      ]
    },
    {
      "cell_type": "code",
      "metadata": {
        "id": "sJFu3XH8nV6G",
        "outputId": "1bcd5e70-1f96-433e-aff1-231d98b44d64",
        "colab": {
          "base_uri": "https://localhost:8080/"
        }
      },
      "source": [
        "print(history.history['loss']) # returns the loss value at the end of each epoch\n",
        "print(history.history['accuracy']) # returns the accuracy at the end of each epoch"
      ],
      "execution_count": null,
      "outputs": [
        {
          "output_type": "stream",
          "text": [
            "[2.4863858222961426, 2.4307305812835693, 2.3050308227539062, 2.228018283843994, 2.16988468170166, 2.1212775707244873, 2.0779597759246826, 2.0375924110412598, 1.9987053871154785, 1.9605610370635986]\n",
            "[0.12839999794960022, 0.08206667006015778, 0.08384999632835388, 0.08569999784231186, 0.08720000088214874, 0.08883333206176758, 0.09088333696126938, 0.09261666983366013, 0.0950833335518837, 0.09886666387319565]\n"
          ],
          "name": "stdout"
        }
      ]
    },
    {
      "cell_type": "markdown",
      "metadata": {
        "id": "leHvxD0twlKs"
      },
      "source": [
        "**Let us plot the loss values and the accuracy values as a 2 x 1 plot.**\n",
        "\n",
        "Note that the loss term decreases and the accuracy increases with respect to the epochs."
      ]
    },
    {
      "cell_type": "code",
      "metadata": {
        "id": "lX6vd-n7wjmd",
        "outputId": "86352bae-a067-4bae-98f4-524648c006c6",
        "colab": {
          "base_uri": "https://localhost:8080/",
          "height": 281
        }
      },
      "source": [
        "plt.subplot(211)\n",
        "plt.title('Cross Entropy Loss')\n",
        "plt.plot(history.history['loss'], color='blue', label='train')\n",
        "\n",
        "plt.subplot(212)\n",
        "plt.title('Classification Accuracy')\n",
        "plt.plot(history.history['accuracy'], color='green', label='train')\n",
        "plt.show()"
      ],
      "execution_count": null,
      "outputs": [
        {
          "output_type": "display_data",
          "data": {
            "image/png": "[encoded data removed]",
            "text/plain": [
              "<Figure size 432x288 with 2 Axes>"
            ]
          },
          "metadata": {
            "tags": [],
            "needs_background": "light"
          }
        }
      ]
    },
    {
      "cell_type": "markdown",
      "metadata": {
        "id": "Pk0HXuQxaNvS"
      },
      "source": [
        "# **Model evaluation**\n",
        "\n",
        "## Accuracy\n",
        "\n",
        "After training the model, the network has to be evaluated with new test data. This can be achieved by using the evaluate() method.\n",
        "\n",
        "**Let us print the test accuracy of the network.**"
      ]
    },
    {
      "cell_type": "code",
      "metadata": {
        "id": "1Xmdv_Ql3UbR",
        "outputId": "59e401fb-6f42-4459-ef42-47bfa14af523",
        "colab": {
          "base_uri": "https://localhost:8080/"
        }
      },
      "source": [
        "test_loss, test_acc = model.evaluate(x_test, y_test)\n",
        "print('Test loss:', test_loss)\n",
        "print('Test accuracy:', test_acc)"
      ],
      "execution_count": null,
      "outputs": [
        {
          "output_type": "stream",
          "text": [
            "313/313 [==============================] - 1s 2ms/step - loss: 1.9383 - accuracy: 0.0978\n",
            "Test loss: 1.938294768333435\n",
            "Test accuracy: 0.09780000150203705\n"
          ],
          "name": "stdout"
        }
      ]
    },
    {
      "cell_type": "markdown",
      "metadata": {
        "id": "7FWrHB8S5-Pb"
      },
      "source": [
        "## Confusion matrix\n",
        "\n",
        "Note that accuracy is the ratio between the correct predictions that the model has made over the total predictions regardless of what category it is. However, it is necessary to delve a little more and take into account the types of correct and incorrect predictions made by the model in each of its categories.\n",
        "\n",
        "For this purpose, a confusion matrix is used. It is a table with rows and columns that count the predictions in comparison with the real values. This is used to better understand how well the model behaves and it is very useful to show explicitly when one class is confused with another.\n",
        "\n",
        "**Hint:**\n",
        "1.   predict() is used to predict the output for the input samples.\n",
        "2.   confusion_matrix is available in sklearn.metrics"
      ]
    },
    {
      "cell_type": "code",
      "metadata": {
        "id": "RXwGXfi6i2qm"
      },
      "source": [
        "predictions = model.predict(x_test)"
      ],
      "execution_count": null,
      "outputs": []
    },
    {
      "cell_type": "markdown",
      "metadata": {
        "id": "FKjrVaeeDyEL"
      },
      "source": [
        "It has to be noted that the predictions is the probability of the input belonging to any one of the class."
      ]
    },
    {
      "cell_type": "code",
      "metadata": {
        "id": "p7fyPS7LD058",
        "outputId": "f47e6a83-a0c4-49dd-f795-a1872cd8eb45",
        "colab": {
          "base_uri": "https://localhost:8080/"
        }
      },
      "source": [
        "print(predictions[0])"
      ],
      "execution_count": null,
      "outputs": [
        {
          "output_type": "stream",
          "text": [
            "[ 2.7691288 24.556282   2.4792354  4.2298465  4.7224884  3.53603\n",
            "  0.        13.129044   4.12578    9.658044 ]\n"
          ],
          "name": "stdout"
        }
      ]
    },
    {
      "cell_type": "markdown",
      "metadata": {
        "id": "CIvCcFe0EKFE"
      },
      "source": [
        "**Now, let us convert the probability distribution to get single output for each input. For this, we would take the maximum probability score.**"
      ]
    },
    {
      "cell_type": "code",
      "metadata": {
        "id": "wFAtFDzOlFXn"
      },
      "source": [
        "import numpy as np\n",
        "predictions = np.argmax(predictions, axis=1)"
      ],
      "execution_count": null,
      "outputs": []
    },
    {
      "cell_type": "code",
      "metadata": {
        "id": "EApByl7wlk5a"
      },
      "source": [
        "from sklearn.metrics import confusion_matrix\n",
        "gt = np.argmax(y_test, axis=1)"
      ],
      "execution_count": null,
      "outputs": []
    },
    {
      "cell_type": "markdown",
      "metadata": {
        "id": "uZR9oEl-E4yD"
      },
      "source": [
        "**Now, we will use the confusion matrix function to get the table for all the 10 classes.**"
      ]
    },
    {
      "cell_type": "code",
      "metadata": {
        "id": "SMyihJtbmVQO",
        "outputId": "ed72fbe9-02a0-4fde-93c8-e5f0b9f581e5",
        "colab": {
          "base_uri": "https://localhost:8080/"
        }
      },
      "source": [
        "confusion_matrix(gt, predictions)"
      ],
      "execution_count": null,
      "outputs": [
        {
          "output_type": "execute_result",
          "data": {
            "text/plain": [
              "array([[ 38, 636,   0,   0,   0,   0,   0, 306,   0,   0],\n",
              "       [  0, 721,   0,   0,   0,   0,   0, 414,   0,   0],\n",
              "       [  1, 668,   6,   0,   0,   0,   0, 357,   0,   0],\n",
              "       [  0, 917,   0,   1,   0,   0,   0,  92,   0,   0],\n",
              "       [  0, 140,   0,   0,   0,   0,   0, 842,   0,   0],\n",
              "       [  0, 633,   0,   0,   0,   0,   0, 259,   0,   0],\n",
              "       [  0,  34,   0,   0,   0,   0,   0, 924,   0,   0],\n",
              "       [  0, 816,   0,   0,   0,   0,   0, 212,   0,   0],\n",
              "       [  0, 781,   0,   0,   0,   0,   0, 193,   0,   0],\n",
              "       [  0, 462,   0,   0,   0,   0,   0, 547,   0,   0]])"
            ]
          },
          "metadata": {
            "tags": []
          },
          "execution_count": 20
        }
      ]
    },
    {
      "cell_type": "markdown",
      "metadata": {
        "id": "UPmsnSf7oJEO"
      },
      "source": [
        "# **Defining different models**\n",
        "\n",
        "In the previous example, we designed a neural network with just dense layers. But in practice, the deep networks are more wider and deeper.\n",
        "\n",
        "When we define a model, the shallow layers learn the low level features such as edges and as the networks go deeper, the network learns the high level features. \n",
        "The model, in general, has two main aspects: the feature extraction front end comprised of convolutional and pooling layers, and the classifier backend that will make a prediction.\n",
        "\n",
        "**Define the following model:** \n",
        "\n",
        "**For the convolutional front-end, start with a single convolutional layer with a small filter size (3,3) and a modest number of filters (32) followed by a max pooling layer. Use the input as (28,28,1) instead of (784,). The filter maps can then be flattened to provide features to the classifier. Use a dense layer with 100 units before the classification layer (which is also a dense layer with softmax activation).**\n",
        "\n",
        "*Hint: Conv2D, MaxPooling2D, Flatten, Dense and other layers can be obtained by importing keras.layer*"
      ]
    },
    {
      "cell_type": "code",
      "metadata": {
        "id": "1jZHNMZCn-ps"
      },
      "source": [
        "from keras.layers import Conv2D, MaxPooling2D, Flatten, Dense\n",
        "model = Sequential()\n",
        "model.add(Conv2D(32, (3, 3), activation='relu', kernel_initializer='he_uniform', input_shape=(28, 28, 1)))\n",
        "model.add(MaxPooling2D((2, 2)))\n",
        "model.add(Flatten())\n",
        "model.add(Dense(100, activation='relu', kernel_initializer='he_uniform'))\n",
        "model.add(Dense(10, activation='softmax'))"
      ],
      "execution_count": null,
      "outputs": []
    },
    {
      "cell_type": "markdown",
      "metadata": {
        "id": "fO3aLXZUJQe1"
      },
      "source": [
        "**Let us check the architecture using summary().**"
      ]
    },
    {
      "cell_type": "code",
      "metadata": {
        "id": "6Y0CAn2DJWec",
        "outputId": "d609428f-1d7d-4683-df9a-2dc2abf2faea",
        "colab": {
          "base_uri": "https://localhost:8080/"
        }
      },
      "source": [
        "model.summary()"
      ],
      "execution_count": null,
      "outputs": [
        {
          "output_type": "stream",
          "text": [
            "Model: \"sequential_1\"\n",
            "_________________________________________________________________\n",
            "Layer (type)                 Output Shape              Param #   \n",
            "=================================================================\n",
            "conv2d (Conv2D)              (None, 26, 26, 32)        320       \n",
            "_________________________________________________________________\n",
            "max_pooling2d (MaxPooling2D) (None, 13, 13, 32)        0         \n",
            "_________________________________________________________________\n",
            "flatten (Flatten)            (None, 5408)              0         \n",
            "_________________________________________________________________\n",
            "dense_1 (Dense)              (None, 100)               540900    \n",
            "_________________________________________________________________\n",
            "dense_2 (Dense)              (None, 10)                1010      \n",
            "=================================================================\n",
            "Total params: 542,230\n",
            "Trainable params: 542,230\n",
            "Non-trainable params: 0\n",
            "_________________________________________________________________\n"
          ],
          "name": "stdout"
        }
      ]
    },
    {
      "cell_type": "markdown",
      "metadata": {
        "id": "SKsSmt7wJa83"
      },
      "source": [
        "**Compile the model.**"
      ]
    },
    {
      "cell_type": "code",
      "metadata": {
        "id": "u3fm1gyXor98"
      },
      "source": [
        "model.compile(optimizer='sgd', loss='categorical_crossentropy', metrics=['accuracy'])"
      ],
      "execution_count": null,
      "outputs": []
    },
    {
      "cell_type": "markdown",
      "metadata": {
        "id": "oesI8fU5KPik"
      },
      "source": [
        "**Reshape the input of the mnist dataset to the new input dimensions (28, 28, 1).**"
      ]
    },
    {
      "cell_type": "code",
      "metadata": {
        "id": "UNECu5UvpT4f",
        "outputId": "5d660465-cf2b-4ea9-d3e3-4b431b2f11f3",
        "colab": {
          "base_uri": "https://localhost:8080/"
        }
      },
      "source": [
        "from keras.datasets import mnist\n",
        "from keras.utils import to_categorical\n",
        "\n",
        "(x_train, y_train), (x_test, y_test) = mnist.load_data()\n",
        "\n",
        "print(x_train.shape)\n",
        "print(x_train.ndim)\n",
        "print(x_train.dtype)\n",
        "print(x_test.shape)\n",
        "\n",
        "x_train = x_train.astype(\"float32\") / 255\n",
        "x_test = x_test.astype(\"float32\") / 255\n",
        "\n",
        "print('After reshaping:')\n",
        "\n",
        "x_train = np.expand_dims(x_train, -1)\n",
        "x_test = np.expand_dims(x_test, -1)\n",
        "\n",
        "print(x_train.shape)\n",
        "print(x_train.ndim)\n",
        "print(x_train.dtype)\n",
        "print(x_test.shape)\n",
        "\n",
        "y_train = to_categorical(y_train, num_classes=10)\n",
        "y_test = to_categorical(y_test, num_classes=10)\n",
        "\n",
        "print(y_train.shape)\n",
        "print(y_test.shape)"
      ],
      "execution_count": null,
      "outputs": [
        {
          "output_type": "stream",
          "text": [
            "(60000, 28, 28)\n",
            "3\n",
            "uint8\n",
            "(10000, 28, 28)\n",
            "After reshaping:\n",
            "(60000, 28, 28, 1)\n",
            "4\n",
            "float32\n",
            "(10000, 28, 28, 1)\n",
            "(60000, 10)\n",
            "(10000, 10)\n"
          ],
          "name": "stdout"
        }
      ]
    },
    {
      "cell_type": "markdown",
      "metadata": {
        "id": "ALGpoYHkKmda"
      },
      "source": [
        "**Train the model for 10 epochs with a batch size of 100.**"
      ]
    },
    {
      "cell_type": "code",
      "metadata": {
        "id": "e_aADgN6o8da",
        "outputId": "f5541b81-a03c-49e3-d887-9e999e922294",
        "colab": {
          "base_uri": "https://localhost:8080/"
        }
      },
      "source": [
        "history = model.fit(x_train, y_train, batch_size=100, epochs=100, validation_split=0.1)"
      ],
      "execution_count": null,
      "outputs": [
        {
          "output_type": "stream",
          "text": [
            "Epoch 1/100\n",
            "540/540 [==============================] - 2s 3ms/step - loss: 0.4833 - accuracy: 0.8720 - val_loss: 0.2264 - val_accuracy: 0.9405\n",
            "Epoch 2/100\n",
            "540/540 [==============================] - 2s 3ms/step - loss: 0.2483 - accuracy: 0.9286 - val_loss: 0.1761 - val_accuracy: 0.9523\n",
            "Epoch 3/100\n",
            "540/540 [==============================] - 2s 3ms/step - loss: 0.2015 - accuracy: 0.9425 - val_loss: 0.1480 - val_accuracy: 0.9602\n",
            "Epoch 4/100\n",
            "540/540 [==============================] - 2s 3ms/step - loss: 0.1710 - accuracy: 0.9512 - val_loss: 0.1311 - val_accuracy: 0.9638\n",
            "Epoch 5/100\n",
            "540/540 [==============================] - 2s 3ms/step - loss: 0.1491 - accuracy: 0.9581 - val_loss: 0.1164 - val_accuracy: 0.9683\n",
            "Epoch 6/100\n",
            "540/540 [==============================] - 2s 3ms/step - loss: 0.1324 - accuracy: 0.9629 - val_loss: 0.1047 - val_accuracy: 0.9720\n",
            "Epoch 7/100\n",
            "540/540 [==============================] - 2s 3ms/step - loss: 0.1193 - accuracy: 0.9672 - val_loss: 0.0995 - val_accuracy: 0.9723\n",
            "Epoch 8/100\n",
            "540/540 [==============================] - 2s 3ms/step - loss: 0.1081 - accuracy: 0.9698 - val_loss: 0.0903 - val_accuracy: 0.9758\n",
            "Epoch 9/100\n",
            "540/540 [==============================] - 2s 3ms/step - loss: 0.0991 - accuracy: 0.9725 - val_loss: 0.0852 - val_accuracy: 0.9772\n",
            "Epoch 10/100\n",
            "540/540 [==============================] - 2s 3ms/step - loss: 0.0917 - accuracy: 0.9749 - val_loss: 0.0840 - val_accuracy: 0.9777\n",
            "Epoch 11/100\n",
            "540/540 [==============================] - 2s 3ms/step - loss: 0.0851 - accuracy: 0.9767 - val_loss: 0.0802 - val_accuracy: 0.9802\n",
            "Epoch 12/100\n",
            "540/540 [==============================] - 2s 3ms/step - loss: 0.0793 - accuracy: 0.9785 - val_loss: 0.0752 - val_accuracy: 0.9800\n",
            "Epoch 13/100\n",
            "540/540 [==============================] - 2s 3ms/step - loss: 0.0743 - accuracy: 0.9797 - val_loss: 0.0757 - val_accuracy: 0.9800\n",
            "Epoch 14/100\n",
            "540/540 [==============================] - 2s 3ms/step - loss: 0.0699 - accuracy: 0.9815 - val_loss: 0.0720 - val_accuracy: 0.9817\n",
            "Epoch 15/100\n",
            "540/540 [==============================] - 2s 3ms/step - loss: 0.0661 - accuracy: 0.9819 - val_loss: 0.0699 - val_accuracy: 0.9828\n",
            "Epoch 16/100\n",
            "540/540 [==============================] - 2s 3ms/step - loss: 0.0622 - accuracy: 0.9833 - val_loss: 0.0674 - val_accuracy: 0.9825\n",
            "Epoch 17/100\n",
            "540/540 [==============================] - 2s 3ms/step - loss: 0.0592 - accuracy: 0.9838 - val_loss: 0.0670 - val_accuracy: 0.9828\n",
            "Epoch 18/100\n",
            "540/540 [==============================] - 2s 3ms/step - loss: 0.0562 - accuracy: 0.9850 - val_loss: 0.0648 - val_accuracy: 0.9833\n",
            "Epoch 19/100\n",
            "540/540 [==============================] - 2s 3ms/step - loss: 0.0537 - accuracy: 0.9855 - val_loss: 0.0619 - val_accuracy: 0.9842\n",
            "Epoch 20/100\n",
            "540/540 [==============================] - 2s 3ms/step - loss: 0.0513 - accuracy: 0.9865 - val_loss: 0.0626 - val_accuracy: 0.9837\n",
            "Epoch 21/100\n",
            "540/540 [==============================] - 2s 3ms/step - loss: 0.0490 - accuracy: 0.9870 - val_loss: 0.0609 - val_accuracy: 0.9845\n",
            "Epoch 22/100\n",
            "540/540 [==============================] - 2s 3ms/step - loss: 0.0468 - accuracy: 0.9881 - val_loss: 0.0608 - val_accuracy: 0.9842\n",
            "Epoch 23/100\n",
            "540/540 [==============================] - 2s 3ms/step - loss: 0.0449 - accuracy: 0.9882 - val_loss: 0.0603 - val_accuracy: 0.9838\n",
            "Epoch 24/100\n",
            "540/540 [==============================] - 2s 3ms/step - loss: 0.0431 - accuracy: 0.9888 - val_loss: 0.0581 - val_accuracy: 0.9853\n",
            "Epoch 25/100\n",
            "540/540 [==============================] - 2s 3ms/step - loss: 0.0415 - accuracy: 0.9892 - val_loss: 0.0568 - val_accuracy: 0.9853\n",
            "Epoch 26/100\n",
            "540/540 [==============================] - 2s 3ms/step - loss: 0.0399 - accuracy: 0.9899 - val_loss: 0.0566 - val_accuracy: 0.9858\n",
            "Epoch 27/100\n",
            "540/540 [==============================] - 2s 3ms/step - loss: 0.0385 - accuracy: 0.9904 - val_loss: 0.0579 - val_accuracy: 0.9848\n",
            "Epoch 28/100\n",
            "540/540 [==============================] - 2s 3ms/step - loss: 0.0369 - accuracy: 0.9907 - val_loss: 0.0557 - val_accuracy: 0.9858\n",
            "Epoch 29/100\n",
            "540/540 [==============================] - 2s 3ms/step - loss: 0.0357 - accuracy: 0.9909 - val_loss: 0.0561 - val_accuracy: 0.9853\n",
            "Epoch 30/100\n",
            "540/540 [==============================] - 2s 3ms/step - loss: 0.0344 - accuracy: 0.9916 - val_loss: 0.0557 - val_accuracy: 0.9855\n",
            "Epoch 31/100\n",
            "540/540 [==============================] - 2s 3ms/step - loss: 0.0332 - accuracy: 0.9916 - val_loss: 0.0557 - val_accuracy: 0.9848\n",
            "Epoch 32/100\n",
            "540/540 [==============================] - 2s 3ms/step - loss: 0.0324 - accuracy: 0.9920 - val_loss: 0.0537 - val_accuracy: 0.9852\n",
            "Epoch 33/100\n",
            "540/540 [==============================] - 2s 3ms/step - loss: 0.0311 - accuracy: 0.9922 - val_loss: 0.0559 - val_accuracy: 0.9850\n",
            "Epoch 34/100\n",
            "540/540 [==============================] - 2s 3ms/step - loss: 0.0301 - accuracy: 0.9925 - val_loss: 0.0550 - val_accuracy: 0.9855\n",
            "Epoch 35/100\n",
            "540/540 [==============================] - 2s 3ms/step - loss: 0.0290 - accuracy: 0.9927 - val_loss: 0.0550 - val_accuracy: 0.9850\n",
            "Epoch 36/100\n",
            "540/540 [==============================] - 2s 3ms/step - loss: 0.0281 - accuracy: 0.9928 - val_loss: 0.0545 - val_accuracy: 0.9862\n",
            "Epoch 37/100\n",
            "540/540 [==============================] - 2s 3ms/step - loss: 0.0272 - accuracy: 0.9935 - val_loss: 0.0543 - val_accuracy: 0.9868\n",
            "Epoch 38/100\n",
            "540/540 [==============================] - 2s 3ms/step - loss: 0.0265 - accuracy: 0.9938 - val_loss: 0.0539 - val_accuracy: 0.9862\n",
            "Epoch 39/100\n",
            "540/540 [==============================] - 2s 3ms/step - loss: 0.0253 - accuracy: 0.9942 - val_loss: 0.0537 - val_accuracy: 0.9860\n",
            "Epoch 40/100\n",
            "540/540 [==============================] - 2s 3ms/step - loss: 0.0246 - accuracy: 0.9944 - val_loss: 0.0530 - val_accuracy: 0.9870\n",
            "Epoch 41/100\n",
            "540/540 [==============================] - 2s 3ms/step - loss: 0.0240 - accuracy: 0.9946 - val_loss: 0.0531 - val_accuracy: 0.9873\n",
            "Epoch 42/100\n",
            "540/540 [==============================] - 2s 3ms/step - loss: 0.0233 - accuracy: 0.9947 - val_loss: 0.0533 - val_accuracy: 0.9862\n",
            "Epoch 43/100\n",
            "540/540 [==============================] - 2s 3ms/step - loss: 0.0225 - accuracy: 0.9952 - val_loss: 0.0528 - val_accuracy: 0.9862\n",
            "Epoch 44/100\n",
            "540/540 [==============================] - 2s 3ms/step - loss: 0.0220 - accuracy: 0.9951 - val_loss: 0.0546 - val_accuracy: 0.9872\n",
            "Epoch 45/100\n",
            "540/540 [==============================] - 2s 3ms/step - loss: 0.0214 - accuracy: 0.9954 - val_loss: 0.0532 - val_accuracy: 0.9860\n",
            "Epoch 46/100\n",
            "540/540 [==============================] - 2s 3ms/step - loss: 0.0208 - accuracy: 0.9952 - val_loss: 0.0534 - val_accuracy: 0.9868\n",
            "Epoch 47/100\n",
            "540/540 [==============================] - 2s 3ms/step - loss: 0.0200 - accuracy: 0.9959 - val_loss: 0.0531 - val_accuracy: 0.9868\n",
            "Epoch 48/100\n",
            "540/540 [==============================] - 2s 3ms/step - loss: 0.0196 - accuracy: 0.9959 - val_loss: 0.0521 - val_accuracy: 0.9862\n",
            "Epoch 49/100\n",
            "540/540 [==============================] - 2s 3ms/step - loss: 0.0190 - accuracy: 0.9962 - val_loss: 0.0529 - val_accuracy: 0.9868\n",
            "Epoch 50/100\n",
            "540/540 [==============================] - 2s 3ms/step - loss: 0.0185 - accuracy: 0.9961 - val_loss: 0.0543 - val_accuracy: 0.9863\n",
            "Epoch 51/100\n",
            "540/540 [==============================] - 2s 3ms/step - loss: 0.0180 - accuracy: 0.9964 - val_loss: 0.0538 - val_accuracy: 0.9853\n",
            "Epoch 52/100\n",
            "540/540 [==============================] - 2s 3ms/step - loss: 0.0176 - accuracy: 0.9964 - val_loss: 0.0518 - val_accuracy: 0.9870\n",
            "Epoch 53/100\n",
            "540/540 [==============================] - 2s 3ms/step - loss: 0.0171 - accuracy: 0.9968 - val_loss: 0.0525 - val_accuracy: 0.9867\n",
            "Epoch 54/100\n",
            "540/540 [==============================] - 2s 3ms/step - loss: 0.0167 - accuracy: 0.9966 - val_loss: 0.0516 - val_accuracy: 0.9875\n",
            "Epoch 55/100\n",
            "540/540 [==============================] - 2s 3ms/step - loss: 0.0162 - accuracy: 0.9968 - val_loss: 0.0523 - val_accuracy: 0.9877\n",
            "Epoch 56/100\n",
            "540/540 [==============================] - 2s 3ms/step - loss: 0.0159 - accuracy: 0.9969 - val_loss: 0.0534 - val_accuracy: 0.9867\n",
            "Epoch 57/100\n",
            "540/540 [==============================] - 2s 3ms/step - loss: 0.0155 - accuracy: 0.9971 - val_loss: 0.0524 - val_accuracy: 0.9873\n",
            "Epoch 58/100\n",
            "540/540 [==============================] - 2s 3ms/step - loss: 0.0150 - accuracy: 0.9973 - val_loss: 0.0533 - val_accuracy: 0.9868\n",
            "Epoch 59/100\n",
            "540/540 [==============================] - 2s 3ms/step - loss: 0.0146 - accuracy: 0.9974 - val_loss: 0.0531 - val_accuracy: 0.9862\n",
            "Epoch 60/100\n",
            "540/540 [==============================] - 2s 4ms/step - loss: 0.0142 - accuracy: 0.9977 - val_loss: 0.0531 - val_accuracy: 0.9870\n",
            "Epoch 61/100\n",
            "540/540 [==============================] - 2s 3ms/step - loss: 0.0140 - accuracy: 0.9975 - val_loss: 0.0532 - val_accuracy: 0.9868\n",
            "Epoch 62/100\n",
            "540/540 [==============================] - 2s 3ms/step - loss: 0.0135 - accuracy: 0.9979 - val_loss: 0.0531 - val_accuracy: 0.9875\n",
            "Epoch 63/100\n",
            "540/540 [==============================] - 2s 3ms/step - loss: 0.0133 - accuracy: 0.9978 - val_loss: 0.0516 - val_accuracy: 0.9877\n",
            "Epoch 64/100\n",
            "540/540 [==============================] - 2s 3ms/step - loss: 0.0129 - accuracy: 0.9979 - val_loss: 0.0526 - val_accuracy: 0.9875\n",
            "Epoch 65/100\n",
            "540/540 [==============================] - 2s 3ms/step - loss: 0.0126 - accuracy: 0.9979 - val_loss: 0.0543 - val_accuracy: 0.9863\n",
            "Epoch 66/100\n",
            "540/540 [==============================] - 2s 3ms/step - loss: 0.0123 - accuracy: 0.9979 - val_loss: 0.0560 - val_accuracy: 0.9862\n",
            "Epoch 67/100\n",
            "540/540 [==============================] - 2s 3ms/step - loss: 0.0119 - accuracy: 0.9982 - val_loss: 0.0533 - val_accuracy: 0.9868\n",
            "Epoch 68/100\n",
            "540/540 [==============================] - 2s 3ms/step - loss: 0.0118 - accuracy: 0.9984 - val_loss: 0.0535 - val_accuracy: 0.9875\n",
            "Epoch 69/100\n",
            "540/540 [==============================] - 2s 3ms/step - loss: 0.0114 - accuracy: 0.9984 - val_loss: 0.0532 - val_accuracy: 0.9873\n",
            "Epoch 70/100\n",
            "540/540 [==============================] - 2s 3ms/step - loss: 0.0112 - accuracy: 0.9984 - val_loss: 0.0533 - val_accuracy: 0.9873\n",
            "Epoch 71/100\n",
            "540/540 [==============================] - 2s 3ms/step - loss: 0.0109 - accuracy: 0.9984 - val_loss: 0.0538 - val_accuracy: 0.9873\n",
            "Epoch 72/100\n",
            "540/540 [==============================] - 2s 3ms/step - loss: 0.0106 - accuracy: 0.9986 - val_loss: 0.0555 - val_accuracy: 0.9863\n",
            "Epoch 73/100\n",
            "540/540 [==============================] - 2s 3ms/step - loss: 0.0104 - accuracy: 0.9987 - val_loss: 0.0534 - val_accuracy: 0.9878\n",
            "Epoch 74/100\n",
            "540/540 [==============================] - 2s 3ms/step - loss: 0.0102 - accuracy: 0.9986 - val_loss: 0.0545 - val_accuracy: 0.9867\n",
            "Epoch 75/100\n",
            "540/540 [==============================] - 2s 3ms/step - loss: 0.0100 - accuracy: 0.9986 - val_loss: 0.0547 - val_accuracy: 0.9870\n",
            "Epoch 76/100\n",
            "540/540 [==============================] - 2s 3ms/step - loss: 0.0096 - accuracy: 0.9988 - val_loss: 0.0537 - val_accuracy: 0.9877\n",
            "Epoch 77/100\n",
            "540/540 [==============================] - 2s 3ms/step - loss: 0.0095 - accuracy: 0.9986 - val_loss: 0.0527 - val_accuracy: 0.9880\n",
            "Epoch 78/100\n",
            "540/540 [==============================] - 2s 3ms/step - loss: 0.0094 - accuracy: 0.9988 - val_loss: 0.0540 - val_accuracy: 0.9873\n",
            "Epoch 79/100\n",
            "540/540 [==============================] - 2s 3ms/step - loss: 0.0091 - accuracy: 0.9989 - val_loss: 0.0532 - val_accuracy: 0.9873\n",
            "Epoch 80/100\n",
            "540/540 [==============================] - 2s 3ms/step - loss: 0.0089 - accuracy: 0.9990 - val_loss: 0.0535 - val_accuracy: 0.9872\n",
            "Epoch 81/100\n",
            "540/540 [==============================] - 2s 3ms/step - loss: 0.0087 - accuracy: 0.9988 - val_loss: 0.0537 - val_accuracy: 0.9870\n",
            "Epoch 82/100\n",
            "540/540 [==============================] - 2s 3ms/step - loss: 0.0085 - accuracy: 0.9991 - val_loss: 0.0547 - val_accuracy: 0.9867\n",
            "Epoch 83/100\n",
            "540/540 [==============================] - 2s 3ms/step - loss: 0.0083 - accuracy: 0.9991 - val_loss: 0.0548 - val_accuracy: 0.9872\n",
            "Epoch 84/100\n",
            "540/540 [==============================] - 2s 3ms/step - loss: 0.0082 - accuracy: 0.9991 - val_loss: 0.0538 - val_accuracy: 0.9873\n",
            "Epoch 85/100\n",
            "540/540 [==============================] - 2s 3ms/step - loss: 0.0080 - accuracy: 0.9992 - val_loss: 0.0547 - val_accuracy: 0.9873\n",
            "Epoch 86/100\n",
            "540/540 [==============================] - 2s 3ms/step - loss: 0.0078 - accuracy: 0.9991 - val_loss: 0.0551 - val_accuracy: 0.9870\n",
            "Epoch 87/100\n",
            "540/540 [==============================] - 2s 3ms/step - loss: 0.0077 - accuracy: 0.9993 - val_loss: 0.0548 - val_accuracy: 0.9872\n",
            "Epoch 88/100\n",
            "540/540 [==============================] - 2s 3ms/step - loss: 0.0075 - accuracy: 0.9993 - val_loss: 0.0537 - val_accuracy: 0.9877\n",
            "Epoch 89/100\n",
            "540/540 [==============================] - 2s 3ms/step - loss: 0.0074 - accuracy: 0.9993 - val_loss: 0.0545 - val_accuracy: 0.9875\n",
            "Epoch 90/100\n",
            "540/540 [==============================] - 2s 3ms/step - loss: 0.0073 - accuracy: 0.9994 - val_loss: 0.0553 - val_accuracy: 0.9865\n",
            "Epoch 91/100\n",
            "540/540 [==============================] - 2s 3ms/step - loss: 0.0071 - accuracy: 0.9993 - val_loss: 0.0535 - val_accuracy: 0.9868\n",
            "Epoch 92/100\n",
            "540/540 [==============================] - 2s 3ms/step - loss: 0.0070 - accuracy: 0.9993 - val_loss: 0.0535 - val_accuracy: 0.9880\n",
            "Epoch 93/100\n",
            "540/540 [==============================] - 2s 3ms/step - loss: 0.0068 - accuracy: 0.9994 - val_loss: 0.0548 - val_accuracy: 0.9863\n",
            "Epoch 94/100\n",
            "540/540 [==============================] - 2s 3ms/step - loss: 0.0067 - accuracy: 0.9995 - val_loss: 0.0545 - val_accuracy: 0.9870\n",
            "Epoch 95/100\n",
            "540/540 [==============================] - 2s 3ms/step - loss: 0.0066 - accuracy: 0.9995 - val_loss: 0.0554 - val_accuracy: 0.9868\n",
            "Epoch 96/100\n",
            "540/540 [==============================] - 2s 3ms/step - loss: 0.0065 - accuracy: 0.9994 - val_loss: 0.0549 - val_accuracy: 0.9875\n",
            "Epoch 97/100\n",
            "540/540 [==============================] - 2s 3ms/step - loss: 0.0064 - accuracy: 0.9994 - val_loss: 0.0542 - val_accuracy: 0.9873\n",
            "Epoch 98/100\n",
            "540/540 [==============================] - 2s 3ms/step - loss: 0.0062 - accuracy: 0.9995 - val_loss: 0.0556 - val_accuracy: 0.9873\n",
            "Epoch 99/100\n",
            "540/540 [==============================] - 2s 3ms/step - loss: 0.0061 - accuracy: 0.9994 - val_loss: 0.0554 - val_accuracy: 0.9877\n",
            "Epoch 100/100\n",
            "540/540 [==============================] - 2s 3ms/step - loss: 0.0059 - accuracy: 0.9996 - val_loss: 0.0546 - val_accuracy: 0.9872\n"
          ],
          "name": "stdout"
        }
      ]
    },
    {
      "cell_type": "code",
      "metadata": {
        "id": "7c8ezZ4OPOz3",
        "outputId": "9dae6427-da1e-4aed-c0ef-60ea8de80e6f",
        "colab": {
          "base_uri": "https://localhost:8080/"
        }
      },
      "source": [
        "print(history.history.keys())"
      ],
      "execution_count": null,
      "outputs": [
        {
          "output_type": "stream",
          "text": [
            "dict_keys(['loss', 'accuracy', 'val_loss', 'val_accuracy'])\n"
          ],
          "name": "stdout"
        }
      ]
    },
    {
      "cell_type": "markdown",
      "metadata": {
        "id": "mY4Lh9ILXj66"
      },
      "source": [
        "**Plot the loss function and the accuracy curves as before.**"
      ]
    },
    {
      "cell_type": "code",
      "metadata": {
        "id": "_yHkKxn9XsTR",
        "outputId": "1614bbe8-5687-4d54-dce2-e2b93869d6ff",
        "colab": {
          "base_uri": "https://localhost:8080/"
        }
      },
      "source": [
        "plt.subplot(211)\n",
        "plt.title('Cross Entropy Loss')\n",
        "plt.plot(history.history['loss'], color='blue', label='train')\n",
        "plt.plot(history.history['val_loss'], color='red', label='val')\n",
        "\n",
        "# plot accuracy\n",
        "plt.subplot(212)\n",
        "plt.title('Classification Accuracy')\n",
        "plt.plot(history.history['accuracy'], color='green', label='train')\n",
        "plt.plot(history.history['val_accuracy'], color='red', label='val')\n",
        "plt.show()"
      ],
      "execution_count": null,
      "outputs": [
        {
          "output_type": "display_data",
          "data": {
            "image/png": "[encoded data removed]",
            "text/plain": [
              "<Figure size 432x288 with 2 Axes>"
            ]
          },
          "metadata": {
            "tags": [],
            "needs_background": "light"
          }
        }
      ]
    },
    {
      "cell_type": "markdown",
      "metadata": {
        "id": "Dc4OAmYxKnx2"
      },
      "source": [
        "**Print the loss and the test accuracy.**"
      ]
    },
    {
      "cell_type": "code",
      "metadata": {
        "id": "EaCBLBnCuVqS",
        "outputId": "b1e524ce-e9cd-459e-d696-fefcc8923d1f",
        "colab": {
          "base_uri": "https://localhost:8080/"
        }
      },
      "source": [
        "test_loss, test_acc = model.evaluate(x_test, y_test)\n",
        "print('Test loss:', test_loss)\n",
        "print('Test accuracy:', test_acc)"
      ],
      "execution_count": null,
      "outputs": [
        {
          "output_type": "stream",
          "text": [
            "313/313 [==============================] - 1s 3ms/step - loss: 0.0443 - accuracy: 0.9852\n",
            "Test loss: 0.0443454347550869\n",
            "Test accuracy: 0.9851999878883362\n"
          ],
          "name": "stdout"
        }
      ]
    },
    {
      "cell_type": "markdown",
      "metadata": {
        "id": "aBgqZkJ7Kod0"
      },
      "source": [
        "**Print the confusion matrix for the test samples.**"
      ]
    },
    {
      "cell_type": "code",
      "metadata": {
        "id": "kAuXj1yGuFI5",
        "outputId": "9bc492de-3492-4bb1-d895-fcaaa52fb331",
        "colab": {
          "base_uri": "https://localhost:8080/"
        }
      },
      "source": [
        "import numpy as np\n",
        "predictions = model.predict(x_test)\n",
        "\n",
        "print(predictions.shape)\n",
        "predictions = np.argmax(predictions, axis=1)"
      ],
      "execution_count": null,
      "outputs": [
        {
          "output_type": "stream",
          "text": [
            "(10000, 10)\n"
          ],
          "name": "stdout"
        }
      ]
    },
    {
      "cell_type": "code",
      "metadata": {
        "id": "c-0N628nuO4K",
        "outputId": "ecb7e995-3796-40d1-f1cf-532d204805cb",
        "colab": {
          "base_uri": "https://localhost:8080/"
        }
      },
      "source": [
        "confusion_matrix(gt, predictions)"
      ],
      "execution_count": null,
      "outputs": [
        {
          "output_type": "execute_result",
          "data": {
            "text/plain": [
              "array([[ 970,    1,    0,    0,    1,    1,    4,    1,    2,    0],\n",
              "       [   0, 1127,    2,    0,    0,    1,    2,    1,    2,    0],\n",
              "       [   1,    1, 1014,    4,    2,    0,    1,    4,    5,    0],\n",
              "       [   0,    0,    1,  998,    0,    4,    0,    3,    3,    1],\n",
              "       [   0,    1,    2,    1,  974,    0,    1,    0,    0,    3],\n",
              "       [   2,    0,    0,    8,    0,  876,    5,    0,    0,    1],\n",
              "       [   6,    3,    1,    1,    4,    1,  941,    0,    1,    0],\n",
              "       [   0,    2,    8,    3,    0,    0,    0, 1009,    2,    4],\n",
              "       [   1,    0,    1,    4,    2,    1,    1,    2,  959,    3],\n",
              "       [   1,    1,    0,    8,   16,    2,    0,    5,    0,  976]])"
            ]
          },
          "metadata": {
            "tags": []
          },
          "execution_count": 29
        }
      ]
    },
    {
      "cell_type": "markdown",
      "metadata": {
        "id": "D-p2DMcsHOii"
      },
      "source": [
        "# **Clearing models**\n",
        "clear_session() is useful when you're creating multiple models in succession, such as during hyperparameter search or cross-validation. Each model that is trained adds nodes (potentially numbering in the thousands) to the graph. Clearing the session removes all the nodes left over from previous models, freeing memory and preventing slowdown."
      ]
    },
    {
      "cell_type": "code",
      "metadata": {
        "id": "WfWCHxh8HGhN"
      },
      "source": [
        "from keras.backend import clear_session\n",
        "clear_session()"
      ],
      "execution_count": null,
      "outputs": []
    }
  ]
}